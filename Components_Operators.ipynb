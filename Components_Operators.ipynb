{
 "cells": [
  {
   "cell_type": "code",
   "execution_count": 1,
   "id": "aac03ec5",
   "metadata": {},
   "outputs": [
    {
     "name": "stdout",
     "output_type": "stream",
     "text": [
      "hello\n",
      "world\n"
     ]
    }
   ],
   "source": [
    "print(\"hello\\nworld\")"
   ]
  },
  {
   "cell_type": "code",
   "execution_count": 2,
   "id": "de29ff48",
   "metadata": {},
   "outputs": [
    {
     "name": "stdout",
     "output_type": "stream",
     "text": [
      "hello\\nworld\n"
     ]
    }
   ],
   "source": [
    "print(r\"hello\\nworld\")"
   ]
  },
  {
   "cell_type": "code",
   "execution_count": null,
   "id": "102ec20f",
   "metadata": {},
   "outputs": [],
   "source": [
    "Integers: it is any numerical value without decimel.\n",
    "    decimel: 0-9, no prefix,\n",
    "    binary: 0-1, 0b\n",
    "    octa: 0-7, 0o\n",
    "    hexa:0-9 and a-f(A-F), 0x\n",
    "\n",
    "Floats: it is any numerical value with decimel.\n",
    "    10.0\n",
    "Bool: True and False\n",
    "    #Anything in Python is either true or false\n",
    "    integers: every integer is true except integer 0\n",
    "    floats: every float is true except 0.0/0.00/0.0000/0.00000\n",
    "    complex: every complex number is true except 0+0j\n",
    "    string: every string is true except \"\"\n",
    "    None: it is false"
   ]
  },
  {
   "cell_type": "code",
   "execution_count": null,
   "id": "c46a0e38",
   "metadata": {},
   "outputs": [],
   "source": [
    "a=10\n",
    "b=0b10"
   ]
  },
  {
   "cell_type": "code",
   "execution_count": 4,
   "id": "813997e0",
   "metadata": {},
   "outputs": [],
   "source": [
    "int(),bin(),oct(),hex()"
   ]
  },
  {
   "cell_type": "code",
   "execution_count": 6,
   "id": "2d92e11c",
   "metadata": {},
   "outputs": [
    {
     "name": "stdout",
     "output_type": "stream",
     "text": [
      "0b101\n"
     ]
    }
   ],
   "source": [
    "a=bin(5)\n",
    "print(a)"
   ]
  },
  {
   "cell_type": "code",
   "execution_count": 8,
   "id": "dc66693a",
   "metadata": {},
   "outputs": [],
   "source": [
    "# type()"
   ]
  },
  {
   "cell_type": "code",
   "execution_count": 9,
   "id": "c72b0e04",
   "metadata": {},
   "outputs": [
    {
     "name": "stdout",
     "output_type": "stream",
     "text": [
      "<class 'int'>\n"
     ]
    }
   ],
   "source": [
    "a=10\n",
    "print(type(a))\n"
   ]
  },
  {
   "cell_type": "code",
   "execution_count": 12,
   "id": "d02623e1",
   "metadata": {},
   "outputs": [],
   "source": [
    "a=10+20j"
   ]
  },
  {
   "cell_type": "code",
   "execution_count": 13,
   "id": "362ce11f",
   "metadata": {},
   "outputs": [
    {
     "name": "stdout",
     "output_type": "stream",
     "text": [
      "<class 'complex'>\n"
     ]
    }
   ],
   "source": [
    "print(type(a))"
   ]
  },
  {
   "cell_type": "code",
   "execution_count": 14,
   "id": "224fb74b",
   "metadata": {},
   "outputs": [
    {
     "name": "stdout",
     "output_type": "stream",
     "text": [
      "<class 'str'>\n"
     ]
    }
   ],
   "source": [
    "name=\"Garvit\"\n",
    "print(type(name))"
   ]
  },
  {
   "cell_type": "code",
   "execution_count": 29,
   "id": "021469c4",
   "metadata": {},
   "outputs": [
    {
     "name": "stdout",
     "output_type": "stream",
     "text": [
      "10 <class 'int'>\n",
      "10 <class 'str'>\n",
      "10 <class 'int'>\n",
      "10\n",
      "10\n",
      "10\n",
      "5\n",
      "65\n",
      "4369\n",
      "1\n"
     ]
    },
    {
     "ename": "ValueError",
     "evalue": "invalid literal for int() with base 10: 'True'",
     "output_type": "error",
     "traceback": [
      "\u001b[1;31m---------------------------------------------------------------------------\u001b[0m",
      "\u001b[1;31mValueError\u001b[0m                                Traceback (most recent call last)",
      "\u001b[1;32m~\\AppData\\Local\\Temp/ipykernel_16916/580027189.py\u001b[0m in \u001b[0;36m<module>\u001b[1;34m\u001b[0m\n\u001b[0;32m     23\u001b[0m \u001b[1;33m\u001b[0m\u001b[0m\n\u001b[0;32m     24\u001b[0m \u001b[1;33m\u001b[0m\u001b[0m\n\u001b[1;32m---> 25\u001b[1;33m \u001b[0mprint\u001b[0m\u001b[1;33m(\u001b[0m\u001b[0mint\u001b[0m\u001b[1;33m(\u001b[0m\u001b[1;34m'True'\u001b[0m\u001b[1;33m)\u001b[0m\u001b[1;33m)\u001b[0m\u001b[1;33m\u001b[0m\u001b[1;33m\u001b[0m\u001b[0m\n\u001b[0m\u001b[0;32m     26\u001b[0m \u001b[1;31m#Not allowed things\u001b[0m\u001b[1;33m\u001b[0m\u001b[1;33m\u001b[0m\u001b[0m\n\u001b[0;32m     27\u001b[0m \u001b[1;31m#print(int(10+20j))\u001b[0m\u001b[1;33m\u001b[0m\u001b[1;33m\u001b[0m\u001b[0m\n",
      "\u001b[1;31mValueError\u001b[0m: invalid literal for int() with base 10: 'True'"
     ]
    }
   ],
   "source": [
    "#  int\n",
    "a=10\n",
    "print(a,type(a))\n",
    "a=\"10\"\n",
    "print(a,type(a))\n",
    "b=int(a)\n",
    "print(b,type(b))\n",
    "\n",
    "\n",
    "\n",
    "#allowed\n",
    "print(int(10))\n",
    "print(int(\"10\"))\n",
    "print(int(10.20))\n",
    "print(int(0b101))\n",
    "print(int(0o101))\n",
    "print(int(0x1111))\n",
    "print(int(True))\n",
    "\n",
    "\n",
    "\n",
    "\n",
    "\n",
    "\n",
    "\n",
    "#Not allowed things\n",
    "#print(int(10+20j))\n",
    "# print(int(\"10.20\"))\n",
    "# print(int('True'))\n"
   ]
  },
  {
   "cell_type": "code",
   "execution_count": 30,
   "id": "6e4261f1",
   "metadata": {},
   "outputs": [
    {
     "name": "stdout",
     "output_type": "stream",
     "text": [
      "10 <class 'int'>\n"
     ]
    }
   ],
   "source": [
    "a=10\n",
    "print(a,type(a))"
   ]
  },
  {
   "cell_type": "code",
   "execution_count": 33,
   "id": "794e16d6",
   "metadata": {},
   "outputs": [
    {
     "name": "stdout",
     "output_type": "stream",
     "text": [
      "2 <class 'int'>\n"
     ]
    }
   ],
   "source": [
    "a=0b10\n",
    "print(a,type(a))"
   ]
  },
  {
   "cell_type": "code",
   "execution_count": 38,
   "id": "c07276b5",
   "metadata": {},
   "outputs": [
    {
     "name": "stdout",
     "output_type": "stream",
     "text": [
      "0b1000 <class 'str'>\n"
     ]
    }
   ],
   "source": [
    "a=bin(8)\n",
    "print(a,type(a))"
   ]
  },
  {
   "cell_type": "code",
   "execution_count": 36,
   "id": "d564c8ba",
   "metadata": {},
   "outputs": [
    {
     "name": "stdout",
     "output_type": "stream",
     "text": [
      "0o10 <class 'str'>\n"
     ]
    }
   ],
   "source": [
    "a=oct(8)\n",
    "print(a,type(a))"
   ]
  },
  {
   "cell_type": "code",
   "execution_count": 40,
   "id": "e759edda",
   "metadata": {},
   "outputs": [
    {
     "name": "stdout",
     "output_type": "stream",
     "text": [
      "10 <class 'int'>\n",
      "10.0 <class 'float'>\n"
     ]
    }
   ],
   "source": [
    "a=10\n",
    "b=float(a)\n",
    "print(a,type(a))\n",
    "print(b,type(b))"
   ]
  },
  {
   "cell_type": "code",
   "execution_count": 41,
   "id": "4675488e",
   "metadata": {},
   "outputs": [
    {
     "name": "stdout",
     "output_type": "stream",
     "text": [
      "True\n"
     ]
    }
   ],
   "source": [
    "print(bool(10))"
   ]
  },
  {
   "cell_type": "code",
   "execution_count": 42,
   "id": "94ec6eeb",
   "metadata": {},
   "outputs": [
    {
     "name": "stdout",
     "output_type": "stream",
     "text": [
      "True\n"
     ]
    }
   ],
   "source": [
    "print(bool(-10))"
   ]
  },
  {
   "cell_type": "code",
   "execution_count": 43,
   "id": "d33c9bf6",
   "metadata": {},
   "outputs": [
    {
     "name": "stdout",
     "output_type": "stream",
     "text": [
      "False\n"
     ]
    }
   ],
   "source": [
    "print(bool(0))"
   ]
  },
  {
   "cell_type": "code",
   "execution_count": 44,
   "id": "be207232",
   "metadata": {},
   "outputs": [
    {
     "name": "stdout",
     "output_type": "stream",
     "text": [
      "True\n"
     ]
    }
   ],
   "source": [
    "print(bool(10.0))"
   ]
  },
  {
   "cell_type": "code",
   "execution_count": 46,
   "id": "077f565b",
   "metadata": {},
   "outputs": [
    {
     "name": "stdout",
     "output_type": "stream",
     "text": [
      "True\n"
     ]
    }
   ],
   "source": [
    "print(bool(0.0001))"
   ]
  },
  {
   "cell_type": "code",
   "execution_count": 56,
   "id": "68ab79b5",
   "metadata": {},
   "outputs": [
    {
     "name": "stdout",
     "output_type": "stream",
     "text": [
      "True\n"
     ]
    }
   ],
   "source": [
    "print(bool(0.000000001))"
   ]
  },
  {
   "cell_type": "code",
   "execution_count": 48,
   "id": "f39a96db",
   "metadata": {},
   "outputs": [
    {
     "name": "stdout",
     "output_type": "stream",
     "text": [
      "True\n"
     ]
    }
   ],
   "source": [
    "print(bool(10+20j))"
   ]
  },
  {
   "cell_type": "code",
   "execution_count": 49,
   "id": "2b648351",
   "metadata": {},
   "outputs": [
    {
     "name": "stdout",
     "output_type": "stream",
     "text": [
      "True\n"
     ]
    }
   ],
   "source": [
    "print(bool(-10+20j))"
   ]
  },
  {
   "cell_type": "code",
   "execution_count": 51,
   "id": "d33b587d",
   "metadata": {},
   "outputs": [
    {
     "name": "stdout",
     "output_type": "stream",
     "text": [
      "False\n"
     ]
    }
   ],
   "source": [
    "print(bool(0+0.000j))"
   ]
  },
  {
   "cell_type": "code",
   "execution_count": 52,
   "id": "a33cdc61",
   "metadata": {},
   "outputs": [
    {
     "name": "stdout",
     "output_type": "stream",
     "text": [
      "True\n"
     ]
    }
   ],
   "source": [
    "print(bool(\"False\"))"
   ]
  },
  {
   "cell_type": "code",
   "execution_count": 53,
   "id": "1964bd11",
   "metadata": {},
   "outputs": [
    {
     "name": "stdout",
     "output_type": "stream",
     "text": [
      "True\n"
     ]
    }
   ],
   "source": [
    "print(bool(\"garvit\"))"
   ]
  },
  {
   "cell_type": "code",
   "execution_count": 54,
   "id": "9ee57284",
   "metadata": {},
   "outputs": [
    {
     "name": "stdout",
     "output_type": "stream",
     "text": [
      "False\n"
     ]
    }
   ],
   "source": [
    "print(bool(\"\"))"
   ]
  },
  {
   "cell_type": "code",
   "execution_count": 55,
   "id": "ff01e887",
   "metadata": {},
   "outputs": [
    {
     "name": "stdout",
     "output_type": "stream",
     "text": [
      "False\n"
     ]
    }
   ],
   "source": [
    "print(bool(None))"
   ]
  },
  {
   "cell_type": "code",
   "execution_count": 61,
   "id": "6503d191",
   "metadata": {},
   "outputs": [
    {
     "name": "stdout",
     "output_type": "stream",
     "text": [
      "True\n"
     ]
    }
   ],
   "source": [
    "print(bool(round(0.000000001,100)))"
   ]
  },
  {
   "cell_type": "code",
   "execution_count": 59,
   "id": "d7f08ab5",
   "metadata": {},
   "outputs": [
    {
     "name": "stdout",
     "output_type": "stream",
     "text": [
      "Help on built-in function round in module builtins:\n",
      "\n",
      "round(number, ndigits=None)\n",
      "    Round a number to a given precision in decimal digits.\n",
      "    \n",
      "    The return value is an integer if ndigits is omitted or None.  Otherwise\n",
      "    the return value has the same type as the number.  ndigits may be negative.\n",
      "\n",
      "None\n"
     ]
    }
   ],
   "source": [
    "print(help(round))"
   ]
  },
  {
   "cell_type": "markdown",
   "id": "0b7c1c77",
   "metadata": {},
   "source": [
    "# operators"
   ]
  },
  {
   "cell_type": "code",
   "execution_count": null,
   "id": "72bf326b",
   "metadata": {},
   "outputs": [],
   "source": [
    "#Operators\n",
    "Operators:\n",
    "    Arithmetic: +, -, *, /(Float Division), //(Floor Division), %(Modulo), **(Exponent)\n",
    "    Comparison: <, <=, >, >=\n",
    "    Equality: ==, !=\n",
    "    Logical: and, or not\n",
    "    Bitwise: &, |, ^, ~, <<, >>\n",
    "    Assignment: =\n",
    "    Compound Assignment: +=, -=, ...\n",
    "    Identity: is, is not\n",
    "    Membership: in, not in\n",
    "    Ternary: expr1 if cond else expr2\n",
    "    Operator Precedence"
   ]
  },
  {
   "cell_type": "code",
   "execution_count": null,
   "id": "e0e4ed38",
   "metadata": {},
   "outputs": [],
   "source": [
    "Arithmetic:\n",
    "    + (add): it is addition in case of integers, floats and complex\n",
    "                but in cases like string(tex), it is concatenation \n",
    "    - (subtract): it is subtraction for integers, float, complex\n",
    "                but not defined for others\n",
    "    * (multiply): it is multiplication in case of integers, floats, complex\n",
    "                but in other cases repetition\n",
    "    / (float division):  it is float division in case of integers, floats, complex\n",
    "                but in other cases not defined\n",
    "    // (floor division): it is division that gives integer output in case of integers, floats, complex\n",
    "                but in other cases not defined\n",
    "    %  (modulo): it gives us remainder (use it only with integers)\n",
    "    ** (exponent): a**b means a raise to the power b. can be used only with integers , floats and complex\n",
    "                    not defined for others\n",
    "\n",
    "Comparison: <, <=, >, >=:\n",
    "        these operators work with similar data types except integers and float\n",
    "Equality: ==(equals to),!=(not equals to):\n",
    "        we can check if two data (even if they are of different types) are equal or not\n",
    "Identity: is means same (not just equal but same)\n",
    "            is not means not same (even if the values are same)\n",
    "Membership: if one thing is present in another or not (not defined for int, float etc)\n",
    "Assignment: =:\n",
    "        used to assign a value to a variable\n",
    "Compound Assignment: +=, -=, *=,/="
   ]
  },
  {
   "cell_type": "code",
   "execution_count": 65,
   "id": "c5860434",
   "metadata": {},
   "outputs": [
    {
     "name": "stdout",
     "output_type": "stream",
     "text": [
      "5\n",
      "23\n",
      "['Reshma', 'Rekha', 'Dhruv', 'Divyam']\n"
     ]
    }
   ],
   "source": [
    "print(2+3)\n",
    "print(\"2\"+\"3\")\n",
    "print([\"Reshma\",\"Rekha\"]+[\"Dhruv\",\"Divyam\"])"
   ]
  },
  {
   "cell_type": "code",
   "execution_count": 69,
   "id": "85f45c98",
   "metadata": {},
   "outputs": [
    {
     "name": "stdout",
     "output_type": "stream",
     "text": [
      "2\n",
      "-2\n"
     ]
    }
   ],
   "source": [
    "print(4-2)\n",
    "print(2-4)\n",
    "\n",
    "# print(\"garvit\"-\"gar\")"
   ]
  },
  {
   "cell_type": "code",
   "execution_count": 74,
   "id": "617c2026",
   "metadata": {},
   "outputs": [
    {
     "name": "stdout",
     "output_type": "stream",
     "text": [
      "6\n",
      "9.2\n",
      "(6+9j)\n",
      "PythonPythonPython\n",
      "['Reshma', 'Rekha', 'Reshma', 'Rekha', 'Reshma', 'Rekha']\n"
     ]
    }
   ],
   "source": [
    "print(2*3)\n",
    "print(2.3*4)\n",
    "print((2+3j)*3)\n",
    "\n",
    "print(\"Python\"*3)\n",
    "print([\"Reshma\",\"Rekha\"]*3)\n",
    "\n",
    "# \"Python\"+\"Python\"+\"Python\"=\"Python\"*3\n"
   ]
  },
  {
   "cell_type": "code",
   "execution_count": null,
   "id": "8b1112c5",
   "metadata": {},
   "outputs": [],
   "source": [
    "2+2+2=2*3\n",
    "2+2+2+2=2*4"
   ]
  },
  {
   "cell_type": "code",
   "execution_count": 77,
   "id": "2049bfd9",
   "metadata": {},
   "outputs": [
    {
     "name": "stdout",
     "output_type": "stream",
     "text": [
      "20.0 <class 'float'>\n"
     ]
    }
   ],
   "source": [
    "a=40\n",
    "b=2\n",
    "c=a/b\n",
    "print(c,type(c))"
   ]
  },
  {
   "cell_type": "code",
   "execution_count": 79,
   "id": "0359b772",
   "metadata": {},
   "outputs": [
    {
     "name": "stdout",
     "output_type": "stream",
     "text": [
      "22.5 <class 'float'>\n"
     ]
    }
   ],
   "source": [
    "a=45\n",
    "b=2\n",
    "c=a/b\n",
    "print(c,type(c))"
   ]
  },
  {
   "cell_type": "code",
   "execution_count": null,
   "id": "71baf430",
   "metadata": {},
   "outputs": [],
   "source": [
    "\"python\"/3\n",
    "[\"Reshma\",\"Rekha\"]/3"
   ]
  },
  {
   "cell_type": "code",
   "execution_count": 80,
   "id": "0500f714",
   "metadata": {},
   "outputs": [
    {
     "name": "stdout",
     "output_type": "stream",
     "text": [
      "(2+0j)\n"
     ]
    }
   ],
   "source": [
    "print((4+4j)/(2+2j))"
   ]
  },
  {
   "cell_type": "code",
   "execution_count": 81,
   "id": "969ad62c",
   "metadata": {},
   "outputs": [
    {
     "name": "stdout",
     "output_type": "stream",
     "text": [
      "20 <class 'int'>\n"
     ]
    }
   ],
   "source": [
    "a=40\n",
    "b=2\n",
    "c=a//b\n",
    "print(c,type(c))"
   ]
  },
  {
   "cell_type": "code",
   "execution_count": 82,
   "id": "1d4aac41",
   "metadata": {},
   "outputs": [
    {
     "name": "stdout",
     "output_type": "stream",
     "text": [
      "22 <class 'int'>\n"
     ]
    }
   ],
   "source": [
    "a=45\n",
    "b=2\n",
    "c=a//b\n",
    "print(c,type(c))"
   ]
  },
  {
   "cell_type": "code",
   "execution_count": 83,
   "id": "49cc014e",
   "metadata": {},
   "outputs": [
    {
     "name": "stdout",
     "output_type": "stream",
     "text": [
      "1\n"
     ]
    }
   ],
   "source": [
    "print(10%3)"
   ]
  },
  {
   "cell_type": "code",
   "execution_count": 84,
   "id": "3449216f",
   "metadata": {},
   "outputs": [
    {
     "name": "stdout",
     "output_type": "stream",
     "text": [
      "0\n"
     ]
    }
   ],
   "source": [
    "print(10%2)"
   ]
  },
  {
   "cell_type": "code",
   "execution_count": 85,
   "id": "4f394abe",
   "metadata": {},
   "outputs": [
    {
     "name": "stdout",
     "output_type": "stream",
     "text": [
      "1.21\n"
     ]
    }
   ],
   "source": [
    "print(3.21%2)"
   ]
  },
  {
   "cell_type": "code",
   "execution_count": 86,
   "id": "5f54f9aa",
   "metadata": {},
   "outputs": [
    {
     "name": "stdout",
     "output_type": "stream",
     "text": [
      "2\n"
     ]
    }
   ],
   "source": [
    "print(-10%3)"
   ]
  },
  {
   "cell_type": "code",
   "execution_count": 87,
   "id": "6b70c0b1",
   "metadata": {},
   "outputs": [
    {
     "name": "stdout",
     "output_type": "stream",
     "text": [
      "8\n"
     ]
    }
   ],
   "source": [
    "print(2**3)"
   ]
  },
  {
   "cell_type": "code",
   "execution_count": 88,
   "id": "4f8d93bf",
   "metadata": {},
   "outputs": [
    {
     "name": "stdout",
     "output_type": "stream",
     "text": [
      "1\n"
     ]
    }
   ],
   "source": [
    "print(2**0)"
   ]
  },
  {
   "cell_type": "code",
   "execution_count": 89,
   "id": "f9fea392",
   "metadata": {},
   "outputs": [
    {
     "name": "stdout",
     "output_type": "stream",
     "text": [
      "2.1435469250725863\n"
     ]
    }
   ],
   "source": [
    "print(2**1.1)"
   ]
  },
  {
   "cell_type": "code",
   "execution_count": 90,
   "id": "b8978445",
   "metadata": {},
   "outputs": [
    {
     "name": "stdout",
     "output_type": "stream",
     "text": [
      "(-11-2j)\n"
     ]
    }
   ],
   "source": [
    "print((1+2j)**3)"
   ]
  },
  {
   "cell_type": "code",
   "execution_count": 91,
   "id": "3ef46b42",
   "metadata": {},
   "outputs": [
    {
     "name": "stdout",
     "output_type": "stream",
     "text": [
      "(-0.07497352804987853-0.02992042781357791j)\n"
     ]
    }
   ],
   "source": [
    "print((1+2j)**(1+3j))"
   ]
  },
  {
   "cell_type": "code",
   "execution_count": 92,
   "id": "9c85ba64",
   "metadata": {},
   "outputs": [
    {
     "name": "stdout",
     "output_type": "stream",
     "text": [
      "True\n"
     ]
    }
   ],
   "source": [
    "print(1<2)"
   ]
  },
  {
   "cell_type": "code",
   "execution_count": 93,
   "id": "96d7524a",
   "metadata": {},
   "outputs": [
    {
     "name": "stdout",
     "output_type": "stream",
     "text": [
      "False\n"
     ]
    }
   ],
   "source": [
    "print(1>2)"
   ]
  },
  {
   "cell_type": "code",
   "execution_count": 94,
   "id": "73fa93c1",
   "metadata": {},
   "outputs": [
    {
     "name": "stdout",
     "output_type": "stream",
     "text": [
      "True\n"
     ]
    }
   ],
   "source": [
    "print(1>=1)"
   ]
  },
  {
   "cell_type": "code",
   "execution_count": 95,
   "id": "9ada87bb",
   "metadata": {},
   "outputs": [
    {
     "ename": "TypeError",
     "evalue": "'<' not supported between instances of 'str' and 'int'",
     "output_type": "error",
     "traceback": [
      "\u001b[1;31m---------------------------------------------------------------------------\u001b[0m",
      "\u001b[1;31mTypeError\u001b[0m                                 Traceback (most recent call last)",
      "\u001b[1;32m~\\AppData\\Local\\Temp/ipykernel_16916/1508783936.py\u001b[0m in \u001b[0;36m<module>\u001b[1;34m\u001b[0m\n\u001b[1;32m----> 1\u001b[1;33m \u001b[0mprint\u001b[0m\u001b[1;33m(\u001b[0m\u001b[1;34m\"garvit\"\u001b[0m\u001b[1;33m<\u001b[0m\u001b[1;36m7000000000\u001b[0m\u001b[1;33m)\u001b[0m\u001b[1;33m\u001b[0m\u001b[1;33m\u001b[0m\u001b[0m\n\u001b[0m",
      "\u001b[1;31mTypeError\u001b[0m: '<' not supported between instances of 'str' and 'int'"
     ]
    }
   ],
   "source": [
    "print(\"garvit\"<7000000000)"
   ]
  },
  {
   "cell_type": "code",
   "execution_count": 96,
   "id": "11be0e55",
   "metadata": {},
   "outputs": [
    {
     "ename": "TypeError",
     "evalue": "'<' not supported between instances of 'str' and 'list'",
     "output_type": "error",
     "traceback": [
      "\u001b[1;31m---------------------------------------------------------------------------\u001b[0m",
      "\u001b[1;31mTypeError\u001b[0m                                 Traceback (most recent call last)",
      "\u001b[1;32m~\\AppData\\Local\\Temp/ipykernel_16916/986507747.py\u001b[0m in \u001b[0;36m<module>\u001b[1;34m\u001b[0m\n\u001b[1;32m----> 1\u001b[1;33m \u001b[0mprint\u001b[0m\u001b[1;33m(\u001b[0m\u001b[1;34m\"garvit\"\u001b[0m\u001b[1;33m<\u001b[0m\u001b[1;33m[\u001b[0m\u001b[1;34m\"garvit\"\u001b[0m\u001b[1;33m,\u001b[0m\u001b[1;34m\"shivam\"\u001b[0m\u001b[1;33m]\u001b[0m\u001b[1;33m)\u001b[0m\u001b[1;33m\u001b[0m\u001b[1;33m\u001b[0m\u001b[0m\n\u001b[0m",
      "\u001b[1;31mTypeError\u001b[0m: '<' not supported between instances of 'str' and 'list'"
     ]
    }
   ],
   "source": [
    "print(\"garvit\"<[\"garvit\",\"shivam\"])"
   ]
  },
  {
   "cell_type": "code",
   "execution_count": 97,
   "id": "6b3b2e3f",
   "metadata": {},
   "outputs": [
    {
     "name": "stdout",
     "output_type": "stream",
     "text": [
      "True\n"
     ]
    }
   ],
   "source": [
    "print(20<30)"
   ]
  },
  {
   "cell_type": "code",
   "execution_count": 98,
   "id": "ae917c4f",
   "metadata": {},
   "outputs": [
    {
     "name": "stdout",
     "output_type": "stream",
     "text": [
      "True\n"
     ]
    }
   ],
   "source": [
    "print(20<30.52)"
   ]
  },
  {
   "cell_type": "code",
   "execution_count": 99,
   "id": "df920ef0",
   "metadata": {},
   "outputs": [
    {
     "name": "stdout",
     "output_type": "stream",
     "text": [
      "False\n"
     ]
    }
   ],
   "source": [
    "a=20\n",
    "b=30\n",
    "# a=b\n",
    "# a==b\n",
    "print(a==b)"
   ]
  },
  {
   "cell_type": "code",
   "execution_count": 101,
   "id": "0262cb56",
   "metadata": {},
   "outputs": [
    {
     "name": "stdout",
     "output_type": "stream",
     "text": [
      "True\n"
     ]
    }
   ],
   "source": [
    "a=30\n",
    "b=30.00\n",
    "# a=b\n",
    "# a==b\n",
    "print(a==b)"
   ]
  },
  {
   "cell_type": "code",
   "execution_count": 102,
   "id": "4f6329f9",
   "metadata": {},
   "outputs": [
    {
     "name": "stdout",
     "output_type": "stream",
     "text": [
      "False\n"
     ]
    }
   ],
   "source": [
    "print(\"garvit\"==70)"
   ]
  },
  {
   "cell_type": "code",
   "execution_count": 103,
   "id": "9fde6e53",
   "metadata": {},
   "outputs": [
    {
     "name": "stdout",
     "output_type": "stream",
     "text": [
      "True\n"
     ]
    }
   ],
   "source": [
    "print(2!=3)"
   ]
  },
  {
   "cell_type": "code",
   "execution_count": 104,
   "id": "b389ba73",
   "metadata": {},
   "outputs": [
    {
     "name": "stdout",
     "output_type": "stream",
     "text": [
      "False\n"
     ]
    }
   ],
   "source": [
    "print(2!=2)"
   ]
  },
  {
   "cell_type": "code",
   "execution_count": 109,
   "id": "0b2020c5",
   "metadata": {},
   "outputs": [
    {
     "name": "stdout",
     "output_type": "stream",
     "text": [
      "2154558024112 2154558024112\n",
      "True\n",
      "True\n"
     ]
    }
   ],
   "source": [
    "a=5\n",
    "b=5\n",
    "print(id(a),id(b))\n",
    "print(a==b)\n",
    "print(a is b)"
   ]
  },
  {
   "cell_type": "code",
   "execution_count": null,
   "id": "98ca623f",
   "metadata": {},
   "outputs": [],
   "source": [
    "-5 and 255"
   ]
  },
  {
   "cell_type": "code",
   "execution_count": 110,
   "id": "399f1844",
   "metadata": {},
   "outputs": [
    {
     "name": "stdout",
     "output_type": "stream",
     "text": [
      "2154611231312 2154611231376\n",
      "True\n",
      "False\n"
     ]
    }
   ],
   "source": [
    "a=25100000\n",
    "b=25100000\n",
    "print(id(a),id(b))\n",
    "print(a==b)\n",
    "print(a is b)"
   ]
  },
  {
   "cell_type": "code",
   "execution_count": 111,
   "id": "7cc25824",
   "metadata": {},
   "outputs": [
    {
     "name": "stdout",
     "output_type": "stream",
     "text": [
      "True\n"
     ]
    }
   ],
   "source": [
    "print('g' in 'garvit')"
   ]
  },
  {
   "cell_type": "code",
   "execution_count": 112,
   "id": "4ee10ab2",
   "metadata": {},
   "outputs": [
    {
     "name": "stdout",
     "output_type": "stream",
     "text": [
      "False\n"
     ]
    }
   ],
   "source": [
    "print('G' in 'garvit')"
   ]
  },
  {
   "cell_type": "code",
   "execution_count": 113,
   "id": "fc31e542",
   "metadata": {},
   "outputs": [
    {
     "name": "stdout",
     "output_type": "stream",
     "text": [
      "False\n"
     ]
    }
   ],
   "source": [
    "print('g' not in 'garvit')"
   ]
  },
  {
   "cell_type": "code",
   "execution_count": 114,
   "id": "5349f4e6",
   "metadata": {},
   "outputs": [
    {
     "name": "stdout",
     "output_type": "stream",
     "text": [
      "True\n"
     ]
    }
   ],
   "source": [
    "print('G' not in 'garvit')"
   ]
  },
  {
   "cell_type": "code",
   "execution_count": 115,
   "id": "af2d2eb7",
   "metadata": {},
   "outputs": [
    {
     "ename": "TypeError",
     "evalue": "argument of type 'int' is not iterable",
     "output_type": "error",
     "traceback": [
      "\u001b[1;31m---------------------------------------------------------------------------\u001b[0m",
      "\u001b[1;31mTypeError\u001b[0m                                 Traceback (most recent call last)",
      "\u001b[1;32m~\\AppData\\Local\\Temp/ipykernel_16916/3005978063.py\u001b[0m in \u001b[0;36m<module>\u001b[1;34m\u001b[0m\n\u001b[1;32m----> 1\u001b[1;33m \u001b[0mprint\u001b[0m\u001b[1;33m(\u001b[0m\u001b[1;36m1\u001b[0m \u001b[1;32min\u001b[0m \u001b[1;36m10\u001b[0m\u001b[1;33m)\u001b[0m\u001b[1;33m\u001b[0m\u001b[1;33m\u001b[0m\u001b[0m\n\u001b[0m",
      "\u001b[1;31mTypeError\u001b[0m: argument of type 'int' is not iterable"
     ]
    }
   ],
   "source": [
    "print(1 in 10)"
   ]
  },
  {
   "cell_type": "code",
   "execution_count": null,
   "id": "41ec6708",
   "metadata": {},
   "outputs": [],
   "source": [
    "a=20\n",
    "a=\"garvit\""
   ]
  },
  {
   "cell_type": "code",
   "execution_count": 120,
   "id": "5c7245f5",
   "metadata": {},
   "outputs": [
    {
     "name": "stdout",
     "output_type": "stream",
     "text": [
      "enter your number123\n",
      "41.0\n"
     ]
    }
   ],
   "source": [
    "NumberOfCoinsInYourAccount=int(input(\"enter your number\"))\n",
    "NumberOfCoinsInYourAccount=NumberOfCoinsInYourAccount/3\n",
    "print(NumberOfCoinsInYourAccount)"
   ]
  },
  {
   "cell_type": "code",
   "execution_count": null,
   "id": "e33af6ac",
   "metadata": {},
   "outputs": [],
   "source": [
    "NumberOfCoinsInYourAccount=NumberOfCoinsInYourAccount+3\n",
    "NumberOfCoinsInYourAccount+=3"
   ]
  },
  {
   "cell_type": "code",
   "execution_count": 121,
   "id": "e3c12175",
   "metadata": {},
   "outputs": [
    {
     "name": "stdout",
     "output_type": "stream",
     "text": [
      "enter your number123\n",
      "41.0\n"
     ]
    }
   ],
   "source": [
    "NumberOfCoinsInYourAccount=int(input(\"enter your number\"))\n",
    "NumberOfCoinsInYourAccount/=3\n",
    "print(NumberOfCoinsInYourAccount)"
   ]
  },
  {
   "cell_type": "code",
   "execution_count": null,
   "id": "deef0380",
   "metadata": {},
   "outputs": [],
   "source": []
  },
  {
   "cell_type": "code",
   "execution_count": null,
   "id": "4b470fe7",
   "metadata": {},
   "outputs": [],
   "source": []
  },
  {
   "cell_type": "code",
   "execution_count": null,
   "id": "3528492f",
   "metadata": {},
   "outputs": [],
   "source": []
  },
  {
   "cell_type": "code",
   "execution_count": null,
   "id": "60f11f77",
   "metadata": {},
   "outputs": [],
   "source": []
  }
 ],
 "metadata": {
  "kernelspec": {
   "display_name": "Python 3 (ipykernel)",
   "language": "python",
   "name": "python3"
  },
  "language_info": {
   "codemirror_mode": {
    "name": "ipython",
    "version": 3
   },
   "file_extension": ".py",
   "mimetype": "text/x-python",
   "name": "python",
   "nbconvert_exporter": "python",
   "pygments_lexer": "ipython3",
   "version": "3.9.7"
  }
 },
 "nbformat": 4,
 "nbformat_minor": 5
}
