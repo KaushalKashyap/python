{
 "cells": [
  {
   "cell_type": "code",
   "execution_count": 1,
   "id": "5f67d223",
   "metadata": {},
   "outputs": [],
   "source": [
    "# variable length arguments: 1) variable length Positional arguments and variable length Keyworded arguments"
   ]
  },
  {
   "cell_type": "code",
   "execution_count": 2,
   "id": "6573787d",
   "metadata": {},
   "outputs": [],
   "source": [
    "def sum_of_integers(a,b):\n",
    "    return a+b"
   ]
  },
  {
   "cell_type": "code",
   "execution_count": 3,
   "id": "cb6fcf44",
   "metadata": {},
   "outputs": [
    {
     "name": "stdout",
     "output_type": "stream",
     "text": [
      "30\n"
     ]
    }
   ],
   "source": [
    "print(sum_of_integers(10,20))"
   ]
  },
  {
   "cell_type": "code",
   "execution_count": 4,
   "id": "df18feef",
   "metadata": {},
   "outputs": [
    {
     "ename": "TypeError",
     "evalue": "sum_of_integers() takes 2 positional arguments but 3 were given",
     "output_type": "error",
     "traceback": [
      "\u001b[1;31m---------------------------------------------------------------------------\u001b[0m",
      "\u001b[1;31mTypeError\u001b[0m                                 Traceback (most recent call last)",
      "\u001b[1;32m~\\AppData\\Local\\Temp/ipykernel_10664/749167907.py\u001b[0m in \u001b[0;36m<module>\u001b[1;34m\u001b[0m\n\u001b[1;32m----> 1\u001b[1;33m \u001b[0mprint\u001b[0m\u001b[1;33m(\u001b[0m\u001b[0msum_of_integers\u001b[0m\u001b[1;33m(\u001b[0m\u001b[1;36m10\u001b[0m\u001b[1;33m,\u001b[0m\u001b[1;36m20\u001b[0m\u001b[1;33m,\u001b[0m\u001b[1;36m30\u001b[0m\u001b[1;33m)\u001b[0m\u001b[1;33m)\u001b[0m\u001b[1;33m\u001b[0m\u001b[1;33m\u001b[0m\u001b[0m\n\u001b[0m",
      "\u001b[1;31mTypeError\u001b[0m: sum_of_integers() takes 2 positional arguments but 3 were given"
     ]
    }
   ],
   "source": [
    "print(sum_of_integers(10,20,30))"
   ]
  },
  {
   "cell_type": "code",
   "execution_count": 5,
   "id": "dd3a80c4",
   "metadata": {},
   "outputs": [
    {
     "name": "stdout",
     "output_type": "stream",
     "text": [
      "60\n"
     ]
    }
   ],
   "source": [
    "print(sum_of_integers(10,sum_of_integers(20,30)))"
   ]
  },
  {
   "cell_type": "code",
   "execution_count": 6,
   "id": "f55d5c36",
   "metadata": {},
   "outputs": [],
   "source": [
    "def sum_of_integers(a,b,c=0,d=0,e=0):\n",
    "    return a+b+c+d+e"
   ]
  },
  {
   "cell_type": "code",
   "execution_count": 7,
   "id": "f5869e9d",
   "metadata": {},
   "outputs": [],
   "source": [
    "# variable length positional arguments->not mandatory to pass\n",
    "#                                         can contain as many elemts as user passes\n",
    "#                                       Can't be passed as keyworded\n",
    "#                                       passed as tuple\n",
    "def sum_of_integers(a,b,*c):\n",
    "    return a+b+sum(c)\n"
   ]
  },
  {
   "cell_type": "code",
   "execution_count": 8,
   "id": "2db3f4d8",
   "metadata": {},
   "outputs": [
    {
     "name": "stdout",
     "output_type": "stream",
     "text": [
      "30\n"
     ]
    }
   ],
   "source": [
    "print(sum_of_integers(10,20))"
   ]
  },
  {
   "cell_type": "code",
   "execution_count": 9,
   "id": "6791ee4d",
   "metadata": {},
   "outputs": [
    {
     "name": "stdout",
     "output_type": "stream",
     "text": [
      "100\n"
     ]
    }
   ],
   "source": [
    "print(sum_of_integers(10,20,30))"
   ]
  },
  {
   "cell_type": "code",
   "execution_count": 15,
   "id": "d8a0ea58",
   "metadata": {},
   "outputs": [
    {
     "name": "stdout",
     "output_type": "stream",
     "text": [
      "<class 'tuple'>\n"
     ]
    },
    {
     "ename": "TypeError",
     "evalue": "unsupported operand type(s) for +: 'int' and 'list'",
     "output_type": "error",
     "traceback": [
      "\u001b[1;31m---------------------------------------------------------------------------\u001b[0m",
      "\u001b[1;31mTypeError\u001b[0m                                 Traceback (most recent call last)",
      "\u001b[1;32m~\\AppData\\Local\\Temp/ipykernel_10664/144736014.py\u001b[0m in \u001b[0;36m<module>\u001b[1;34m\u001b[0m\n\u001b[1;32m----> 1\u001b[1;33m \u001b[0mprint\u001b[0m\u001b[1;33m(\u001b[0m\u001b[0msum_of_integers\u001b[0m\u001b[1;33m(\u001b[0m\u001b[1;36m10\u001b[0m\u001b[1;33m,\u001b[0m\u001b[1;36m20\u001b[0m\u001b[1;33m,\u001b[0m\u001b[1;33m[\u001b[0m\u001b[1;36m30\u001b[0m\u001b[1;33m,\u001b[0m\u001b[1;36m40\u001b[0m\u001b[1;33m]\u001b[0m\u001b[1;33m)\u001b[0m\u001b[1;33m)\u001b[0m\u001b[1;33m\u001b[0m\u001b[1;33m\u001b[0m\u001b[0m\n\u001b[0m",
      "\u001b[1;32m~\\AppData\\Local\\Temp/ipykernel_10664/769616740.py\u001b[0m in \u001b[0;36msum_of_integers\u001b[1;34m(a, b, *c)\u001b[0m\n\u001b[0;32m      1\u001b[0m \u001b[1;32mdef\u001b[0m \u001b[0msum_of_integers\u001b[0m\u001b[1;33m(\u001b[0m\u001b[0ma\u001b[0m\u001b[1;33m,\u001b[0m\u001b[0mb\u001b[0m\u001b[1;33m,\u001b[0m\u001b[1;33m*\u001b[0m\u001b[0mc\u001b[0m\u001b[1;33m)\u001b[0m\u001b[1;33m:\u001b[0m\u001b[1;33m\u001b[0m\u001b[1;33m\u001b[0m\u001b[0m\n\u001b[0;32m      2\u001b[0m     \u001b[0mprint\u001b[0m\u001b[1;33m(\u001b[0m\u001b[0mtype\u001b[0m\u001b[1;33m(\u001b[0m\u001b[0mc\u001b[0m\u001b[1;33m)\u001b[0m\u001b[1;33m)\u001b[0m\u001b[1;33m\u001b[0m\u001b[1;33m\u001b[0m\u001b[0m\n\u001b[1;32m----> 3\u001b[1;33m     \u001b[1;32mreturn\u001b[0m \u001b[0ma\u001b[0m\u001b[1;33m+\u001b[0m\u001b[0mb\u001b[0m\u001b[1;33m+\u001b[0m\u001b[0msum\u001b[0m\u001b[1;33m(\u001b[0m\u001b[0mc\u001b[0m\u001b[1;33m)\u001b[0m\u001b[1;33m\u001b[0m\u001b[1;33m\u001b[0m\u001b[0m\n\u001b[0m",
      "\u001b[1;31mTypeError\u001b[0m: unsupported operand type(s) for +: 'int' and 'list'"
     ]
    }
   ],
   "source": [
    "print(sum_of_integers(10,20,[30,40]))"
   ]
  },
  {
   "cell_type": "code",
   "execution_count": 10,
   "id": "164c7f4d",
   "metadata": {},
   "outputs": [],
   "source": [
    "def sum_of_integers(a,b,*c):\n",
    "    print(type(c))\n",
    "    return a+b+sum(c)"
   ]
  },
  {
   "cell_type": "code",
   "execution_count": 11,
   "id": "aa8f3750",
   "metadata": {},
   "outputs": [
    {
     "name": "stdout",
     "output_type": "stream",
     "text": [
      "<class 'tuple'>\n",
      "30\n"
     ]
    }
   ],
   "source": [
    "print(sum_of_integers(10,20))"
   ]
  },
  {
   "cell_type": "code",
   "execution_count": 14,
   "id": "bbd4e60a",
   "metadata": {},
   "outputs": [
    {
     "name": "stdout",
     "output_type": "stream",
     "text": [
      "<class 'tuple'>\n",
      "60\n"
     ]
    }
   ],
   "source": [
    "print(sum_of_integers(10,20,30))"
   ]
  },
  {
   "cell_type": "code",
   "execution_count": null,
   "id": "1badcdb9",
   "metadata": {},
   "outputs": [],
   "source": [
    "c=(30,40)\n",
    "c=(30,)\n",
    "c=([30,40].)\n"
   ]
  },
  {
   "cell_type": "code",
   "execution_count": 16,
   "id": "c015161b",
   "metadata": {},
   "outputs": [],
   "source": [
    "# variable length keyworded argument->not mandatory to pass\n",
    "#                                       can contain as many elemts as user passes\n",
    "#                                       Can't be passed as positional argument\n",
    "#                                       passed as dictionary"
   ]
  },
  {
   "cell_type": "code",
   "execution_count": 17,
   "id": "9a6a7cc3",
   "metadata": {},
   "outputs": [],
   "source": [
    "def collect_employee_info(name,profile,age,gender,last_employer=\"\"):\n",
    "    print(\"The name is \",name)\n",
    "    print(\"Working as a \",profile)\n",
    "    print(\"Age is \",age)\n",
    "    print(\"The person is \",gender)\n",
    "    if(last_employer!=\"\"):\n",
    "        print(\"last emplyer was \",last_employer)\n",
    "    print(\"\")"
   ]
  },
  {
   "cell_type": "code",
   "execution_count": 18,
   "id": "83731478",
   "metadata": {},
   "outputs": [
    {
     "name": "stdout",
     "output_type": "stream",
     "text": [
      "The name is  Garvit\n",
      "Working as a  Dev\n",
      "Age is  28\n",
      "The person is  Man\n"
     ]
    }
   ],
   "source": [
    "collect_employee_info(\"Garvit\",\"Dev\",28,\"Man\")"
   ]
  },
  {
   "cell_type": "code",
   "execution_count": 34,
   "id": "47a1f2bc",
   "metadata": {},
   "outputs": [
    {
     "ename": "SyntaxError",
     "evalue": "invalid syntax (Temp/ipykernel_10664/2315303095.py, line 1)",
     "output_type": "error",
     "traceback": [
      "\u001b[1;36m  File \u001b[1;32m\"C:\\Users\\gtane\\AppData\\Local\\Temp/ipykernel_10664/2315303095.py\"\u001b[1;36m, line \u001b[1;32m1\u001b[0m\n\u001b[1;33m    def collect_employee_info(name,profile,age,gender,*pargs1,*pargs2):\u001b[0m\n\u001b[1;37m                                                              ^\u001b[0m\n\u001b[1;31mSyntaxError\u001b[0m\u001b[1;31m:\u001b[0m invalid syntax\n"
     ]
    }
   ],
   "source": [
    "def collect_employee_info(name,profile,age,gender,**kwargs):\n",
    "    print(\"The name is \",name)\n",
    "    print(\"Working as a \",profile)\n",
    "    print(\"Age is \",age)\n",
    "    print(\"The person is \",gender)\n",
    "    for i in kwargs:\n",
    "        print(kwargs[i])"
   ]
  },
  {
   "cell_type": "code",
   "execution_count": 28,
   "id": "4cade27a",
   "metadata": {},
   "outputs": [
    {
     "name": "stdout",
     "output_type": "stream",
     "text": [
      "The name is  Garvit\n",
      "Working as a  Dev\n",
      "Age is  28\n",
      "The person is  Man\n"
     ]
    }
   ],
   "source": [
    "collect_employee_info(\"Garvit\",\"Dev\",28,\"Man\")\n"
   ]
  },
  {
   "cell_type": "code",
   "execution_count": 31,
   "id": "6c5c41f3",
   "metadata": {},
   "outputs": [
    {
     "name": "stdout",
     "output_type": "stream",
     "text": [
      "The name is  Garvit\n",
      "Working as a  Dev\n",
      "Age is  28\n",
      "The person is  Man\n",
      "Sunita\n"
     ]
    }
   ],
   "source": [
    "collect_employee_info(\"Garvit\",\"Dev\",28,\"Man\",Mother_name=\"Sunita\")"
   ]
  },
  {
   "cell_type": "code",
   "execution_count": null,
   "id": "18094608",
   "metadata": {},
   "outputs": [],
   "source": [
    "kwargs={\"Mother_name\":\"Sunita\"}"
   ]
  },
  {
   "cell_type": "code",
   "execution_count": 1,
   "id": "a40a880d",
   "metadata": {},
   "outputs": [],
   "source": [
    "def amount_for_five(amount):\n",
    "    return amount*1.5\n",
    "def amount_for_10(amount):\n",
    "    return amount*3\n",
    "def show_mme_interests(amount):\n",
    "    print(\"Amount after 5 years will be \",amount_for_five(amount))\n",
    "    print(\"Amount after 10 years will be \",amount_for_10(amount))\n",
    "    \n",
    "    \n",
    "    \n",
    "    \n",
    "    "
   ]
  },
  {
   "cell_type": "code",
   "execution_count": 2,
   "id": "61b2bffb",
   "metadata": {},
   "outputs": [
    {
     "name": "stdout",
     "output_type": "stream",
     "text": [
      "Amount after 5 years will be  1500.0\n",
      "Amount after 10 years will be  3000\n",
      "15000.0\n",
      "30000\n"
     ]
    }
   ],
   "source": [
    "show_mme_interests(1000)\n",
    "\n",
    "print(amount_for_five(10000))\n",
    "print(amount_for_10(10000))"
   ]
  },
  {
   "cell_type": "code",
   "execution_count": 1,
   "id": "ac3dc0d2",
   "metadata": {},
   "outputs": [],
   "source": [
    "def show_mme_interests(amount):\n",
    "    def amount_for_five(amount):\n",
    "        return amount*1.5\n",
    "    def amount_for_10(amount):\n",
    "        return amount*3\n",
    "    print(\"Amount after 5 years will be \",amount_for_five(amount))\n",
    "    print(\"Amount after 10 years will be \",amount_for_10(amount))"
   ]
  },
  {
   "cell_type": "code",
   "execution_count": 2,
   "id": "272bb896",
   "metadata": {},
   "outputs": [
    {
     "name": "stdout",
     "output_type": "stream",
     "text": [
      "Amount after 5 years will be  1500.0\n",
      "Amount after 10 years will be  3000\n"
     ]
    },
    {
     "ename": "NameError",
     "evalue": "name 'amount_for_five' is not defined",
     "output_type": "error",
     "traceback": [
      "\u001b[1;31m---------------------------------------------------------------------------\u001b[0m",
      "\u001b[1;31mNameError\u001b[0m                                 Traceback (most recent call last)",
      "\u001b[1;32m~\\AppData\\Local\\Temp/ipykernel_16108/4200323060.py\u001b[0m in \u001b[0;36m<module>\u001b[1;34m\u001b[0m\n\u001b[0;32m      1\u001b[0m \u001b[0mshow_mme_interests\u001b[0m\u001b[1;33m(\u001b[0m\u001b[1;36m1000\u001b[0m\u001b[1;33m)\u001b[0m\u001b[1;33m\u001b[0m\u001b[1;33m\u001b[0m\u001b[0m\n\u001b[1;32m----> 2\u001b[1;33m \u001b[0mprint\u001b[0m\u001b[1;33m(\u001b[0m\u001b[0mamount_for_five\u001b[0m\u001b[1;33m(\u001b[0m\u001b[1;36m10000\u001b[0m\u001b[1;33m)\u001b[0m\u001b[1;33m)\u001b[0m\u001b[1;33m\u001b[0m\u001b[1;33m\u001b[0m\u001b[0m\n\u001b[0m\u001b[0;32m      3\u001b[0m \u001b[0mprint\u001b[0m\u001b[1;33m(\u001b[0m\u001b[0mamount_for_10\u001b[0m\u001b[1;33m(\u001b[0m\u001b[1;36m10000\u001b[0m\u001b[1;33m)\u001b[0m\u001b[1;33m)\u001b[0m\u001b[1;33m\u001b[0m\u001b[1;33m\u001b[0m\u001b[0m\n",
      "\u001b[1;31mNameError\u001b[0m: name 'amount_for_five' is not defined"
     ]
    }
   ],
   "source": [
    "show_mme_interests(1000)\n",
    "print(amount_for_five(10000))\n",
    "print(amount_for_10(10000))"
   ]
  },
  {
   "cell_type": "code",
   "execution_count": 5,
   "id": "0aed3831",
   "metadata": {},
   "outputs": [],
   "source": [
    "def function_main(x):\n",
    "    print(x)\n",
    "    def func_inside():\n",
    "        x=x+5\n",
    "        print(x)\n",
    "    func_inside()"
   ]
  },
  {
   "cell_type": "code",
   "execution_count": 4,
   "id": "148dce55",
   "metadata": {},
   "outputs": [
    {
     "name": "stdout",
     "output_type": "stream",
     "text": [
      "10\n",
      "15\n"
     ]
    }
   ],
   "source": [
    "function_main(10)"
   ]
  },
  {
   "cell_type": "code",
   "execution_count": 6,
   "id": "bf06a625",
   "metadata": {},
   "outputs": [
    {
     "name": "stdout",
     "output_type": "stream",
     "text": [
      "10\n"
     ]
    },
    {
     "ename": "UnboundLocalError",
     "evalue": "local variable 'x' referenced before assignment",
     "output_type": "error",
     "traceback": [
      "\u001b[1;31m---------------------------------------------------------------------------\u001b[0m",
      "\u001b[1;31mUnboundLocalError\u001b[0m                         Traceback (most recent call last)",
      "\u001b[1;32m~\\AppData\\Local\\Temp/ipykernel_16108/2332177617.py\u001b[0m in \u001b[0;36m<module>\u001b[1;34m\u001b[0m\n\u001b[1;32m----> 1\u001b[1;33m \u001b[0mfunction_main\u001b[0m\u001b[1;33m(\u001b[0m\u001b[1;36m10\u001b[0m\u001b[1;33m)\u001b[0m\u001b[1;33m\u001b[0m\u001b[1;33m\u001b[0m\u001b[0m\n\u001b[0m",
      "\u001b[1;32m~\\AppData\\Local\\Temp/ipykernel_16108/3401472800.py\u001b[0m in \u001b[0;36mfunction_main\u001b[1;34m(x)\u001b[0m\n\u001b[0;32m      4\u001b[0m         \u001b[0mx\u001b[0m\u001b[1;33m=\u001b[0m\u001b[0mx\u001b[0m\u001b[1;33m+\u001b[0m\u001b[1;36m5\u001b[0m\u001b[1;33m\u001b[0m\u001b[1;33m\u001b[0m\u001b[0m\n\u001b[0;32m      5\u001b[0m         \u001b[0mprint\u001b[0m\u001b[1;33m(\u001b[0m\u001b[0mx\u001b[0m\u001b[1;33m)\u001b[0m\u001b[1;33m\u001b[0m\u001b[1;33m\u001b[0m\u001b[0m\n\u001b[1;32m----> 6\u001b[1;33m     \u001b[0mfunc_inside\u001b[0m\u001b[1;33m(\u001b[0m\u001b[1;33m)\u001b[0m\u001b[1;33m\u001b[0m\u001b[1;33m\u001b[0m\u001b[0m\n\u001b[0m",
      "\u001b[1;32m~\\AppData\\Local\\Temp/ipykernel_16108/3401472800.py\u001b[0m in \u001b[0;36mfunc_inside\u001b[1;34m()\u001b[0m\n\u001b[0;32m      2\u001b[0m     \u001b[0mprint\u001b[0m\u001b[1;33m(\u001b[0m\u001b[0mx\u001b[0m\u001b[1;33m)\u001b[0m\u001b[1;33m\u001b[0m\u001b[1;33m\u001b[0m\u001b[0m\n\u001b[0;32m      3\u001b[0m     \u001b[1;32mdef\u001b[0m \u001b[0mfunc_inside\u001b[0m\u001b[1;33m(\u001b[0m\u001b[1;33m)\u001b[0m\u001b[1;33m:\u001b[0m\u001b[1;33m\u001b[0m\u001b[1;33m\u001b[0m\u001b[0m\n\u001b[1;32m----> 4\u001b[1;33m         \u001b[0mx\u001b[0m\u001b[1;33m=\u001b[0m\u001b[0mx\u001b[0m\u001b[1;33m+\u001b[0m\u001b[1;36m5\u001b[0m\u001b[1;33m\u001b[0m\u001b[1;33m\u001b[0m\u001b[0m\n\u001b[0m\u001b[0;32m      5\u001b[0m         \u001b[0mprint\u001b[0m\u001b[1;33m(\u001b[0m\u001b[0mx\u001b[0m\u001b[1;33m)\u001b[0m\u001b[1;33m\u001b[0m\u001b[1;33m\u001b[0m\u001b[0m\n\u001b[0;32m      6\u001b[0m     \u001b[0mfunc_inside\u001b[0m\u001b[1;33m(\u001b[0m\u001b[1;33m)\u001b[0m\u001b[1;33m\u001b[0m\u001b[1;33m\u001b[0m\u001b[0m\n",
      "\u001b[1;31mUnboundLocalError\u001b[0m: local variable 'x' referenced before assignment"
     ]
    }
   ],
   "source": [
    "function_main(10)"
   ]
  },
  {
   "cell_type": "code",
   "execution_count": 8,
   "id": "31354cb8",
   "metadata": {},
   "outputs": [],
   "source": [
    "def function_main(x):\n",
    "    print(x)\n",
    "    def func_inside(x):\n",
    "        print(x+15)"
   ]
  },
  {
   "cell_type": "code",
   "execution_count": 9,
   "id": "7b2e93ac",
   "metadata": {},
   "outputs": [
    {
     "name": "stdout",
     "output_type": "stream",
     "text": [
      "100\n"
     ]
    }
   ],
   "source": [
    "function_main(100)"
   ]
  },
  {
   "cell_type": "code",
   "execution_count": 10,
   "id": "33820a06",
   "metadata": {},
   "outputs": [],
   "source": [
    "def add_2(a,b):\n",
    "    return a+b\n",
    "def add_4_numbers(a,b,c,d):\n",
    "    return add_2(a,b)+add_2(c,d)"
   ]
  },
  {
   "cell_type": "code",
   "execution_count": 11,
   "id": "e9557f39",
   "metadata": {},
   "outputs": [],
   "source": [
    "sum_4_numbers=add_4_numbers(10,20,30,40)"
   ]
  },
  {
   "cell_type": "code",
   "execution_count": 12,
   "id": "f92b5aee",
   "metadata": {},
   "outputs": [
    {
     "name": "stdout",
     "output_type": "stream",
     "text": [
      "100\n"
     ]
    }
   ],
   "source": [
    "print(sum_4_numbers)"
   ]
  },
  {
   "cell_type": "code",
   "execution_count": 13,
   "id": "7bf1425b",
   "metadata": {},
   "outputs": [],
   "source": [
    "a=10\n",
    "b=a"
   ]
  },
  {
   "cell_type": "code",
   "execution_count": 14,
   "id": "a13aa4c0",
   "metadata": {},
   "outputs": [],
   "source": [
    "b=add_4_numbers\n"
   ]
  },
  {
   "cell_type": "code",
   "execution_count": 15,
   "id": "97baa5be",
   "metadata": {},
   "outputs": [
    {
     "data": {
      "text/plain": [
       "100"
      ]
     },
     "execution_count": 15,
     "metadata": {},
     "output_type": "execute_result"
    }
   ],
   "source": [
    "add_4_numbers(10,20,30,40)"
   ]
  },
  {
   "cell_type": "code",
   "execution_count": 16,
   "id": "c485de37",
   "metadata": {},
   "outputs": [
    {
     "data": {
      "text/plain": [
       "100"
      ]
     },
     "execution_count": 16,
     "metadata": {},
     "output_type": "execute_result"
    }
   ],
   "source": [
    "b(10,20,30,40)"
   ]
  },
  {
   "cell_type": "code",
   "execution_count": 19,
   "id": "a5c37b92",
   "metadata": {},
   "outputs": [],
   "source": [
    "def function(a,b):\n",
    "    print(a+b)\n",
    "    def function2(a,b):\n",
    "        print(a,b)\n",
    "    return function2"
   ]
  },
  {
   "cell_type": "code",
   "execution_count": 20,
   "id": "8ad33ad9",
   "metadata": {},
   "outputs": [
    {
     "name": "stdout",
     "output_type": "stream",
     "text": [
      "30\n"
     ]
    }
   ],
   "source": [
    "a=function(10,20)"
   ]
  },
  {
   "cell_type": "code",
   "execution_count": 21,
   "id": "bfed3048",
   "metadata": {},
   "outputs": [
    {
     "name": "stdout",
     "output_type": "stream",
     "text": [
      "<function function.<locals>.function2 at 0x0000026A259D2430>\n"
     ]
    }
   ],
   "source": [
    "print(a)"
   ]
  },
  {
   "cell_type": "code",
   "execution_count": 22,
   "id": "ee57e11a",
   "metadata": {},
   "outputs": [
    {
     "name": "stdout",
     "output_type": "stream",
     "text": [
      "10 20\n"
     ]
    }
   ],
   "source": [
    "a(10,20)"
   ]
  },
  {
   "cell_type": "code",
   "execution_count": 23,
   "id": "bea6fa9d",
   "metadata": {},
   "outputs": [
    {
     "ename": "NameError",
     "evalue": "name 'function2' is not defined",
     "output_type": "error",
     "traceback": [
      "\u001b[1;31m---------------------------------------------------------------------------\u001b[0m",
      "\u001b[1;31mNameError\u001b[0m                                 Traceback (most recent call last)",
      "\u001b[1;32m~\\AppData\\Local\\Temp/ipykernel_16108/3747107634.py\u001b[0m in \u001b[0;36m<module>\u001b[1;34m\u001b[0m\n\u001b[1;32m----> 1\u001b[1;33m \u001b[0mfunction2\u001b[0m\u001b[1;33m(\u001b[0m\u001b[1;36m10\u001b[0m\u001b[1;33m,\u001b[0m\u001b[1;36m20\u001b[0m\u001b[1;33m)\u001b[0m\u001b[1;33m\u001b[0m\u001b[1;33m\u001b[0m\u001b[0m\n\u001b[0m",
      "\u001b[1;31mNameError\u001b[0m: name 'function2' is not defined"
     ]
    }
   ],
   "source": [
    "function2(10,20)"
   ]
  },
  {
   "cell_type": "code",
   "execution_count": 24,
   "id": "13e2d3a7",
   "metadata": {},
   "outputs": [],
   "source": [
    "def function(a,b):\n",
    "    print(a+b)\n",
    "    def function2(a,b):\n",
    "        print(a,b)\n",
    "    return function2(a,b)"
   ]
  },
  {
   "cell_type": "code",
   "execution_count": 25,
   "id": "979f594e",
   "metadata": {},
   "outputs": [
    {
     "name": "stdout",
     "output_type": "stream",
     "text": [
      "30\n",
      "10 20\n"
     ]
    }
   ],
   "source": [
    "a=function(10,20)"
   ]
  },
  {
   "cell_type": "code",
   "execution_count": 26,
   "id": "a41c8c5f",
   "metadata": {},
   "outputs": [
    {
     "name": "stdout",
     "output_type": "stream",
     "text": [
      "None\n"
     ]
    }
   ],
   "source": [
    "print(a)"
   ]
  },
  {
   "cell_type": "code",
   "execution_count": 28,
   "id": "4bc0cafd",
   "metadata": {},
   "outputs": [],
   "source": [
    "def add(a,b):\n",
    "    print(a+b)\n",
    "    return a\n",
    "    "
   ]
  },
  {
   "cell_type": "code",
   "execution_count": 29,
   "id": "8fa35a96",
   "metadata": {},
   "outputs": [
    {
     "name": "stdout",
     "output_type": "stream",
     "text": [
      "30\n"
     ]
    }
   ],
   "source": [
    "a=add(10,20)"
   ]
  },
  {
   "cell_type": "code",
   "execution_count": 30,
   "id": "39f4acf8",
   "metadata": {},
   "outputs": [
    {
     "name": "stdout",
     "output_type": "stream",
     "text": [
      "10\n"
     ]
    }
   ],
   "source": [
    "print(a)"
   ]
  },
  {
   "cell_type": "code",
   "execution_count": null,
   "id": "1f601be8",
   "metadata": {},
   "outputs": [],
   "source": []
  }
 ],
 "metadata": {
  "kernelspec": {
   "display_name": "Python 3 (ipykernel)",
   "language": "python",
   "name": "python3"
  },
  "language_info": {
   "codemirror_mode": {
    "name": "ipython",
    "version": 3
   },
   "file_extension": ".py",
   "mimetype": "text/x-python",
   "name": "python",
   "nbconvert_exporter": "python",
   "pygments_lexer": "ipython3",
   "version": "3.9.7"
  }
 },
 "nbformat": 4,
 "nbformat_minor": 5
}
