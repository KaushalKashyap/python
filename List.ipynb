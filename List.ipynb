{
 "cells": [
  {
   "cell_type": "markdown",
   "id": "75108f07",
   "metadata": {},
   "source": [
    "# List\n"
   ]
  },
  {
   "cell_type": "code",
   "execution_count": 1,
   "id": "f80fa9d8",
   "metadata": {},
   "outputs": [],
   "source": [
    "# Any value that is between [] and separated by , is list\n",
    "list_1=[\"Shivam\",\"Shivani\",\"Hritik\"]\n",
    "#1) List also supports positive indexing. It starts 0 and goes uptil and length of list -1\n",
    "#2) List also supports negative indexing. It starts from -1 and goes till -length of list\n",
    "#3) List is mutable\n",
    "#4) It is collection of heterogenous elements. (Elements can be of different data types)\n"
   ]
  },
  {
   "cell_type": "code",
   "execution_count": 2,
   "id": "2c4f7d7f",
   "metadata": {},
   "outputs": [
    {
     "data": {
      "text/plain": [
       "'Shivam'"
      ]
     },
     "execution_count": 2,
     "metadata": {},
     "output_type": "execute_result"
    }
   ],
   "source": [
    "list_1[0]"
   ]
  },
  {
   "cell_type": "code",
   "execution_count": 3,
   "id": "bbfaccee",
   "metadata": {},
   "outputs": [
    {
     "ename": "IndexError",
     "evalue": "list index out of range",
     "output_type": "error",
     "traceback": [
      "\u001b[1;31m---------------------------------------------------------------------------\u001b[0m",
      "\u001b[1;31mIndexError\u001b[0m                                Traceback (most recent call last)",
      "\u001b[1;32m~\\AppData\\Local\\Temp/ipykernel_25092/2648403905.py\u001b[0m in \u001b[0;36m<module>\u001b[1;34m\u001b[0m\n\u001b[1;32m----> 1\u001b[1;33m \u001b[0mlist_1\u001b[0m\u001b[1;33m[\u001b[0m\u001b[0mlen\u001b[0m\u001b[1;33m(\u001b[0m\u001b[0mlist_1\u001b[0m\u001b[1;33m)\u001b[0m\u001b[1;33m]\u001b[0m\u001b[1;33m\u001b[0m\u001b[1;33m\u001b[0m\u001b[0m\n\u001b[0m",
      "\u001b[1;31mIndexError\u001b[0m: list index out of range"
     ]
    }
   ],
   "source": [
    "list_1[len(list_1)]"
   ]
  },
  {
   "cell_type": "code",
   "execution_count": 4,
   "id": "c53edcb6",
   "metadata": {},
   "outputs": [
    {
     "data": {
      "text/plain": [
       "'Hritik'"
      ]
     },
     "execution_count": 4,
     "metadata": {},
     "output_type": "execute_result"
    }
   ],
   "source": [
    "list_1[len(list_1)-1]"
   ]
  },
  {
   "cell_type": "code",
   "execution_count": 5,
   "id": "bea37f66",
   "metadata": {},
   "outputs": [
    {
     "data": {
      "text/plain": [
       "list"
      ]
     },
     "execution_count": 5,
     "metadata": {},
     "output_type": "execute_result"
    }
   ],
   "source": [
    "type(list_1)"
   ]
  },
  {
   "cell_type": "code",
   "execution_count": 6,
   "id": "9ee4abec",
   "metadata": {},
   "outputs": [
    {
     "data": {
      "text/plain": [
       "str"
      ]
     },
     "execution_count": 6,
     "metadata": {},
     "output_type": "execute_result"
    }
   ],
   "source": [
    "type(list_1[0])"
   ]
  },
  {
   "cell_type": "code",
   "execution_count": 7,
   "id": "4bf6ac4e",
   "metadata": {},
   "outputs": [
    {
     "data": {
      "text/plain": [
       "'Hritik'"
      ]
     },
     "execution_count": 7,
     "metadata": {},
     "output_type": "execute_result"
    }
   ],
   "source": [
    "list_1[-1]"
   ]
  },
  {
   "cell_type": "code",
   "execution_count": 8,
   "id": "3779b4c2",
   "metadata": {},
   "outputs": [
    {
     "data": {
      "text/plain": [
       "'Shivam'"
      ]
     },
     "execution_count": 8,
     "metadata": {},
     "output_type": "execute_result"
    }
   ],
   "source": [
    "list_1[-3]"
   ]
  },
  {
   "cell_type": "code",
   "execution_count": 9,
   "id": "cbc0fe1f",
   "metadata": {},
   "outputs": [],
   "source": [
    "list_1=[\"Garvit\",\"Taneja\",26, 5.9, True, [\"Cisco\", \"Samsung\"]]"
   ]
  },
  {
   "cell_type": "code",
   "execution_count": 10,
   "id": "980c653d",
   "metadata": {},
   "outputs": [
    {
     "name": "stdout",
     "output_type": "stream",
     "text": [
      "Garvit\n"
     ]
    }
   ],
   "source": [
    "print(list_1[0])"
   ]
  },
  {
   "cell_type": "code",
   "execution_count": 11,
   "id": "d63f8e7f",
   "metadata": {},
   "outputs": [
    {
     "name": "stdout",
     "output_type": "stream",
     "text": [
      "['Cisco', 'Samsung']\n"
     ]
    }
   ],
   "source": [
    "print(list_1[-1])"
   ]
  },
  {
   "cell_type": "code",
   "execution_count": 12,
   "id": "062b7329",
   "metadata": {},
   "outputs": [
    {
     "name": "stdout",
     "output_type": "stream",
     "text": [
      "<class 'list'>\n"
     ]
    }
   ],
   "source": [
    "print(type(list_1))"
   ]
  },
  {
   "cell_type": "code",
   "execution_count": 13,
   "id": "374862b8",
   "metadata": {},
   "outputs": [
    {
     "name": "stdout",
     "output_type": "stream",
     "text": [
      "<class 'str'>\n"
     ]
    }
   ],
   "source": [
    "print(type(list_1[0]))"
   ]
  },
  {
   "cell_type": "code",
   "execution_count": 14,
   "id": "5a5d19c5",
   "metadata": {},
   "outputs": [
    {
     "name": "stdout",
     "output_type": "stream",
     "text": [
      "<class 'list'>\n"
     ]
    }
   ],
   "source": [
    "print(type(list_1[-1]))"
   ]
  },
  {
   "cell_type": "code",
   "execution_count": 15,
   "id": "1f85015b",
   "metadata": {},
   "outputs": [
    {
     "name": "stdout",
     "output_type": "stream",
     "text": [
      "2195339026816 2195339018816\n"
     ]
    }
   ],
   "source": [
    "list_1=[\"Garvit\",\"Taneja\",26, 5.9, True, [\"Cisco\", \"Samsung\"]]\n",
    "list_2=[\"Garvit\",\"Taneja\",26, 5.9, True, [\"Cisco\", \"Samsung\"]]\n",
    "print(id(list_1),id(list_2))"
   ]
  },
  {
   "cell_type": "code",
   "execution_count": null,
   "id": "94bf3cee",
   "metadata": {},
   "outputs": [],
   "source": [
    "b=list_1[-1]\n",
    "b[0]\n",
    "list_1[-1][0]"
   ]
  },
  {
   "cell_type": "code",
   "execution_count": 16,
   "id": "b6333ca0",
   "metadata": {},
   "outputs": [],
   "source": [
    "list_1=[\"Garvit\",\"Garvit\"]"
   ]
  },
  {
   "cell_type": "code",
   "execution_count": 17,
   "id": "4778d227",
   "metadata": {},
   "outputs": [
    {
     "data": {
      "text/plain": [
       "'Garvit'"
      ]
     },
     "execution_count": 17,
     "metadata": {},
     "output_type": "execute_result"
    }
   ],
   "source": [
    "list_1[0]"
   ]
  },
  {
   "cell_type": "code",
   "execution_count": 18,
   "id": "d4256b72",
   "metadata": {},
   "outputs": [
    {
     "data": {
      "text/plain": [
       "'Garvit'"
      ]
     },
     "execution_count": 18,
     "metadata": {},
     "output_type": "execute_result"
    }
   ],
   "source": [
    "list_1[1]"
   ]
  },
  {
   "cell_type": "markdown",
   "id": "48438c23",
   "metadata": {},
   "source": [
    "# Creation of list"
   ]
  },
  {
   "cell_type": "code",
   "execution_count": null,
   "id": "d390e19a",
   "metadata": {},
   "outputs": [],
   "source": [
    "#1) when the values are known in advance\n",
    "list1=[1,2,3,4]\n",
    "\n",
    "# 2) using the list function\n",
    "list_from_string=list(\"Garvit\")\n",
    "\n",
    "# 3) take input from user\n",
    "list_user_defined=input(\"Enter the list\")\n",
    "\n",
    "# 4) list comprehension\n",
    "# [variable for variable in (iterable)]\n",
    "# [i for i in iterable if (condition)]"
   ]
  },
  {
   "cell_type": "code",
   "execution_count": 19,
   "id": "7710fbb8",
   "metadata": {},
   "outputs": [],
   "source": [
    "list_from_string=list(\"Garvit\")"
   ]
  },
  {
   "cell_type": "code",
   "execution_count": 20,
   "id": "1ba5045a",
   "metadata": {},
   "outputs": [
    {
     "name": "stdout",
     "output_type": "stream",
     "text": [
      "['G', 'a', 'r', 'v', 'i', 't'] <class 'list'>\n"
     ]
    }
   ],
   "source": [
    "print(list_from_string,type(list_from_string))"
   ]
  },
  {
   "cell_type": "code",
   "execution_count": 21,
   "id": "8de679a0",
   "metadata": {},
   "outputs": [],
   "source": [
    "list_from_string=list(\"Garvit Taneja\")"
   ]
  },
  {
   "cell_type": "code",
   "execution_count": 22,
   "id": "dae39250",
   "metadata": {},
   "outputs": [
    {
     "name": "stdout",
     "output_type": "stream",
     "text": [
      "['G', 'a', 'r', 'v', 'i', 't', ' ', 'T', 'a', 'n', 'e', 'j', 'a'] <class 'list'>\n"
     ]
    }
   ],
   "source": [
    "print(list_from_string,type(list_from_string))"
   ]
  },
  {
   "cell_type": "code",
   "execution_count": 23,
   "id": "f6160e97",
   "metadata": {},
   "outputs": [],
   "source": [
    "list_from_typle=list((1,2,3,4))"
   ]
  },
  {
   "cell_type": "code",
   "execution_count": 24,
   "id": "a2a56ff6",
   "metadata": {},
   "outputs": [
    {
     "name": "stdout",
     "output_type": "stream",
     "text": [
      "[1, 2, 3, 4] <class 'list'>\n"
     ]
    }
   ],
   "source": [
    "print(list_from_typle,type(list_from_typle))"
   ]
  },
  {
   "cell_type": "code",
   "execution_count": 25,
   "id": "a455a808",
   "metadata": {},
   "outputs": [],
   "source": [
    "list_from_dict=list({\"Name\":\"Garvit\", \"Age\":40})"
   ]
  },
  {
   "cell_type": "code",
   "execution_count": 26,
   "id": "241c57ea",
   "metadata": {},
   "outputs": [
    {
     "name": "stdout",
     "output_type": "stream",
     "text": [
      "['Name', 'Age']\n"
     ]
    }
   ],
   "source": [
    "print(list_from_dict)"
   ]
  },
  {
   "cell_type": "code",
   "execution_count": 27,
   "id": "b5632a2d",
   "metadata": {},
   "outputs": [
    {
     "name": "stdout",
     "output_type": "stream",
     "text": [
      "Enter the list[1,2,3,4]\n"
     ]
    }
   ],
   "source": [
    "list_user_defined=input(\"Enter the list\")"
   ]
  },
  {
   "cell_type": "code",
   "execution_count": 28,
   "id": "d03a1c22",
   "metadata": {},
   "outputs": [
    {
     "name": "stdout",
     "output_type": "stream",
     "text": [
      "Enter the list[1,2,3,4]\n"
     ]
    }
   ],
   "source": [
    "list_user_defined=list(input(\"Enter the list\"))"
   ]
  },
  {
   "cell_type": "code",
   "execution_count": 29,
   "id": "bbcfc321",
   "metadata": {},
   "outputs": [
    {
     "name": "stdout",
     "output_type": "stream",
     "text": [
      "['[', '1', ',', '2', ',', '3', ',', '4', ']']\n"
     ]
    }
   ],
   "source": [
    "print(list_user_defined)"
   ]
  },
  {
   "cell_type": "code",
   "execution_count": 30,
   "id": "73cce1f8",
   "metadata": {},
   "outputs": [
    {
     "name": "stdout",
     "output_type": "stream",
     "text": [
      "Enter the list[1,2,3,4]\n"
     ]
    }
   ],
   "source": [
    "list_user_defined=eval(input(\"Enter the list\"))"
   ]
  },
  {
   "cell_type": "code",
   "execution_count": 31,
   "id": "ce3a5d3a",
   "metadata": {},
   "outputs": [
    {
     "name": "stdout",
     "output_type": "stream",
     "text": [
      "[1, 2, 3, 4]\n"
     ]
    }
   ],
   "source": [
    "print(list_user_defined)"
   ]
  },
  {
   "cell_type": "code",
   "execution_count": 32,
   "id": "d22edf5d",
   "metadata": {},
   "outputs": [
    {
     "name": "stdout",
     "output_type": "stream",
     "text": [
      "<class 'int'>\n"
     ]
    }
   ],
   "source": [
    "print(type(list_user_defined[0]))"
   ]
  },
  {
   "cell_type": "code",
   "execution_count": null,
   "id": "01953ab6",
   "metadata": {},
   "outputs": [],
   "source": [
    "\"[1,'a',3,'b']\""
   ]
  },
  {
   "cell_type": "code",
   "execution_count": null,
   "id": "b116029f",
   "metadata": {},
   "outputs": [],
   "source": [
    "list(\"[1,2,3,4]\")=>['[','1'....]\n",
    "eval(\"[1,2,3,4]\")=>[1,2,3,4]\n",
    "\n",
    "print(\"a\")\n",
    "print(a)\n",
    "[1,a,3,b]"
   ]
  },
  {
   "cell_type": "code",
   "execution_count": null,
   "id": "a0c84454",
   "metadata": {},
   "outputs": [],
   "source": [
    "list(\"[1,'a',3,'b']\")=['[','1',',',\"'\"]\n",
    "eval(\"[1,'a',3,'b']\")=[1,'a',3,'b']"
   ]
  },
  {
   "cell_type": "code",
   "execution_count": null,
   "id": "197fb39f",
   "metadata": {},
   "outputs": [],
   "source": [
    "list((1,2,3,4))=[1,2,3,4]"
   ]
  },
  {
   "cell_type": "code",
   "execution_count": 35,
   "id": "f19897d9",
   "metadata": {},
   "outputs": [],
   "source": [
    "list_from_comp=[i for i in range(1,11)]\n",
    "list_from_comp_squares=[i*i for i in range(1,11)]"
   ]
  },
  {
   "cell_type": "code",
   "execution_count": 34,
   "id": "1ac3a124",
   "metadata": {},
   "outputs": [
    {
     "name": "stdout",
     "output_type": "stream",
     "text": [
      "[1, 2, 3, 4, 5, 6, 7, 8, 9, 10]\n"
     ]
    }
   ],
   "source": [
    "print(list_from_comp)"
   ]
  },
  {
   "cell_type": "code",
   "execution_count": 36,
   "id": "935a305f",
   "metadata": {},
   "outputs": [
    {
     "name": "stdout",
     "output_type": "stream",
     "text": [
      "[1, 4, 9, 16, 25, 36, 49, 64, 81, 100]\n"
     ]
    }
   ],
   "source": [
    "print(list_from_comp_squares)"
   ]
  },
  {
   "cell_type": "code",
   "execution_count": 38,
   "id": "34afb81d",
   "metadata": {},
   "outputs": [
    {
     "name": "stdout",
     "output_type": "stream",
     "text": [
      "[]\n",
      "[1]\n"
     ]
    }
   ],
   "source": [
    "a=[]\n",
    "print(a)\n",
    "a=a+[1]\n",
    "print(a)\n"
   ]
  },
  {
   "cell_type": "code",
   "execution_count": null,
   "id": "6e8e51ec",
   "metadata": {},
   "outputs": [],
   "source": []
  },
  {
   "cell_type": "code",
   "execution_count": 40,
   "id": "d56bf61b",
   "metadata": {},
   "outputs": [
    {
     "name": "stdout",
     "output_type": "stream",
     "text": [
      "[1, 3, 5, 7, 9]\n"
     ]
    }
   ],
   "source": [
    "ans=[]\n",
    "for i in range(1,10):\n",
    "    if(i%2==1):\n",
    "        ans=ans+[i]\n",
    "print(ans)"
   ]
  },
  {
   "cell_type": "code",
   "execution_count": 45,
   "id": "87251164",
   "metadata": {},
   "outputs": [
    {
     "name": "stdout",
     "output_type": "stream",
     "text": [
      "[1, 3, 5, 7, 9]\n"
     ]
    }
   ],
   "source": [
    "# [i for i in iterable if (condition)]\n",
    "ans=[i for i in range(1,11) if i%2==1]\n",
    "print(ans)"
   ]
  },
  {
   "cell_type": "code",
   "execution_count": null,
   "id": "4e0d3563",
   "metadata": {},
   "outputs": [],
   "source": [
    "[1,4,3,16,5]=>\n",
    "at ith index if i is even return i+1\n",
    "else return (i+1)**2"
   ]
  },
  {
   "cell_type": "code",
   "execution_count": 1,
   "id": "9493480b",
   "metadata": {},
   "outputs": [
    {
     "name": "stdout",
     "output_type": "stream",
     "text": [
      "[1, 4, 3, 16, 5, 36, 7, 64, 9, 100]\n"
     ]
    }
   ],
   "source": [
    "ans=[]\n",
    "for i in range(1,11):\n",
    "    if(i%2==1):\n",
    "        ans=ans+[i]\n",
    "    else:\n",
    "        ans=ans+[i*i]\n",
    "print(ans)\n",
    "    "
   ]
  },
  {
   "cell_type": "code",
   "execution_count": 2,
   "id": "97815231",
   "metadata": {},
   "outputs": [
    {
     "name": "stdout",
     "output_type": "stream",
     "text": [
      "[1, 4, 3, 16, 5, 36, 7, 64, 9, 100]\n"
     ]
    }
   ],
   "source": [
    "ans=[i if i%2==1 else i*i for i in range(1,11)]\n",
    "print(ans)"
   ]
  },
  {
   "cell_type": "code",
   "execution_count": 43,
   "id": "e3b34b48",
   "metadata": {},
   "outputs": [
    {
     "name": "stdout",
     "output_type": "stream",
     "text": [
      "[1, 4, 3, 16, 5, 36, 7, 64, 9, 100]\n"
     ]
    }
   ],
   "source": [
    "print(ans)"
   ]
  },
  {
   "cell_type": "markdown",
   "id": "3d6ec428",
   "metadata": {},
   "source": [
    "# Operations"
   ]
  },
  {
   "cell_type": "code",
   "execution_count": 48,
   "id": "685d1c1e",
   "metadata": {},
   "outputs": [
    {
     "name": "stdout",
     "output_type": "stream",
     "text": [
      "1\n",
      "[1, 2, 3, 4, 5, 6]\n"
     ]
    }
   ],
   "source": [
    "# Indexing\n",
    "my_list=[1,2,3,4,[1,2,3,4,5,6]]\n",
    "print(my_list[0])\n",
    "print(my_list[-1])"
   ]
  },
  {
   "cell_type": "code",
   "execution_count": 49,
   "id": "f2a214d7",
   "metadata": {},
   "outputs": [
    {
     "name": "stdout",
     "output_type": "stream",
     "text": [
      "[1, 3]\n"
     ]
    }
   ],
   "source": [
    "# Slicing\n",
    "# my_list[start:end:step]\n",
    "print(my_list[0:4:2])"
   ]
  },
  {
   "cell_type": "code",
   "execution_count": 51,
   "id": "c6ae3e5e",
   "metadata": {},
   "outputs": [
    {
     "name": "stdout",
     "output_type": "stream",
     "text": [
      "[1, 3, [1, 2, 3, 4, 5, 6]]\n"
     ]
    }
   ],
   "source": [
    "print(my_list[::2])"
   ]
  },
  {
   "cell_type": "code",
   "execution_count": 52,
   "id": "995ce6a4",
   "metadata": {},
   "outputs": [
    {
     "name": "stdout",
     "output_type": "stream",
     "text": [
      "[1, 2, 3, 4, [1, 2, 3, 4, 5, 6], 1, 2, 3, 4, [1, 2, 3, 4, 5, 6], 1, 2, 3, 4, [1, 2, 3, 4, 5, 6]]\n"
     ]
    }
   ],
   "source": [
    "#repetition\n",
    "print(my_list*3)"
   ]
  },
  {
   "cell_type": "markdown",
   "id": "c38ad86f",
   "metadata": {},
   "source": [
    "# list functions"
   ]
  },
  {
   "cell_type": "code",
   "execution_count": 53,
   "id": "f4fe01e5",
   "metadata": {},
   "outputs": [
    {
     "name": "stdout",
     "output_type": "stream",
     "text": [
      "['__add__', '__class__', '__class_getitem__', '__contains__', '__delattr__', '__delitem__', '__dir__', '__doc__', '__eq__', '__format__', '__ge__', '__getattribute__', '__getitem__', '__gt__', '__hash__', '__iadd__', '__imul__', '__init__', '__init_subclass__', '__iter__', '__le__', '__len__', '__lt__', '__mul__', '__ne__', '__new__', '__reduce__', '__reduce_ex__', '__repr__', '__reversed__', '__rmul__', '__setattr__', '__setitem__', '__sizeof__', '__str__', '__subclasshook__', 'append', 'clear', 'copy', 'count', 'extend', 'index', 'insert', 'pop', 'remove', 'reverse', 'sort']\n"
     ]
    }
   ],
   "source": [
    "print(dir(list))"
   ]
  },
  {
   "cell_type": "code",
   "execution_count": null,
   "id": "e7fe60a0",
   "metadata": {},
   "outputs": [],
   "source": [
    "'', '', 'copy', '', '', '', '', '', '', '', ''"
   ]
  },
  {
   "cell_type": "code",
   "execution_count": 55,
   "id": "cc5e22c9",
   "metadata": {},
   "outputs": [
    {
     "name": "stdout",
     "output_type": "stream",
     "text": [
      "[1, 2, 3, 'Python'] 2195339035008\n",
      "[1, 2, 3, 'Python', 5] 2195339035008\n"
     ]
    }
   ],
   "source": [
    "# append\n",
    "my_list=[1,2,3,\"Python\"]\n",
    "print(my_list,id(my_list))\n",
    "my_list.append(5)\n",
    "print(my_list,id(my_list))"
   ]
  },
  {
   "cell_type": "code",
   "execution_count": 56,
   "id": "c8b0884a",
   "metadata": {},
   "outputs": [
    {
     "name": "stdout",
     "output_type": "stream",
     "text": [
      "[1, 2, 3, 'Python'] 2195339034752\n",
      "[1, 2, 3, 'Python', [5, 6, 7]] 2195339034752\n"
     ]
    }
   ],
   "source": [
    "my_list=[1,2,3,\"Python\"]\n",
    "print(my_list,id(my_list))\n",
    "my_list.append([5,6,7])\n",
    "print(my_list,id(my_list))"
   ]
  },
  {
   "cell_type": "code",
   "execution_count": 57,
   "id": "77bae42b",
   "metadata": {},
   "outputs": [
    {
     "name": "stdout",
     "output_type": "stream",
     "text": [
      "[1, 2, 3, 4] 2195338260736\n",
      "[1, 2, 3, 4, 5] 2195339011328\n"
     ]
    }
   ],
   "source": [
    "list_1=[1,2,3,4]\n",
    "print(list_1,id(list_1))\n",
    "list_1=list_1+[5]\n",
    "print(list_1,id(list_1))"
   ]
  },
  {
   "cell_type": "code",
   "execution_count": 58,
   "id": "b2654c22",
   "metadata": {},
   "outputs": [
    {
     "name": "stdout",
     "output_type": "stream",
     "text": [
      "[1, 2, 3, 4] 2195338269440\n",
      "[1, 2, 3, 4, 5] 2195338269440\n"
     ]
    }
   ],
   "source": [
    "list_1=[1,2,3,4]\n",
    "print(list_1,id(list_1))\n",
    "list_1+=[5]\n",
    "print(list_1,id(list_1))"
   ]
  },
  {
   "cell_type": "code",
   "execution_count": 60,
   "id": "755703a1",
   "metadata": {},
   "outputs": [],
   "source": [
    "my_list_team1=[\"Garvit\",\"Sunaina\",\"Himanshu\"]"
   ]
  },
  {
   "cell_type": "code",
   "execution_count": 61,
   "id": "3fd6080d",
   "metadata": {},
   "outputs": [],
   "source": [
    "#  clear\n",
    "my_list_team1.clear()"
   ]
  },
  {
   "cell_type": "code",
   "execution_count": 62,
   "id": "e39f486b",
   "metadata": {},
   "outputs": [
    {
     "name": "stdout",
     "output_type": "stream",
     "text": [
      "[]\n"
     ]
    }
   ],
   "source": [
    "print(my_list_team1)"
   ]
  },
  {
   "cell_type": "code",
   "execution_count": 65,
   "id": "a03b7505",
   "metadata": {},
   "outputs": [
    {
     "name": "stdout",
     "output_type": "stream",
     "text": [
      "[1, 2, 3, 4] 2195339828352\n",
      "[1, 2, 3, 4, 5] 2195339828352\n"
     ]
    }
   ],
   "source": [
    "# extend\n",
    "my_list=[1,2,3,4]\n",
    "print(my_list,id(my_list))\n",
    "my_list.extend([5])\n",
    "print(my_list,id(my_list))"
   ]
  },
  {
   "cell_type": "code",
   "execution_count": 66,
   "id": "b38c2cef",
   "metadata": {},
   "outputs": [
    {
     "name": "stdout",
     "output_type": "stream",
     "text": [
      "[1, 2, 3, 4] 2195339034752\n",
      "[1, 2, 3, 4, 5, 6, 7, 8, 9] 2195339034752\n"
     ]
    }
   ],
   "source": [
    "# extend\n",
    "my_list=[1,2,3,4]\n",
    "print(my_list,id(my_list))\n",
    "my_list.extend([5,6,7,8,9])\n",
    "print(my_list,id(my_list))"
   ]
  },
  {
   "cell_type": "code",
   "execution_count": 67,
   "id": "a902d29a",
   "metadata": {},
   "outputs": [
    {
     "name": "stdout",
     "output_type": "stream",
     "text": [
      "Help on method_descriptor:\n",
      "\n",
      "count(self, value, /)\n",
      "    Return number of occurrences of value.\n",
      "\n",
      "None\n"
     ]
    }
   ],
   "source": [
    "# count\n",
    "print(help(list.count))"
   ]
  },
  {
   "cell_type": "code",
   "execution_count": 68,
   "id": "b7ebfa61",
   "metadata": {},
   "outputs": [
    {
     "data": {
      "text/plain": [
       "1"
      ]
     },
     "execution_count": 68,
     "metadata": {},
     "output_type": "execute_result"
    }
   ],
   "source": [
    "my_list.count(8)"
   ]
  },
  {
   "cell_type": "code",
   "execution_count": 69,
   "id": "84d4ac3c",
   "metadata": {},
   "outputs": [
    {
     "data": {
      "text/plain": [
       "0"
      ]
     },
     "execution_count": 69,
     "metadata": {},
     "output_type": "execute_result"
    }
   ],
   "source": [
    "my_list.count(100)"
   ]
  },
  {
   "cell_type": "code",
   "execution_count": 71,
   "id": "6ffbbb19",
   "metadata": {},
   "outputs": [
    {
     "name": "stdout",
     "output_type": "stream",
     "text": [
      "2\n"
     ]
    }
   ],
   "source": [
    "my_list=[1,2,3,4,1,2,3,3,3,3,3]\n",
    "print(my_list.count(2))"
   ]
  },
  {
   "cell_type": "code",
   "execution_count": 72,
   "id": "417eca04",
   "metadata": {},
   "outputs": [
    {
     "name": "stdout",
     "output_type": "stream",
     "text": [
      "Help on method_descriptor:\n",
      "\n",
      "index(self, value, start=0, stop=9223372036854775807, /)\n",
      "    Return first index of value.\n",
      "    \n",
      "    Raises ValueError if the value is not present.\n",
      "\n",
      "None\n"
     ]
    }
   ],
   "source": [
    "print(help(list.index))"
   ]
  },
  {
   "cell_type": "code",
   "execution_count": 73,
   "id": "be7c5004",
   "metadata": {},
   "outputs": [
    {
     "data": {
      "text/plain": [
       "2"
      ]
     },
     "execution_count": 73,
     "metadata": {},
     "output_type": "execute_result"
    }
   ],
   "source": [
    "#This function returns the index of this value not the value at this index\n",
    "my_list.index(3)"
   ]
  },
  {
   "cell_type": "code",
   "execution_count": 74,
   "id": "740a6766",
   "metadata": {},
   "outputs": [
    {
     "ename": "ValueError",
     "evalue": "-3 is not in list",
     "output_type": "error",
     "traceback": [
      "\u001b[1;31m---------------------------------------------------------------------------\u001b[0m",
      "\u001b[1;31mValueError\u001b[0m                                Traceback (most recent call last)",
      "\u001b[1;32m~\\AppData\\Local\\Temp/ipykernel_25092/3924980846.py\u001b[0m in \u001b[0;36m<module>\u001b[1;34m\u001b[0m\n\u001b[1;32m----> 1\u001b[1;33m \u001b[0mmy_list\u001b[0m\u001b[1;33m.\u001b[0m\u001b[0mindex\u001b[0m\u001b[1;33m(\u001b[0m\u001b[1;33m-\u001b[0m\u001b[1;36m3\u001b[0m\u001b[1;33m)\u001b[0m\u001b[1;33m\u001b[0m\u001b[1;33m\u001b[0m\u001b[0m\n\u001b[0m",
      "\u001b[1;31mValueError\u001b[0m: -3 is not in list"
     ]
    }
   ],
   "source": [
    "my_list.index(-3)"
   ]
  },
  {
   "cell_type": "code",
   "execution_count": 76,
   "id": "4359ff70",
   "metadata": {},
   "outputs": [
    {
     "data": {
      "text/plain": [
       "6"
      ]
     },
     "execution_count": 76,
     "metadata": {},
     "output_type": "execute_result"
    }
   ],
   "source": [
    "my_list.index(3,3)"
   ]
  },
  {
   "cell_type": "code",
   "execution_count": 77,
   "id": "c1236dd9",
   "metadata": {},
   "outputs": [
    {
     "ename": "ValueError",
     "evalue": "3 is not in list",
     "output_type": "error",
     "traceback": [
      "\u001b[1;31m---------------------------------------------------------------------------\u001b[0m",
      "\u001b[1;31mValueError\u001b[0m                                Traceback (most recent call last)",
      "\u001b[1;32m~\\AppData\\Local\\Temp/ipykernel_25092/741681423.py\u001b[0m in \u001b[0;36m<module>\u001b[1;34m\u001b[0m\n\u001b[1;32m----> 1\u001b[1;33m \u001b[0mmy_list\u001b[0m\u001b[1;33m.\u001b[0m\u001b[0mindex\u001b[0m\u001b[1;33m(\u001b[0m\u001b[1;36m3\u001b[0m\u001b[1;33m,\u001b[0m\u001b[1;36m3\u001b[0m\u001b[1;33m,\u001b[0m\u001b[1;36m4\u001b[0m\u001b[1;33m)\u001b[0m\u001b[1;33m\u001b[0m\u001b[1;33m\u001b[0m\u001b[0m\n\u001b[0m",
      "\u001b[1;31mValueError\u001b[0m: 3 is not in list"
     ]
    }
   ],
   "source": [
    "my_list.index(3,3,4)"
   ]
  },
  {
   "cell_type": "code",
   "execution_count": 78,
   "id": "7aebe8e2",
   "metadata": {},
   "outputs": [
    {
     "name": "stdout",
     "output_type": "stream",
     "text": [
      "Help on method_descriptor:\n",
      "\n",
      "insert(self, index, object, /)\n",
      "    Insert object before index.\n",
      "\n",
      "None\n"
     ]
    }
   ],
   "source": [
    "print(help(list.insert))"
   ]
  },
  {
   "cell_type": "code",
   "execution_count": 80,
   "id": "999b7665",
   "metadata": {},
   "outputs": [
    {
     "name": "stdout",
     "output_type": "stream",
     "text": [
      "[1, 2, '100', 3, 4]\n"
     ]
    }
   ],
   "source": [
    "my_list=[1,2,3,4]\n",
    "# [1,2,100,3,4]\n",
    "my_list.insert(2,\"100\")\n",
    "print(my_list)"
   ]
  },
  {
   "cell_type": "code",
   "execution_count": 81,
   "id": "ed21aae4",
   "metadata": {},
   "outputs": [
    {
     "name": "stdout",
     "output_type": "stream",
     "text": [
      "Help on method_descriptor:\n",
      "\n",
      "pop(self, index=-1, /)\n",
      "    Remove and return item at index (default last).\n",
      "    \n",
      "    Raises IndexError if list is empty or index is out of range.\n",
      "\n",
      "None\n"
     ]
    }
   ],
   "source": [
    "print(help(list.pop))"
   ]
  },
  {
   "cell_type": "code",
   "execution_count": 82,
   "id": "2600d45c",
   "metadata": {},
   "outputs": [
    {
     "name": "stdout",
     "output_type": "stream",
     "text": [
      "[1, 2, 3]\n"
     ]
    }
   ],
   "source": [
    "my_list=[1,2,3,4]\n",
    "my_list.pop()\n",
    "print(my_list)"
   ]
  },
  {
   "cell_type": "code",
   "execution_count": 84,
   "id": "cca12eb3",
   "metadata": {},
   "outputs": [
    {
     "name": "stdout",
     "output_type": "stream",
     "text": [
      "2\n",
      "[1, 3, 4]\n"
     ]
    }
   ],
   "source": [
    "my_list=[1,2,3,4]\n",
    "print(my_list.pop(1))\n",
    "print(my_list)"
   ]
  },
  {
   "cell_type": "code",
   "execution_count": 85,
   "id": "928bc5dd",
   "metadata": {},
   "outputs": [
    {
     "ename": "IndexError",
     "evalue": "pop index out of range",
     "output_type": "error",
     "traceback": [
      "\u001b[1;31m---------------------------------------------------------------------------\u001b[0m",
      "\u001b[1;31mIndexError\u001b[0m                                Traceback (most recent call last)",
      "\u001b[1;32m~\\AppData\\Local\\Temp/ipykernel_25092/3441425998.py\u001b[0m in \u001b[0;36m<module>\u001b[1;34m\u001b[0m\n\u001b[1;32m----> 1\u001b[1;33m \u001b[0mmy_list\u001b[0m\u001b[1;33m.\u001b[0m\u001b[0mpop\u001b[0m\u001b[1;33m(\u001b[0m\u001b[1;36m10\u001b[0m\u001b[1;33m)\u001b[0m\u001b[1;33m\u001b[0m\u001b[1;33m\u001b[0m\u001b[0m\n\u001b[0m",
      "\u001b[1;31mIndexError\u001b[0m: pop index out of range"
     ]
    }
   ],
   "source": [
    "my_list.pop(10)"
   ]
  },
  {
   "cell_type": "code",
   "execution_count": 86,
   "id": "bcd79356",
   "metadata": {},
   "outputs": [],
   "source": [
    "my_list.clear()"
   ]
  },
  {
   "cell_type": "code",
   "execution_count": 87,
   "id": "607c2dd7",
   "metadata": {},
   "outputs": [
    {
     "ename": "IndexError",
     "evalue": "pop from empty list",
     "output_type": "error",
     "traceback": [
      "\u001b[1;31m---------------------------------------------------------------------------\u001b[0m",
      "\u001b[1;31mIndexError\u001b[0m                                Traceback (most recent call last)",
      "\u001b[1;32m~\\AppData\\Local\\Temp/ipykernel_25092/347541628.py\u001b[0m in \u001b[0;36m<module>\u001b[1;34m\u001b[0m\n\u001b[1;32m----> 1\u001b[1;33m \u001b[0mmy_list\u001b[0m\u001b[1;33m.\u001b[0m\u001b[0mpop\u001b[0m\u001b[1;33m(\u001b[0m\u001b[1;36m0\u001b[0m\u001b[1;33m)\u001b[0m\u001b[1;33m\u001b[0m\u001b[1;33m\u001b[0m\u001b[0m\n\u001b[0m",
      "\u001b[1;31mIndexError\u001b[0m: pop from empty list"
     ]
    }
   ],
   "source": [
    "my_list.pop(0)"
   ]
  },
  {
   "cell_type": "code",
   "execution_count": 88,
   "id": "2fe4c425",
   "metadata": {},
   "outputs": [
    {
     "name": "stdout",
     "output_type": "stream",
     "text": [
      "Help on method_descriptor:\n",
      "\n",
      "remove(self, value, /)\n",
      "    Remove first occurrence of value.\n",
      "    \n",
      "    Raises ValueError if the value is not present.\n",
      "\n",
      "None\n"
     ]
    }
   ],
   "source": [
    "# remove\n",
    "print(help(list.remove))"
   ]
  },
  {
   "cell_type": "code",
   "execution_count": 89,
   "id": "05d33034",
   "metadata": {},
   "outputs": [
    {
     "name": "stdout",
     "output_type": "stream",
     "text": [
      "[]\n"
     ]
    }
   ],
   "source": [
    "print(my_list)"
   ]
  },
  {
   "cell_type": "code",
   "execution_count": 90,
   "id": "85c840eb",
   "metadata": {},
   "outputs": [],
   "source": [
    "my_list=[1,2,3,4]"
   ]
  },
  {
   "cell_type": "code",
   "execution_count": 91,
   "id": "5cf1f759",
   "metadata": {},
   "outputs": [],
   "source": [
    "my_list.remove(2)"
   ]
  },
  {
   "cell_type": "code",
   "execution_count": 92,
   "id": "e9b62799",
   "metadata": {},
   "outputs": [
    {
     "name": "stdout",
     "output_type": "stream",
     "text": [
      "[1, 3, 4]\n"
     ]
    }
   ],
   "source": [
    "print(my_list)"
   ]
  },
  {
   "cell_type": "code",
   "execution_count": 93,
   "id": "b990292d",
   "metadata": {},
   "outputs": [
    {
     "name": "stdout",
     "output_type": "stream",
     "text": [
      "[1, 3, 4, 2]\n"
     ]
    }
   ],
   "source": [
    "my_list=[1,2,3,4,2]\n",
    "my_list.remove(2)\n",
    "print(my_list)"
   ]
  },
  {
   "cell_type": "code",
   "execution_count": 94,
   "id": "557c96ca",
   "metadata": {},
   "outputs": [
    {
     "ename": "ValueError",
     "evalue": "list.remove(x): x not in list",
     "output_type": "error",
     "traceback": [
      "\u001b[1;31m---------------------------------------------------------------------------\u001b[0m",
      "\u001b[1;31mValueError\u001b[0m                                Traceback (most recent call last)",
      "\u001b[1;32m~\\AppData\\Local\\Temp/ipykernel_25092/2494825356.py\u001b[0m in \u001b[0;36m<module>\u001b[1;34m\u001b[0m\n\u001b[0;32m      1\u001b[0m \u001b[0mmy_list\u001b[0m\u001b[1;33m=\u001b[0m\u001b[1;33m[\u001b[0m\u001b[1;36m1\u001b[0m\u001b[1;33m,\u001b[0m\u001b[1;36m2\u001b[0m\u001b[1;33m,\u001b[0m\u001b[1;36m3\u001b[0m\u001b[1;33m,\u001b[0m\u001b[1;36m4\u001b[0m\u001b[1;33m,\u001b[0m\u001b[1;36m2\u001b[0m\u001b[1;33m]\u001b[0m\u001b[1;33m\u001b[0m\u001b[1;33m\u001b[0m\u001b[0m\n\u001b[1;32m----> 2\u001b[1;33m \u001b[0mmy_list\u001b[0m\u001b[1;33m.\u001b[0m\u001b[0mremove\u001b[0m\u001b[1;33m(\u001b[0m\u001b[1;36m5\u001b[0m\u001b[1;33m)\u001b[0m\u001b[1;33m\u001b[0m\u001b[1;33m\u001b[0m\u001b[0m\n\u001b[0m\u001b[0;32m      3\u001b[0m \u001b[0mprint\u001b[0m\u001b[1;33m(\u001b[0m\u001b[0mmy_list\u001b[0m\u001b[1;33m)\u001b[0m\u001b[1;33m\u001b[0m\u001b[1;33m\u001b[0m\u001b[0m\n",
      "\u001b[1;31mValueError\u001b[0m: list.remove(x): x not in list"
     ]
    }
   ],
   "source": [
    "my_list=[1,2,3,4,2]\n",
    "my_list.remove(5)\n",
    "print(my_list)"
   ]
  },
  {
   "cell_type": "code",
   "execution_count": 95,
   "id": "22af1db1",
   "metadata": {},
   "outputs": [
    {
     "name": "stdout",
     "output_type": "stream",
     "text": [
      "[1, 2, 3, 4, 7]\n"
     ]
    }
   ],
   "source": [
    "# [3,1,4,7,2]\n",
    "my_list=[3,1,4,7,2]\n",
    "my_list.sort()\n",
    "print(my_list)"
   ]
  },
  {
   "cell_type": "code",
   "execution_count": 96,
   "id": "60608287",
   "metadata": {},
   "outputs": [
    {
     "name": "stdout",
     "output_type": "stream",
     "text": [
      "Help on method_descriptor:\n",
      "\n",
      "sort(self, /, *, key=None, reverse=False)\n",
      "    Sort the list in ascending order and return None.\n",
      "    \n",
      "    The sort is in-place (i.e. the list itself is modified) and stable (i.e. the\n",
      "    order of two equal elements is maintained).\n",
      "    \n",
      "    If a key function is given, apply it once to each list item and sort them,\n",
      "    ascending or descending, according to their function values.\n",
      "    \n",
      "    The reverse flag can be set to sort in descending order.\n",
      "\n",
      "None\n"
     ]
    }
   ],
   "source": [
    "print(help(list.sort))"
   ]
  },
  {
   "cell_type": "code",
   "execution_count": 97,
   "id": "2323c514",
   "metadata": {},
   "outputs": [
    {
     "name": "stdout",
     "output_type": "stream",
     "text": [
      "[7, 4, 3, 2, 1]\n"
     ]
    }
   ],
   "source": [
    "my_list=[3,1,4,7,2]\n",
    "my_list.sort(reverse=True)\n",
    "print(my_list)"
   ]
  },
  {
   "cell_type": "code",
   "execution_count": 98,
   "id": "3715e41a",
   "metadata": {},
   "outputs": [
    {
     "name": "stdout",
     "output_type": "stream",
     "text": [
      "Help on method_descriptor:\n",
      "\n",
      "reverse(self, /)\n",
      "    Reverse *IN PLACE*.\n",
      "\n",
      "None\n"
     ]
    }
   ],
   "source": [
    "# reverse\n",
    "print(help(list.reverse))"
   ]
  },
  {
   "cell_type": "code",
   "execution_count": 101,
   "id": "30d896f5",
   "metadata": {},
   "outputs": [
    {
     "name": "stdout",
     "output_type": "stream",
     "text": [
      "[4, 3, 2, 1]\n"
     ]
    }
   ],
   "source": [
    "a=[1,2,3,4]\n",
    "\n",
    "# [4,3,2,1]\n",
    "\n",
    "ans=a[::-1]\n",
    "print(ans)"
   ]
  },
  {
   "cell_type": "code",
   "execution_count": 1,
   "id": "e0710722",
   "metadata": {},
   "outputs": [
    {
     "name": "stdout",
     "output_type": "stream",
     "text": [
      "140258201813184\n",
      "[4, 3, 2, 1] 140258201813184\n"
     ]
    }
   ],
   "source": [
    "a=[1,2,3,4]\n",
    "print(id(a))\n",
    "a.reverse()\n",
    "print(a,id(a))"
   ]
  },
  {
   "cell_type": "code",
   "execution_count": 104,
   "id": "03e73bbf",
   "metadata": {},
   "outputs": [
    {
     "name": "stdout",
     "output_type": "stream",
     "text": [
      "2195339887936\n",
      "2195339034752\n"
     ]
    }
   ],
   "source": [
    "print(id(a))\n",
    "a=a[::-1]\n",
    "print(id(ans))"
   ]
  },
  {
   "cell_type": "code",
   "execution_count": 105,
   "id": "10b8f339",
   "metadata": {},
   "outputs": [
    {
     "name": "stdout",
     "output_type": "stream",
     "text": [
      "[4, 3, 2, 1]\n"
     ]
    }
   ],
   "source": [
    "ans=[]\n",
    "\n",
    "for i in range(len(a)-1,-1,-1):\n",
    "    ans=ans+[a[i]]\n",
    "print(ans)"
   ]
  },
  {
   "cell_type": "code",
   "execution_count": null,
   "id": "11593d4e",
   "metadata": {},
   "outputs": [],
   "source": []
  }
 ],
 "metadata": {
  "kernelspec": {
   "display_name": "Python 3 (ipykernel)",
   "language": "python",
   "name": "python3"
  },
  "language_info": {
   "codemirror_mode": {
    "name": "ipython",
    "version": 3
   },
   "file_extension": ".py",
   "mimetype": "text/x-python",
   "name": "python",
   "nbconvert_exporter": "python",
   "pygments_lexer": "ipython3",
   "version": "3.9.7"
  }
 },
 "nbformat": 4,
 "nbformat_minor": 5
}
