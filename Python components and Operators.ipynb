{
 "cells": [
  {
   "cell_type": "code",
   "execution_count": 6,
   "id": "5e69d063",
   "metadata": {},
   "outputs": [
    {
     "name": "stdout",
     "output_type": "stream",
     "text": [
      "2406448196816\n",
      "2406448197456\n",
      "2406448197456\n"
     ]
    }
   ],
   "source": [
    "a=20\n",
    "b=30\n",
    "print(id(b))\n",
    "b=a+b\n",
    "c=50\n",
    "print(id(b))\n",
    "print(id(c))"
   ]
  },
  {
   "cell_type": "markdown",
   "id": "b0e49381",
   "metadata": {},
   "source": [
    "# output function"
   ]
  },
  {
   "cell_type": "code",
   "execution_count": null,
   "id": "a4ffb4c0",
   "metadata": {},
   "outputs": [],
   "source": [
    "In python, anything between 'aaaa',\"aaa\",'''aaa''',\"\"\"aaaa\"\"\"\n",
    "1) we have multiple ways to tell python it is a text so that we can include both ' and \" in out text\n",
    "2) we need triple quot to make multi line text"
   ]
  },
  {
   "cell_type": "code",
   "execution_count": 11,
   "id": "01541720",
   "metadata": {},
   "outputs": [
    {
     "name": "stdout",
     "output_type": "stream",
     "text": [
      "Garvit's class\n"
     ]
    }
   ],
   "source": [
    "print(\"Garvit's class\")"
   ]
  },
  {
   "cell_type": "code",
   "execution_count": 13,
   "id": "45df126d",
   "metadata": {},
   "outputs": [
    {
     "name": "stdout",
     "output_type": "stream",
     "text": [
      "Garvit's friend said \"He is not coming to the party.\"\n"
     ]
    }
   ],
   "source": [
    "print('''Garvit's friend said \"He is not coming to the party.\"''')"
   ]
  },
  {
   "cell_type": "code",
   "execution_count": 16,
   "id": "09deb9c8",
   "metadata": {},
   "outputs": [
    {
     "name": "stdout",
     "output_type": "stream",
     "text": [
      "1 \n",
      "2\n",
      "3\n"
     ]
    }
   ],
   "source": [
    "print('''1 \n",
    "2\n",
    "3''')"
   ]
  },
  {
   "cell_type": "code",
   "execution_count": 22,
   "id": "a490934f",
   "metadata": {},
   "outputs": [
    {
     "name": "stdout",
     "output_type": "stream",
     "text": [
      "Enter first number12\n",
      "Enter second number44\n",
      "sum of a and b is\n",
      "56\n"
     ]
    }
   ],
   "source": [
    "a=int(input(\"Enter first number\"))\n",
    "b=int(input(\"Enter second number\"))\n",
    "print(\"sum of a and b is\")\n",
    "print(a+b)"
   ]
  },
  {
   "cell_type": "markdown",
   "id": "c83a4004",
   "metadata": {},
   "source": [
    "# formatting"
   ]
  },
  {
   "cell_type": "code",
   "execution_count": 24,
   "id": "7b9d43fa",
   "metadata": {},
   "outputs": [
    {
     "name": "stdout",
     "output_type": "stream",
     "text": [
      "Enter first number45\n",
      "Enter second number33\n",
      "sum of 45 and 33 is\n",
      "78\n"
     ]
    }
   ],
   "source": [
    "a=int(input(\"Enter first number\"))\n",
    "b=int(input(\"Enter second number\"))\n",
    "print(f\"sum of {a} and {b} is\")\n",
    "print(a+b)"
   ]
  },
  {
   "cell_type": "code",
   "execution_count": 27,
   "id": "9230478a",
   "metadata": {},
   "outputs": [
    {
     "name": "stdout",
     "output_type": "stream",
     "text": [
      "1\n",
      " 2 \n",
      "3\n"
     ]
    }
   ],
   "source": [
    "print('''1\\n 2 \\n3''')\n",
    "\n",
    "\"\"\"1\n",
    "2\n",
    "3\n",
    "\"\"\"\n",
    "\n",
    "\"1\n",
    "2\n",
    "3\""
   ]
  },
  {
   "cell_type": "code",
   "execution_count": null,
   "id": "dbfe71e9",
   "metadata": {},
   "outputs": [],
   "source": [
    "\\n====> this is a new line character "
   ]
  },
  {
   "cell_type": "code",
   "execution_count": 33,
   "id": "e78187f1",
   "metadata": {},
   "outputs": [
    {
     "name": "stdout",
     "output_type": "stream",
     "text": [
      "C:\\Users\\gtane\\OneDrive\\Desktop\\Learnbay31st_March\n"
     ]
    }
   ],
   "source": [
    "print(r\"C:\\Users\\gtane\\OneDrive\\Desktop\\Learnbay31st_March\")"
   ]
  },
  {
   "cell_type": "code",
   "execution_count": null,
   "id": "0dbdf121",
   "metadata": {},
   "outputs": [],
   "source": [
    "\\t=====>adds a tab (8 spaces)"
   ]
  },
  {
   "cell_type": "code",
   "execution_count": 29,
   "id": "87ed9bc9",
   "metadata": {},
   "outputs": [
    {
     "name": "stdout",
     "output_type": "stream",
     "text": [
      "Garvit\tTaneja\n"
     ]
    }
   ],
   "source": [
    "print(\"Garvit\\tTaneja\")"
   ]
  },
  {
   "cell_type": "code",
   "execution_count": null,
   "id": "ac41bfc1",
   "metadata": {},
   "outputs": [],
   "source": [
    "Garvit\\tTaneja\n",
    "Garvit   Taneja"
   ]
  },
  {
   "cell_type": "code",
   "execution_count": 31,
   "id": "04ece7c1",
   "metadata": {},
   "outputs": [
    {
     "name": "stdout",
     "output_type": "stream",
     "text": [
      "Garvit\\\n",
      "Taneja\n"
     ]
    }
   ],
   "source": [
    "print(\"Garvit\\\\\\nTaneja\")"
   ]
  },
  {
   "cell_type": "code",
   "execution_count": 32,
   "id": "bcac0744",
   "metadata": {},
   "outputs": [
    {
     "name": "stdout",
     "output_type": "stream",
     "text": [
      "Garvit\\\\nTaneja\n"
     ]
    }
   ],
   "source": [
    "print(r\"Garvit\\\\nTaneja\")\n",
    "r->raw string/texts"
   ]
  },
  {
   "cell_type": "code",
   "execution_count": 34,
   "id": "3b5abe1a",
   "metadata": {},
   "outputs": [
    {
     "name": "stdout",
     "output_type": "stream",
     "text": [
      "10\n",
      "20\n"
     ]
    }
   ],
   "source": [
    "a=10\n",
    "b=20\n",
    "print(a)\n",
    "print(b)"
   ]
  },
  {
   "cell_type": "code",
   "execution_count": 36,
   "id": "807406df",
   "metadata": {},
   "outputs": [
    {
     "name": "stdout",
     "output_type": "stream",
     "text": [
      "10 20 30\n"
     ]
    }
   ],
   "source": [
    "a=10\n",
    "b=20\n",
    "c=30\n",
    "print(a,b,c)"
   ]
  },
  {
   "cell_type": "code",
   "execution_count": 40,
   "id": "c6d87058",
   "metadata": {},
   "outputs": [
    {
     "name": "stdout",
     "output_type": "stream",
     "text": [
      "10,20,30\n",
      "10,20,30\n"
     ]
    }
   ],
   "source": [
    "print(a,b,c,sep=\",\")\n",
    "print(f\"{a},{b},{c}\")"
   ]
  },
  {
   "cell_type": "code",
   "execution_count": 43,
   "id": "b2e60cdd",
   "metadata": {},
   "outputs": [
    {
     "name": "stdout",
     "output_type": "stream",
     "text": [
      "10,20\n"
     ]
    }
   ],
   "source": [
    "print(a,end=\",\")\n",
    "print(b)\n"
   ]
  },
  {
   "cell_type": "code",
   "execution_count": null,
   "id": "eb9fdb8b",
   "metadata": {},
   "outputs": [],
   "source": [
    "Learnbay \n",
    "    Learnbay\n",
    "        Learnbay\n",
    "    Learnbay\n",
    "Learnbay"
   ]
  },
  {
   "cell_type": "code",
   "execution_count": 44,
   "id": "eaed69a3",
   "metadata": {},
   "outputs": [
    {
     "name": "stdout",
     "output_type": "stream",
     "text": [
      "Learnbay\n",
      "    Learnbay\n",
      "        Learnbay\n",
      "    Learnbay\n",
      "Learnbay\n"
     ]
    }
   ],
   "source": [
    "print(\"Learnbay\")\n",
    "print(\"    Learnbay\")\n",
    "print(\"        Learnbay\")\n",
    "print(\"    Learnbay\")\n",
    "print(\"Learnbay\")"
   ]
  },
  {
   "cell_type": "code",
   "execution_count": 45,
   "id": "5838bcc4",
   "metadata": {},
   "outputs": [
    {
     "name": "stdout",
     "output_type": "stream",
     "text": [
      "Learnbay\n",
      "\tLearnbay\n",
      "\t\tLearnbay\n",
      "\tLearnbay\n",
      "Learnbay\n"
     ]
    }
   ],
   "source": [
    "print(\"Learnbay\")\n",
    "print(\"\\tLearnbay\")\n",
    "print(\"\\t\\tLearnbay\")\n",
    "print(\"\\tLearnbay\")\n",
    "print(\"Learnbay\")"
   ]
  },
  {
   "cell_type": "code",
   "execution_count": 46,
   "id": "56c590bf",
   "metadata": {},
   "outputs": [
    {
     "name": "stdout",
     "output_type": "stream",
     "text": [
      "Learnbay\n",
      "\tLearnbay\n",
      "\t\tLearnbay\n",
      "\tLearnbay\n",
      "Learnbay\n"
     ]
    }
   ],
   "source": [
    "print(\"Learnbay\\n\\tLearnbay\\n\\t\\tLearnbay\\n\\tLearnbay\\nLearnbay\")"
   ]
  },
  {
   "cell_type": "code",
   "execution_count": 48,
   "id": "0afc9af1",
   "metadata": {},
   "outputs": [
    {
     "name": "stdout",
     "output_type": "stream",
     "text": [
      "Python\n",
      "\tPython\n",
      "\t\tPython\n",
      "\tPython\n",
      "Python\n"
     ]
    }
   ],
   "source": [
    "a=\"Python\"\n",
    "print(f\"{a}\\n\\t{a}\\n\\t\\t{a}\\n\\t{a}\\n{a}\")"
   ]
  },
  {
   "cell_type": "markdown",
   "id": "7d199c4b",
   "metadata": {},
   "source": [
    "# Python components"
   ]
  },
  {
   "cell_type": "code",
   "execution_count": null,
   "id": "e6b3a61b",
   "metadata": {},
   "outputs": [],
   "source": [
    "1) Identifier: It is the name of function, class, constant, variable.\n",
    "    Rules:\n",
    "        Rules to define the name\n",
    "            1. Allowed characters - A-Z, a-z, 0-9, _\n",
    "            2. Not allowed charcrters - Special characters and space\n",
    "            3. Identifiers should not start with a number\n",
    "            4. Identifiers are case sensitive\n",
    "            5. Reserved words (keywords) can't be used\n",
    "        Recommendations\n",
    "            1. Reserved words (builtins) should not be used as an identifier\n",
    "            2. Constant name should have all upper case letters\n",
    "            3. Class name should use camelCaseNotation or PascalCaseNotation\n",
    "            4. Avoid writing any name starting and ending with __.\n",
    "2) Literals: Any value/object\n",
    "    integers: 0,-20,13,45\n",
    "    float: 2.3,13.00,-2.45\n",
    "    complex numbers= 10+20i,-10+20i,0,1i\n",
    "    bool: True, False\n",
    "    string: text\n",
    "    None: \n",
    "3) blocks and indentation\n",
    "4) comments\n",
    "    "
   ]
  },
  {
   "cell_type": "code",
   "execution_count": null,
   "id": "468e7745",
   "metadata": {},
   "outputs": [],
   "source": [
    "a=10\n",
    "b=\"function\""
   ]
  },
  {
   "cell_type": "code",
   "execution_count": 5,
   "id": "5dc1f66c",
   "metadata": {},
   "outputs": [
    {
     "ename": "SyntaxError",
     "evalue": "invalid syntax (Temp/ipykernel_22812/3729483078.py, line 1)",
     "output_type": "error",
     "traceback": [
      "\u001b[1;36m  File \u001b[1;32m\"C:\\Users\\gtane\\AppData\\Local\\Temp/ipykernel_22812/3729483078.py\"\u001b[1;36m, line \u001b[1;32m1\u001b[0m\n\u001b[1;33m    a b=20\u001b[0m\n\u001b[1;37m      ^\u001b[0m\n\u001b[1;31mSyntaxError\u001b[0m\u001b[1;31m:\u001b[0m invalid syntax\n"
     ]
    }
   ],
   "source": [
    "a b=20\n",
    "print(a b)"
   ]
  },
  {
   "cell_type": "code",
   "execution_count": 7,
   "id": "ec46578c",
   "metadata": {},
   "outputs": [
    {
     "ename": "SyntaxError",
     "evalue": "invalid syntax (Temp/ipykernel_22812/2269657630.py, line 1)",
     "output_type": "error",
     "traceback": [
      "\u001b[1;36m  File \u001b[1;32m\"C:\\Users\\gtane\\AppData\\Local\\Temp/ipykernel_22812/2269657630.py\"\u001b[1;36m, line \u001b[1;32m1\u001b[0m\n\u001b[1;33m    3person=\"Garvit\"\u001b[0m\n\u001b[1;37m     ^\u001b[0m\n\u001b[1;31mSyntaxError\u001b[0m\u001b[1;31m:\u001b[0m invalid syntax\n"
     ]
    }
   ],
   "source": [
    "3person=\"Garvit\""
   ]
  },
  {
   "cell_type": "code",
   "execution_count": 8,
   "id": "03e3a393",
   "metadata": {},
   "outputs": [
    {
     "name": "stdout",
     "output_type": "stream",
     "text": [
      "20\n",
      "23\n"
     ]
    }
   ],
   "source": [
    "a=20\n",
    "A=23\n",
    "print(a)\n",
    "print(A)"
   ]
  },
  {
   "cell_type": "code",
   "execution_count": null,
   "id": "5560aa15",
   "metadata": {},
   "outputs": [],
   "source": [
    "a=20\n",
    "a=23\n",
    "print(a)\n",
    "print(a)"
   ]
  },
  {
   "cell_type": "code",
   "execution_count": 3,
   "id": "56fad7d2",
   "metadata": {},
   "outputs": [],
   "source": [
    "area=3.14159*5*5"
   ]
  },
  {
   "cell_type": "code",
   "execution_count": 4,
   "id": "d6dfee3c",
   "metadata": {},
   "outputs": [
    {
     "name": "stdout",
     "output_type": "stream",
     "text": [
      "78.53975\n"
     ]
    }
   ],
   "source": [
    "print(area)"
   ]
  },
  {
   "cell_type": "code",
   "execution_count": 5,
   "id": "351b58ff",
   "metadata": {},
   "outputs": [],
   "source": [
    "area2=3.14159*2*2"
   ]
  },
  {
   "cell_type": "code",
   "execution_count": 6,
   "id": "ca958832",
   "metadata": {},
   "outputs": [
    {
     "name": "stdout",
     "output_type": "stream",
     "text": [
      "12.56636\n"
     ]
    }
   ],
   "source": [
    "print(area2)"
   ]
  },
  {
   "cell_type": "code",
   "execution_count": 7,
   "id": "5b9c6288",
   "metadata": {},
   "outputs": [
    {
     "name": "stdout",
     "output_type": "stream",
     "text": [
      "153.93791\n",
      "1661.90111\n"
     ]
    }
   ],
   "source": [
    "PI=3.14159\n",
    "area1=pi*7*7\n",
    "area2=pi*23*23\n",
    "print(area1)\n",
    "print(area2)"
   ]
  },
  {
   "cell_type": "code",
   "execution_count": null,
   "id": "c61f7b6a",
   "metadata": {},
   "outputs": [],
   "source": [
    "numberofstudents=30\n",
    "numberOfStudents=30 (camel case notation)\n",
    "NumberOfStudents=30 (pascal case notation)"
   ]
  },
  {
   "cell_type": "code",
   "execution_count": 8,
   "id": "14444339",
   "metadata": {},
   "outputs": [
    {
     "name": "stdout",
     "output_type": "stream",
     "text": [
      "['ArithmeticError', 'AssertionError', 'AttributeError', 'BaseException', 'BlockingIOError', 'BrokenPipeError', 'BufferError', 'BytesWarning', 'ChildProcessError', 'ConnectionAbortedError', 'ConnectionError', 'ConnectionRefusedError', 'ConnectionResetError', 'DeprecationWarning', 'EOFError', 'Ellipsis', 'EnvironmentError', 'Exception', 'False', 'FileExistsError', 'FileNotFoundError', 'FloatingPointError', 'FutureWarning', 'GeneratorExit', 'IOError', 'ImportError', 'ImportWarning', 'IndentationError', 'IndexError', 'InterruptedError', 'IsADirectoryError', 'KeyError', 'KeyboardInterrupt', 'LookupError', 'MemoryError', 'ModuleNotFoundError', 'NameError', 'None', 'NotADirectoryError', 'NotImplemented', 'NotImplementedError', 'OSError', 'OverflowError', 'PendingDeprecationWarning', 'PermissionError', 'ProcessLookupError', 'RecursionError', 'ReferenceError', 'ResourceWarning', 'RuntimeError', 'RuntimeWarning', 'StopAsyncIteration', 'StopIteration', 'SyntaxError', 'SyntaxWarning', 'SystemError', 'SystemExit', 'TabError', 'TimeoutError', 'True', 'TypeError', 'UnboundLocalError', 'UnicodeDecodeError', 'UnicodeEncodeError', 'UnicodeError', 'UnicodeTranslateError', 'UnicodeWarning', 'UserWarning', 'ValueError', 'Warning', 'WindowsError', 'ZeroDivisionError', '__IPYTHON__', '__build_class__', '__debug__', '__doc__', '__import__', '__loader__', '__name__', '__package__', '__spec__', 'abs', 'all', 'any', 'ascii', 'bin', 'bool', 'breakpoint', 'bytearray', 'bytes', 'callable', 'chr', 'classmethod', 'compile', 'complex', 'copyright', 'credits', 'delattr', 'dict', 'dir', 'display', 'divmod', 'enumerate', 'eval', 'exec', 'execfile', 'filter', 'float', 'format', 'frozenset', 'get_ipython', 'getattr', 'globals', 'hasattr', 'hash', 'help', 'hex', 'id', 'input', 'int', 'isinstance', 'issubclass', 'iter', 'len', 'license', 'list', 'locals', 'map', 'max', 'memoryview', 'min', 'next', 'object', 'oct', 'open', 'ord', 'pow', 'print', 'property', 'range', 'repr', 'reversed', 'round', 'runfile', 'set', 'setattr', 'slice', 'sorted', 'staticmethod', 'str', 'sum', 'super', 'tuple', 'type', 'vars', 'zip']\n"
     ]
    }
   ],
   "source": [
    "print(dir(__builtins__))"
   ]
  },
  {
   "cell_type": "code",
   "execution_count": 9,
   "id": "0a4657bb",
   "metadata": {},
   "outputs": [],
   "source": [
    "print=50"
   ]
  },
  {
   "cell_type": "code",
   "execution_count": 10,
   "id": "b1e7ac36",
   "metadata": {},
   "outputs": [
    {
     "ename": "TypeError",
     "evalue": "'int' object is not callable",
     "output_type": "error",
     "traceback": [
      "\u001b[1;31m---------------------------------------------------------------------------\u001b[0m",
      "\u001b[1;31mTypeError\u001b[0m                                 Traceback (most recent call last)",
      "\u001b[1;32m~\\AppData\\Local\\Temp/ipykernel_1704/426974359.py\u001b[0m in \u001b[0;36m<module>\u001b[1;34m\u001b[0m\n\u001b[1;32m----> 1\u001b[1;33m \u001b[0mprint\u001b[0m\u001b[1;33m(\u001b[0m\u001b[1;34m\"Garvit\"\u001b[0m\u001b[1;33m)\u001b[0m\u001b[1;33m\u001b[0m\u001b[1;33m\u001b[0m\u001b[0m\n\u001b[0m",
      "\u001b[1;31mTypeError\u001b[0m: 'int' object is not callable"
     ]
    }
   ],
   "source": [
    "print(\"Garvit\")"
   ]
  },
  {
   "cell_type": "code",
   "execution_count": 11,
   "id": "6c205be4",
   "metadata": {},
   "outputs": [
    {
     "ename": "SyntaxError",
     "evalue": "invalid syntax (Temp/ipykernel_1704/3703621493.py, line 1)",
     "output_type": "error",
     "traceback": [
      "\u001b[1;36m  File \u001b[1;32m\"C:\\Users\\gtane\\AppData\\Local\\Temp/ipykernel_1704/3703621493.py\"\u001b[1;36m, line \u001b[1;32m1\u001b[0m\n\u001b[1;33m    for=50\u001b[0m\n\u001b[1;37m       ^\u001b[0m\n\u001b[1;31mSyntaxError\u001b[0m\u001b[1;31m:\u001b[0m invalid syntax\n"
     ]
    }
   ],
   "source": [
    "for=50"
   ]
  },
  {
   "cell_type": "code",
   "execution_count": 2,
   "id": "39e3549d",
   "metadata": {},
   "outputs": [
    {
     "ename": "IndentationError",
     "evalue": "unexpected indent (Temp/ipykernel_7716/3435117692.py, line 2)",
     "output_type": "error",
     "traceback": [
      "\u001b[1;36m  File \u001b[1;32m\"C:\\Users\\gtane\\AppData\\Local\\Temp/ipykernel_7716/3435117692.py\"\u001b[1;36m, line \u001b[1;32m2\u001b[0m\n\u001b[1;33m    print(\"30\")\u001b[0m\n\u001b[1;37m    ^\u001b[0m\n\u001b[1;31mIndentationError\u001b[0m\u001b[1;31m:\u001b[0m unexpected indent\n"
     ]
    }
   ],
   "source": [
    "print(\"20\")\n",
    "    print(\"30\")"
   ]
  },
  {
   "cell_type": "code",
   "execution_count": 15,
   "id": "a91e5d4e",
   "metadata": {},
   "outputs": [
    {
     "ename": "IndentationError",
     "evalue": "unexpected indent (Temp/ipykernel_7716/1708264553.py, line 2)",
     "output_type": "error",
     "traceback": [
      "\u001b[1;36m  File \u001b[1;32m\"C:\\Users\\gtane\\AppData\\Local\\Temp/ipykernel_7716/1708264553.py\"\u001b[1;36m, line \u001b[1;32m2\u001b[0m\n\u001b[1;33m    print(\"line2\")\u001b[0m\n\u001b[1;37m    ^\u001b[0m\n\u001b[1;31mIndentationError\u001b[0m\u001b[1;31m:\u001b[0m unexpected indent\n"
     ]
    }
   ],
   "source": [
    "print(\"hello\")\n",
    "print(\"line2\")\n",
    "print(\"Yayyay\")"
   ]
  },
  {
   "cell_type": "code",
   "execution_count": 11,
   "id": "2db53010",
   "metadata": {},
   "outputs": [
    {
     "name": "stdout",
     "output_type": "stream",
     "text": [
      "Enter a number123\n",
      "15129\n"
     ]
    }
   ],
   "source": [
    "#  Hey! this prog will print the square of the number taken as an input by user\n",
    "a=int(input(\"Enter a number\"))\n",
    "b=a*a\n",
    "print(b)"
   ]
  },
  {
   "cell_type": "code",
   "execution_count": null,
   "id": "a7c380f0",
   "metadata": {},
   "outputs": [],
   "source": []
  }
 ],
 "metadata": {
  "kernelspec": {
   "display_name": "Python 3 (ipykernel)",
   "language": "python",
   "name": "python3"
  },
  "language_info": {
   "codemirror_mode": {
    "name": "ipython",
    "version": 3
   },
   "file_extension": ".py",
   "mimetype": "text/x-python",
   "name": "python",
   "nbconvert_exporter": "python",
   "pygments_lexer": "ipython3",
   "version": "3.9.7"
  }
 },
 "nbformat": 4,
 "nbformat_minor": 5
}
