{
 "cells": [
  {
   "cell_type": "code",
   "execution_count": null,
   "id": "09ca463f",
   "metadata": {},
   "outputs": [],
   "source": [
    "'', '', '', '', 'encode', '', \n",
    "'expandtabs', '', 'format', 'format_map', '', '', '',\n",
    "'', '', '', '', '', '', '',\n",
    "'', '', '', '', '', '', '', 'maketrans', '',\n",
    "'', '', '', '', '', '', '', '', '',\n",
    "'', '', '', '', '', '', 'translate', '', ''\n",
    "\n"
   ]
  },
  {
   "cell_type": "code",
   "execution_count": 1,
   "id": "71670013",
   "metadata": {},
   "outputs": [
    {
     "name": "stdout",
     "output_type": "stream",
     "text": [
      "True\n"
     ]
    }
   ],
   "source": [
    "string=\"1234\"\n",
    "print(string.isnumeric())\n",
    "isdigit\n",
    "isdecimal\n",
    "isnumeric"
   ]
  },
  {
   "cell_type": "code",
   "execution_count": 3,
   "id": "79952a95",
   "metadata": {},
   "outputs": [
    {
     "name": "stdout",
     "output_type": "stream",
     "text": [
      "False\n",
      "False\n",
      "False\n"
     ]
    }
   ],
   "source": [
    "string=\"1234.00\"\n",
    "print(string.isnumeric())\n",
    "print(string.isdecimal())\n",
    "print(string.isdigit())"
   ]
  },
  {
   "cell_type": "code",
   "execution_count": 4,
   "id": "d782b597",
   "metadata": {},
   "outputs": [
    {
     "name": "stdout",
     "output_type": "stream",
     "text": [
      "True\n",
      "False\n",
      "True\n"
     ]
    }
   ],
   "source": [
    "string=\"35²\"\n",
    "print(string.isnumeric())\n",
    "print(string.isdecimal())\n",
    "print(string.isdigit())"
   ]
  },
  {
   "cell_type": "code",
   "execution_count": 6,
   "id": "44ceb0f7",
   "metadata": {},
   "outputs": [
    {
     "name": "stdout",
     "output_type": "stream",
     "text": [
      "True\n",
      "False\n",
      "False\n"
     ]
    }
   ],
   "source": [
    "string=\"Ⅼ\"\n",
    "print(string.isnumeric())\n",
    "print(string.isdecimal())\n",
    "print(string.isdigit())"
   ]
  },
  {
   "cell_type": "code",
   "execution_count": null,
   "id": "77adf8b4",
   "metadata": {},
   "outputs": [],
   "source": [
    "isascii\n",
    "isspace\n",
    "istitle\n",
    "isprintable\n",
    "isidentifier"
   ]
  },
  {
   "cell_type": "code",
   "execution_count": 9,
   "id": "a200499b",
   "metadata": {},
   "outputs": [
    {
     "name": "stdout",
     "output_type": "stream",
     "text": [
      "True\n",
      "False\n",
      "True\n"
     ]
    }
   ],
   "source": [
    "# isspace: It checks every character is a space character or not\n",
    "print(\"     \".isspace())\n",
    "print(\"   a  \".isspace())\n",
    "print(\"  \\t   \".isspace())"
   ]
  },
  {
   "cell_type": "code",
   "execution_count": 12,
   "id": "10809da9",
   "metadata": {},
   "outputs": [
    {
     "name": "stdout",
     "output_type": "stream",
     "text": [
      "False\n",
      "True\n"
     ]
    }
   ],
   "source": [
    "# isascii: checks whether all the characters are from ascii table or not\n",
    "print(\"ß\".isascii())\n",
    "print(\"abc@\".isascii())"
   ]
  },
  {
   "cell_type": "code",
   "execution_count": 14,
   "id": "9365ebea",
   "metadata": {},
   "outputs": [
    {
     "name": "stdout",
     "output_type": "stream",
     "text": [
      "False\n",
      "True\n"
     ]
    }
   ],
   "source": [
    "# istitle=>\n",
    "print(\"Hello world\".istitle())\n",
    "print(\"Hello World\".istitle())"
   ]
  },
  {
   "cell_type": "code",
   "execution_count": 17,
   "id": "fe972a08",
   "metadata": {},
   "outputs": [
    {
     "name": "stdout",
     "output_type": "stream",
     "text": [
      "False\n",
      "True\n"
     ]
    }
   ],
   "source": [
    "# isprintable =>checks if each character is printable or not\n",
    "print(\"hello \\n world\".isprintable())\n",
    "print(\"hello  world\".isprintable())"
   ]
  },
  {
   "cell_type": "code",
   "execution_count": 21,
   "id": "ab18ab4c",
   "metadata": {},
   "outputs": [
    {
     "name": "stdout",
     "output_type": "stream",
     "text": [
      "True\n",
      "False\n",
      "False\n"
     ]
    }
   ],
   "source": [
    "# isidentifier =>it checks whether the string is a valid identifier or not\n",
    "print(\"abc\".isidentifier())\n",
    "print(\"abc def\".isidentifier())\n",
    "print(\"1abc\".isidentifier())"
   ]
  },
  {
   "cell_type": "code",
   "execution_count": 22,
   "id": "3626d3e9",
   "metadata": {},
   "outputs": [],
   "source": [
    "# find\n",
    "# rfind\n",
    "# index\n",
    "# rindex"
   ]
  },
  {
   "cell_type": "code",
   "execution_count": 23,
   "id": "db3b4cc4",
   "metadata": {},
   "outputs": [
    {
     "name": "stdout",
     "output_type": "stream",
     "text": [
      "Help on method_descriptor:\n",
      "\n",
      "find(...)\n",
      "    S.find(sub[, start[, end]]) -> int\n",
      "    \n",
      "    Return the lowest index in S where substring sub is found,\n",
      "    such that sub is contained within S[start:end].  Optional\n",
      "    arguments start and end are interpreted as in slice notation.\n",
      "    \n",
      "    Return -1 on failure.\n",
      "\n",
      "None\n"
     ]
    }
   ],
   "source": [
    "print(help(str.find))"
   ]
  },
  {
   "cell_type": "code",
   "execution_count": 24,
   "id": "2e8e8688",
   "metadata": {},
   "outputs": [
    {
     "data": {
      "text/plain": [
       "0"
      ]
     },
     "execution_count": 24,
     "metadata": {},
     "output_type": "execute_result"
    }
   ],
   "source": [
    "\"This is Python's class\".find(\"T\")"
   ]
  },
  {
   "cell_type": "code",
   "execution_count": 26,
   "id": "622d619e",
   "metadata": {},
   "outputs": [
    {
     "data": {
      "text/plain": [
       "5"
      ]
     },
     "execution_count": 26,
     "metadata": {},
     "output_type": "execute_result"
    }
   ],
   "source": [
    "\"This is Python's class\".find(\"is P\")"
   ]
  },
  {
   "cell_type": "code",
   "execution_count": 27,
   "id": "92ad9131",
   "metadata": {},
   "outputs": [
    {
     "data": {
      "text/plain": [
       "1"
      ]
     },
     "execution_count": 27,
     "metadata": {},
     "output_type": "execute_result"
    }
   ],
   "source": [
    "\"This is Python's class\".find(\"h\")"
   ]
  },
  {
   "cell_type": "code",
   "execution_count": 28,
   "id": "0c36ef46",
   "metadata": {},
   "outputs": [
    {
     "data": {
      "text/plain": [
       "-1"
      ]
     },
     "execution_count": 28,
     "metadata": {},
     "output_type": "execute_result"
    }
   ],
   "source": [
    "\"This is Python's class\".find(\"taken\")"
   ]
  },
  {
   "cell_type": "code",
   "execution_count": 29,
   "id": "a6fe05c3",
   "metadata": {},
   "outputs": [
    {
     "data": {
      "text/plain": [
       "5"
      ]
     },
     "execution_count": 29,
     "metadata": {},
     "output_type": "execute_result"
    }
   ],
   "source": [
    "\"This is Python's class\".rfind(\"is\")"
   ]
  },
  {
   "cell_type": "code",
   "execution_count": 31,
   "id": "f0b40312",
   "metadata": {},
   "outputs": [
    {
     "name": "stdout",
     "output_type": "stream",
     "text": [
      "5\n"
     ]
    }
   ],
   "source": [
    "# index\n",
    "print(\"This is Python's class\".index(\"is P\"))"
   ]
  },
  {
   "cell_type": "code",
   "execution_count": 32,
   "id": "60e36685",
   "metadata": {},
   "outputs": [
    {
     "name": "stdout",
     "output_type": "stream",
     "text": [
      "-1\n"
     ]
    },
    {
     "ename": "ValueError",
     "evalue": "substring not found",
     "output_type": "error",
     "traceback": [
      "\u001b[1;31m---------------------------------------------------------------------------\u001b[0m",
      "\u001b[1;31mValueError\u001b[0m                                Traceback (most recent call last)",
      "\u001b[1;32m~\\AppData\\Local\\Temp/ipykernel_15812/1704417877.py\u001b[0m in \u001b[0;36m<module>\u001b[1;34m\u001b[0m\n\u001b[0;32m      1\u001b[0m \u001b[0mprint\u001b[0m\u001b[1;33m(\u001b[0m\u001b[1;34m\"This is Python's class\"\u001b[0m\u001b[1;33m.\u001b[0m\u001b[0mfind\u001b[0m\u001b[1;33m(\u001b[0m\u001b[1;34m\"taken\"\u001b[0m\u001b[1;33m)\u001b[0m\u001b[1;33m)\u001b[0m\u001b[1;33m\u001b[0m\u001b[1;33m\u001b[0m\u001b[0m\n\u001b[1;32m----> 2\u001b[1;33m \u001b[0mprint\u001b[0m\u001b[1;33m(\u001b[0m\u001b[1;34m\"This is Python's class\"\u001b[0m\u001b[1;33m.\u001b[0m\u001b[0mindex\u001b[0m\u001b[1;33m(\u001b[0m\u001b[1;34m\"taken\"\u001b[0m\u001b[1;33m)\u001b[0m\u001b[1;33m)\u001b[0m\u001b[1;33m\u001b[0m\u001b[1;33m\u001b[0m\u001b[0m\n\u001b[0m",
      "\u001b[1;31mValueError\u001b[0m: substring not found"
     ]
    }
   ],
   "source": [
    "print(\"This is Python's class\".find(\"taken\"))\n",
    "print(\"This is Python's class\".index(\"taken\"))"
   ]
  },
  {
   "cell_type": "code",
   "execution_count": 35,
   "id": "38ba8398",
   "metadata": {},
   "outputs": [
    {
     "name": "stdout",
     "output_type": "stream",
     "text": [
      "5\n",
      "5\n"
     ]
    }
   ],
   "source": [
    "# rindex is nothing but rfind\n",
    "print(\"This is Python's class\".rfind(\"is\"))\n",
    "print(\"This is Python's class\".rindex(\"is\"))"
   ]
  },
  {
   "cell_type": "code",
   "execution_count": 36,
   "id": "b92e487e",
   "metadata": {},
   "outputs": [
    {
     "name": "stdout",
     "output_type": "stream",
     "text": [
      "-1\n"
     ]
    },
    {
     "ename": "ValueError",
     "evalue": "substring not found",
     "output_type": "error",
     "traceback": [
      "\u001b[1;31m---------------------------------------------------------------------------\u001b[0m",
      "\u001b[1;31mValueError\u001b[0m                                Traceback (most recent call last)",
      "\u001b[1;32m~\\AppData\\Local\\Temp/ipykernel_15812/4152621555.py\u001b[0m in \u001b[0;36m<module>\u001b[1;34m\u001b[0m\n\u001b[0;32m      1\u001b[0m \u001b[1;31m# rindex is nothing but rfind\u001b[0m\u001b[1;33m\u001b[0m\u001b[1;33m\u001b[0m\u001b[0m\n\u001b[0;32m      2\u001b[0m \u001b[0mprint\u001b[0m\u001b[1;33m(\u001b[0m\u001b[1;34m\"This is Python's class\"\u001b[0m\u001b[1;33m.\u001b[0m\u001b[0mrfind\u001b[0m\u001b[1;33m(\u001b[0m\u001b[1;34m\"iswhatever\"\u001b[0m\u001b[1;33m)\u001b[0m\u001b[1;33m)\u001b[0m\u001b[1;33m\u001b[0m\u001b[1;33m\u001b[0m\u001b[0m\n\u001b[1;32m----> 3\u001b[1;33m \u001b[0mprint\u001b[0m\u001b[1;33m(\u001b[0m\u001b[1;34m\"This is Python's class\"\u001b[0m\u001b[1;33m.\u001b[0m\u001b[0mrindex\u001b[0m\u001b[1;33m(\u001b[0m\u001b[1;34m\"iswhatever\"\u001b[0m\u001b[1;33m)\u001b[0m\u001b[1;33m)\u001b[0m\u001b[1;33m\u001b[0m\u001b[1;33m\u001b[0m\u001b[0m\n\u001b[0m",
      "\u001b[1;31mValueError\u001b[0m: substring not found"
     ]
    }
   ],
   "source": [
    "# rindex is nothing but rfind\n",
    "print(\"This is Python's class\".rfind(\"iswhatever\"))\n",
    "print(\"This is Python's class\".rindex(\"iswhatever\"))"
   ]
  },
  {
   "cell_type": "code",
   "execution_count": 47,
   "id": "5cd95c5e",
   "metadata": {},
   "outputs": [
    {
     "name": "stdout",
     "output_type": "stream",
     "text": [
      "2\n",
      "2\n",
      "0\n",
      "2\n",
      "True\n",
      "False\n",
      "True\n"
     ]
    }
   ],
   "source": [
    "# count\n",
    "print(\"This is Python's class\".count(\"i\"))\n",
    "print(\"This is Python's class\".count(\"is\"))\n",
    "print(\"This is Python's class\".count(\"sst\"))\n",
    "\n",
    "print(\"aaaa\".count(\"aa\"))\n",
    "# endswith\n",
    "print(\"This is Python's class\".endswith(\"s\"))\n",
    "print(\"This is Python's class\".endswith(\"S\"))\n",
    "print(\"This is Python's class\".endswith(\"class\"))\n"
   ]
  },
  {
   "cell_type": "code",
   "execution_count": 49,
   "id": "ed3f635e",
   "metadata": {},
   "outputs": [
    {
     "name": "stdout",
     "output_type": "stream",
     "text": [
      "False\n",
      "True\n"
     ]
    }
   ],
   "source": [
    "# startswith\n",
    "print(\"This is Python's class\".startswith(\"s\"))\n",
    "print(\"This is Python's class\".startswith(\"This\"))"
   ]
  },
  {
   "cell_type": "code",
   "execution_count": 50,
   "id": "e3508cbe",
   "metadata": {},
   "outputs": [
    {
     "name": "stdout",
     "output_type": "stream",
     "text": [
      "Help on method_descriptor:\n",
      "\n",
      "center(self, width, fillchar=' ', /)\n",
      "    Return a centered string of length width.\n",
      "    \n",
      "    Padding is done using the specified fill character (default is a space).\n",
      "\n",
      "None\n"
     ]
    }
   ],
   "source": [
    "# center\n",
    "print(help(str.center))\n",
    "# ljust\n",
    "# rjust\n",
    "# zfill\n"
   ]
  },
  {
   "cell_type": "code",
   "execution_count": 56,
   "id": "41166c5d",
   "metadata": {},
   "outputs": [
    {
     "name": "stdout",
     "output_type": "stream",
     "text": [
      "                                              Welcome                                               \n",
      "  it \n",
      "**Welcome**\n"
     ]
    },
    {
     "ename": "TypeError",
     "evalue": "The fill character must be exactly one character long",
     "output_type": "error",
     "traceback": [
      "\u001b[1;31m---------------------------------------------------------------------------\u001b[0m",
      "\u001b[1;31mTypeError\u001b[0m                                 Traceback (most recent call last)",
      "\u001b[1;32m~\\AppData\\Local\\Temp/ipykernel_15812/3049588861.py\u001b[0m in \u001b[0;36m<module>\u001b[1;34m\u001b[0m\n\u001b[0;32m      3\u001b[0m \u001b[1;33m\u001b[0m\u001b[0m\n\u001b[0;32m      4\u001b[0m \u001b[0mprint\u001b[0m\u001b[1;33m(\u001b[0m\u001b[1;34m\"Welcome\"\u001b[0m\u001b[1;33m.\u001b[0m\u001b[0mcenter\u001b[0m\u001b[1;33m(\u001b[0m\u001b[1;36m11\u001b[0m\u001b[1;33m,\u001b[0m\u001b[1;34m\"*\"\u001b[0m\u001b[1;33m)\u001b[0m\u001b[1;33m)\u001b[0m\u001b[1;33m\u001b[0m\u001b[1;33m\u001b[0m\u001b[0m\n\u001b[1;32m----> 5\u001b[1;33m \u001b[0mprint\u001b[0m\u001b[1;33m(\u001b[0m\u001b[1;34m\"Welcome\"\u001b[0m\u001b[1;33m.\u001b[0m\u001b[0mcenter\u001b[0m\u001b[1;33m(\u001b[0m\u001b[1;36m11\u001b[0m\u001b[1;33m,\u001b[0m\u001b[1;34m\"*_\"\u001b[0m\u001b[1;33m)\u001b[0m\u001b[1;33m)\u001b[0m\u001b[1;33m\u001b[0m\u001b[1;33m\u001b[0m\u001b[0m\n\u001b[0m\u001b[0;32m      6\u001b[0m \u001b[1;33m\u001b[0m\u001b[0m\n\u001b[0;32m      7\u001b[0m \u001b[1;33m\u001b[0m\u001b[0m\n",
      "\u001b[1;31mTypeError\u001b[0m: The fill character must be exactly one character long"
     ]
    }
   ],
   "source": [
    "print(\"Welcome\".center(100))\n",
    "print(\"it\".center(5))\n",
    "\n",
    "print(\"Welcome\".center(11,\"*\"))\n",
    "print(\"Welcome\".center(11,\"*_\"))\n",
    "\n",
    "\n"
   ]
  },
  {
   "cell_type": "code",
   "execution_count": 62,
   "id": "c258071b",
   "metadata": {},
   "outputs": [
    {
     "name": "stdout",
     "output_type": "stream",
     "text": [
      "Welcome                                                                                             \n",
      "Welcome*********************************************************************************************\n",
      "                                                                                             Welcome\n",
      "*********************************************************************************************Welcome\n"
     ]
    }
   ],
   "source": [
    "# ljust\n",
    "print(\"Welcome\".ljust(100))\n",
    "print(\"Welcome\".ljust(100,\"*\"))\n",
    "# rjust\n",
    "print(\"Welcome\".rjust(100))\n",
    "print(\"Welcome\".rjust(100,\"*\"))"
   ]
  },
  {
   "cell_type": "code",
   "execution_count": 58,
   "id": "beda67ea",
   "metadata": {},
   "outputs": [
    {
     "name": "stdout",
     "output_type": "stream",
     "text": [
      "Help on method_descriptor:\n",
      "\n",
      "ljust(self, width, fillchar=' ', /)\n",
      "    Return a left-justified string of length width.\n",
      "    \n",
      "    Padding is done using the specified fill character (default is a space).\n",
      "\n",
      "None\n"
     ]
    }
   ],
   "source": [
    "print(help(str.ljust))"
   ]
  },
  {
   "cell_type": "code",
   "execution_count": 71,
   "id": "9da82d69",
   "metadata": {},
   "outputs": [
    {
     "name": "stdout",
     "output_type": "stream",
     "text": [
      "0000000000000Welcome\n"
     ]
    }
   ],
   "source": [
    "print(\"Welcome\".zfill(20))"
   ]
  },
  {
   "cell_type": "code",
   "execution_count": 70,
   "id": "06c7af1f",
   "metadata": {},
   "outputs": [
    {
     "name": "stdout",
     "output_type": "stream",
     "text": [
      "welcome\n",
      "welcome            \n",
      "          welcome\n",
      " is a class\n",
      "This is a class\n",
      "This is a class\n",
      "This is a \n"
     ]
    }
   ],
   "source": [
    "# strip=>removes extra spaces from both ends\n",
    "print(\"          welcome            \".strip())\n",
    "# lstrip\n",
    "print(\"          welcome            \".lstrip())\n",
    "# rstrip\n",
    "print(\"          welcome            \".rstrip())\n",
    "# removeprefix\n",
    "print(\"This is a class\".removeprefix(\"This\"))\n",
    "print(\"This is a class\".removeprefix(\"this\"))\n",
    "# removesuffix\n",
    "print(\"This is a class\".removesuffix(\"This\"))\n",
    "print(\"This is a class\".removesuffix(\"class\"))"
   ]
  },
  {
   "cell_type": "code",
   "execution_count": 73,
   "id": "9599c308",
   "metadata": {},
   "outputs": [
    {
     "name": "stdout",
     "output_type": "stream",
     "text": [
      "This is a Python class.\n"
     ]
    }
   ],
   "source": [
    "string=\"This is an Python class.\"\n",
    "# string[9]=\"\"\n",
    "print(string[0:9:1]+string[10:])"
   ]
  },
  {
   "cell_type": "code",
   "execution_count": 74,
   "id": "66e4cb82",
   "metadata": {},
   "outputs": [
    {
     "name": "stdout",
     "output_type": "stream",
     "text": [
      "This is a Python class.\n"
     ]
    }
   ],
   "source": [
    "string=\"This isPython class.\"\n",
    "# string[9]=\"\"\n",
    "print(string[0:7:1]+\" a \"+string[7:])"
   ]
  },
  {
   "cell_type": "code",
   "execution_count": 76,
   "id": "53af4513",
   "metadata": {},
   "outputs": [
    {
     "name": "stdout",
     "output_type": "stream",
     "text": [
      "Help on method_descriptor:\n",
      "\n",
      "replace(self, old, new, count=-1, /)\n",
      "    Return a copy with all occurrences of substring old replaced by new.\n",
      "    \n",
      "      count\n",
      "        Maximum number of occurrences to replace.\n",
      "        -1 (the default value) means replace all occurrences.\n",
      "    \n",
      "    If the optional argument count is given, only the first count occurrences are\n",
      "    replaced.\n",
      "\n",
      "None\n"
     ]
    }
   ],
   "source": [
    "# replace\n",
    "print(help(str.replace))"
   ]
  },
  {
   "cell_type": "code",
   "execution_count": 77,
   "id": "8cf81e5b",
   "metadata": {},
   "outputs": [
    {
     "name": "stdout",
     "output_type": "stream",
     "text": [
      "This is a Python class.\n"
     ]
    }
   ],
   "source": [
    "print(\"This is an Python class.\".replace(\"an\",\"a\"))"
   ]
  },
  {
   "cell_type": "code",
   "execution_count": 78,
   "id": "15fa6b03",
   "metadata": {},
   "outputs": [
    {
     "name": "stdout",
     "output_type": "stream",
     "text": [
      "This is a Python class. It is taken by a instructor on weekdays.\n"
     ]
    }
   ],
   "source": [
    "print(\"This is an Python class. It is taken by an instructor on weekdays.\".replace(\"an\",\"a\"))"
   ]
  },
  {
   "cell_type": "code",
   "execution_count": 79,
   "id": "6a83c1e1",
   "metadata": {},
   "outputs": [
    {
     "name": "stdout",
     "output_type": "stream",
     "text": [
      "This is a Python class. It is taken by an instructor on weekdays.\n"
     ]
    }
   ],
   "source": [
    "print(\"This is an Python class. It is taken by an instructor on weekdays.\".replace(\"an\",\"a\",1))"
   ]
  },
  {
   "cell_type": "code",
   "execution_count": 80,
   "id": "ca312a85",
   "metadata": {},
   "outputs": [
    {
     "name": "stdout",
     "output_type": "stream",
     "text": [
      "Help on method_descriptor:\n",
      "\n",
      "split(self, /, sep=None, maxsplit=-1)\n",
      "    Return a list of the words in the string, using sep as the delimiter string.\n",
      "    \n",
      "    sep\n",
      "      The delimiter according which to split the string.\n",
      "      None (the default value) means split according to any whitespace,\n",
      "      and discard empty strings from the result.\n",
      "    maxsplit\n",
      "      Maximum number of splits to do.\n",
      "      -1 (the default value) means no limit.\n",
      "\n",
      "None\n"
     ]
    }
   ],
   "source": [
    "# split\n",
    "print(help(str.split))\n",
    "# rsplit\n",
    "# splitlines\n",
    "# rpartition\n",
    "# partition\n",
    "# join"
   ]
  },
  {
   "cell_type": "code",
   "execution_count": 83,
   "id": "cd92de7b",
   "metadata": {},
   "outputs": [
    {
     "name": "stdout",
     "output_type": "stream",
     "text": [
      "['This', 'is', 'a', 'python', 'class']\n",
      "['garvit', 'shivam', 'rohit', 'ravi', 'rekha']\n",
      "['garvit', 'shivam', 'rohit,ravi,rekha']\n"
     ]
    }
   ],
   "source": [
    "# \"This is a python class\"+>\"This\",\"is\",\"a\",\"python\",\"class\"\n",
    "print(\"This is a python class\".split())\n",
    "\n",
    "\n",
    "\n",
    "# csv\n",
    "string=\"garvit,shivam,rohit,ravi,rekha\"\n",
    "print(string.split(\",\"))\n",
    "\n",
    "string=\"garvit,shivam,rohit,ravi,rekha\"\n",
    "print(string.split(\",\",3))\n",
    "\n"
   ]
  },
  {
   "cell_type": "code",
   "execution_count": 84,
   "id": "bbc60294",
   "metadata": {},
   "outputs": [
    {
     "name": "stdout",
     "output_type": "stream",
     "text": [
      "['garvit,shivam,rohit', 'ravi', 'rekha']\n"
     ]
    }
   ],
   "source": [
    "string=\"garvit,shivam,rohit,ravi,rekha\"\n",
    "print(string.rsplit(\",\",2))"
   ]
  },
  {
   "cell_type": "code",
   "execution_count": 85,
   "id": "840374ba",
   "metadata": {},
   "outputs": [
    {
     "name": "stdout",
     "output_type": "stream",
     "text": [
      "['garvit', 'shivam', 'rohit', 'ravi', 'rekha']\n",
      "['garvit', 'shivam', 'rohit', 'ravi', 'rekha']\n"
     ]
    }
   ],
   "source": [
    "string=\"garvit,shivam,rohit,ravi,rekha\"\n",
    "print(string.split(\",\"))\n",
    "print(string.rsplit(\",\"))"
   ]
  },
  {
   "cell_type": "code",
   "execution_count": 87,
   "id": "7bbf4a78",
   "metadata": {},
   "outputs": [
    {
     "name": "stdout",
     "output_type": "stream",
     "text": [
      "Help on method_descriptor:\n",
      "\n",
      "splitlines(self, /, keepends=False)\n",
      "    Return a list of the lines in the string, breaking at line boundaries.\n",
      "    \n",
      "    Line breaks are not included in the resulting list unless keepends is given and\n",
      "    true.\n",
      "\n",
      "None\n"
     ]
    }
   ],
   "source": [
    "print(help(str.splitlines))"
   ]
  },
  {
   "cell_type": "code",
   "execution_count": 89,
   "id": "8d113ea3",
   "metadata": {},
   "outputs": [
    {
     "name": "stdout",
     "output_type": "stream",
     "text": [
      "['hello', 'world']\n"
     ]
    }
   ],
   "source": [
    "print(\"hello\\nworld\".splitlines())"
   ]
  },
  {
   "cell_type": "code",
   "execution_count": 90,
   "id": "cda8700d",
   "metadata": {},
   "outputs": [
    {
     "name": "stdout",
     "output_type": "stream",
     "text": [
      "['hello.world']\n"
     ]
    }
   ],
   "source": [
    "print(\"hello.world\".splitlines())"
   ]
  },
  {
   "cell_type": "code",
   "execution_count": 91,
   "id": "37c8fe4a",
   "metadata": {},
   "outputs": [
    {
     "name": "stdout",
     "output_type": "stream",
     "text": [
      "garvit taneja\n"
     ]
    }
   ],
   "source": [
    "# [\"garvit\",\"taneja\"]=\"garvit taneja\"\n",
    "print(\" \".join([\"garvit\",\"taneja\"]))"
   ]
  },
  {
   "cell_type": "code",
   "execution_count": 92,
   "id": "be13e5a5",
   "metadata": {},
   "outputs": [
    {
     "name": "stdout",
     "output_type": "stream",
     "text": [
      "garvit_shivam_rohit_ravi_rekha\n"
     ]
    }
   ],
   "source": [
    "a=\"garvit,shivam,rohit,ravi,rekha\"\n",
    "# \"garvit_shivam_rohit_ravi_rekha\"\n",
    "b=a.split(\",\")\n",
    "print(\"_\".join(b))"
   ]
  },
  {
   "cell_type": "code",
   "execution_count": 93,
   "id": "e1676df4",
   "metadata": {},
   "outputs": [
    {
     "name": "stdout",
     "output_type": "stream",
     "text": [
      "Help on method_descriptor:\n",
      "\n",
      "partition(self, sep, /)\n",
      "    Partition the string into three parts using the given separator.\n",
      "    \n",
      "    This will search for the separator in the string.  If the separator is found,\n",
      "    returns a 3-tuple containing the part before the separator, the separator\n",
      "    itself, and the part after it.\n",
      "    \n",
      "    If the separator is not found, returns a 3-tuple containing the original string\n",
      "    and two empty strings.\n",
      "\n",
      "None\n"
     ]
    }
   ],
   "source": [
    "print(help(str.partition))"
   ]
  },
  {
   "cell_type": "code",
   "execution_count": 95,
   "id": "20c1f0a2",
   "metadata": {},
   "outputs": [
    {
     "name": "stdout",
     "output_type": "stream",
     "text": [
      "('garvit', ',', 'shivam,rohit,ravi,rekha')\n",
      "['garvit', 'shivam,rohit,ravi,rekha']\n"
     ]
    }
   ],
   "source": [
    "string=\"garvit,shivam,rohit,ravi,rekha\"\n",
    "print(string.partition(\",\"))\n",
    "print(string.split(\",\",1))"
   ]
  },
  {
   "cell_type": "code",
   "execution_count": 96,
   "id": "eaf566cf",
   "metadata": {},
   "outputs": [
    {
     "name": "stdout",
     "output_type": "stream",
     "text": [
      "('garvit,shivam,rohit,ravi', ',', 'rekha')\n"
     ]
    }
   ],
   "source": [
    "string=\"garvit,shivam,rohit,ravi,rekha\"\n",
    "print(string.rpartition(\",\"))"
   ]
  },
  {
   "cell_type": "code",
   "execution_count": null,
   "id": "3075be41",
   "metadata": {},
   "outputs": [],
   "source": []
  }
 ],
 "metadata": {
  "kernelspec": {
   "display_name": "Python 3 (ipykernel)",
   "language": "python",
   "name": "python3"
  },
  "language_info": {
   "codemirror_mode": {
    "name": "ipython",
    "version": 3
   },
   "file_extension": ".py",
   "mimetype": "text/x-python",
   "name": "python",
   "nbconvert_exporter": "python",
   "pygments_lexer": "ipython3",
   "version": "3.9.7"
  }
 },
 "nbformat": 4,
 "nbformat_minor": 5
}
