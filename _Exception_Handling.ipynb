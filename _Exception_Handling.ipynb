{
 "cells": [
  {
   "cell_type": "code",
   "execution_count": 3,
   "id": "af49afa9",
   "metadata": {},
   "outputs": [
    {
     "name": "stdout",
     "output_type": "stream",
     "text": [
      "What is Lorem Ipsum?\n",
      "Lorem Ipsum is simply dummy text of the printing and typesetting industry. Lorem Ipsum has \n",
      "been the industry's standard dummy text ever since the 1500s, when an unknown printer took a galley of type and scrambled it to make a type specimen book. It has survived not only fi\n",
      "ve centuries, but also the leap into electronic typesetting, remaining essentially unchanged. It was popularised in the 1960s with the release of Letraset sheets containing Lorem Ipsum passages, and more recently with desktop publishing software like Aldus PageMaker including versions of Lorem Ipsum.\n",
      "\n"
     ]
    }
   ],
   "source": [
    "with open(r\"firstText.txt\",\"r\") as f:\n",
    "    content1=f.read()\n",
    "    print(content1)\n",
    "    content2=f.read()\n",
    "    print(content2)"
   ]
  },
  {
   "cell_type": "code",
   "execution_count": 6,
   "id": "e7248f98",
   "metadata": {},
   "outputs": [
    {
     "name": "stdout",
     "output_type": "stream",
     "text": [
      "What is Lorem Ipsum?\n",
      "Lorem Ipsum is simply dummy text of the printing and typesetting industry. Lorem Ipsum has \n",
      "been the industry's standard dummy text ever since the 1500s, when an unknown printer took a galley of type and scrambled it to make a type specimen book. It has survived not only fi\n",
      "ve centuries, but also the leap into electronic typesetting, remaining essentially unchanged. It was popularised in the 1960s with the release of Letraset sheets containing Lorem Ipsum passages, and more recently with desktop publishing software like Aldus PageMaker including versions of Lorem Ipsum.\n",
      "\n",
      "597\n",
      "ook a galley of type and scrambled it to make a type specimen book. It has survived not only fi\n",
      "ve centuries, but also the leap into electronic typesetting, remaining essentially unchanged. It was popularised in the 1960s with the release of Letraset sheets containing Lorem Ipsum passages, and more recently with desktop publishing software like Aldus PageMaker including versions of Lorem Ipsum.\n"
     ]
    }
   ],
   "source": [
    "with open(r\"firstText.txt\",\"r\") as f:\n",
    "    content1=f.read()\n",
    "    print(content1)\n",
    "    f.seek(200)\n",
    "    print()\n",
    "    content2=f.read()\n",
    "    print(f.tell())\n",
    "    print(content2)"
   ]
  },
  {
   "cell_type": "code",
   "execution_count": 7,
   "id": "f3cc2fb3",
   "metadata": {},
   "outputs": [],
   "source": [
    "with open(r\"firstText.txt\",\"w\") as f:\n",
    "    f.write(content2)"
   ]
  },
  {
   "cell_type": "code",
   "execution_count": 13,
   "id": "325a063e",
   "metadata": {},
   "outputs": [],
   "source": [
    "list1=[\"Garvit\\n\",\"Shuvzit\\n\",\"Simran\\n\"]"
   ]
  },
  {
   "cell_type": "code",
   "execution_count": 14,
   "id": "50957d96",
   "metadata": {},
   "outputs": [],
   "source": [
    "with open(r\"firstText.txt\",\"w\") as f:\n",
    "    f.writelines(list1)"
   ]
  },
  {
   "cell_type": "code",
   "execution_count": 15,
   "id": "c64f629f",
   "metadata": {},
   "outputs": [
    {
     "name": "stdout",
     "output_type": "stream",
     "text": [
      "What is Lorem Ipsum?\n",
      "Lorem Ipsum is simply dummy text of the printing and typesetting industry. Lorem Ipsum has been the industry's standard dummy text ever since the 1500s, when an unknown printer took a galley of type and scrambled it to make a type specimen book. It has survived not only five centuries, but also the leap into electronic typesetting, remaining essentially unchanged. It was popularised in the 1960s with the release of Letraset sheets containing Lorem Ipsum passages, and more recently with desktop publishing software like Aldus PageMaker including versions of Lorem Ipsum.\n",
      "\n"
     ]
    }
   ],
   "source": [
    "#read mode,\"r\"=>cursor position is at the begining of the file\n",
    "# =>if the file doesn't exist it throws \"FileNotFoundError\"\n",
    "# we can oly read the file but can't write to the file\n",
    "\n",
    "with open(r\"firstText.txt\",\"r\") as f:\n",
    "    content=f.read()\n",
    "    print(content)"
   ]
  },
  {
   "cell_type": "code",
   "execution_count": 17,
   "id": "d0ffd098",
   "metadata": {},
   "outputs": [
    {
     "name": "stdout",
     "output_type": "stream",
     "text": [
      "m Ipsum has been the industry's standard dummy text ever since the 1500s, when an unknown printer took a galley of type and scrambled it to make a type specimen book. It has survived not only five centuries, but also the leap into electronic typesetting, remaining essentially unchanged. It was popularised in the 1960s with the release of Letraset sheets containing Lorem Ipsum passages, and more recently with desktop publishing software like Aldus PageMaker including versions of Lorem Ipsum.\n",
      "\n"
     ]
    }
   ],
   "source": [
    "with open(r\"firstText.txt\",\"r\") as f:\n",
    "    f.seek(100)\n",
    "    content=f.read()\n",
    "    print(content)"
   ]
  },
  {
   "cell_type": "code",
   "execution_count": 18,
   "id": "a8ec8b29",
   "metadata": {},
   "outputs": [
    {
     "ename": "UnsupportedOperation",
     "evalue": "not writable",
     "output_type": "error",
     "traceback": [
      "\u001b[1;31m---------------------------------------------------------------------------\u001b[0m",
      "\u001b[1;31mUnsupportedOperation\u001b[0m                      Traceback (most recent call last)",
      "\u001b[1;32m~\\AppData\\Local\\Temp/ipykernel_24144/3011557078.py\u001b[0m in \u001b[0;36m<module>\u001b[1;34m\u001b[0m\n\u001b[0;32m      1\u001b[0m \u001b[1;32mwith\u001b[0m \u001b[0mopen\u001b[0m\u001b[1;33m(\u001b[0m\u001b[1;34mr\"firstText.txt\"\u001b[0m\u001b[1;33m,\u001b[0m\u001b[1;34m\"r\"\u001b[0m\u001b[1;33m)\u001b[0m \u001b[1;32mas\u001b[0m \u001b[0mf\u001b[0m\u001b[1;33m:\u001b[0m\u001b[1;33m\u001b[0m\u001b[1;33m\u001b[0m\u001b[0m\n\u001b[1;32m----> 2\u001b[1;33m     \u001b[0mf\u001b[0m\u001b[1;33m.\u001b[0m\u001b[0mwrite\u001b[0m\u001b[1;33m(\u001b[0m\u001b[1;34m\"Hello\"\u001b[0m\u001b[1;33m)\u001b[0m\u001b[1;33m\u001b[0m\u001b[1;33m\u001b[0m\u001b[0m\n\u001b[0m",
      "\u001b[1;31mUnsupportedOperation\u001b[0m: not writable"
     ]
    }
   ],
   "source": [
    "with open(r\"firstText.txt\",\"r\") as f:\n",
    "    f.write(\"Hello\")\n"
   ]
  },
  {
   "cell_type": "code",
   "execution_count": null,
   "id": "272c4c8b",
   "metadata": {},
   "outputs": [],
   "source": [
    "#read and write mode,\"r+\"=>cursor position is at the begining of the file\n",
    "# =>if the file doesn't exist it throws \"FileNotFoundError\"\n",
    "# we can read and write to the file and content will be overwritten"
   ]
  },
  {
   "cell_type": "code",
   "execution_count": 19,
   "id": "fc98face",
   "metadata": {},
   "outputs": [
    {
     "name": "stdout",
     "output_type": "stream",
     "text": [
      "What is Lorem Ipsum?\n",
      "Lorem Ipsum is simply dummy text of the printing and typesetting industry. Lorem Ipsum has been the industry's standard dummy text ever since the 1500s, when an unknown printer took a galley of type and scrambled it to make a type specimen book. It has survived not only five centuries, but also the leap into electronic typesetting, remaining essentially unchanged. It was popularised in the 1960s with the release of Letraset sheets containing Lorem Ipsum passages, and more recently with desktop publishing software like Aldus PageMaker including versions of Lorem Ipsum.\n",
      "\n"
     ]
    }
   ],
   "source": [
    "with open(r\"firstText.txt\",\"r+\") as f:\n",
    "    content=f.read()\n",
    "    print(content)"
   ]
  },
  {
   "cell_type": "code",
   "execution_count": 20,
   "id": "af779161",
   "metadata": {},
   "outputs": [
    {
     "ename": "FileNotFoundError",
     "evalue": "[Errno 2] No such file or directory: 'firstText1.txt'",
     "output_type": "error",
     "traceback": [
      "\u001b[1;31m---------------------------------------------------------------------------\u001b[0m",
      "\u001b[1;31mFileNotFoundError\u001b[0m                         Traceback (most recent call last)",
      "\u001b[1;32m~\\AppData\\Local\\Temp/ipykernel_24144/16532763.py\u001b[0m in \u001b[0;36m<module>\u001b[1;34m\u001b[0m\n\u001b[1;32m----> 1\u001b[1;33m \u001b[1;32mwith\u001b[0m \u001b[0mopen\u001b[0m\u001b[1;33m(\u001b[0m\u001b[1;34mr\"firstText1.txt\"\u001b[0m\u001b[1;33m,\u001b[0m\u001b[1;34m\"r+\"\u001b[0m\u001b[1;33m)\u001b[0m \u001b[1;32mas\u001b[0m \u001b[0mf\u001b[0m\u001b[1;33m:\u001b[0m\u001b[1;33m\u001b[0m\u001b[1;33m\u001b[0m\u001b[0m\n\u001b[0m\u001b[0;32m      2\u001b[0m     \u001b[0mcontent\u001b[0m\u001b[1;33m=\u001b[0m\u001b[0mf\u001b[0m\u001b[1;33m.\u001b[0m\u001b[0mread\u001b[0m\u001b[1;33m(\u001b[0m\u001b[1;33m)\u001b[0m\u001b[1;33m\u001b[0m\u001b[1;33m\u001b[0m\u001b[0m\n\u001b[0;32m      3\u001b[0m     \u001b[0mprint\u001b[0m\u001b[1;33m(\u001b[0m\u001b[0mcontent\u001b[0m\u001b[1;33m)\u001b[0m\u001b[1;33m\u001b[0m\u001b[1;33m\u001b[0m\u001b[0m\n",
      "\u001b[1;31mFileNotFoundError\u001b[0m: [Errno 2] No such file or directory: 'firstText1.txt'"
     ]
    }
   ],
   "source": [
    "with open(r\"firstText1.txt\",\"r+\") as f:\n",
    "    content=f.read()\n",
    "    print(content)"
   ]
  },
  {
   "cell_type": "code",
   "execution_count": 21,
   "id": "8dea1ed0",
   "metadata": {},
   "outputs": [],
   "source": [
    "with open(r\"firstText.txt\",\"r+\") as f:\n",
    "    f.write(\"\\n\\n\\n\\nHello\")"
   ]
  },
  {
   "cell_type": "code",
   "execution_count": 22,
   "id": "08783ba9",
   "metadata": {},
   "outputs": [],
   "source": [
    "# write mode,\"w\":\n",
    "# It opens the file and deletes the whole content and then writes from the begining of the file\n",
    "# It creates a new file when file doesn't exist\n",
    "# It doesn't allow us to the read the content\n",
    "with open(r\"firstText.txt\",\"w\") as f:\n",
    "    f.write(\"Hello world\")"
   ]
  },
  {
   "cell_type": "code",
   "execution_count": 23,
   "id": "d502241e",
   "metadata": {},
   "outputs": [],
   "source": [
    "with open(r\"firstText1.txt\",\"w\") as f:\n",
    "    f.write(\"Hello world\")"
   ]
  },
  {
   "cell_type": "code",
   "execution_count": 24,
   "id": "dad9f22a",
   "metadata": {},
   "outputs": [
    {
     "ename": "UnsupportedOperation",
     "evalue": "not readable",
     "output_type": "error",
     "traceback": [
      "\u001b[1;31m---------------------------------------------------------------------------\u001b[0m",
      "\u001b[1;31mUnsupportedOperation\u001b[0m                      Traceback (most recent call last)",
      "\u001b[1;32m~\\AppData\\Local\\Temp/ipykernel_24144/3421087645.py\u001b[0m in \u001b[0;36m<module>\u001b[1;34m\u001b[0m\n\u001b[0;32m      1\u001b[0m \u001b[1;32mwith\u001b[0m \u001b[0mopen\u001b[0m\u001b[1;33m(\u001b[0m\u001b[1;34mr\"firstText1.txt\"\u001b[0m\u001b[1;33m,\u001b[0m\u001b[1;34m\"w\"\u001b[0m\u001b[1;33m)\u001b[0m \u001b[1;32mas\u001b[0m \u001b[0mf\u001b[0m\u001b[1;33m:\u001b[0m\u001b[1;33m\u001b[0m\u001b[1;33m\u001b[0m\u001b[0m\n\u001b[1;32m----> 2\u001b[1;33m     \u001b[0mcontent\u001b[0m\u001b[1;33m=\u001b[0m\u001b[0mf\u001b[0m\u001b[1;33m.\u001b[0m\u001b[0mread\u001b[0m\u001b[1;33m(\u001b[0m\u001b[1;33m)\u001b[0m\u001b[1;33m\u001b[0m\u001b[1;33m\u001b[0m\u001b[0m\n\u001b[0m\u001b[0;32m      3\u001b[0m     \u001b[0mprint\u001b[0m\u001b[1;33m(\u001b[0m\u001b[0mcontent\u001b[0m\u001b[1;33m)\u001b[0m\u001b[1;33m\u001b[0m\u001b[1;33m\u001b[0m\u001b[0m\n",
      "\u001b[1;31mUnsupportedOperation\u001b[0m: not readable"
     ]
    }
   ],
   "source": [
    "with open(r\"firstText1.txt\",\"w\") as f:\n",
    "    content=f.read()\n",
    "    print(content)"
   ]
  },
  {
   "cell_type": "code",
   "execution_count": 25,
   "id": "c92bed7b",
   "metadata": {},
   "outputs": [],
   "source": [
    "# write mode and read mode \"w+\":\n",
    "# It opens the file and deletes the whole content and then writes from the begining of the file\n",
    "# It creates a new file when file doesn't exist\n",
    "# It doesn't allow us to the read the content\n",
    "with open(r\"firstText.txt\",\"w+\") as f:\n",
    "    f.write(\"Hello world\")"
   ]
  },
  {
   "cell_type": "code",
   "execution_count": 26,
   "id": "44a654b2",
   "metadata": {},
   "outputs": [],
   "source": [
    "with open(r\"firstText2.txt\",\"w+\") as f:\n",
    "    f.write(\"Hello world\")"
   ]
  },
  {
   "cell_type": "code",
   "execution_count": 27,
   "id": "04da3a85",
   "metadata": {},
   "outputs": [
    {
     "name": "stdout",
     "output_type": "stream",
     "text": [
      "\n"
     ]
    }
   ],
   "source": [
    "with open(r\"firstText2.txt\",\"w+\") as f:\n",
    "    content=f.read()\n",
    "    print(content)"
   ]
  },
  {
   "cell_type": "code",
   "execution_count": 29,
   "id": "6d58e87c",
   "metadata": {},
   "outputs": [],
   "source": [
    "with open(r\"file1.txt\",\"r\") as f:\n",
    "    content=f.read()\n",
    "\n",
    "with open(r\"file1_copy.txt\",\"w\") as f:\n",
    "    f.write(content)"
   ]
  },
  {
   "cell_type": "code",
   "execution_count": 30,
   "id": "b28209ce",
   "metadata": {},
   "outputs": [
    {
     "ename": "UnsupportedOperation",
     "evalue": "not readable",
     "output_type": "error",
     "traceback": [
      "\u001b[1;31m---------------------------------------------------------------------------\u001b[0m",
      "\u001b[1;31mUnsupportedOperation\u001b[0m                      Traceback (most recent call last)",
      "\u001b[1;32m~\\AppData\\Local\\Temp/ipykernel_24144/3212009552.py\u001b[0m in \u001b[0;36m<module>\u001b[1;34m\u001b[0m\n\u001b[0;32m      1\u001b[0m \u001b[1;31m#append mode,\"a\"\u001b[0m\u001b[1;33m\u001b[0m\u001b[1;33m\u001b[0m\u001b[0m\n\u001b[0;32m      2\u001b[0m \u001b[1;32mwith\u001b[0m \u001b[0mopen\u001b[0m\u001b[1;33m(\u001b[0m\u001b[1;34m\"firstText.txt\"\u001b[0m\u001b[1;33m,\u001b[0m\u001b[1;34m\"a\"\u001b[0m\u001b[1;33m)\u001b[0m \u001b[1;32mas\u001b[0m \u001b[0mf\u001b[0m\u001b[1;33m:\u001b[0m\u001b[1;33m\u001b[0m\u001b[1;33m\u001b[0m\u001b[0m\n\u001b[1;32m----> 3\u001b[1;33m     \u001b[0mcontent\u001b[0m\u001b[1;33m=\u001b[0m\u001b[0mf\u001b[0m\u001b[1;33m.\u001b[0m\u001b[0mread\u001b[0m\u001b[1;33m(\u001b[0m\u001b[1;33m)\u001b[0m\u001b[1;33m\u001b[0m\u001b[1;33m\u001b[0m\u001b[0m\n\u001b[0m\u001b[0;32m      4\u001b[0m     \u001b[0mprint\u001b[0m\u001b[1;33m(\u001b[0m\u001b[0mcontent\u001b[0m\u001b[1;33m)\u001b[0m\u001b[1;33m\u001b[0m\u001b[1;33m\u001b[0m\u001b[0m\n",
      "\u001b[1;31mUnsupportedOperation\u001b[0m: not readable"
     ]
    }
   ],
   "source": [
    "#append mode,\"a\"=>We can't read the file\n",
    "with open(\"firstText.txt\",\"a\") as f:\n",
    "    content=f.read()\n",
    "    print(content)"
   ]
  },
  {
   "cell_type": "code",
   "execution_count": 31,
   "id": "4c227c4d",
   "metadata": {},
   "outputs": [
    {
     "name": "stdout",
     "output_type": "stream",
     "text": [
      "595\n"
     ]
    }
   ],
   "source": [
    "#append mode,\"a\"=>We can't read the file\n",
    "# =>when we open the file, cursor is at the end of the file\n",
    "#=> if file doesn't exist it makes the file\n",
    "#=> we can't read the file\n",
    "# no matter where you set the cursor content will always be written towards the end.\n",
    "with open(\"firstText.txt\",\"a\") as f:\n",
    "    print(f.tell())"
   ]
  },
  {
   "cell_type": "code",
   "execution_count": 32,
   "id": "e4356f10",
   "metadata": {},
   "outputs": [
    {
     "name": "stdout",
     "output_type": "stream",
     "text": [
      "0\n"
     ]
    }
   ],
   "source": [
    "with open(\"firstText100.txt\",\"a\") as f:\n",
    "    print(f.tell())"
   ]
  },
  {
   "cell_type": "code",
   "execution_count": 33,
   "id": "11acc0dc",
   "metadata": {},
   "outputs": [],
   "source": [
    "with open(\"firstText.txt\",\"a\") as f:\n",
    "    f.write(\"let's check a append mode\")"
   ]
  },
  {
   "cell_type": "code",
   "execution_count": 34,
   "id": "5a443436",
   "metadata": {},
   "outputs": [],
   "source": [
    "with open(\"firstText.txt\",\"a\") as f:\n",
    "    f.seek(100)\n",
    "    f.write(\"let's check the append mode again\")"
   ]
  },
  {
   "cell_type": "code",
   "execution_count": 36,
   "id": "be007207",
   "metadata": {},
   "outputs": [
    {
     "ename": "UnsupportedOperation",
     "evalue": "not readable",
     "output_type": "error",
     "traceback": [
      "\u001b[1;31m---------------------------------------------------------------------------\u001b[0m",
      "\u001b[1;31mUnsupportedOperation\u001b[0m                      Traceback (most recent call last)",
      "\u001b[1;32m~\\AppData\\Local\\Temp/ipykernel_24144/1325094658.py\u001b[0m in \u001b[0;36m<module>\u001b[1;34m\u001b[0m\n\u001b[0;32m      1\u001b[0m \u001b[1;32mwith\u001b[0m \u001b[0mopen\u001b[0m\u001b[1;33m(\u001b[0m\u001b[1;34m\"firstText.txt\"\u001b[0m\u001b[1;33m,\u001b[0m\u001b[1;34m\"a\"\u001b[0m\u001b[1;33m)\u001b[0m \u001b[1;32mas\u001b[0m \u001b[0mf\u001b[0m\u001b[1;33m:\u001b[0m\u001b[1;33m\u001b[0m\u001b[1;33m\u001b[0m\u001b[0m\n\u001b[0;32m      2\u001b[0m     \u001b[0mf\u001b[0m\u001b[1;33m.\u001b[0m\u001b[0mseek\u001b[0m\u001b[1;33m(\u001b[0m\u001b[1;36m100\u001b[0m\u001b[1;33m)\u001b[0m\u001b[1;33m\u001b[0m\u001b[1;33m\u001b[0m\u001b[0m\n\u001b[1;32m----> 3\u001b[1;33m     \u001b[0mf\u001b[0m\u001b[1;33m.\u001b[0m\u001b[0mread\u001b[0m\u001b[1;33m(\u001b[0m\u001b[1;33m)\u001b[0m\u001b[1;33m\u001b[0m\u001b[1;33m\u001b[0m\u001b[0m\n\u001b[0m",
      "\u001b[1;31mUnsupportedOperation\u001b[0m: not readable"
     ]
    }
   ],
   "source": [
    "with open(\"firstText.txt\",\"a\") as f:\n",
    "    f.seek(100)\n",
    "    f.read()"
   ]
  },
  {
   "cell_type": "code",
   "execution_count": 37,
   "id": "67164292",
   "metadata": {},
   "outputs": [
    {
     "name": "stdout",
     "output_type": "stream",
     "text": [
      "\n"
     ]
    }
   ],
   "source": [
    "#append mode and read,\"a+\"=>We can read the file\n",
    "# =>when we open the file, cursor is at the end of the file\n",
    "#=> if file doesn't exist it makes the file\n",
    "# no matter where you set the cursor content will always be written towards the end.\n",
    "with open(\"firstText.txt\",\"a+\") as f:\n",
    "    content=f.read()\n",
    "    print(content)\n",
    "    "
   ]
  },
  {
   "cell_type": "code",
   "execution_count": 38,
   "id": "9ecf69db",
   "metadata": {},
   "outputs": [],
   "source": [
    "with open(\"firstText101.txt\",\"a+\") as f:\n",
    "    f.write(\"Yayyyyyy!\")"
   ]
  },
  {
   "cell_type": "code",
   "execution_count": 39,
   "id": "051391ca",
   "metadata": {},
   "outputs": [],
   "source": [
    "with open(\"firstText.txt\",\"a\") as f:\n",
    "    f.seek(100)\n",
    "    f.write(\"let's check the append mode third time\")"
   ]
  },
  {
   "cell_type": "code",
   "execution_count": 40,
   "id": "a2d5e6a5",
   "metadata": {},
   "outputs": [],
   "source": [
    "with open(\"firstText.txt\",\"r\") as f:\n",
    "    content=f.readlines()\n",
    "    "
   ]
  },
  {
   "cell_type": "code",
   "execution_count": 41,
   "id": "3b79f343",
   "metadata": {},
   "outputs": [
    {
     "name": "stdout",
     "output_type": "stream",
     "text": [
      "['What is Lorem Ipsum?\\n', \"Lorem Ipsum is simply dummy text of the printing and typesetting industry. Lorem Ipsum has been the industry's standard dummy text ever since the 1500s, when an unknown printer took a galley of type and scrambled it to make a type specimen book. It has survived not only five centuries, but also the leap into electronic typesetting, remaining essentially unchanged. It was popularised in the 1960s with the release of Letraset sheets containing Lorem Ipsum passages, and more recently with desktop publishing software like Aldus PageMaker including versions of Lorem Ipsum.let's check a append modelet's check the append mode againlet's check the append mode third time\"]\n"
     ]
    }
   ],
   "source": [
    "print(content)"
   ]
  },
  {
   "cell_type": "code",
   "execution_count": 42,
   "id": "2ed08ba4",
   "metadata": {},
   "outputs": [
    {
     "name": "stdout",
     "output_type": "stream",
     "text": [
      "2\n"
     ]
    }
   ],
   "source": [
    "print(len(content))"
   ]
  },
  {
   "cell_type": "code",
   "execution_count": 43,
   "id": "b9220e57",
   "metadata": {},
   "outputs": [],
   "source": [
    "content.insert(1,\"This is Python class\\n\")"
   ]
  },
  {
   "cell_type": "code",
   "execution_count": 44,
   "id": "fb084c28",
   "metadata": {},
   "outputs": [
    {
     "name": "stdout",
     "output_type": "stream",
     "text": [
      "['What is Lorem Ipsum?\\n', 'This is Python class\\n', \"Lorem Ipsum is simply dummy text of the printing and typesetting industry. Lorem Ipsum has been the industry's standard dummy text ever since the 1500s, when an unknown printer took a galley of type and scrambled it to make a type specimen book. It has survived not only five centuries, but also the leap into electronic typesetting, remaining essentially unchanged. It was popularised in the 1960s with the release of Letraset sheets containing Lorem Ipsum passages, and more recently with desktop publishing software like Aldus PageMaker including versions of Lorem Ipsum.let's check a append modelet's check the append mode againlet's check the append mode third time\"]\n"
     ]
    }
   ],
   "source": [
    "print(content)"
   ]
  },
  {
   "cell_type": "code",
   "execution_count": 45,
   "id": "2752c973",
   "metadata": {},
   "outputs": [],
   "source": [
    "with open(\"firstText.txt\",\"w\") as f:\n",
    "    f.writelines(content)"
   ]
  },
  {
   "cell_type": "code",
   "execution_count": null,
   "id": "a013fe6e",
   "metadata": {},
   "outputs": [],
   "source": [
    "with open(\"firstText.txt\",\"w+\") as f:\n",
    "    f.writelines(content)"
   ]
  },
  {
   "cell_type": "code",
   "execution_count": 46,
   "id": "a09e9dd1",
   "metadata": {},
   "outputs": [],
   "source": [
    "with open(r\"image.jfif\",\"rb\") as f:\n",
    "    content=f.read()\n",
    "\n",
    "with open(r\"image_copy.jfif\",\"wb\") as f:\n",
    "    f.write(content)"
   ]
  },
  {
   "cell_type": "code",
   "execution_count": 47,
   "id": "1399b0e5",
   "metadata": {},
   "outputs": [],
   "source": [
    "dict={\"Name\":\"Garvit\",\"Age\":100}"
   ]
  },
  {
   "cell_type": "code",
   "execution_count": 48,
   "id": "9c841ce1",
   "metadata": {},
   "outputs": [],
   "source": [
    "with open(r\"file_nir.txt\", \"w\") as f:\n",
    "    dic = {\"x\": 1}\n",
    "    f.write(str(dic))\n"
   ]
  },
  {
   "cell_type": "code",
   "execution_count": null,
   "id": "ae08d321",
   "metadata": {},
   "outputs": [],
   "source": [
    "pickle=>it takes the python objects and converts them in such a way that is we write them into a file and we read that file again\n",
    "we will get the python object and not string\n",
    "loads\n",
    "dump"
   ]
  },
  {
   "cell_type": "code",
   "execution_count": null,
   "id": "4ef9a3f0",
   "metadata": {},
   "outputs": [],
   "source": [
    "import pickle"
   ]
  },
  {
   "cell_type": "markdown",
   "id": "d2ff61c9",
   "metadata": {},
   "source": [
    "# Exception handling"
   ]
  },
  {
   "cell_type": "code",
   "execution_count": 49,
   "id": "3745402b",
   "metadata": {},
   "outputs": [
    {
     "ename": "SyntaxError",
     "evalue": "unexpected EOF while parsing (Temp/ipykernel_24144/1116166254.py, line 4)",
     "output_type": "error",
     "traceback": [
      "\u001b[1;36m  File \u001b[1;32m\"C:\\Users\\gtane\\AppData\\Local\\Temp/ipykernel_24144/1116166254.py\"\u001b[1;36m, line \u001b[1;32m4\u001b[0m\n\u001b[1;33m    print(c\u001b[0m\n\u001b[1;37m           ^\u001b[0m\n\u001b[1;31mSyntaxError\u001b[0m\u001b[1;31m:\u001b[0m unexpected EOF while parsing\n"
     ]
    }
   ],
   "source": [
    "a=10\n",
    "b=20\n",
    "c=a+b\n",
    "print(c)"
   ]
  },
  {
   "cell_type": "code",
   "execution_count": 50,
   "id": "f49c0b49",
   "metadata": {},
   "outputs": [
    {
     "name": "stdout",
     "output_type": "stream",
     "text": [
      "30\n"
     ]
    }
   ],
   "source": [
    "a=10\n",
    "b=20\n",
    "c=a+b\n",
    "print(c)"
   ]
  },
  {
   "cell_type": "code",
   "execution_count": 51,
   "id": "07ce69aa",
   "metadata": {},
   "outputs": [
    {
     "name": "stdout",
     "output_type": "stream",
     "text": [
      "Enter the num10\n",
      "Enter the den10\n",
      "1.0\n"
     ]
    }
   ],
   "source": [
    "a=int(input(\"Enter the num\"))\n",
    "b=int(input(\"Enter the den\"))\n",
    "print(a/b)"
   ]
  },
  {
   "cell_type": "code",
   "execution_count": 53,
   "id": "a6c72023",
   "metadata": {},
   "outputs": [
    {
     "name": "stdout",
     "output_type": "stream",
     "text": [
      "Enter the num10\n",
      "Enter the den0\n"
     ]
    },
    {
     "ename": "ZeroDivisionError",
     "evalue": "division by zero",
     "output_type": "error",
     "traceback": [
      "\u001b[1;31m---------------------------------------------------------------------------\u001b[0m",
      "\u001b[1;31mZeroDivisionError\u001b[0m                         Traceback (most recent call last)",
      "\u001b[1;32m~\\AppData\\Local\\Temp/ipykernel_24144/1297191516.py\u001b[0m in \u001b[0;36m<module>\u001b[1;34m\u001b[0m\n\u001b[0;32m      1\u001b[0m \u001b[0ma\u001b[0m\u001b[1;33m=\u001b[0m\u001b[0mint\u001b[0m\u001b[1;33m(\u001b[0m\u001b[0minput\u001b[0m\u001b[1;33m(\u001b[0m\u001b[1;34m\"Enter the num\"\u001b[0m\u001b[1;33m)\u001b[0m\u001b[1;33m)\u001b[0m\u001b[1;33m\u001b[0m\u001b[1;33m\u001b[0m\u001b[0m\n\u001b[0;32m      2\u001b[0m \u001b[0mb\u001b[0m\u001b[1;33m=\u001b[0m\u001b[0mint\u001b[0m\u001b[1;33m(\u001b[0m\u001b[0minput\u001b[0m\u001b[1;33m(\u001b[0m\u001b[1;34m\"Enter the den\"\u001b[0m\u001b[1;33m)\u001b[0m\u001b[1;33m)\u001b[0m\u001b[1;33m\u001b[0m\u001b[1;33m\u001b[0m\u001b[0m\n\u001b[1;32m----> 3\u001b[1;33m \u001b[0mprint\u001b[0m\u001b[1;33m(\u001b[0m\u001b[0ma\u001b[0m\u001b[1;33m/\u001b[0m\u001b[0mb\u001b[0m\u001b[1;33m)\u001b[0m\u001b[1;33m\u001b[0m\u001b[1;33m\u001b[0m\u001b[0m\n\u001b[0m\u001b[0;32m      4\u001b[0m \u001b[0mprint\u001b[0m\u001b[1;33m(\u001b[0m\u001b[1;34m\"Next class in tom\"\u001b[0m\u001b[1;33m)\u001b[0m\u001b[1;33m\u001b[0m\u001b[1;33m\u001b[0m\u001b[0m\n",
      "\u001b[1;31mZeroDivisionError\u001b[0m: division by zero"
     ]
    }
   ],
   "source": [
    "a=int(input(\"Enter the num\"))\n",
    "b=int(input(\"Enter the den\"))\n",
    "print(a/b)\n",
    "print(\"Next class in tom\")"
   ]
  },
  {
   "cell_type": "code",
   "execution_count": null,
   "id": "2fc41f05",
   "metadata": {},
   "outputs": [],
   "source": [
    "# try,except,else,finally\n",
    "# try=>it is a block that contains the code where error might occur\n",
    "# except=> it is the block which contains the code you want to run if there is an error\n",
    "# else => it works only when there is no error inside the try block\n",
    "# finally=> it works always\n",
    "\n",
    "\n",
    "#Notes every try should have a except block but else and finally optional"
   ]
  },
  {
   "cell_type": "code",
   "execution_count": 54,
   "id": "bca8aa27",
   "metadata": {},
   "outputs": [
    {
     "name": "stdout",
     "output_type": "stream",
     "text": [
      "Enter the num10000tttt\n"
     ]
    },
    {
     "ename": "ValueError",
     "evalue": "invalid literal for int() with base 10: '10000tttt'",
     "output_type": "error",
     "traceback": [
      "\u001b[1;31m---------------------------------------------------------------------------\u001b[0m",
      "\u001b[1;31mValueError\u001b[0m                                Traceback (most recent call last)",
      "\u001b[1;32m~\\AppData\\Local\\Temp/ipykernel_24144/1843448764.py\u001b[0m in \u001b[0;36m<module>\u001b[1;34m\u001b[0m\n\u001b[0;32m      1\u001b[0m \u001b[1;31m#try\u001b[0m\u001b[1;33m\u001b[0m\u001b[1;33m\u001b[0m\u001b[0m\n\u001b[1;32m----> 2\u001b[1;33m \u001b[0ma\u001b[0m\u001b[1;33m=\u001b[0m\u001b[0mint\u001b[0m\u001b[1;33m(\u001b[0m\u001b[0minput\u001b[0m\u001b[1;33m(\u001b[0m\u001b[1;34m\"Enter the num\"\u001b[0m\u001b[1;33m)\u001b[0m\u001b[1;33m)\u001b[0m\u001b[1;33m\u001b[0m\u001b[1;33m\u001b[0m\u001b[0m\n\u001b[0m\u001b[0;32m      3\u001b[0m \u001b[0mb\u001b[0m\u001b[1;33m=\u001b[0m\u001b[0mint\u001b[0m\u001b[1;33m(\u001b[0m\u001b[0minput\u001b[0m\u001b[1;33m(\u001b[0m\u001b[1;34m\"Enter the den\"\u001b[0m\u001b[1;33m)\u001b[0m\u001b[1;33m)\u001b[0m\u001b[1;33m\u001b[0m\u001b[1;33m\u001b[0m\u001b[0m\n\u001b[0;32m      4\u001b[0m \u001b[0mprint\u001b[0m\u001b[1;33m(\u001b[0m\u001b[0ma\u001b[0m\u001b[1;33m/\u001b[0m\u001b[0mb\u001b[0m\u001b[1;33m)\u001b[0m\u001b[1;33m\u001b[0m\u001b[1;33m\u001b[0m\u001b[0m\n\u001b[0;32m      5\u001b[0m \u001b[0mprint\u001b[0m\u001b[1;33m(\u001b[0m\u001b[1;34m\"Next class in tom\"\u001b[0m\u001b[1;33m)\u001b[0m\u001b[1;33m\u001b[0m\u001b[1;33m\u001b[0m\u001b[0m\n",
      "\u001b[1;31mValueError\u001b[0m: invalid literal for int() with base 10: '10000tttt'"
     ]
    }
   ],
   "source": [
    "#try\n",
    "a=int(input(\"Enter the num\"))\n",
    "b=int(input(\"Enter the den\"))\n",
    "print(a/b)\n",
    "\n",
    "print(a*b)\n"
   ]
  },
  {
   "cell_type": "code",
   "execution_count": 55,
   "id": "479711f0",
   "metadata": {},
   "outputs": [
    {
     "name": "stdout",
     "output_type": "stream",
     "text": [
      "Enter the num10\n",
      "Enter the den0\n",
      "Hey you have given denominator as 0 because of which, div is not possible\n",
      "0\n"
     ]
    }
   ],
   "source": [
    "try:\n",
    "    a=int(input(\"Enter the num\"))\n",
    "    b=int(input(\"Enter the den\"))\n",
    "    print(a/b)\n",
    "except:\n",
    "    print(\"Hey you have given denominator as 0 because of which, div is not possible\")\n",
    "print(a*b)\n",
    "    \n",
    "    "
   ]
  },
  {
   "cell_type": "code",
   "execution_count": 57,
   "id": "c22cb3f8",
   "metadata": {},
   "outputs": [
    {
     "name": "stdout",
     "output_type": "stream",
     "text": [
      "Enter the num10\n",
      "Enter the den0\n",
      "Hey you have given denominator as 0 because of which, div is not possible\n"
     ]
    }
   ],
   "source": [
    "try:\n",
    "    a=int(input(\"Enter the num\"))\n",
    "    b=int(input(\"Enter the den\"))\n",
    "    print(a/b)\n",
    "except:\n",
    "    print(\"Hey you have given denominator as 0 because of which, div is not possible\")\n",
    "else:\n",
    "    print(\"woah\")"
   ]
  },
  {
   "cell_type": "code",
   "execution_count": 58,
   "id": "bb1c4695",
   "metadata": {},
   "outputs": [
    {
     "name": "stdout",
     "output_type": "stream",
     "text": [
      "Enter the num10\n",
      "Enter the den2\n",
      "5.0\n",
      "woah\n"
     ]
    }
   ],
   "source": [
    "try:\n",
    "    a=int(input(\"Enter the num\"))\n",
    "    b=int(input(\"Enter the den\"))\n",
    "    print(a/b)\n",
    "except:\n",
    "    print(\"Hey you have given denominator as 0 because of which, div is not possible\")\n",
    "finally:\n",
    "    print(\"woah\")\n",
    "    "
   ]
  },
  {
   "cell_type": "code",
   "execution_count": 59,
   "id": "74456efc",
   "metadata": {},
   "outputs": [
    {
     "name": "stdout",
     "output_type": "stream",
     "text": [
      "Enter the num10\n",
      "Enter the den0\n",
      "Hey you have given denominator as 0 because of which, div is not possible\n",
      "woah\n"
     ]
    }
   ],
   "source": [
    "try:\n",
    "    a=int(input(\"Enter the num\"))\n",
    "    b=int(input(\"Enter the den\"))\n",
    "    print(a/b)\n",
    "except:\n",
    "    print(\"Hey you have given denominator as 0 because of which, div is not possible\")\n",
    "finally:\n",
    "    print(\"woah\")"
   ]
  },
  {
   "cell_type": "code",
   "execution_count": null,
   "id": "733947ea",
   "metadata": {},
   "outputs": [],
   "source": [
    "try:\n",
    "    a=int(input(\"Enter the num\"))\n",
    "    b=int(input(\"Enter the den\"))\n",
    "    print(a/b)\n",
    "except:\n",
    "    print(\"Hey you have given denominator as 0 because of which, div is not possible\")\n",
    "    print(a*b)\n",
    "else:\n",
    "    print(a*b)\n",
    "finally:\n",
    "    print(\"Next class is tom\")"
   ]
  },
  {
   "cell_type": "code",
   "execution_count": 63,
   "id": "75187dc6",
   "metadata": {},
   "outputs": [
    {
     "name": "stdout",
     "output_type": "stream",
     "text": [
      "Enter the num10t\n",
      "Hey this is not a number that is why I am taking the default value which is 0\n",
      "Enter the den0\n",
      "Hey you have given denominator as 0 because of which, div is not possible\n",
      "0\n",
      "Next class is tom\n"
     ]
    }
   ],
   "source": [
    "try:\n",
    "    try:\n",
    "        a=int(input(\"Enter the num\"))\n",
    "    except:\n",
    "        print(\"Hey this is not a number that is why I am taking the default value which is 0\")\n",
    "        a=10\n",
    "    try:\n",
    "        b=int(input(\"Enter the den\"))\n",
    "    except:\n",
    "        print(\"it is not a number, so I am taking it as 1\")\n",
    "        b=1\n",
    "    print(a/b)\n",
    "except:\n",
    "    print(\"Hey you have given denominator as 0 because of which, div is not possible\")\n",
    "    print(a*b)\n",
    "else:\n",
    "    print(a*b)\n",
    "finally:\n",
    "    print(\"Next class is tom\")"
   ]
  },
  {
   "cell_type": "code",
   "execution_count": null,
   "id": "ae5a11db",
   "metadata": {},
   "outputs": [],
   "source": [
    "try:\n",
    "    a=int(input(\"Enter the num\"))\n",
    "    b=int(input(\"Enter the den\"))\n",
    "    print(a/b)\n",
    "except:\n",
    "    print(\"Hey you have given denominator as 0 because of which, div is not possible\")\n",
    "    print(a*b)\n",
    "else:\n",
    "    print(a*b)\n",
    "finally:\n",
    "    print(\"Next class is tom\")"
   ]
  },
  {
   "cell_type": "code",
   "execution_count": 67,
   "id": "38cc7ba5",
   "metadata": {},
   "outputs": [
    {
     "name": "stdout",
     "output_type": "stream",
     "text": [
      "Enter the num10t\n",
      "You haven't given us integer input\n",
      "Next class is tom\n"
     ]
    }
   ],
   "source": [
    "try:\n",
    "    a=int(input(\"Enter the num\"))\n",
    "    b=int(input(\"Enter the den\"))\n",
    "    print(a/b)\n",
    "except ZeroDivisionError as ze:\n",
    "    print(\"Hey you have given denominator as 0 because of which, div is not possible\")\n",
    "    print(a*b)\n",
    "except:\n",
    "    print(\"You haven't given us integer input\")\n",
    "    \n",
    "else:\n",
    "    print(a*b)\n",
    "finally:\n",
    "    print(\"Next class is tom\")"
   ]
  },
  {
   "cell_type": "code",
   "execution_count": 64,
   "id": "0c94c5a8",
   "metadata": {},
   "outputs": [
    {
     "name": "stdout",
     "output_type": "stream",
     "text": [
      "['ArithmeticError', 'AssertionError', 'AttributeError', 'BaseException', 'BlockingIOError', 'BrokenPipeError', 'BufferError', 'BytesWarning', 'ChildProcessError', 'ConnectionAbortedError', 'ConnectionError', 'ConnectionRefusedError', 'ConnectionResetError', 'DeprecationWarning', 'EOFError', 'Ellipsis', 'EnvironmentError', 'Exception', 'False', 'FileExistsError', 'FileNotFoundError', 'FloatingPointError', 'FutureWarning', 'GeneratorExit', 'IOError', 'ImportError', 'ImportWarning', 'IndentationError', 'IndexError', 'InterruptedError', 'IsADirectoryError', 'KeyError', 'KeyboardInterrupt', 'LookupError', 'MemoryError', 'ModuleNotFoundError', 'NameError', 'None', 'NotADirectoryError', 'NotImplemented', 'NotImplementedError', 'OSError', 'OverflowError', 'PendingDeprecationWarning', 'PermissionError', 'ProcessLookupError', 'RecursionError', 'ReferenceError', 'ResourceWarning', 'RuntimeError', 'RuntimeWarning', 'StopAsyncIteration', 'StopIteration', 'SyntaxError', 'SyntaxWarning', 'SystemError', 'SystemExit', 'TabError', 'TimeoutError', 'True', 'TypeError', 'UnboundLocalError', 'UnicodeDecodeError', 'UnicodeEncodeError', 'UnicodeError', 'UnicodeTranslateError', 'UnicodeWarning', 'UserWarning', 'ValueError', 'Warning', 'WindowsError', 'ZeroDivisionError', '__IPYTHON__', '__build_class__', '__debug__', '__doc__', '__import__', '__loader__', '__name__', '__package__', '__spec__', 'abs', 'all', 'any', 'ascii', 'bin', 'bool', 'breakpoint', 'bytearray', 'bytes', 'callable', 'chr', 'classmethod', 'compile', 'complex', 'copyright', 'credits', 'delattr', 'dict', 'dir', 'display', 'divmod', 'enumerate', 'eval', 'exec', 'execfile', 'filter', 'float', 'format', 'frozenset', 'get_ipython', 'getattr', 'globals', 'hasattr', 'hash', 'help', 'hex', 'id', 'input', 'int', 'isinstance', 'issubclass', 'iter', 'len', 'license', 'list', 'locals', 'map', 'max', 'memoryview', 'min', 'next', 'object', 'oct', 'open', 'ord', 'pow', 'print', 'property', 'range', 'repr', 'reversed', 'round', 'runfile', 'set', 'setattr', 'slice', 'sorted', 'staticmethod', 'str', 'sum', 'super', 'tuple', 'type', 'vars', 'zip']\n"
     ]
    }
   ],
   "source": [
    "print(dir(__builtin__))"
   ]
  },
  {
   "cell_type": "code",
   "execution_count": 69,
   "id": "6898d70f",
   "metadata": {},
   "outputs": [
    {
     "name": "stdout",
     "output_type": "stream",
     "text": [
      "Enter the num10\n",
      "Enter the den0\n",
      "You haven't given us integer input\n",
      "Next class is tom\n"
     ]
    }
   ],
   "source": [
    "try:\n",
    "    a=int(input(\"Enter the num\"))\n",
    "    b=int(input(\"Enter the den\"))\n",
    "    print(a/b)\n",
    "except Exception as :\n",
    "    print(\"You haven't given us integer input\")\n",
    "\n",
    "else:\n",
    "    print(a*b)\n",
    "finally:\n",
    "    print(\"Next class is tom\")"
   ]
  },
  {
   "cell_type": "code",
   "execution_count": 75,
   "id": "833cf77e",
   "metadata": {},
   "outputs": [
    {
     "name": "stdout",
     "output_type": "stream",
     "text": [
      "enter marks85\n",
      "A\n"
     ]
    }
   ],
   "source": [
    "marks=int(input(\"enter marks\"))\n",
    "if(marks>80):\n",
    "    print(\"A\")\n",
    "else:\n",
    "    print(\"B\")"
   ]
  },
  {
   "cell_type": "code",
   "execution_count": 77,
   "id": "42c7a793",
   "metadata": {},
   "outputs": [
    {
     "name": "stdout",
     "output_type": "stream",
     "text": [
      "enter marks75\n",
      "A\n"
     ]
    }
   ],
   "source": [
    "marks=int(input(\"enter marks\"))\n",
    "if(marks>70):\n",
    "    print(\"A\")\n",
    "else:\n",
    "    print(\"B\")"
   ]
  },
  {
   "cell_type": "code",
   "execution_count": 92,
   "id": "02af910e",
   "metadata": {},
   "outputs": [],
   "source": [
    "amount=50000\n",
    "\n",
    "class MyException(Exception):\n",
    "    def __init__(msg):\n",
    "        print(msg)\n",
    "\n",
    "def withdraw(amount_to_withdraw):\n",
    "    #global amount\n",
    "    if(amount_to_withdraw<=amount):\n",
    "        print(\"withdrawn\")\n",
    "     #   amount=amount-amount_to_withdraw\n",
    "    else:\n",
    "        raise MyException(\"Hey you can't withdraw amount greater than the balance\")\n",
    "\n",
    "        \n",
    "\n"
   ]
  },
  {
   "cell_type": "code",
   "execution_count": 93,
   "id": "9fdff3dd",
   "metadata": {},
   "outputs": [
    {
     "ename": "TypeError",
     "evalue": "__init__() takes 1 positional argument but 2 were given",
     "output_type": "error",
     "traceback": [
      "\u001b[1;31m---------------------------------------------------------------------------\u001b[0m",
      "\u001b[1;31mTypeError\u001b[0m                                 Traceback (most recent call last)",
      "\u001b[1;32m~\\AppData\\Local\\Temp/ipykernel_24144/4085735470.py\u001b[0m in \u001b[0;36m<module>\u001b[1;34m\u001b[0m\n\u001b[1;32m----> 1\u001b[1;33m \u001b[0mwithdraw\u001b[0m\u001b[1;33m(\u001b[0m\u001b[1;36m10000000\u001b[0m\u001b[1;33m)\u001b[0m\u001b[1;33m\u001b[0m\u001b[1;33m\u001b[0m\u001b[0m\n\u001b[0m",
      "\u001b[1;32m~\\AppData\\Local\\Temp/ipykernel_24144/3420413764.py\u001b[0m in \u001b[0;36mwithdraw\u001b[1;34m(amount_to_withdraw)\u001b[0m\n\u001b[0;32m     11\u001b[0m      \u001b[1;31m#   amount=amount-amount_to_withdraw\u001b[0m\u001b[1;33m\u001b[0m\u001b[1;33m\u001b[0m\u001b[0m\n\u001b[0;32m     12\u001b[0m     \u001b[1;32melse\u001b[0m\u001b[1;33m:\u001b[0m\u001b[1;33m\u001b[0m\u001b[1;33m\u001b[0m\u001b[0m\n\u001b[1;32m---> 13\u001b[1;33m         \u001b[1;32mraise\u001b[0m \u001b[0mMyException\u001b[0m\u001b[1;33m(\u001b[0m\u001b[1;34m\"Hey you can't withdraw amount greater than the balance\"\u001b[0m\u001b[1;33m)\u001b[0m\u001b[1;33m\u001b[0m\u001b[1;33m\u001b[0m\u001b[0m\n\u001b[0m\u001b[0;32m     14\u001b[0m \u001b[1;33m\u001b[0m\u001b[0m\n\u001b[0;32m     15\u001b[0m \u001b[1;33m\u001b[0m\u001b[0m\n",
      "\u001b[1;31mTypeError\u001b[0m: __init__() takes 1 positional argument but 2 were given"
     ]
    }
   ],
   "source": [
    "withdraw(10000000)"
   ]
  },
  {
   "cell_type": "code",
   "execution_count": null,
   "id": "5608a3c2",
   "metadata": {},
   "outputs": [],
   "source": []
  },
  {
   "cell_type": "code",
   "execution_count": null,
   "id": "7c190829",
   "metadata": {},
   "outputs": [],
   "source": []
  },
  {
   "cell_type": "code",
   "execution_count": null,
   "id": "7113b1d1",
   "metadata": {},
   "outputs": [],
   "source": []
  },
  {
   "cell_type": "code",
   "execution_count": null,
   "id": "48392948",
   "metadata": {},
   "outputs": [],
   "source": []
  },
  {
   "cell_type": "code",
   "execution_count": null,
   "id": "f9b9c025",
   "metadata": {},
   "outputs": [],
   "source": []
  },
  {
   "cell_type": "code",
   "execution_count": null,
   "id": "292c1c69",
   "metadata": {},
   "outputs": [],
   "source": []
  }
 ],
 "metadata": {
  "kernelspec": {
   "display_name": "Python 3 (ipykernel)",
   "language": "python",
   "name": "python3"
  },
  "language_info": {
   "codemirror_mode": {
    "name": "ipython",
    "version": 3
   },
   "file_extension": ".py",
   "mimetype": "text/x-python",
   "name": "python",
   "nbconvert_exporter": "python",
   "pygments_lexer": "ipython3",
   "version": "3.9.7"
  }
 },
 "nbformat": 4,
 "nbformat_minor": 5
}
