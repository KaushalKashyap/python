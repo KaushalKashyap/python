{
 "cells": [
  {
   "cell_type": "code",
   "execution_count": null,
   "id": "11d90843",
   "metadata": {},
   "outputs": [],
   "source": []
  },
  {
   "cell_type": "code",
   "execution_count": null,
   "id": "3f8f2024",
   "metadata": {},
   "outputs": [],
   "source": []
  },
  {
   "cell_type": "code",
   "execution_count": null,
   "id": "59a681c3",
   "metadata": {},
   "outputs": [],
   "source": []
  },
  {
   "cell_type": "code",
   "execution_count": null,
   "id": "7cb659ed",
   "metadata": {},
   "outputs": [],
   "source": []
  },
  {
   "cell_type": "code",
   "execution_count": null,
   "id": "95547a09",
   "metadata": {},
   "outputs": [],
   "source": []
  },
  {
   "cell_type": "code",
   "execution_count": null,
   "id": "2cec33c5",
   "metadata": {},
   "outputs": [],
   "source": []
  },
  {
   "cell_type": "code",
   "execution_count": null,
   "id": "9958fc15",
   "metadata": {},
   "outputs": [],
   "source": []
  },
  {
   "cell_type": "markdown",
   "id": "a785d999",
   "metadata": {},
   "source": [
    "# lambda functions"
   ]
  },
  {
   "cell_type": "code",
   "execution_count": 1,
   "id": "143b219c",
   "metadata": {},
   "outputs": [],
   "source": [
    "list1=[10,20,30,-10,20,5,0,10]"
   ]
  },
  {
   "cell_type": "code",
   "execution_count": 2,
   "id": "4e4cbe1e",
   "metadata": {},
   "outputs": [
    {
     "name": "stdout",
     "output_type": "stream",
     "text": [
      "[10, 20, 30, -10, 20, 5, 0, 10]\n"
     ]
    }
   ],
   "source": [
    "print(list1)"
   ]
  },
  {
   "cell_type": "code",
   "execution_count": 5,
   "id": "1163ef26",
   "metadata": {},
   "outputs": [],
   "source": [
    "list1.sort()"
   ]
  },
  {
   "cell_type": "code",
   "execution_count": 6,
   "id": "e38c5ff6",
   "metadata": {},
   "outputs": [
    {
     "name": "stdout",
     "output_type": "stream",
     "text": [
      "[-10, 0, 5, 10, 10, 20, 20, 30]\n"
     ]
    }
   ],
   "source": [
    "print(list1)"
   ]
  },
  {
   "cell_type": "code",
   "execution_count": 7,
   "id": "d9e9f37d",
   "metadata": {},
   "outputs": [],
   "source": [
    "list1=[\"Garvit\",\"Abhishek\",\"Advait\",\"Arsh\",\"Megha\"]"
   ]
  },
  {
   "cell_type": "code",
   "execution_count": 8,
   "id": "3f9a50be",
   "metadata": {},
   "outputs": [],
   "source": [
    "list1.sort()"
   ]
  },
  {
   "cell_type": "code",
   "execution_count": 9,
   "id": "c1755ed3",
   "metadata": {},
   "outputs": [
    {
     "name": "stdout",
     "output_type": "stream",
     "text": [
      "['Abhishek', 'Advait', 'Arsh', 'Garvit', 'Megha']\n"
     ]
    }
   ],
   "source": [
    "print(list1)"
   ]
  },
  {
   "cell_type": "code",
   "execution_count": 10,
   "id": "11f9330a",
   "metadata": {},
   "outputs": [
    {
     "name": "stdout",
     "output_type": "stream",
     "text": [
      "Help on method_descriptor:\n",
      "\n",
      "sort(self, /, *, key=None, reverse=False)\n",
      "    Sort the list in ascending order and return None.\n",
      "    \n",
      "    The sort is in-place (i.e. the list itself is modified) and stable (i.e. the\n",
      "    order of two equal elements is maintained).\n",
      "    \n",
      "    If a key function is given, apply it once to each list item and sort them,\n",
      "    ascending or descending, according to their function values.\n",
      "    \n",
      "    The reverse flag can be set to sort in descending order.\n",
      "\n",
      "None\n"
     ]
    }
   ],
   "source": [
    "print(help(list.sort))"
   ]
  },
  {
   "cell_type": "code",
   "execution_count": 11,
   "id": "b9d6c44d",
   "metadata": {},
   "outputs": [],
   "source": [
    "list1.sort(key=len)"
   ]
  },
  {
   "cell_type": "code",
   "execution_count": 12,
   "id": "12621701",
   "metadata": {},
   "outputs": [
    {
     "name": "stdout",
     "output_type": "stream",
     "text": [
      "['Arsh', 'Megha', 'Advait', 'Garvit', 'Abhishek']\n"
     ]
    }
   ],
   "source": [
    "print(list1)"
   ]
  },
  {
   "cell_type": "code",
   "execution_count": 13,
   "id": "0ce1b201",
   "metadata": {},
   "outputs": [],
   "source": [
    "def key_to_sort(name):\n",
    "    return name[1]"
   ]
  },
  {
   "cell_type": "code",
   "execution_count": 15,
   "id": "44492dff",
   "metadata": {},
   "outputs": [],
   "source": [
    "list1.sort(key=key_to_sort)"
   ]
  },
  {
   "cell_type": "code",
   "execution_count": 16,
   "id": "f13ace0f",
   "metadata": {},
   "outputs": [
    {
     "name": "stdout",
     "output_type": "stream",
     "text": [
      "['Garvit', 'Abhishek', 'Advait', 'Megha', 'Arsh']\n"
     ]
    }
   ],
   "source": [
    "print(list1)"
   ]
  },
  {
   "cell_type": "code",
   "execution_count": 19,
   "id": "979e6361",
   "metadata": {},
   "outputs": [],
   "source": [
    "list1=[\"Garvit Taneja\", \"Saksham Mehra\", \"Vipyl Jaiswal\",\"Shreya Kumari\",\"Arvind Taneja\"]"
   ]
  },
  {
   "cell_type": "code",
   "execution_count": 23,
   "id": "12d3a4f0",
   "metadata": {},
   "outputs": [],
   "source": [
    "def key_to_sort(name):\n",
    "    return name.split()[-1]\n",
    "#     return name[name.index(\" \")+1:]\n",
    "    "
   ]
  },
  {
   "cell_type": "code",
   "execution_count": 24,
   "id": "1104308d",
   "metadata": {},
   "outputs": [],
   "source": [
    "list1.sort(key=key_to_sort)"
   ]
  },
  {
   "cell_type": "code",
   "execution_count": 25,
   "id": "3ec0b5fc",
   "metadata": {},
   "outputs": [
    {
     "name": "stdout",
     "output_type": "stream",
     "text": [
      "['Vipyl Jaiswal', 'Shreya Kumari', 'Saksham Mehra', 'Garvit Taneja', 'Arvind Taneja']\n"
     ]
    }
   ],
   "source": [
    "print(list1)"
   ]
  },
  {
   "cell_type": "code",
   "execution_count": null,
   "id": "ef5abfee",
   "metadata": {},
   "outputs": [],
   "source": [
    "# lambda functions are the functions where you don't have to give a name to the function\n",
    "# We can't write multiple lines\n"
   ]
  },
  {
   "cell_type": "code",
   "execution_count": 26,
   "id": "1789384f",
   "metadata": {},
   "outputs": [],
   "source": [
    "# symtax\n",
    "lambda argument1, argument2: whatever_we_want_to_return\n",
    "\n",
    "list1.sort(key=lambda name: name[1])\n"
   ]
  },
  {
   "cell_type": "code",
   "execution_count": 27,
   "id": "728ef103",
   "metadata": {},
   "outputs": [
    {
     "name": "stdout",
     "output_type": "stream",
     "text": [
      "['Saksham Mehra', 'Garvit Taneja', 'Shreya Kumari', 'Vipyl Jaiswal', 'Arvind Taneja']\n"
     ]
    }
   ],
   "source": [
    "print(list1)"
   ]
  },
  {
   "cell_type": "code",
   "execution_count": null,
   "id": "456589e8",
   "metadata": {},
   "outputs": [],
   "source": [
    "def key_to_sort(name):\n",
    "    return name.split()[-1]\n",
    "\n",
    "# corr lambda function\n",
    "lambda name: name[name.index(\" \")+1:]"
   ]
  },
  {
   "cell_type": "code",
   "execution_count": 30,
   "id": "be39cc98",
   "metadata": {},
   "outputs": [],
   "source": [
    "# list of tuple, each tuple has 3 elements, first element is length, second is breadth and third is price. \n",
    "# sort it to optimise the cost\n",
    "\n",
    "list1=[(1,2,2),(2,2,8),(4,4,100),(2,1,4),(100,100,50)]"
   ]
  },
  {
   "cell_type": "code",
   "execution_count": 31,
   "id": "6ca4abbb",
   "metadata": {},
   "outputs": [],
   "source": [
    "list1.sort(key=lambda tpl: tpl[2]/(tpl[0]*tpl[1]))\n"
   ]
  },
  {
   "cell_type": "code",
   "execution_count": 32,
   "id": "5ce5088e",
   "metadata": {},
   "outputs": [
    {
     "name": "stdout",
     "output_type": "stream",
     "text": [
      "[(100, 100, 50), (1, 2, 2), (2, 2, 8), (2, 1, 4), (4, 4, 100)]\n"
     ]
    }
   ],
   "source": [
    "print(list1)"
   ]
  },
  {
   "cell_type": "code",
   "execution_count": 34,
   "id": "1ed885e4",
   "metadata": {},
   "outputs": [],
   "source": [
    "# filter function=>this function helps us in filtering out certaing objects from the iterables of objects\n",
    "list1=[10,21,23,22,234,54,66,77,87,98,101]\n",
    "# hw: without using the filter function=> make a list of only even numbers\n"
   ]
  },
  {
   "cell_type": "code",
   "execution_count": null,
   "id": "00bd761e",
   "metadata": {},
   "outputs": [],
   "source": [
    "# syntax\n",
    "# filter(funct,iterable)"
   ]
  },
  {
   "cell_type": "code",
   "execution_count": 39,
   "id": "c265627c",
   "metadata": {},
   "outputs": [],
   "source": [
    "a=filter(lambda x: x%2==0,list1)"
   ]
  },
  {
   "cell_type": "code",
   "execution_count": 40,
   "id": "92b7b093",
   "metadata": {},
   "outputs": [
    {
     "name": "stdout",
     "output_type": "stream",
     "text": [
      "<filter object at 0x000001530E2F1E20>\n"
     ]
    }
   ],
   "source": [
    "print(a)"
   ]
  },
  {
   "cell_type": "code",
   "execution_count": 41,
   "id": "8702e287",
   "metadata": {},
   "outputs": [
    {
     "name": "stdout",
     "output_type": "stream",
     "text": [
      "10\n",
      "22\n",
      "234\n",
      "54\n",
      "66\n",
      "98\n"
     ]
    }
   ],
   "source": [
    "for i in a:\n",
    "    print(i)"
   ]
  },
  {
   "cell_type": "code",
   "execution_count": 48,
   "id": "d46dc3af",
   "metadata": {},
   "outputs": [],
   "source": [
    "list1=[\"Garvit@learnbay.com\",\"Shikha@gmail.com\",\"Krish@yahoo.com\",\"Abhishke@learnbay.com\"]"
   ]
  },
  {
   "cell_type": "code",
   "execution_count": 51,
   "id": "6b2a3756",
   "metadata": {},
   "outputs": [],
   "source": [
    "a=list(filter(lambda email: email.find(\"@learnbay.com\")!=-1,list1))"
   ]
  },
  {
   "cell_type": "code",
   "execution_count": 52,
   "id": "f486ce46",
   "metadata": {},
   "outputs": [
    {
     "name": "stdout",
     "output_type": "stream",
     "text": [
      "['Garvit@learnbay.com', 'Abhishke@learnbay.com']\n"
     ]
    }
   ],
   "source": [
    "print(a)"
   ]
  },
  {
   "cell_type": "code",
   "execution_count": 53,
   "id": "5feb22a0",
   "metadata": {},
   "outputs": [],
   "source": [
    "# map function+>used to replace loops, \n",
    "#syntax: map(func, iterable)->returns map object"
   ]
  },
  {
   "cell_type": "code",
   "execution_count": 68,
   "id": "10704cbd",
   "metadata": {},
   "outputs": [],
   "source": [
    "list1=[1,2,3,4,5,6,10,20,30]"
   ]
  },
  {
   "cell_type": "code",
   "execution_count": 59,
   "id": "d0068248",
   "metadata": {},
   "outputs": [],
   "source": [
    "list2=[]\n",
    "for i in list1:\n",
    "    list2=list2+[i*i]\n",
    "    \n",
    "    "
   ]
  },
  {
   "cell_type": "code",
   "execution_count": 60,
   "id": "ed49575f",
   "metadata": {},
   "outputs": [
    {
     "name": "stdout",
     "output_type": "stream",
     "text": [
      "[1, 4, 9, 16, 25, 36, 100, 400, 900]\n"
     ]
    }
   ],
   "source": [
    "print(list2)"
   ]
  },
  {
   "cell_type": "code",
   "execution_count": 66,
   "id": "740275eb",
   "metadata": {},
   "outputs": [],
   "source": [
    "list3=list(map(lambda i: i*i, list1))"
   ]
  },
  {
   "cell_type": "code",
   "execution_count": 67,
   "id": "f7f2c3b3",
   "metadata": {},
   "outputs": [
    {
     "name": "stdout",
     "output_type": "stream",
     "text": [
      "[1, 4, 9, 16, 25, 36, 100, 400, 900]\n"
     ]
    }
   ],
   "source": [
    "print(list3)"
   ]
  },
  {
   "cell_type": "code",
   "execution_count": 69,
   "id": "233e27c0",
   "metadata": {},
   "outputs": [],
   "source": [
    "list_even_only=list(filter(lambda a: a%2==0,list1))"
   ]
  },
  {
   "cell_type": "code",
   "execution_count": 70,
   "id": "3a814b30",
   "metadata": {},
   "outputs": [
    {
     "name": "stdout",
     "output_type": "stream",
     "text": [
      "[2, 4, 6, 10, 20, 30]\n"
     ]
    }
   ],
   "source": [
    "print(list_even_only)"
   ]
  },
  {
   "cell_type": "code",
   "execution_count": 71,
   "id": "af952413",
   "metadata": {},
   "outputs": [],
   "source": [
    "list_even_sq=list(map(lambda i:i*i,list_even_only))"
   ]
  },
  {
   "cell_type": "code",
   "execution_count": 72,
   "id": "e3aab235",
   "metadata": {},
   "outputs": [
    {
     "name": "stdout",
     "output_type": "stream",
     "text": [
      "[4, 16, 36, 100, 400, 900]\n"
     ]
    }
   ],
   "source": [
    "print(list_even_sq)"
   ]
  },
  {
   "cell_type": "code",
   "execution_count": 76,
   "id": "ee917cfe",
   "metadata": {},
   "outputs": [],
   "source": [
    "list12=[\"Garvit@learnbay.com\",\"Shikha@gmail.com\",\"Krish@yahoo.com\",\"Abhishke@learnbay.com\",\n",
    "       \"abc@def.com\",\"abcde@learnbay.com\",\"Kanupriya@learnbay.com\"]"
   ]
  },
  {
   "cell_type": "code",
   "execution_count": 80,
   "id": "ddddc194",
   "metadata": {},
   "outputs": [
    {
     "name": "stdout",
     "output_type": "stream",
     "text": [
      "['Garvit@learnbay.com', 'Abhishke@learnbay.com', 'abcde@learnbay.com', 'Kanupriya@learnbay.com']\n"
     ]
    }
   ],
   "source": [
    "list_learnbay=list(filter(lambda a: \"@learnbay.com\" in a,list12))\n",
    "print(list_learnbay)\n"
   ]
  },
  {
   "cell_type": "code",
   "execution_count": 81,
   "id": "1bfea751",
   "metadata": {},
   "outputs": [],
   "source": [
    "list_learnbay_greater_5=list(filter(lambda a: a.find(\"@\")>5,list_learnbay))"
   ]
  },
  {
   "cell_type": "code",
   "execution_count": 82,
   "id": "aa7b183b",
   "metadata": {},
   "outputs": [
    {
     "name": "stdout",
     "output_type": "stream",
     "text": [
      "['Garvit@learnbay.com', 'Abhishke@learnbay.com', 'Kanupriya@learnbay.com']\n"
     ]
    }
   ],
   "source": [
    "print(list_learnbay_greater_5)"
   ]
  },
  {
   "cell_type": "code",
   "execution_count": 85,
   "id": "46de77ae",
   "metadata": {},
   "outputs": [],
   "source": [
    "ans=list(map(lambda a: a[0:a.find(\"@\")],list_learnbay_greater_5))"
   ]
  },
  {
   "cell_type": "code",
   "execution_count": 86,
   "id": "2167171d",
   "metadata": {},
   "outputs": [
    {
     "name": "stdout",
     "output_type": "stream",
     "text": [
      "['Garvit', 'Abhishke', 'Kanupriya']\n"
     ]
    }
   ],
   "source": [
    "print(ans)"
   ]
  },
  {
   "cell_type": "code",
   "execution_count": 87,
   "id": "13ee0c19",
   "metadata": {},
   "outputs": [
    {
     "ename": "SyntaxError",
     "evalue": "invalid syntax (Temp/ipykernel_2276/353887520.py, line 3)",
     "output_type": "error",
     "traceback": [
      "\u001b[1;36m  File \u001b[1;32m\"C:\\Users\\gtane\\AppData\\Local\\Temp/ipykernel_2276/353887520.py\"\u001b[1;36m, line \u001b[1;32m3\u001b[0m\n\u001b[1;33m    if a=20:\u001b[0m\n\u001b[1;37m        ^\u001b[0m\n\u001b[1;31mSyntaxError\u001b[0m\u001b[1;31m:\u001b[0m invalid syntax\n"
     ]
    }
   ],
   "source": [
    "a=10\n",
    "\n",
    "if a=20:\n",
    "    print(True)"
   ]
  },
  {
   "cell_type": "code",
   "execution_count": null,
   "id": "b27eebaa",
   "metadata": {},
   "outputs": [],
   "source": []
  }
 ],
 "metadata": {
  "kernelspec": {
   "display_name": "Python 3 (ipykernel)",
   "language": "python",
   "name": "python3"
  },
  "language_info": {
   "codemirror_mode": {
    "name": "ipython",
    "version": 3
   },
   "file_extension": ".py",
   "mimetype": "text/x-python",
   "name": "python",
   "nbconvert_exporter": "python",
   "pygments_lexer": "ipython3",
   "version": "3.9.7"
  }
 },
 "nbformat": 4,
 "nbformat_minor": 5
}
