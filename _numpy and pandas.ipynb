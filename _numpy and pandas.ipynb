{
 "cells": [
  {
   "cell_type": "markdown",
   "id": "94c2b0d3",
   "metadata": {},
   "source": [
    "# numpy"
   ]
  },
  {
   "cell_type": "code",
   "execution_count": 15,
   "id": "90426628",
   "metadata": {},
   "outputs": [],
   "source": [
    "import numpy as np"
   ]
  },
  {
   "cell_type": "code",
   "execution_count": 16,
   "id": "74c8c7a2",
   "metadata": {},
   "outputs": [],
   "source": [
    "list1=[[1,2,3],[4,5,6]]"
   ]
  },
  {
   "cell_type": "code",
   "execution_count": 17,
   "id": "c60dac24",
   "metadata": {},
   "outputs": [
    {
     "data": {
      "text/plain": [
       "2"
      ]
     },
     "execution_count": 17,
     "metadata": {},
     "output_type": "execute_result"
    }
   ],
   "source": [
    "list1[0][1]"
   ]
  },
  {
   "cell_type": "code",
   "execution_count": 18,
   "id": "5daf2a10",
   "metadata": {},
   "outputs": [
    {
     "name": "stdout",
     "output_type": "stream",
     "text": [
      "139910913039936 139911272094032\n",
      "139910913039936 139911272285648\n"
     ]
    }
   ],
   "source": [
    "print(id(list1),id(list1[0][1]))\n",
    "list1[0][1]=100\n",
    "print(id(list1),id(list1[0][1]))"
   ]
  },
  {
   "cell_type": "code",
   "execution_count": 19,
   "id": "f5474617",
   "metadata": {},
   "outputs": [
    {
     "name": "stdout",
     "output_type": "stream",
     "text": [
      "<class 'int'>\n"
     ]
    }
   ],
   "source": [
    "print(type(list1[0][1]))"
   ]
  },
  {
   "cell_type": "code",
   "execution_count": 20,
   "id": "3daa84bf",
   "metadata": {},
   "outputs": [],
   "source": [
    "arr=np.array([[1,2,3],[4,5,6]])"
   ]
  },
  {
   "cell_type": "code",
   "execution_count": 21,
   "id": "d30acba9",
   "metadata": {},
   "outputs": [
    {
     "name": "stdout",
     "output_type": "stream",
     "text": [
      "[[1 2 3]\n",
      " [4 5 6]]\n"
     ]
    }
   ],
   "source": [
    "print(arr)"
   ]
  },
  {
   "cell_type": "code",
   "execution_count": 22,
   "id": "2a533d76",
   "metadata": {},
   "outputs": [
    {
     "name": "stdout",
     "output_type": "stream",
     "text": [
      "2\n"
     ]
    }
   ],
   "source": [
    "#it will print number of dimention\n",
    "print(arr.ndim)"
   ]
  },
  {
   "cell_type": "code",
   "execution_count": 23,
   "id": "204d4717",
   "metadata": {},
   "outputs": [
    {
     "name": "stdout",
     "output_type": "stream",
     "text": [
      "139910912674000 139910912713200\n",
      "139910912674000 139910912712752\n",
      "[[  1 100   3]\n",
      " [  4   5   6]]\n"
     ]
    }
   ],
   "source": [
    "import numpy as np\n",
    "arr=np.array([[1,2,3],[4,5,6]])\n",
    "print(id(arr),id(arr[0][1]))\n",
    "arr[0][1]=100\n",
    "print(id(arr),id(arr[0][1]))\n",
    "print(arr)"
   ]
  },
  {
   "cell_type": "code",
   "execution_count": 24,
   "id": "4d61e77e",
   "metadata": {},
   "outputs": [
    {
     "name": "stdout",
     "output_type": "stream",
     "text": [
      "Help on class int32 in module numpy:\n",
      "\n",
      "class int32(signedinteger)\n",
      " |  Signed integer type, compatible with C ``int``.\n",
      " |  \n",
      " |  :Character code: ``'i'``\n",
      " |  :Canonical name: `numpy.intc`\n",
      " |  :Alias on this platform: `numpy.int32`: 32-bit signed integer (``-2_147_483_648`` to ``2_147_483_647``).\n",
      " |  \n",
      " |  Method resolution order:\n",
      " |      int32\n",
      " |      signedinteger\n",
      " |      integer\n",
      " |      number\n",
      " |      generic\n",
      " |      builtins.object\n",
      " |  \n",
      " |  Methods defined here:\n",
      " |  \n",
      " |  __abs__(self, /)\n",
      " |      abs(self)\n",
      " |  \n",
      " |  __add__(self, value, /)\n",
      " |      Return self+value.\n",
      " |  \n",
      " |  __and__(self, value, /)\n",
      " |      Return self&value.\n",
      " |  \n",
      " |  __bool__(self, /)\n",
      " |      self != 0\n",
      " |  \n",
      " |  __divmod__(self, value, /)\n",
      " |      Return divmod(self, value).\n",
      " |  \n",
      " |  __eq__(self, value, /)\n",
      " |      Return self==value.\n",
      " |  \n",
      " |  __float__(self, /)\n",
      " |      float(self)\n",
      " |  \n",
      " |  __floordiv__(self, value, /)\n",
      " |      Return self//value.\n",
      " |  \n",
      " |  __ge__(self, value, /)\n",
      " |      Return self>=value.\n",
      " |  \n",
      " |  __gt__(self, value, /)\n",
      " |      Return self>value.\n",
      " |  \n",
      " |  __hash__(self, /)\n",
      " |      Return hash(self).\n",
      " |  \n",
      " |  __index__(self, /)\n",
      " |      Return self converted to an integer, if self is suitable for use as an index into a list.\n",
      " |  \n",
      " |  __int__(self, /)\n",
      " |      int(self)\n",
      " |  \n",
      " |  __invert__(self, /)\n",
      " |      ~self\n",
      " |  \n",
      " |  __le__(self, value, /)\n",
      " |      Return self<=value.\n",
      " |  \n",
      " |  __lshift__(self, value, /)\n",
      " |      Return self<<value.\n",
      " |  \n",
      " |  __lt__(self, value, /)\n",
      " |      Return self<value.\n",
      " |  \n",
      " |  __mod__(self, value, /)\n",
      " |      Return self%value.\n",
      " |  \n",
      " |  __mul__(self, value, /)\n",
      " |      Return self*value.\n",
      " |  \n",
      " |  __ne__(self, value, /)\n",
      " |      Return self!=value.\n",
      " |  \n",
      " |  __neg__(self, /)\n",
      " |      -self\n",
      " |  \n",
      " |  __or__(self, value, /)\n",
      " |      Return self|value.\n",
      " |  \n",
      " |  __pos__(self, /)\n",
      " |      +self\n",
      " |  \n",
      " |  __pow__(self, value, mod=None, /)\n",
      " |      Return pow(self, value, mod).\n",
      " |  \n",
      " |  __radd__(self, value, /)\n",
      " |      Return value+self.\n",
      " |  \n",
      " |  __rand__(self, value, /)\n",
      " |      Return value&self.\n",
      " |  \n",
      " |  __rdivmod__(self, value, /)\n",
      " |      Return divmod(value, self).\n",
      " |  \n",
      " |  __repr__(self, /)\n",
      " |      Return repr(self).\n",
      " |  \n",
      " |  __rfloordiv__(self, value, /)\n",
      " |      Return value//self.\n",
      " |  \n",
      " |  __rlshift__(self, value, /)\n",
      " |      Return value<<self.\n",
      " |  \n",
      " |  __rmod__(self, value, /)\n",
      " |      Return value%self.\n",
      " |  \n",
      " |  __rmul__(self, value, /)\n",
      " |      Return value*self.\n",
      " |  \n",
      " |  __ror__(self, value, /)\n",
      " |      Return value|self.\n",
      " |  \n",
      " |  __rpow__(self, value, mod=None, /)\n",
      " |      Return pow(value, self, mod).\n",
      " |  \n",
      " |  __rrshift__(self, value, /)\n",
      " |      Return value>>self.\n",
      " |  \n",
      " |  __rshift__(self, value, /)\n",
      " |      Return self>>value.\n",
      " |  \n",
      " |  __rsub__(self, value, /)\n",
      " |      Return value-self.\n",
      " |  \n",
      " |  __rtruediv__(self, value, /)\n",
      " |      Return value/self.\n",
      " |  \n",
      " |  __rxor__(self, value, /)\n",
      " |      Return value^self.\n",
      " |  \n",
      " |  __str__(self, /)\n",
      " |      Return str(self).\n",
      " |  \n",
      " |  __sub__(self, value, /)\n",
      " |      Return self-value.\n",
      " |  \n",
      " |  __truediv__(self, value, /)\n",
      " |      Return self/value.\n",
      " |  \n",
      " |  __xor__(self, value, /)\n",
      " |      Return self^value.\n",
      " |  \n",
      " |  ----------------------------------------------------------------------\n",
      " |  Static methods defined here:\n",
      " |  \n",
      " |  __new__(*args, **kwargs) from builtins.type\n",
      " |      Create and return a new object.  See help(type) for accurate signature.\n",
      " |  \n",
      " |  ----------------------------------------------------------------------\n",
      " |  Methods inherited from integer:\n",
      " |  \n",
      " |  __round__(...)\n",
      " |  \n",
      " |  ----------------------------------------------------------------------\n",
      " |  Data descriptors inherited from integer:\n",
      " |  \n",
      " |  denominator\n",
      " |      denominator of value (1)\n",
      " |  \n",
      " |  numerator\n",
      " |      numerator of value (the value itself)\n",
      " |  \n",
      " |  ----------------------------------------------------------------------\n",
      " |  Methods inherited from generic:\n",
      " |  \n",
      " |  __array__(...)\n",
      " |      sc.__array__(dtype) return 0-dim array from scalar with specified dtype\n",
      " |  \n",
      " |  __array_wrap__(...)\n",
      " |      sc.__array_wrap__(obj) return scalar from array\n",
      " |  \n",
      " |  __copy__(...)\n",
      " |  \n",
      " |  __deepcopy__(...)\n",
      " |  \n",
      " |  __format__(...)\n",
      " |      NumPy array scalar formatter\n",
      " |  \n",
      " |  __getitem__(self, key, /)\n",
      " |      Return self[key].\n",
      " |  \n",
      " |  __reduce__(...)\n",
      " |      Helper for pickle.\n",
      " |  \n",
      " |  __setstate__(...)\n",
      " |  \n",
      " |  __sizeof__(...)\n",
      " |      Size of object in memory, in bytes.\n",
      " |  \n",
      " |  all(...)\n",
      " |      Scalar method identical to the corresponding array attribute.\n",
      " |      \n",
      " |      Please see `ndarray.all`.\n",
      " |  \n",
      " |  any(...)\n",
      " |      Scalar method identical to the corresponding array attribute.\n",
      " |      \n",
      " |      Please see `ndarray.any`.\n",
      " |  \n",
      " |  argmax(...)\n",
      " |      Scalar method identical to the corresponding array attribute.\n",
      " |      \n",
      " |      Please see `ndarray.argmax`.\n",
      " |  \n",
      " |  argmin(...)\n",
      " |      Scalar method identical to the corresponding array attribute.\n",
      " |      \n",
      " |      Please see `ndarray.argmin`.\n",
      " |  \n",
      " |  argsort(...)\n",
      " |      Scalar method identical to the corresponding array attribute.\n",
      " |      \n",
      " |      Please see `ndarray.argsort`.\n",
      " |  \n",
      " |  astype(...)\n",
      " |      Scalar method identical to the corresponding array attribute.\n",
      " |      \n",
      " |      Please see `ndarray.astype`.\n",
      " |  \n",
      " |  byteswap(...)\n",
      " |      Scalar method identical to the corresponding array attribute.\n",
      " |      \n",
      " |      Please see `ndarray.byteswap`.\n",
      " |  \n",
      " |  choose(...)\n",
      " |      Scalar method identical to the corresponding array attribute.\n",
      " |      \n",
      " |      Please see `ndarray.choose`.\n",
      " |  \n",
      " |  clip(...)\n",
      " |      Scalar method identical to the corresponding array attribute.\n",
      " |      \n",
      " |      Please see `ndarray.clip`.\n",
      " |  \n",
      " |  compress(...)\n",
      " |      Scalar method identical to the corresponding array attribute.\n",
      " |      \n",
      " |      Please see `ndarray.compress`.\n",
      " |  \n",
      " |  conj(...)\n",
      " |  \n",
      " |  conjugate(...)\n",
      " |      Scalar method identical to the corresponding array attribute.\n",
      " |      \n",
      " |      Please see `ndarray.conjugate`.\n",
      " |  \n",
      " |  copy(...)\n",
      " |      Scalar method identical to the corresponding array attribute.\n",
      " |      \n",
      " |      Please see `ndarray.copy`.\n",
      " |  \n",
      " |  cumprod(...)\n",
      " |      Scalar method identical to the corresponding array attribute.\n",
      " |      \n",
      " |      Please see `ndarray.cumprod`.\n",
      " |  \n",
      " |  cumsum(...)\n",
      " |      Scalar method identical to the corresponding array attribute.\n",
      " |      \n",
      " |      Please see `ndarray.cumsum`.\n",
      " |  \n",
      " |  diagonal(...)\n",
      " |      Scalar method identical to the corresponding array attribute.\n",
      " |      \n",
      " |      Please see `ndarray.diagonal`.\n",
      " |  \n",
      " |  dump(...)\n",
      " |      Scalar method identical to the corresponding array attribute.\n",
      " |      \n",
      " |      Please see `ndarray.dump`.\n",
      " |  \n",
      " |  dumps(...)\n",
      " |      Scalar method identical to the corresponding array attribute.\n",
      " |      \n",
      " |      Please see `ndarray.dumps`.\n",
      " |  \n",
      " |  fill(...)\n",
      " |      Scalar method identical to the corresponding array attribute.\n",
      " |      \n",
      " |      Please see `ndarray.fill`.\n",
      " |  \n",
      " |  flatten(...)\n",
      " |      Scalar method identical to the corresponding array attribute.\n",
      " |      \n",
      " |      Please see `ndarray.flatten`.\n",
      " |  \n",
      " |  getfield(...)\n",
      " |      Scalar method identical to the corresponding array attribute.\n",
      " |      \n",
      " |      Please see `ndarray.getfield`.\n",
      " |  \n",
      " |  item(...)\n",
      " |      Scalar method identical to the corresponding array attribute.\n",
      " |      \n",
      " |      Please see `ndarray.item`.\n",
      " |  \n",
      " |  itemset(...)\n",
      " |      Scalar method identical to the corresponding array attribute.\n",
      " |      \n",
      " |      Please see `ndarray.itemset`.\n",
      " |  \n",
      " |  max(...)\n",
      " |      Scalar method identical to the corresponding array attribute.\n",
      " |      \n",
      " |      Please see `ndarray.max`.\n",
      " |  \n",
      " |  mean(...)\n",
      " |      Scalar method identical to the corresponding array attribute.\n",
      " |      \n",
      " |      Please see `ndarray.mean`.\n",
      " |  \n",
      " |  min(...)\n",
      " |      Scalar method identical to the corresponding array attribute.\n",
      " |      \n",
      " |      Please see `ndarray.min`.\n",
      " |  \n",
      " |  newbyteorder(...)\n",
      " |      newbyteorder(new_order='S', /)\n",
      " |      \n",
      " |      Return a new `dtype` with a different byte order.\n",
      " |      \n",
      " |      Changes are also made in all fields and sub-arrays of the data type.\n",
      " |      \n",
      " |      The `new_order` code can be any from the following:\n",
      " |      \n",
      " |      * 'S' - swap dtype from current to opposite endian\n",
      " |      * {'<', 'little'} - little endian\n",
      " |      * {'>', 'big'} - big endian\n",
      " |      * '=' - native order\n",
      " |      * {'|', 'I'} - ignore (no change to byte order)\n",
      " |      \n",
      " |      Parameters\n",
      " |      ----------\n",
      " |      new_order : str, optional\n",
      " |          Byte order to force; a value from the byte order specifications\n",
      " |          above.  The default value ('S') results in swapping the current\n",
      " |          byte order.\n",
      " |      \n",
      " |      \n",
      " |      Returns\n",
      " |      -------\n",
      " |      new_dtype : dtype\n",
      " |          New `dtype` object with the given change to the byte order.\n",
      " |  \n",
      " |  nonzero(...)\n",
      " |      Scalar method identical to the corresponding array attribute.\n",
      " |      \n",
      " |      Please see `ndarray.nonzero`.\n",
      " |  \n",
      " |  prod(...)\n",
      " |      Scalar method identical to the corresponding array attribute.\n",
      " |      \n",
      " |      Please see `ndarray.prod`.\n",
      " |  \n",
      " |  ptp(...)\n",
      " |      Scalar method identical to the corresponding array attribute.\n",
      " |      \n",
      " |      Please see `ndarray.ptp`.\n",
      " |  \n",
      " |  put(...)\n",
      " |      Scalar method identical to the corresponding array attribute.\n",
      " |      \n",
      " |      Please see `ndarray.put`.\n",
      " |  \n",
      " |  ravel(...)\n",
      " |      Scalar method identical to the corresponding array attribute.\n",
      " |      \n",
      " |      Please see `ndarray.ravel`.\n",
      " |  \n",
      " |  repeat(...)\n",
      " |      Scalar method identical to the corresponding array attribute.\n",
      " |      \n",
      " |      Please see `ndarray.repeat`.\n",
      " |  \n",
      " |  reshape(...)\n",
      " |      Scalar method identical to the corresponding array attribute.\n",
      " |      \n",
      " |      Please see `ndarray.reshape`.\n",
      " |  \n",
      " |  resize(...)\n",
      " |      Scalar method identical to the corresponding array attribute.\n",
      " |      \n",
      " |      Please see `ndarray.resize`.\n",
      " |  \n",
      " |  round(...)\n",
      " |      Scalar method identical to the corresponding array attribute.\n",
      " |      \n",
      " |      Please see `ndarray.round`.\n",
      " |  \n",
      " |  searchsorted(...)\n",
      " |      Scalar method identical to the corresponding array attribute.\n",
      " |      \n",
      " |      Please see `ndarray.searchsorted`.\n",
      " |  \n",
      " |  setfield(...)\n",
      " |      Scalar method identical to the corresponding array attribute.\n",
      " |      \n",
      " |      Please see `ndarray.setfield`.\n",
      " |  \n",
      " |  setflags(...)\n",
      " |      Scalar method identical to the corresponding array attribute.\n",
      " |      \n",
      " |      Please see `ndarray.setflags`.\n",
      " |  \n",
      " |  sort(...)\n",
      " |      Scalar method identical to the corresponding array attribute.\n",
      " |      \n",
      " |      Please see `ndarray.sort`.\n",
      " |  \n",
      " |  squeeze(...)\n",
      " |      Scalar method identical to the corresponding array attribute.\n",
      " |      \n",
      " |      Please see `ndarray.squeeze`.\n",
      " |  \n",
      " |  std(...)\n",
      " |      Scalar method identical to the corresponding array attribute.\n",
      " |      \n",
      " |      Please see `ndarray.std`.\n",
      " |  \n",
      " |  sum(...)\n",
      " |      Scalar method identical to the corresponding array attribute.\n",
      " |      \n",
      " |      Please see `ndarray.sum`.\n",
      " |  \n",
      " |  swapaxes(...)\n",
      " |      Scalar method identical to the corresponding array attribute.\n",
      " |      \n",
      " |      Please see `ndarray.swapaxes`.\n",
      " |  \n",
      " |  take(...)\n",
      " |      Scalar method identical to the corresponding array attribute.\n",
      " |      \n",
      " |      Please see `ndarray.take`.\n",
      " |  \n",
      " |  tobytes(...)\n",
      " |  \n",
      " |  tofile(...)\n",
      " |      Scalar method identical to the corresponding array attribute.\n",
      " |      \n",
      " |      Please see `ndarray.tofile`.\n",
      " |  \n",
      " |  tolist(...)\n",
      " |      Scalar method identical to the corresponding array attribute.\n",
      " |      \n",
      " |      Please see `ndarray.tolist`.\n",
      " |  \n",
      " |  tostring(...)\n",
      " |      Scalar method identical to the corresponding array attribute.\n",
      " |      \n",
      " |      Please see `ndarray.tostring`.\n",
      " |  \n",
      " |  trace(...)\n",
      " |      Scalar method identical to the corresponding array attribute.\n",
      " |      \n",
      " |      Please see `ndarray.trace`.\n",
      " |  \n",
      " |  transpose(...)\n",
      " |      Scalar method identical to the corresponding array attribute.\n",
      " |      \n",
      " |      Please see `ndarray.transpose`.\n",
      " |  \n",
      " |  var(...)\n",
      " |      Scalar method identical to the corresponding array attribute.\n",
      " |      \n",
      " |      Please see `ndarray.var`.\n",
      " |  \n",
      " |  view(...)\n",
      " |      Scalar method identical to the corresponding array attribute.\n",
      " |      \n",
      " |      Please see `ndarray.view`.\n",
      " |  \n",
      " |  ----------------------------------------------------------------------\n",
      " |  Data descriptors inherited from generic:\n",
      " |  \n",
      " |  T\n",
      " |      Scalar attribute identical to the corresponding array attribute.\n",
      " |      \n",
      " |      Please see `ndarray.T`.\n",
      " |  \n",
      " |  __array_interface__\n",
      " |      Array protocol: Python side\n",
      " |  \n",
      " |  __array_priority__\n",
      " |      Array priority.\n",
      " |  \n",
      " |  __array_struct__\n",
      " |      Array protocol: struct\n",
      " |  \n",
      " |  base\n",
      " |      Scalar attribute identical to the corresponding array attribute.\n",
      " |      \n",
      " |      Please see `ndarray.base`.\n",
      " |  \n",
      " |  data\n",
      " |      Pointer to start of data.\n",
      " |  \n",
      " |  dtype\n",
      " |      Get array data-descriptor.\n",
      " |  \n",
      " |  flags\n",
      " |      The integer value of flags.\n",
      " |  \n",
      " |  flat\n",
      " |      A 1-D view of the scalar.\n",
      " |  \n",
      " |  imag\n",
      " |      The imaginary part of the scalar.\n",
      " |  \n",
      " |  itemsize\n",
      " |      The length of one element in bytes.\n",
      " |  \n",
      " |  nbytes\n",
      " |      The length of the scalar in bytes.\n",
      " |  \n",
      " |  ndim\n",
      " |      The number of array dimensions.\n",
      " |  \n",
      " |  real\n",
      " |      The real part of the scalar.\n",
      " |  \n",
      " |  shape\n",
      " |      Tuple of array dimensions.\n",
      " |  \n",
      " |  size\n",
      " |      The number of elements in the gentype.\n",
      " |  \n",
      " |  strides\n",
      " |      Tuple of bytes steps in each dimension.\n",
      "\n",
      "None\n"
     ]
    }
   ],
   "source": [
    "print(help(np.int32))"
   ]
  },
  {
   "cell_type": "code",
   "execution_count": null,
   "id": "e36a0126",
   "metadata": {},
   "outputs": [],
   "source": []
  },
  {
   "cell_type": "code",
   "execution_count": 25,
   "id": "a2e98cf8",
   "metadata": {},
   "outputs": [
    {
     "name": "stdout",
     "output_type": "stream",
     "text": [
      "<class 'numpy.int64'>\n"
     ]
    }
   ],
   "source": [
    "print(type(arr[0][1]))"
   ]
  },
  {
   "cell_type": "code",
   "execution_count": 26,
   "id": "2ffcba1e",
   "metadata": {},
   "outputs": [],
   "source": [
    "arr=np.array([[\"1\",\"2\",\"3\"],[\"4\",\"5\",\"6\"]])"
   ]
  },
  {
   "cell_type": "code",
   "execution_count": 27,
   "id": "8aa4c340",
   "metadata": {},
   "outputs": [
    {
     "name": "stdout",
     "output_type": "stream",
     "text": [
      "139910912876592 139910912877072\n",
      "139910912876592 139910912877072\n"
     ]
    }
   ],
   "source": [
    "print(id(arr),id(arr[0][1]))\n",
    "arr[0][1]=\"100\"\n",
    "print(id(arr),id(arr[0][1]))"
   ]
  },
  {
   "cell_type": "markdown",
   "id": "ae7f0d84",
   "metadata": {},
   "source": [
    "# operations"
   ]
  },
  {
   "cell_type": "code",
   "execution_count": 28,
   "id": "1d6fcf83",
   "metadata": {},
   "outputs": [],
   "source": [
    "import numpy as np"
   ]
  },
  {
   "cell_type": "code",
   "execution_count": 29,
   "id": "b69daf28",
   "metadata": {},
   "outputs": [],
   "source": [
    "arr_1d=np.arange(1,11)"
   ]
  },
  {
   "cell_type": "code",
   "execution_count": 30,
   "id": "16c02ad5",
   "metadata": {},
   "outputs": [
    {
     "name": "stdout",
     "output_type": "stream",
     "text": [
      "[ 1  2  3  4  5  6  7  8  9 10]\n"
     ]
    }
   ],
   "source": [
    "print(arr_1d)"
   ]
  },
  {
   "cell_type": "code",
   "execution_count": 31,
   "id": "36bb1e11",
   "metadata": {},
   "outputs": [],
   "source": [
    "arr_1d=arr_1d+3"
   ]
  },
  {
   "cell_type": "code",
   "execution_count": 32,
   "id": "6275cd62",
   "metadata": {},
   "outputs": [
    {
     "name": "stdout",
     "output_type": "stream",
     "text": [
      "[ 4  5  6  7  8  9 10 11 12 13]\n"
     ]
    }
   ],
   "source": [
    "print(arr_1d)"
   ]
  },
  {
   "cell_type": "code",
   "execution_count": 33,
   "id": "576556cc",
   "metadata": {},
   "outputs": [
    {
     "name": "stdout",
     "output_type": "stream",
     "text": [
      "[ 1  2  3  4  5  6  7  8  9 10]\n",
      "[-2 -1  0  1  2  3  4  5  6  7]\n"
     ]
    }
   ],
   "source": [
    "arr_1d=np.arange(1,11)\n",
    "print(arr_1d)\n",
    "arr_1d=arr_1d-3\n",
    "print(arr_1d)"
   ]
  },
  {
   "cell_type": "code",
   "execution_count": 34,
   "id": "17c25a1c",
   "metadata": {},
   "outputs": [],
   "source": [
    "arr_1d=arr_1d*3"
   ]
  },
  {
   "cell_type": "code",
   "execution_count": 35,
   "id": "9456f8b1",
   "metadata": {},
   "outputs": [
    {
     "name": "stdout",
     "output_type": "stream",
     "text": [
      "[-6 -3  0  3  6  9 12 15 18 21]\n"
     ]
    }
   ],
   "source": [
    "print(arr_1d)"
   ]
  },
  {
   "cell_type": "code",
   "execution_count": 36,
   "id": "b96f909f",
   "metadata": {},
   "outputs": [],
   "source": [
    "arr_1d=np.arange(1,11)"
   ]
  },
  {
   "cell_type": "code",
   "execution_count": 37,
   "id": "855c2edc",
   "metadata": {},
   "outputs": [
    {
     "data": {
      "text/plain": [
       "array([ 1,  2,  3,  4,  5,  6,  7,  8,  9, 10])"
      ]
     },
     "execution_count": 37,
     "metadata": {},
     "output_type": "execute_result"
    }
   ],
   "source": [
    "arr_1d"
   ]
  },
  {
   "cell_type": "code",
   "execution_count": 38,
   "id": "7cab7086",
   "metadata": {},
   "outputs": [],
   "source": [
    "arr_2d=arr_1d.reshape(2,5)"
   ]
  },
  {
   "cell_type": "code",
   "execution_count": 39,
   "id": "6912fc87",
   "metadata": {},
   "outputs": [
    {
     "name": "stdout",
     "output_type": "stream",
     "text": [
      "[[ 1  2  3  4  5]\n",
      " [ 6  7  8  9 10]]\n"
     ]
    }
   ],
   "source": [
    "print(arr_2d)"
   ]
  },
  {
   "cell_type": "code",
   "execution_count": 40,
   "id": "cc8b4b05",
   "metadata": {},
   "outputs": [],
   "source": [
    "arr_2d=arr_1d.reshape(5,-1)\n",
    "# here selecting (2,-1) will tell numpy python to reshape the array in two rows and column as upon respectively fit.\n",
    "# this happen when big number of array and we have to reshape into respective dimension of array. row are given but column didn't .\n",
    "# then we can use -1 to let python numpy select the number of column"
   ]
  },
  {
   "cell_type": "code",
   "execution_count": 41,
   "id": "3994863f",
   "metadata": {},
   "outputs": [
    {
     "name": "stdout",
     "output_type": "stream",
     "text": [
      "[[ 1  2]\n",
      " [ 3  4]\n",
      " [ 5  6]\n",
      " [ 7  8]\n",
      " [ 9 10]]\n"
     ]
    }
   ],
   "source": [
    "print(arr_2d)"
   ]
  },
  {
   "cell_type": "code",
   "execution_count": 42,
   "id": "dfe25a38",
   "metadata": {},
   "outputs": [],
   "source": [
    "#we can also convert the 1d array by below method. there is no neccecssary to provide the last column index. we can \n",
    "# just use as -1 to let python select respective fit.\n",
    "arr_2d.shape=2,5"
   ]
  },
  {
   "cell_type": "code",
   "execution_count": 43,
   "id": "6db124d4",
   "metadata": {},
   "outputs": [
    {
     "name": "stdout",
     "output_type": "stream",
     "text": [
      "[[ 1  2  3  4  5]\n",
      " [ 6  7  8  9 10]]\n"
     ]
    }
   ],
   "source": [
    "print(arr_2d)"
   ]
  },
  {
   "cell_type": "code",
   "execution_count": 44,
   "id": "b3ad0d42",
   "metadata": {},
   "outputs": [],
   "source": [
    "arr_2d.shape=5,-1"
   ]
  },
  {
   "cell_type": "code",
   "execution_count": 45,
   "id": "86f28c7d",
   "metadata": {},
   "outputs": [
    {
     "name": "stdout",
     "output_type": "stream",
     "text": [
      "[[ 1  2]\n",
      " [ 3  4]\n",
      " [ 5  6]\n",
      " [ 7  8]\n",
      " [ 9 10]]\n"
     ]
    }
   ],
   "source": [
    "print(arr_2d)"
   ]
  },
  {
   "cell_type": "code",
   "execution_count": 46,
   "id": "234d9333",
   "metadata": {},
   "outputs": [],
   "source": [
    "arr_2d.shape=-1,5"
   ]
  },
  {
   "cell_type": "code",
   "execution_count": 47,
   "id": "dd2a7dc7",
   "metadata": {},
   "outputs": [
    {
     "name": "stdout",
     "output_type": "stream",
     "text": [
      "[[ 1  2  3  4  5]\n",
      " [ 6  7  8  9 10]]\n"
     ]
    }
   ],
   "source": [
    "print(arr_2d)"
   ]
  },
  {
   "cell_type": "code",
   "execution_count": 48,
   "id": "5a90fd6b",
   "metadata": {},
   "outputs": [],
   "source": [
    "import numpy as np"
   ]
  },
  {
   "cell_type": "code",
   "execution_count": 49,
   "id": "9865d8b6",
   "metadata": {},
   "outputs": [
    {
     "name": "stdout",
     "output_type": "stream",
     "text": [
      "[ 1  2  3  4  5  6  7  8  9 10 11 12 13 14 15 16 17 18 19 20 21 22 23 24]\n"
     ]
    }
   ],
   "source": [
    "#for Defining 3d array\n",
    "#for defining 3d array, it should be on the way like (x,y,z)\n",
    "# x represent how many diffrent array you want \n",
    "# y represent row and z represents column\n",
    "arr_1d=np.arange(1,25)\n",
    "print(arr_1d)\n",
    "arr_3d=arr_1d.reshape(3,2,4)"
   ]
  },
  {
   "cell_type": "code",
   "execution_count": 50,
   "id": "81dfbebf",
   "metadata": {},
   "outputs": [
    {
     "name": "stdout",
     "output_type": "stream",
     "text": [
      "[[[ 1  2  3  4]\n",
      "  [ 5  6  7  8]]\n",
      "\n",
      " [[ 9 10 11 12]\n",
      "  [13 14 15 16]]\n",
      "\n",
      " [[17 18 19 20]\n",
      "  [21 22 23 24]]]\n"
     ]
    }
   ],
   "source": [
    "print(arr_3d)"
   ]
  },
  {
   "cell_type": "code",
   "execution_count": 51,
   "id": "97bfa422",
   "metadata": {},
   "outputs": [
    {
     "data": {
      "text/plain": [
       "array([[ 1,  2,  3,  4,  5],\n",
       "       [ 6,  7,  8,  9, 10]])"
      ]
     },
     "execution_count": 51,
     "metadata": {},
     "output_type": "execute_result"
    }
   ],
   "source": [
    "arr_2d"
   ]
  },
  {
   "cell_type": "code",
   "execution_count": 52,
   "id": "b6752292",
   "metadata": {},
   "outputs": [
    {
     "name": "stdout",
     "output_type": "stream",
     "text": [
      "[[ 1  2  3  4  5]\n",
      " [ 6  7  8  9 10]]\n"
     ]
    },
    {
     "data": {
      "text/plain": [
       "array([[ 4,  5,  6,  7,  8],\n",
       "       [ 9, 10, 11, 12, 13]])"
      ]
     },
     "execution_count": 52,
     "metadata": {},
     "output_type": "execute_result"
    }
   ],
   "source": [
    "#it is broadcasting like range of arr_2d will increase by 3.\n",
    "print(arr_2d)\n",
    "arr_2d+3"
   ]
  },
  {
   "cell_type": "code",
   "execution_count": 54,
   "id": "275d7caa",
   "metadata": {},
   "outputs": [
    {
     "name": "stdout",
     "output_type": "stream",
     "text": [
      "[[ 1  2  3  4  5]\n",
      " [ 6  7  8  9 10]]\n"
     ]
    },
    {
     "data": {
      "text/plain": [
       "array([[ 2,  4,  6,  8, 10],\n",
       "       [ 7,  9, 11, 13, 15]])"
      ]
     },
     "execution_count": 54,
     "metadata": {},
     "output_type": "execute_result"
    }
   ],
   "source": [
    "#in here list[1,2,3,4,5] will be add in both of the row in arr_2d. it will work only on condition when adding data is have same number of rows and column\n",
    "print(arr_2d)\n",
    "arr_2d+[1,2,3,4,5]"
   ]
  },
  {
   "cell_type": "code",
   "execution_count": 60,
   "id": "18231a45",
   "metadata": {},
   "outputs": [
    {
     "ename": "ValueError",
     "evalue": "operands could not be broadcast together with shapes (2,5) (3,) ",
     "output_type": "error",
     "traceback": [
      "\u001b[1;31m---------------------------------------------------------------------------\u001b[0m",
      "\u001b[1;31mValueError\u001b[0m                                Traceback (most recent call last)",
      "\u001b[1;32m~\\AppData\\Local\\Temp/ipykernel_28740/3394012309.py\u001b[0m in \u001b[0;36m<module>\u001b[1;34m\u001b[0m\n\u001b[1;32m----> 1\u001b[1;33m \u001b[0marr_2d\u001b[0m\u001b[1;33m+\u001b[0m\u001b[1;33m[\u001b[0m\u001b[1;36m1\u001b[0m\u001b[1;33m,\u001b[0m\u001b[1;36m2\u001b[0m\u001b[1;33m,\u001b[0m\u001b[1;36m3\u001b[0m\u001b[1;33m]\u001b[0m\u001b[1;33m\u001b[0m\u001b[1;33m\u001b[0m\u001b[0m\n\u001b[0m",
      "\u001b[1;31mValueError\u001b[0m: operands could not be broadcast together with shapes (2,5) (3,) "
     ]
    }
   ],
   "source": [
    "arr_2d+[1,2,3]"
   ]
  },
  {
   "cell_type": "code",
   "execution_count": 61,
   "id": "2d9d463b",
   "metadata": {},
   "outputs": [
    {
     "ename": "ValueError",
     "evalue": "operands could not be broadcast together with shapes (2,5) (2,) ",
     "output_type": "error",
     "traceback": [
      "\u001b[1;31m---------------------------------------------------------------------------\u001b[0m",
      "\u001b[1;31mValueError\u001b[0m                                Traceback (most recent call last)",
      "\u001b[1;32m~\\AppData\\Local\\Temp/ipykernel_28740/2898794216.py\u001b[0m in \u001b[0;36m<module>\u001b[1;34m\u001b[0m\n\u001b[1;32m----> 1\u001b[1;33m \u001b[0marr_2d\u001b[0m\u001b[1;33m+\u001b[0m\u001b[1;33m[\u001b[0m\u001b[1;36m1\u001b[0m\u001b[1;33m,\u001b[0m\u001b[1;36m2\u001b[0m\u001b[1;33m]\u001b[0m\u001b[1;33m\u001b[0m\u001b[1;33m\u001b[0m\u001b[0m\n\u001b[0m",
      "\u001b[1;31mValueError\u001b[0m: operands could not be broadcast together with shapes (2,5) (2,) "
     ]
    }
   ],
   "source": [
    "arr_2d+[1,2]"
   ]
  },
  {
   "cell_type": "code",
   "execution_count": 55,
   "id": "7534bf03",
   "metadata": {},
   "outputs": [
    {
     "data": {
      "text/plain": [
       "array([[ 2,  3,  4,  5,  6],\n",
       "       [ 8,  9, 10, 11, 12]])"
      ]
     },
     "execution_count": 55,
     "metadata": {},
     "output_type": "execute_result"
    }
   ],
   "source": [
    "#in here we are adding two different list [1],[2]. thats why it is working\n",
    "arr_2d+[[1],[2]]"
   ]
  },
  {
   "cell_type": "markdown",
   "id": "96a039ee",
   "metadata": {},
   "source": [
    "# append, insert and delete"
   ]
  },
  {
   "cell_type": "code",
   "execution_count": 72,
   "id": "6221afe0",
   "metadata": {},
   "outputs": [
    {
     "name": "stdout",
     "output_type": "stream",
     "text": [
      "[ 1  2  3  4  5  6  7  8  9 10 11 12 13 14 15 16 17 18 19 20]\n"
     ]
    }
   ],
   "source": [
    "arr_1d=np.arange(1,21)\n",
    "print(arr_1d)"
   ]
  },
  {
   "cell_type": "code",
   "execution_count": 73,
   "id": "ad6a521c",
   "metadata": {},
   "outputs": [
    {
     "data": {
      "text/plain": [
       "array([ 1,  2,  3,  4,  5,  6,  7,  8,  9, 10, 11, 12, 13, 14, 15, 16, 17,\n",
       "       18, 19, 20, 11])"
      ]
     },
     "execution_count": 73,
     "metadata": {},
     "output_type": "execute_result"
    }
   ],
   "source": [
    "#here we are appending the value 11 which simply add inside that array. It will not broadcast the fist and last point \n",
    "np.append(arr_1d,11)"
   ]
  },
  {
   "cell_type": "code",
   "execution_count": 74,
   "id": "64a85f5e",
   "metadata": {},
   "outputs": [
    {
     "name": "stdout",
     "output_type": "stream",
     "text": [
      "[ 1  2  3  4  5  6  7  8  9 10 11 12 13 14 15 16 17 18 19 20]\n"
     ]
    }
   ],
   "source": [
    "print(arr_1d)"
   ]
  },
  {
   "cell_type": "code",
   "execution_count": 76,
   "id": "8c97d897",
   "metadata": {},
   "outputs": [
    {
     "data": {
      "text/plain": [
       "array([ 1,  2,  3,  4,  5,  6,  7,  8,  9, 10, 11, 12, 13, 14, 15, 16, 17,\n",
       "       18, 19, 20, 21, 22])"
      ]
     },
     "execution_count": 76,
     "metadata": {},
     "output_type": "execute_result"
    }
   ],
   "source": [
    "np.append(arr_1d,[21,22])"
   ]
  },
  {
   "cell_type": "code",
   "execution_count": 78,
   "id": "94f2c3ec",
   "metadata": {},
   "outputs": [
    {
     "name": "stdout",
     "output_type": "stream",
     "text": [
      "[[ 1  2  3  4  5]\n",
      " [ 6  7  8  9 10]\n",
      " [11 12 13 14 15]\n",
      " [16 17 18 19 20]]\n"
     ]
    }
   ],
   "source": [
    "arr_2d=arr_1d.reshape(4,5)\n",
    "print(arr_2d)"
   ]
  },
  {
   "cell_type": "code",
   "execution_count": 56,
   "id": "5d906b2d",
   "metadata": {},
   "outputs": [
    {
     "name": "stdout",
     "output_type": "stream",
     "text": [
      "[[ 1  2  3  4  5]\n",
      " [ 6  7  8  9 10]]\n"
     ]
    },
    {
     "data": {
      "text/plain": [
       "array([ 1,  2,  3,  4,  5,  6,  7,  8,  9, 10,  3])"
      ]
     },
     "execution_count": 56,
     "metadata": {},
     "output_type": "execute_result"
    }
   ],
   "source": [
    "# here is what happended when you append any element inside an array,\n",
    "#it will simply convert it to 1d array and then add the element inside.\n",
    "print(arr_2d)\n",
    "np.append(arr_2d,3)"
   ]
  },
  {
   "cell_type": "code",
   "execution_count": 80,
   "id": "bede98bd",
   "metadata": {},
   "outputs": [
    {
     "data": {
      "text/plain": [
       "array([ 1,  2,  3,  4,  5,  6,  7,  8,  9, 10, 11, 12, 13, 14, 15, 16, 17,\n",
       "       18, 19, 20, 21, 22, 23, 24, 25])"
      ]
     },
     "execution_count": 80,
     "metadata": {},
     "output_type": "execute_result"
    }
   ],
   "source": [
    "np.append(arr_2d,[21,22,23,24,25])"
   ]
  },
  {
   "cell_type": "code",
   "execution_count": 99,
   "id": "390748e0",
   "metadata": {},
   "outputs": [
    {
     "data": {
      "text/plain": [
       "array([[ 1,  2,  3,  4,  5],\n",
       "       [ 6,  7,  8,  9, 10],\n",
       "       [11, 12, 13, 14, 15],\n",
       "       [16, 17, 18, 19, 20],\n",
       "       [21, 22, 23, 24, 25]])"
      ]
     },
     "execution_count": 99,
     "metadata": {},
     "output_type": "execute_result"
    }
   ],
   "source": [
    "#here it will append in each column as per we have given the axis point\n",
    "np.append(arr_2d,[[21,22,23,24,25]],axis=0)"
   ]
  },
  {
   "cell_type": "code",
   "execution_count": 100,
   "id": "7b70d332",
   "metadata": {},
   "outputs": [
    {
     "data": {
      "text/plain": [
       "array([[ 1,  2,  3,  4,  5, 21],\n",
       "       [ 6,  7,  8,  9, 10, 22],\n",
       "       [11, 12, 13, 14, 15, 23],\n",
       "       [16, 17, 18, 19, 20, 24]])"
      ]
     },
     "execution_count": 100,
     "metadata": {},
     "output_type": "execute_result"
    }
   ],
   "source": [
    "#here it will append in each row as per we have given the axis point\n",
    "np.append(arr_2d,[[21],[22],[23],[24]],axis=1)"
   ]
  },
  {
   "cell_type": "code",
   "execution_count": 101,
   "id": "7ce89007",
   "metadata": {},
   "outputs": [
    {
     "name": "stdout",
     "output_type": "stream",
     "text": [
      "[ 1  2  3  4  5  6  7  8  9 10 11 12 13 14 15 16 17 18 19 20]\n"
     ]
    }
   ],
   "source": [
    "arr_1d=np.arange(1,21)\n",
    "print(arr_1d)"
   ]
  },
  {
   "cell_type": "code",
   "execution_count": 57,
   "id": "c762917c",
   "metadata": {},
   "outputs": [
    {
     "name": "stdout",
     "output_type": "stream",
     "text": [
      "[100   1   2   3   4   5   6   7   8   9  10  11  12  13  14  15  16  17\n",
      "  18  19  20  21  22  23  24]\n"
     ]
    }
   ],
   "source": [
    "#in here it will insert as per given point.\n",
    "print(np.insert(arr_1d,0,100))"
   ]
  },
  {
   "cell_type": "code",
   "execution_count": 103,
   "id": "e3ea6714",
   "metadata": {},
   "outputs": [
    {
     "name": "stdout",
     "output_type": "stream",
     "text": [
      "[ 1  2  3  4  5  6  7  8  9 10 11 12 13 14 15 16 17 18 19 20]\n"
     ]
    }
   ],
   "source": [
    "print(arr_1d)"
   ]
  },
  {
   "cell_type": "code",
   "execution_count": 58,
   "id": "a91b4e11",
   "metadata": {},
   "outputs": [
    {
     "name": "stdout",
     "output_type": "stream",
     "text": [
      "[  1   2   3 100 200   4   5   6   7   8   9  10  11  12  13  14  15  16\n",
      "  17  18  19  20  21  22  23  24]\n"
     ]
    }
   ],
   "source": [
    "#here python consider that insert element is not a list but element so it will be point as one and insert at one given place.\n",
    "print(np.insert(arr_1d,3,[100,200]))"
   ]
  },
  {
   "cell_type": "code",
   "execution_count": 105,
   "id": "f4914278",
   "metadata": {},
   "outputs": [
    {
     "name": "stdout",
     "output_type": "stream",
     "text": [
      "[[ 1  2  3  4  5]\n",
      " [ 6  7  8  9 10]\n",
      " [11 12 13 14 15]\n",
      " [16 17 18 19 20]]\n"
     ]
    }
   ],
   "source": [
    "arr_2d=arr_1d.reshape(4,5)\n",
    "print(arr_2d)"
   ]
  },
  {
   "cell_type": "code",
   "execution_count": 106,
   "id": "1cb904bb",
   "metadata": {},
   "outputs": [
    {
     "data": {
      "text/plain": [
       "array([1, 2, 3, 4, 5])"
      ]
     },
     "execution_count": 106,
     "metadata": {},
     "output_type": "execute_result"
    }
   ],
   "source": [
    "arr_2d[0]"
   ]
  },
  {
   "cell_type": "code",
   "execution_count": null,
   "id": "8dbf567c",
   "metadata": {},
   "outputs": [],
   "source": []
  },
  {
   "cell_type": "code",
   "execution_count": 107,
   "id": "a302bd77",
   "metadata": {},
   "outputs": [
    {
     "name": "stdout",
     "output_type": "stream",
     "text": [
      "[  1 100   2   3   4   5   6   7   8   9  10  11  12  13  14  15  16  17\n",
      "  18  19  20]\n"
     ]
    }
   ],
   "source": [
    "#here it will convert it to 1d array and then add it.\n",
    "print(np.insert(arr_2d,1,100))"
   ]
  },
  {
   "cell_type": "code",
   "execution_count": 108,
   "id": "62f1e609",
   "metadata": {},
   "outputs": [
    {
     "name": "stdout",
     "output_type": "stream",
     "text": [
      "[  1 100 200   2   3   4   5   6   7   8   9  10  11  12  13  14  15  16\n",
      "  17  18  19  20]\n"
     ]
    }
   ],
   "source": [
    "print(np.insert(arr_2d,1,[100,200]))"
   ]
  },
  {
   "cell_type": "code",
   "execution_count": 109,
   "id": "8cc2af65",
   "metadata": {},
   "outputs": [
    {
     "name": "stdout",
     "output_type": "stream",
     "text": [
      "[[  1   2   3   4   5]\n",
      " [100 200 300 400 500]\n",
      " [  6   7   8   9  10]\n",
      " [ 11  12  13  14  15]\n",
      " [ 16  17  18  19  20]]\n"
     ]
    }
   ],
   "source": [
    "#here it will add as per given axis and 2d array will not convert to any other.\n",
    "print(np.insert(arr_2d,1,[100,200,300,400,500],axis=0))"
   ]
  },
  {
   "cell_type": "code",
   "execution_count": 115,
   "id": "e14ccc84",
   "metadata": {},
   "outputs": [
    {
     "name": "stdout",
     "output_type": "stream",
     "text": [
      "[[  1   2   3   4   5]\n",
      " [100 100 100 100 100]\n",
      " [200 200 200 200 200]\n",
      " [300 300 300 300 300]\n",
      " [400 400 400 400 400]\n",
      " [500 500 500 500 500]\n",
      " [  6   7   8   9  10]\n",
      " [ 11  12  13  14  15]\n",
      " [ 16  17  18  19  20]]\n"
     ]
    }
   ],
   "source": [
    "print(np.insert(arr_2d,1,[[100],[200],[300],[400],[500]],axis=0))"
   ]
  },
  {
   "cell_type": "code",
   "execution_count": 113,
   "id": "87ad3d5a",
   "metadata": {},
   "outputs": [
    {
     "name": "stdout",
     "output_type": "stream",
     "text": [
      "[[  1 100   2   3   4   5]\n",
      " [  6 200   7   8   9  10]\n",
      " [ 11 300  12  13  14  15]\n",
      " [ 16 400  17  18  19  20]]\n"
     ]
    }
   ],
   "source": [
    "print(np.insert(arr_2d,1,[[100,200,300,400]],axis=1))"
   ]
  },
  {
   "cell_type": "code",
   "execution_count": 114,
   "id": "fc3331cc",
   "metadata": {},
   "outputs": [
    {
     "name": "stdout",
     "output_type": "stream",
     "text": [
      "[[  1 100 200 300 400   2   3   4   5]\n",
      " [  6 100 200 300 400   7   8   9  10]\n",
      " [ 11 100 200 300 400  12  13  14  15]\n",
      " [ 16 100 200 300 400  17  18  19  20]]\n"
     ]
    }
   ],
   "source": [
    "print(np.insert(arr_2d,1,[[100],[200],[300],[400]],axis=1))"
   ]
  },
  {
   "cell_type": "code",
   "execution_count": null,
   "id": "e9b606a9",
   "metadata": {},
   "outputs": [],
   "source": []
  },
  {
   "cell_type": "code",
   "execution_count": 112,
   "id": "4e2b615d",
   "metadata": {},
   "outputs": [
    {
     "name": "stdout",
     "output_type": "stream",
     "text": [
      "Help on function insert in module numpy:\n",
      "\n",
      "insert(arr, obj, values, axis=None)\n",
      "    Insert values along the given axis before the given indices.\n",
      "    \n",
      "    Parameters\n",
      "    ----------\n",
      "    arr : array_like\n",
      "        Input array.\n",
      "    obj : int, slice or sequence of ints\n",
      "        Object that defines the index or indices before which `values` is\n",
      "        inserted.\n",
      "    \n",
      "        .. versionadded:: 1.8.0\n",
      "    \n",
      "        Support for multiple insertions when `obj` is a single scalar or a\n",
      "        sequence with one element (similar to calling insert multiple\n",
      "        times).\n",
      "    values : array_like\n",
      "        Values to insert into `arr`. If the type of `values` is different\n",
      "        from that of `arr`, `values` is converted to the type of `arr`.\n",
      "        `values` should be shaped so that ``arr[...,obj,...] = values``\n",
      "        is legal.\n",
      "    axis : int, optional\n",
      "        Axis along which to insert `values`.  If `axis` is None then `arr`\n",
      "        is flattened first.\n",
      "    \n",
      "    Returns\n",
      "    -------\n",
      "    out : ndarray\n",
      "        A copy of `arr` with `values` inserted.  Note that `insert`\n",
      "        does not occur in-place: a new array is returned. If\n",
      "        `axis` is None, `out` is a flattened array.\n",
      "    \n",
      "    See Also\n",
      "    --------\n",
      "    append : Append elements at the end of an array.\n",
      "    concatenate : Join a sequence of arrays along an existing axis.\n",
      "    delete : Delete elements from an array.\n",
      "    \n",
      "    Notes\n",
      "    -----\n",
      "    Note that for higher dimensional inserts `obj=0` behaves very different\n",
      "    from `obj=[0]` just like `arr[:,0,:] = values` is different from\n",
      "    `arr[:,[0],:] = values`.\n",
      "    \n",
      "    Examples\n",
      "    --------\n",
      "    >>> a = np.array([[1, 1], [2, 2], [3, 3]])\n",
      "    >>> a\n",
      "    array([[1, 1],\n",
      "           [2, 2],\n",
      "           [3, 3]])\n",
      "    >>> np.insert(a, 1, 5)\n",
      "    array([1, 5, 1, ..., 2, 3, 3])\n",
      "    >>> np.insert(a, 1, 5, axis=1)\n",
      "    array([[1, 5, 1],\n",
      "           [2, 5, 2],\n",
      "           [3, 5, 3]])\n",
      "    \n",
      "    Difference between sequence and scalars:\n",
      "    \n",
      "    >>> np.insert(a, [1], [[1],[2],[3]], axis=1)\n",
      "    array([[1, 1, 1],\n",
      "           [2, 2, 2],\n",
      "           [3, 3, 3]])\n",
      "    >>> np.array_equal(np.insert(a, 1, [1, 2, 3], axis=1),\n",
      "    ...                np.insert(a, [1], [[1],[2],[3]], axis=1))\n",
      "    True\n",
      "    \n",
      "    >>> b = a.flatten()\n",
      "    >>> b\n",
      "    array([1, 1, 2, 2, 3, 3])\n",
      "    >>> np.insert(b, [2, 2], [5, 6])\n",
      "    array([1, 1, 5, ..., 2, 3, 3])\n",
      "    \n",
      "    >>> np.insert(b, slice(2, 4), [5, 6])\n",
      "    array([1, 1, 5, ..., 2, 3, 3])\n",
      "    \n",
      "    >>> np.insert(b, [2, 2], [7.13, False]) # type casting\n",
      "    array([1, 1, 7, ..., 2, 3, 3])\n",
      "    \n",
      "    >>> x = np.arange(8).reshape(2, 4)\n",
      "    >>> idx = (1, 3)\n",
      "    >>> np.insert(x, idx, 999, axis=1)\n",
      "    array([[  0, 999,   1,   2, 999,   3],\n",
      "           [  4, 999,   5,   6, 999,   7]])\n",
      "\n",
      "None\n"
     ]
    }
   ],
   "source": [
    "print(help(np.insert))"
   ]
  },
  {
   "cell_type": "code",
   "execution_count": 116,
   "id": "875c32ad",
   "metadata": {},
   "outputs": [],
   "source": [
    "arr_1d=np.arange(1,21)"
   ]
  },
  {
   "cell_type": "code",
   "execution_count": 117,
   "id": "d3b11041",
   "metadata": {},
   "outputs": [
    {
     "name": "stdout",
     "output_type": "stream",
     "text": [
      "[ 1  2  3  4  5  6  7  8  9 10 11 12 13 14 15 16 17 18 19 20]\n"
     ]
    }
   ],
   "source": [
    "print(arr_1d)"
   ]
  },
  {
   "cell_type": "code",
   "execution_count": 118,
   "id": "eb7c3865",
   "metadata": {},
   "outputs": [
    {
     "data": {
      "text/plain": [
       "array([ 1,  3,  4,  5,  6,  7,  8,  9, 10, 11, 12, 13, 14, 15, 16, 17, 18,\n",
       "       19, 20])"
      ]
     },
     "execution_count": 118,
     "metadata": {},
     "output_type": "execute_result"
    }
   ],
   "source": [
    "#it will simply delete the element at given index point.\n",
    "np.delete(arr_1d,1)"
   ]
  },
  {
   "cell_type": "code",
   "execution_count": 119,
   "id": "ef257820",
   "metadata": {},
   "outputs": [
    {
     "name": "stdout",
     "output_type": "stream",
     "text": [
      "[ 1  2  3  4  5  6  7  8  9 10 11 12 13 14 15 16 17 18 19 20]\n"
     ]
    }
   ],
   "source": [
    "print(arr_1d)"
   ]
  },
  {
   "cell_type": "code",
   "execution_count": 121,
   "id": "5bee5aad",
   "metadata": {},
   "outputs": [
    {
     "name": "stdout",
     "output_type": "stream",
     "text": [
      "[[ 1  2  3  4  5]\n",
      " [ 6  7  8  9 10]\n",
      " [11 12 13 14 15]\n",
      " [16 17 18 19 20]]\n"
     ]
    }
   ],
   "source": [
    "arr_2d=arr_1d.reshape(4,5)\n",
    "print(arr_2d)"
   ]
  },
  {
   "cell_type": "code",
   "execution_count": 122,
   "id": "5c6307db",
   "metadata": {},
   "outputs": [
    {
     "data": {
      "text/plain": [
       "array([ 1,  3,  4,  5,  6,  7,  8,  9, 10, 11, 12, 13, 14, 15, 16, 17, 18,\n",
       "       19, 20])"
      ]
     },
     "execution_count": 122,
     "metadata": {},
     "output_type": "execute_result"
    }
   ],
   "source": [
    "np.delete(arr_2d,1)"
   ]
  },
  {
   "cell_type": "code",
   "execution_count": 123,
   "id": "c567af8e",
   "metadata": {},
   "outputs": [
    {
     "data": {
      "text/plain": [
       "array([[ 1,  2,  3,  4,  5],\n",
       "       [11, 12, 13, 14, 15],\n",
       "       [16, 17, 18, 19, 20]])"
      ]
     },
     "execution_count": 123,
     "metadata": {},
     "output_type": "execute_result"
    }
   ],
   "source": [
    "np.delete(arr_2d,1,axis=0)"
   ]
  },
  {
   "cell_type": "code",
   "execution_count": 124,
   "id": "5e297786",
   "metadata": {},
   "outputs": [
    {
     "data": {
      "text/plain": [
       "array([[ 1,  3,  4,  5],\n",
       "       [ 6,  8,  9, 10],\n",
       "       [11, 13, 14, 15],\n",
       "       [16, 18, 19, 20]])"
      ]
     },
     "execution_count": 124,
     "metadata": {},
     "output_type": "execute_result"
    }
   ],
   "source": [
    "np.delete(arr_2d,1,axis=1)"
   ]
  },
  {
   "cell_type": "code",
   "execution_count": 131,
   "id": "6869e693",
   "metadata": {},
   "outputs": [],
   "source": [
    "arr_2d=np.arange(1,21).reshape(4,-1)"
   ]
  },
  {
   "cell_type": "code",
   "execution_count": 132,
   "id": "6a45c6ef",
   "metadata": {},
   "outputs": [
    {
     "name": "stdout",
     "output_type": "stream",
     "text": [
      "[[ 1  2  3  4  5]\n",
      " [ 6  7  8  9 10]\n",
      " [11 12 13 14 15]\n",
      " [16 17 18 19 20]]\n"
     ]
    }
   ],
   "source": [
    "print(arr_2d)"
   ]
  },
  {
   "cell_type": "code",
   "execution_count": 133,
   "id": "cf98906d",
   "metadata": {},
   "outputs": [
    {
     "data": {
      "text/plain": [
       "array([[  1,   4,   9,  16,  25],\n",
       "       [ 36,  49,  64,  81, 100],\n",
       "       [121, 144, 169, 196, 225],\n",
       "       [256, 289, 324, 361, 400]])"
      ]
     },
     "execution_count": 133,
     "metadata": {},
     "output_type": "execute_result"
    }
   ],
   "source": [
    "arr_2d*arr_2d"
   ]
  },
  {
   "cell_type": "code",
   "execution_count": 134,
   "id": "13077cff",
   "metadata": {},
   "outputs": [
    {
     "ename": "ValueError",
     "evalue": "shapes (4,5) and (4,5) not aligned: 5 (dim 1) != 4 (dim 0)",
     "output_type": "error",
     "traceback": [
      "\u001b[1;31m---------------------------------------------------------------------------\u001b[0m",
      "\u001b[1;31mValueError\u001b[0m                                Traceback (most recent call last)",
      "\u001b[1;32m~\\AppData\\Local\\Temp/ipykernel_28740/1941010765.py\u001b[0m in \u001b[0;36m<module>\u001b[1;34m\u001b[0m\n\u001b[1;32m----> 1\u001b[1;33m \u001b[0mnp\u001b[0m\u001b[1;33m.\u001b[0m\u001b[0mdot\u001b[0m\u001b[1;33m(\u001b[0m\u001b[0marr_2d\u001b[0m\u001b[1;33m,\u001b[0m\u001b[0marr_2d\u001b[0m\u001b[1;33m)\u001b[0m\u001b[1;33m\u001b[0m\u001b[1;33m\u001b[0m\u001b[0m\n\u001b[0m",
      "\u001b[1;32m<__array_function__ internals>\u001b[0m in \u001b[0;36mdot\u001b[1;34m(*args, **kwargs)\u001b[0m\n",
      "\u001b[1;31mValueError\u001b[0m: shapes (4,5) and (4,5) not aligned: 5 (dim 1) != 4 (dim 0)"
     ]
    }
   ],
   "source": [
    "np.dot(arr_2d,arr_2d)"
   ]
  },
  {
   "cell_type": "code",
   "execution_count": 135,
   "id": "e3887af5",
   "metadata": {},
   "outputs": [
    {
     "ename": "ValueError",
     "evalue": "operands could not be broadcast together with shapes (4,5) (4,) ",
     "output_type": "error",
     "traceback": [
      "\u001b[1;31m---------------------------------------------------------------------------\u001b[0m",
      "\u001b[1;31mValueError\u001b[0m                                Traceback (most recent call last)",
      "\u001b[1;32m~\\AppData\\Local\\Temp/ipykernel_28740/2022800436.py\u001b[0m in \u001b[0;36m<module>\u001b[1;34m\u001b[0m\n\u001b[1;32m----> 1\u001b[1;33m \u001b[0marr_2d\u001b[0m\u001b[1;33m*\u001b[0m\u001b[0mnp\u001b[0m\u001b[1;33m.\u001b[0m\u001b[0marange\u001b[0m\u001b[1;33m(\u001b[0m\u001b[1;36m1\u001b[0m\u001b[1;33m,\u001b[0m\u001b[1;36m5\u001b[0m\u001b[1;33m)\u001b[0m\u001b[1;33m\u001b[0m\u001b[1;33m\u001b[0m\u001b[0m\n\u001b[0m",
      "\u001b[1;31mValueError\u001b[0m: operands could not be broadcast together with shapes (4,5) (4,) "
     ]
    }
   ],
   "source": [
    "arr_2d*np.arange(1,5)"
   ]
  },
  {
   "cell_type": "code",
   "execution_count": 136,
   "id": "4b85c770",
   "metadata": {},
   "outputs": [],
   "source": [
    "arr_1d=np.arange(1,11)"
   ]
  },
  {
   "cell_type": "code",
   "execution_count": 137,
   "id": "ffb4e6b8",
   "metadata": {},
   "outputs": [
    {
     "data": {
      "text/plain": [
       "array([  1,   4,   9,  16,  25,  36,  49,  64,  81, 100])"
      ]
     },
     "execution_count": 137,
     "metadata": {},
     "output_type": "execute_result"
    }
   ],
   "source": [
    "arr_1d*arr_1d"
   ]
  },
  {
   "cell_type": "code",
   "execution_count": 138,
   "id": "bcb88bd0",
   "metadata": {},
   "outputs": [
    {
     "data": {
      "text/plain": [
       "385"
      ]
     },
     "execution_count": 138,
     "metadata": {},
     "output_type": "execute_result"
    }
   ],
   "source": [
    "np.dot(arr_1d,arr_1d)"
   ]
  },
  {
   "cell_type": "markdown",
   "id": "758c0ddf",
   "metadata": {},
   "source": [
    "# Basic functions"
   ]
  },
  {
   "cell_type": "code",
   "execution_count": 142,
   "id": "77402f53",
   "metadata": {},
   "outputs": [
    {
     "name": "stdout",
     "output_type": "stream",
     "text": [
      "[5 5 1 8 8 7 3 9 9 8 5 5 7 6 1 5 7 7 6 7]\n"
     ]
    }
   ],
   "source": [
    "# arr_1d will stroe random 20 integers range between 1 to 10.\n",
    "arr_1d=np.random.randint(1,10,20)\n",
    "print(arr_1d)"
   ]
  },
  {
   "cell_type": "code",
   "execution_count": 143,
   "id": "34067094",
   "metadata": {},
   "outputs": [
    {
     "data": {
      "text/plain": [
       "1"
      ]
     },
     "execution_count": 143,
     "metadata": {},
     "output_type": "execute_result"
    }
   ],
   "source": [
    "#this will give minimum value from arr_1d\n",
    "np.min(arr_1d)"
   ]
  },
  {
   "cell_type": "code",
   "execution_count": 144,
   "id": "7ac93867",
   "metadata": {},
   "outputs": [
    {
     "data": {
      "text/plain": [
       "2"
      ]
     },
     "execution_count": 144,
     "metadata": {},
     "output_type": "execute_result"
    }
   ],
   "source": [
    "#this will show index of min element in arr_1d\n",
    "np.argmin(arr_1d)"
   ]
  },
  {
   "cell_type": "code",
   "execution_count": 145,
   "id": "cd63ae44",
   "metadata": {},
   "outputs": [
    {
     "data": {
      "text/plain": [
       "9"
      ]
     },
     "execution_count": 145,
     "metadata": {},
     "output_type": "execute_result"
    }
   ],
   "source": [
    "#this will give maximum value from arr_1d\n",
    "np.max(arr_1d)"
   ]
  },
  {
   "cell_type": "code",
   "execution_count": 146,
   "id": "da98b881",
   "metadata": {},
   "outputs": [
    {
     "data": {
      "text/plain": [
       "7"
      ]
     },
     "execution_count": 146,
     "metadata": {},
     "output_type": "execute_result"
    }
   ],
   "source": [
    "#this will show index of max element in arr_1d\n",
    "np.argmax(arr_1d)"
   ]
  },
  {
   "cell_type": "code",
   "execution_count": 147,
   "id": "112e9562",
   "metadata": {},
   "outputs": [
    {
     "data": {
      "text/plain": [
       "119"
      ]
     },
     "execution_count": 147,
     "metadata": {},
     "output_type": "execute_result"
    }
   ],
   "source": [
    "#This will give me the sum of all element inside arr_1d.\n",
    "np.sum(arr_1d)"
   ]
  },
  {
   "cell_type": "code",
   "execution_count": 65,
   "id": "9342f92b",
   "metadata": {},
   "outputs": [
    {
     "name": "stdout",
     "output_type": "stream",
     "text": [
      "(3, 8)\n"
     ]
    }
   ],
   "source": [
    "arr_2d=arr_1d.reshape(4,6)\n",
    "print(arr_2d.shape)"
   ]
  },
  {
   "cell_type": "code",
   "execution_count": 149,
   "id": "1a223314",
   "metadata": {},
   "outputs": [
    {
     "name": "stdout",
     "output_type": "stream",
     "text": [
      "[[5 5 1 8 8]\n",
      " [7 3 9 9 8]\n",
      " [5 5 7 6 1]\n",
      " [5 7 7 6 7]]\n"
     ]
    }
   ],
   "source": [
    "print(arr_2d)"
   ]
  },
  {
   "cell_type": "code",
   "execution_count": 150,
   "id": "d61e2260",
   "metadata": {},
   "outputs": [
    {
     "data": {
      "text/plain": [
       "1"
      ]
     },
     "execution_count": 150,
     "metadata": {},
     "output_type": "execute_result"
    }
   ],
   "source": [
    "np.min(arr_2d)"
   ]
  },
  {
   "cell_type": "code",
   "execution_count": 151,
   "id": "f1f4ce98",
   "metadata": {},
   "outputs": [
    {
     "data": {
      "text/plain": [
       "2"
      ]
     },
     "execution_count": 151,
     "metadata": {},
     "output_type": "execute_result"
    }
   ],
   "source": [
    "np.argmin(arr_2d)"
   ]
  },
  {
   "cell_type": "code",
   "execution_count": 68,
   "id": "c9f9b72b",
   "metadata": {},
   "outputs": [
    {
     "name": "stdout",
     "output_type": "stream",
     "text": [
      "[[ 1  2  3  4  5  6  7  8]\n",
      " [ 9 10 11 12 13 14 15 16]\n",
      " [17 18 19 20 21 22 23 24]]\n",
      "24\n"
     ]
    },
    {
     "data": {
      "text/plain": [
       "23"
      ]
     },
     "execution_count": 68,
     "metadata": {},
     "output_type": "execute_result"
    }
   ],
   "source": [
    "print(arr_2d)\n",
    "print(np.max(arr_2d))\n",
    "np.argmax(arr_2d)"
   ]
  },
  {
   "cell_type": "code",
   "execution_count": 69,
   "id": "1968a513",
   "metadata": {},
   "outputs": [
    {
     "name": "stdout",
     "output_type": "stream",
     "text": [
      "[[ 1  2  3  4  5  6  7  8]\n",
      " [ 9 10 11 12 13 14 15 16]\n",
      " [17 18 19 20 21 22 23 24]]\n"
     ]
    },
    {
     "data": {
      "text/plain": [
       "array([1, 2, 3, 4, 5, 6, 7, 8])"
      ]
     },
     "execution_count": 69,
     "metadata": {},
     "output_type": "execute_result"
    }
   ],
   "source": [
    "print(arr_2d)\n",
    "np.min(arr_2d,axis=0)"
   ]
  },
  {
   "cell_type": "code",
   "execution_count": 155,
   "id": "a655a0e5",
   "metadata": {},
   "outputs": [
    {
     "data": {
      "text/plain": [
       "array([1, 3, 1, 5])"
      ]
     },
     "execution_count": 155,
     "metadata": {},
     "output_type": "execute_result"
    }
   ],
   "source": [
    "np.min(arr_2d,axis=1)"
   ]
  },
  {
   "cell_type": "code",
   "execution_count": 156,
   "id": "0483e17c",
   "metadata": {},
   "outputs": [
    {
     "data": {
      "text/plain": [
       "array([0, 1, 0, 2, 2], dtype=int64)"
      ]
     },
     "execution_count": 156,
     "metadata": {},
     "output_type": "execute_result"
    }
   ],
   "source": [
    "np.argmin(arr_2d,axis=0)"
   ]
  },
  {
   "cell_type": "code",
   "execution_count": 157,
   "id": "bf978567",
   "metadata": {},
   "outputs": [
    {
     "data": {
      "text/plain": [
       "array([22, 20, 24, 29, 24])"
      ]
     },
     "execution_count": 157,
     "metadata": {},
     "output_type": "execute_result"
    }
   ],
   "source": [
    "#it is the sum of element column wise . means up to down every column\n",
    "np.sum(arr_2d,axis=0)"
   ]
  },
  {
   "cell_type": "code",
   "execution_count": 158,
   "id": "80cd0165",
   "metadata": {},
   "outputs": [
    {
     "name": "stdout",
     "output_type": "stream",
     "text": [
      "[5 5 1 8 8 7 3 9 9 8 5 5 7 6 1 5 7 7 6 7]\n"
     ]
    }
   ],
   "source": [
    "print(arr_1d)"
   ]
  },
  {
   "cell_type": "code",
   "execution_count": 160,
   "id": "b961bf12",
   "metadata": {},
   "outputs": [
    {
     "data": {
      "text/plain": [
       "array([False, False, False,  True,  True,  True, False,  True,  True,\n",
       "        True, False, False,  True,  True, False, False,  True,  True,\n",
       "        True,  True])"
      ]
     },
     "execution_count": 160,
     "metadata": {},
     "output_type": "execute_result"
    }
   ],
   "source": [
    "arr_1d>5"
   ]
  },
  {
   "cell_type": "code",
   "execution_count": 161,
   "id": "aa6e2e02",
   "metadata": {},
   "outputs": [
    {
     "data": {
      "text/plain": [
       "array([8, 8, 7, 9, 9, 8, 7, 6, 7, 7, 6, 7])"
      ]
     },
     "execution_count": 161,
     "metadata": {},
     "output_type": "execute_result"
    }
   ],
   "source": [
    "arr_1d[arr_1d>5]"
   ]
  },
  {
   "cell_type": "code",
   "execution_count": 162,
   "id": "39e145bb",
   "metadata": {},
   "outputs": [
    {
     "ename": "ValueError",
     "evalue": "The truth value of an array with more than one element is ambiguous. Use a.any() or a.all()",
     "output_type": "error",
     "traceback": [
      "\u001b[1;31m---------------------------------------------------------------------------\u001b[0m",
      "\u001b[1;31mValueError\u001b[0m                                Traceback (most recent call last)",
      "\u001b[1;32m~\\AppData\\Local\\Temp/ipykernel_28740/3508239146.py\u001b[0m in \u001b[0;36m<module>\u001b[1;34m\u001b[0m\n\u001b[1;32m----> 1\u001b[1;33m \u001b[0marr_1d\u001b[0m\u001b[1;33m[\u001b[0m\u001b[0marr_1d\u001b[0m\u001b[1;33m>\u001b[0m\u001b[1;36m5\u001b[0m \u001b[1;32mand\u001b[0m \u001b[0marr_1d\u001b[0m\u001b[1;33m<\u001b[0m\u001b[1;36m8\u001b[0m\u001b[1;33m]\u001b[0m\u001b[1;33m\u001b[0m\u001b[1;33m\u001b[0m\u001b[0m\n\u001b[0m",
      "\u001b[1;31mValueError\u001b[0m: The truth value of an array with more than one element is ambiguous. Use a.any() or a.all()"
     ]
    }
   ],
   "source": [
    "arr_1d[arr_1d>5 and arr_1d<8]"
   ]
  },
  {
   "cell_type": "code",
   "execution_count": 71,
   "id": "e3fcd615",
   "metadata": {},
   "outputs": [
    {
     "name": "stdout",
     "output_type": "stream",
     "text": [
      "[ 6  7  8  9 10 11 12 13 14 15 16 17 18 19 20 21 22 23 24]\n"
     ]
    }
   ],
   "source": [
    "arr_1d_new=arr_1d[arr_1d>5]\n",
    "print(arr_1d_new)"
   ]
  },
  {
   "cell_type": "code",
   "execution_count": 72,
   "id": "1e3c24c8",
   "metadata": {},
   "outputs": [
    {
     "name": "stdout",
     "output_type": "stream",
     "text": [
      "[ 6  7  8  9 10 11 12 13 14 15 16 17 18 19 20 21 22 23 24]\n"
     ]
    }
   ],
   "source": [
    "print(arr_1d_new)"
   ]
  },
  {
   "cell_type": "code",
   "execution_count": 73,
   "id": "b56579e4",
   "metadata": {},
   "outputs": [],
   "source": [
    "arr_1d_newAgain=arr_1d_new[arr_1d_new<8]"
   ]
  },
  {
   "cell_type": "code",
   "execution_count": 74,
   "id": "0f9ca64b",
   "metadata": {},
   "outputs": [
    {
     "name": "stdout",
     "output_type": "stream",
     "text": [
      "[6 7]\n"
     ]
    }
   ],
   "source": [
    "print(arr_1d_newAgain)"
   ]
  },
  {
   "cell_type": "code",
   "execution_count": null,
   "id": "0f57d51b",
   "metadata": {},
   "outputs": [],
   "source": [
    "[100,200,220,320]"
   ]
  },
  {
   "cell_type": "code",
   "execution_count": 167,
   "id": "3f4dd11e",
   "metadata": {},
   "outputs": [
    {
     "name": "stdout",
     "output_type": "stream",
     "text": [
      "[5 5 1 8 8 7 3 9 9 8 5 5 7 6 1 5 7 7 6 7]\n"
     ]
    }
   ],
   "source": [
    "print(arr_1d)"
   ]
  },
  {
   "cell_type": "code",
   "execution_count": 169,
   "id": "4fa88834",
   "metadata": {},
   "outputs": [
    {
     "data": {
      "text/plain": [
       "True"
      ]
     },
     "execution_count": 169,
     "metadata": {},
     "output_type": "execute_result"
    }
   ],
   "source": [
    "#it is asking that is there any element which is smaller and equal to 9. any keyword work exactly like it means\n",
    "np.any(arr_1d>=9)"
   ]
  },
  {
   "cell_type": "code",
   "execution_count": 170,
   "id": "2542272b",
   "metadata": {},
   "outputs": [
    {
     "data": {
      "text/plain": [
       "False"
      ]
     },
     "execution_count": 170,
     "metadata": {},
     "output_type": "execute_result"
    }
   ],
   "source": [
    "#it is asking that all element are smaller and equall to 9\n",
    "np.all(arr_1d>=9)"
   ]
  },
  {
   "cell_type": "code",
   "execution_count": 172,
   "id": "e9e6446f",
   "metadata": {},
   "outputs": [
    {
     "data": {
      "text/plain": [
       "[7, 7, 6, 7, 7, 6, 7]"
      ]
     },
     "execution_count": 172,
     "metadata": {},
     "output_type": "execute_result"
    }
   ],
   "source": [
    "list(filter(lambda x: x>5 and x<8,arr_1d))"
   ]
  },
  {
   "cell_type": "markdown",
   "id": "3e95b807",
   "metadata": {},
   "source": [
    "# indexing and slicing"
   ]
  },
  {
   "cell_type": "code",
   "execution_count": 173,
   "id": "18135df4",
   "metadata": {},
   "outputs": [],
   "source": [
    "arr_1d=np.arange(1,10)"
   ]
  },
  {
   "cell_type": "code",
   "execution_count": 174,
   "id": "05583df3",
   "metadata": {},
   "outputs": [
    {
     "name": "stdout",
     "output_type": "stream",
     "text": [
      "[1 2 3 4 5 6 7 8 9]\n"
     ]
    }
   ],
   "source": [
    "print(arr_1d)"
   ]
  },
  {
   "cell_type": "code",
   "execution_count": 175,
   "id": "f083ddf5",
   "metadata": {},
   "outputs": [
    {
     "data": {
      "text/plain": [
       "3"
      ]
     },
     "execution_count": 175,
     "metadata": {},
     "output_type": "execute_result"
    }
   ],
   "source": [
    "arr_1d[2]"
   ]
  },
  {
   "cell_type": "code",
   "execution_count": 176,
   "id": "fdb8874d",
   "metadata": {},
   "outputs": [
    {
     "data": {
      "text/plain": [
       "array([2, 4, 6, 8])"
      ]
     },
     "execution_count": 176,
     "metadata": {},
     "output_type": "execute_result"
    }
   ],
   "source": [
    "arr_1d[1::2]"
   ]
  },
  {
   "cell_type": "code",
   "execution_count": 177,
   "id": "45d4c551",
   "metadata": {},
   "outputs": [],
   "source": [
    "arr_2d=np.arange(1,21).reshape(4,5)"
   ]
  },
  {
   "cell_type": "code",
   "execution_count": 178,
   "id": "ac63a76d",
   "metadata": {},
   "outputs": [
    {
     "name": "stdout",
     "output_type": "stream",
     "text": [
      "[[ 1  2  3  4  5]\n",
      " [ 6  7  8  9 10]\n",
      " [11 12 13 14 15]\n",
      " [16 17 18 19 20]]\n"
     ]
    }
   ],
   "source": [
    "print(arr_2d)"
   ]
  },
  {
   "cell_type": "code",
   "execution_count": 179,
   "id": "e6e93eb4",
   "metadata": {},
   "outputs": [
    {
     "data": {
      "text/plain": [
       "array([ 6,  7,  8,  9, 10])"
      ]
     },
     "execution_count": 179,
     "metadata": {},
     "output_type": "execute_result"
    }
   ],
   "source": [
    "arr_2d[1]"
   ]
  },
  {
   "cell_type": "code",
   "execution_count": 180,
   "id": "92e0ec28",
   "metadata": {},
   "outputs": [
    {
     "data": {
      "text/plain": [
       "7"
      ]
     },
     "execution_count": 180,
     "metadata": {},
     "output_type": "execute_result"
    }
   ],
   "source": [
    "arr_2d[1][1]"
   ]
  },
  {
   "cell_type": "code",
   "execution_count": 75,
   "id": "17665568",
   "metadata": {},
   "outputs": [
    {
     "name": "stdout",
     "output_type": "stream",
     "text": [
      "[[ 1  2  3  4  5  6  7  8]\n",
      " [ 9 10 11 12 13 14 15 16]\n",
      " [17 18 19 20 21 22 23 24]]\n"
     ]
    },
    {
     "data": {
      "text/plain": [
       "array([[ 9, 10, 11, 12, 13, 14, 15, 16]])"
      ]
     },
     "execution_count": 75,
     "metadata": {},
     "output_type": "execute_result"
    }
   ],
   "source": [
    "# this is working in that way like [1::2] . mean go to index(1) and jump to 2th row after current position . \n",
    "print(arr_2d)\n",
    "arr_2d[1::2]"
   ]
  },
  {
   "cell_type": "code",
   "execution_count": 185,
   "id": "cab482e5",
   "metadata": {},
   "outputs": [
    {
     "data": {
      "text/plain": [
       "array([[16, 17, 18, 19, 20]])"
      ]
     },
     "execution_count": 185,
     "metadata": {},
     "output_type": "execute_result"
    }
   ],
   "source": [
    "arr_2d[1::2][1::2]"
   ]
  },
  {
   "cell_type": "code",
   "execution_count": 187,
   "id": "4865c9e3",
   "metadata": {},
   "outputs": [
    {
     "data": {
      "text/plain": [
       "array([[ 7,  9],\n",
       "       [17, 19]])"
      ]
     },
     "execution_count": 187,
     "metadata": {},
     "output_type": "execute_result"
    }
   ],
   "source": [
    "arr_2d[1::2,1::2]"
   ]
  },
  {
   "cell_type": "markdown",
   "id": "447cf232",
   "metadata": {},
   "source": [
    "# splitting"
   ]
  },
  {
   "cell_type": "code",
   "execution_count": 83,
   "id": "144558a4",
   "metadata": {},
   "outputs": [],
   "source": [
    "arr_1d=np.arange(1,10)"
   ]
  },
  {
   "cell_type": "code",
   "execution_count": 84,
   "id": "2465aab8",
   "metadata": {},
   "outputs": [
    {
     "name": "stdout",
     "output_type": "stream",
     "text": [
      "[array([1, 2, 3]), array([4, 5, 6]), array([7, 8, 9])]\n"
     ]
    }
   ],
   "source": [
    "#here splitting into given part (3) will be possible when no else elment remain outside of splitting. \n",
    "#suppose we are having array (1,11)means 10 element and so , we can't split 10 element into three part . bcz 1 will remain unsplitted.\n",
    "print(np.split(arr_1d,3))"
   ]
  },
  {
   "cell_type": "code",
   "execution_count": 190,
   "id": "791afdeb",
   "metadata": {},
   "outputs": [
    {
     "ename": "ValueError",
     "evalue": "array split does not result in an equal division",
     "output_type": "error",
     "traceback": [
      "\u001b[1;31m---------------------------------------------------------------------------\u001b[0m",
      "\u001b[1;31mValueError\u001b[0m                                Traceback (most recent call last)",
      "\u001b[1;32m~\\AppData\\Local\\Temp/ipykernel_28740/3203582300.py\u001b[0m in \u001b[0;36m<module>\u001b[1;34m\u001b[0m\n\u001b[1;32m----> 1\u001b[1;33m \u001b[0mnp\u001b[0m\u001b[1;33m.\u001b[0m\u001b[0msplit\u001b[0m\u001b[1;33m(\u001b[0m\u001b[0marr_1d\u001b[0m\u001b[1;33m,\u001b[0m\u001b[1;36m4\u001b[0m\u001b[1;33m)\u001b[0m\u001b[1;33m\u001b[0m\u001b[1;33m\u001b[0m\u001b[0m\n\u001b[0m",
      "\u001b[1;32m<__array_function__ internals>\u001b[0m in \u001b[0;36msplit\u001b[1;34m(*args, **kwargs)\u001b[0m\n",
      "\u001b[1;32m~\\anaconda3\\lib\\site-packages\\numpy\\lib\\shape_base.py\u001b[0m in \u001b[0;36msplit\u001b[1;34m(ary, indices_or_sections, axis)\u001b[0m\n\u001b[0;32m    870\u001b[0m         \u001b[0mN\u001b[0m \u001b[1;33m=\u001b[0m \u001b[0mary\u001b[0m\u001b[1;33m.\u001b[0m\u001b[0mshape\u001b[0m\u001b[1;33m[\u001b[0m\u001b[0maxis\u001b[0m\u001b[1;33m]\u001b[0m\u001b[1;33m\u001b[0m\u001b[1;33m\u001b[0m\u001b[0m\n\u001b[0;32m    871\u001b[0m         \u001b[1;32mif\u001b[0m \u001b[0mN\u001b[0m \u001b[1;33m%\u001b[0m \u001b[0msections\u001b[0m\u001b[1;33m:\u001b[0m\u001b[1;33m\u001b[0m\u001b[1;33m\u001b[0m\u001b[0m\n\u001b[1;32m--> 872\u001b[1;33m             raise ValueError(\n\u001b[0m\u001b[0;32m    873\u001b[0m                 'array split does not result in an equal division') from None\n\u001b[0;32m    874\u001b[0m     \u001b[1;32mreturn\u001b[0m \u001b[0marray_split\u001b[0m\u001b[1;33m(\u001b[0m\u001b[0mary\u001b[0m\u001b[1;33m,\u001b[0m \u001b[0mindices_or_sections\u001b[0m\u001b[1;33m,\u001b[0m \u001b[0maxis\u001b[0m\u001b[1;33m)\u001b[0m\u001b[1;33m\u001b[0m\u001b[1;33m\u001b[0m\u001b[0m\n",
      "\u001b[1;31mValueError\u001b[0m: array split does not result in an equal division"
     ]
    }
   ],
   "source": [
    "np.split(arr_1d,4)"
   ]
  },
  {
   "cell_type": "code",
   "execution_count": 191,
   "id": "06a9f28a",
   "metadata": {},
   "outputs": [
    {
     "name": "stdout",
     "output_type": "stream",
     "text": [
      "[1 2 3 4 5 6 7 8 9]\n"
     ]
    }
   ],
   "source": [
    "print(arr_1d)"
   ]
  },
  {
   "cell_type": "code",
   "execution_count": 90,
   "id": "db204694",
   "metadata": {},
   "outputs": [
    {
     "data": {
      "text/plain": [
       "[array([1]), array([2, 3, 4, 5]), array([6, 7, 8, 9])]"
      ]
     },
     "execution_count": 90,
     "metadata": {},
     "output_type": "execute_result"
    }
   ],
   "source": [
    "np.split(arr_1d,[1,5])"
   ]
  },
  {
   "cell_type": "code",
   "execution_count": 88,
   "id": "82e87d92",
   "metadata": {},
   "outputs": [
    {
     "name": "stdout",
     "output_type": "stream",
     "text": [
      "[[ 1  2  3  4  5  6  7  8]\n",
      " [ 9 10 11 12 13 14 15 16]\n",
      " [17 18 19 20 21 22 23 24]]\n"
     ]
    }
   ],
   "source": [
    "print(arr_2d)"
   ]
  },
  {
   "cell_type": "code",
   "execution_count": 89,
   "id": "01247779",
   "metadata": {},
   "outputs": [
    {
     "ename": "ValueError",
     "evalue": "array split does not result in an equal division",
     "output_type": "error",
     "traceback": [
      "\u001b[0;31m---------------------------------------------------------------------------\u001b[0m",
      "\u001b[0;31mValueError\u001b[0m                                Traceback (most recent call last)",
      "\u001b[0;32m/tmp/ipykernel_62083/384374718.py\u001b[0m in \u001b[0;36m<module>\u001b[0;34m\u001b[0m\n\u001b[0;32m----> 1\u001b[0;31m \u001b[0mnp\u001b[0m\u001b[0;34m.\u001b[0m\u001b[0msplit\u001b[0m\u001b[0;34m(\u001b[0m\u001b[0marr_2d\u001b[0m\u001b[0;34m,\u001b[0m\u001b[0;36m4\u001b[0m\u001b[0;34m)\u001b[0m\u001b[0;34m\u001b[0m\u001b[0;34m\u001b[0m\u001b[0m\n\u001b[0m",
      "\u001b[0;32m<__array_function__ internals>\u001b[0m in \u001b[0;36msplit\u001b[0;34m(*args, **kwargs)\u001b[0m\n",
      "\u001b[0;32m~/anaconda3/lib/python3.9/site-packages/numpy/lib/shape_base.py\u001b[0m in \u001b[0;36msplit\u001b[0;34m(ary, indices_or_sections, axis)\u001b[0m\n\u001b[1;32m    870\u001b[0m         \u001b[0mN\u001b[0m \u001b[0;34m=\u001b[0m \u001b[0mary\u001b[0m\u001b[0;34m.\u001b[0m\u001b[0mshape\u001b[0m\u001b[0;34m[\u001b[0m\u001b[0maxis\u001b[0m\u001b[0;34m]\u001b[0m\u001b[0;34m\u001b[0m\u001b[0;34m\u001b[0m\u001b[0m\n\u001b[1;32m    871\u001b[0m         \u001b[0;32mif\u001b[0m \u001b[0mN\u001b[0m \u001b[0;34m%\u001b[0m \u001b[0msections\u001b[0m\u001b[0;34m:\u001b[0m\u001b[0;34m\u001b[0m\u001b[0;34m\u001b[0m\u001b[0m\n\u001b[0;32m--> 872\u001b[0;31m             raise ValueError(\n\u001b[0m\u001b[1;32m    873\u001b[0m                 'array split does not result in an equal division') from None\n\u001b[1;32m    874\u001b[0m     \u001b[0;32mreturn\u001b[0m \u001b[0marray_split\u001b[0m\u001b[0;34m(\u001b[0m\u001b[0mary\u001b[0m\u001b[0;34m,\u001b[0m \u001b[0mindices_or_sections\u001b[0m\u001b[0;34m,\u001b[0m \u001b[0maxis\u001b[0m\u001b[0;34m)\u001b[0m\u001b[0;34m\u001b[0m\u001b[0;34m\u001b[0m\u001b[0m\n",
      "\u001b[0;31mValueError\u001b[0m: array split does not result in an equal division"
     ]
    }
   ],
   "source": [
    "np.split(arr_2d,4)"
   ]
  },
  {
   "cell_type": "code",
   "execution_count": 197,
   "id": "9430a123",
   "metadata": {},
   "outputs": [
    {
     "ename": "ValueError",
     "evalue": "array split does not result in an equal division",
     "output_type": "error",
     "traceback": [
      "\u001b[1;31m---------------------------------------------------------------------------\u001b[0m",
      "\u001b[1;31mValueError\u001b[0m                                Traceback (most recent call last)",
      "\u001b[1;32m~\\AppData\\Local\\Temp/ipykernel_28740/1501807524.py\u001b[0m in \u001b[0;36m<module>\u001b[1;34m\u001b[0m\n\u001b[1;32m----> 1\u001b[1;33m \u001b[0mnp\u001b[0m\u001b[1;33m.\u001b[0m\u001b[0msplit\u001b[0m\u001b[1;33m(\u001b[0m\u001b[0marr_2d\u001b[0m\u001b[1;33m,\u001b[0m\u001b[1;36m5\u001b[0m\u001b[1;33m)\u001b[0m\u001b[1;33m\u001b[0m\u001b[1;33m\u001b[0m\u001b[0m\n\u001b[0m",
      "\u001b[1;32m<__array_function__ internals>\u001b[0m in \u001b[0;36msplit\u001b[1;34m(*args, **kwargs)\u001b[0m\n",
      "\u001b[1;32m~\\anaconda3\\lib\\site-packages\\numpy\\lib\\shape_base.py\u001b[0m in \u001b[0;36msplit\u001b[1;34m(ary, indices_or_sections, axis)\u001b[0m\n\u001b[0;32m    870\u001b[0m         \u001b[0mN\u001b[0m \u001b[1;33m=\u001b[0m \u001b[0mary\u001b[0m\u001b[1;33m.\u001b[0m\u001b[0mshape\u001b[0m\u001b[1;33m[\u001b[0m\u001b[0maxis\u001b[0m\u001b[1;33m]\u001b[0m\u001b[1;33m\u001b[0m\u001b[1;33m\u001b[0m\u001b[0m\n\u001b[0;32m    871\u001b[0m         \u001b[1;32mif\u001b[0m \u001b[0mN\u001b[0m \u001b[1;33m%\u001b[0m \u001b[0msections\u001b[0m\u001b[1;33m:\u001b[0m\u001b[1;33m\u001b[0m\u001b[1;33m\u001b[0m\u001b[0m\n\u001b[1;32m--> 872\u001b[1;33m             raise ValueError(\n\u001b[0m\u001b[0;32m    873\u001b[0m                 'array split does not result in an equal division') from None\n\u001b[0;32m    874\u001b[0m     \u001b[1;32mreturn\u001b[0m \u001b[0marray_split\u001b[0m\u001b[1;33m(\u001b[0m\u001b[0mary\u001b[0m\u001b[1;33m,\u001b[0m \u001b[0mindices_or_sections\u001b[0m\u001b[1;33m,\u001b[0m \u001b[0maxis\u001b[0m\u001b[1;33m)\u001b[0m\u001b[1;33m\u001b[0m\u001b[1;33m\u001b[0m\u001b[0m\n",
      "\u001b[1;31mValueError\u001b[0m: array split does not result in an equal division"
     ]
    }
   ],
   "source": [
    "np.split(arr_2d,5)"
   ]
  },
  {
   "cell_type": "code",
   "execution_count": 199,
   "id": "9b2aec15",
   "metadata": {},
   "outputs": [
    {
     "data": {
      "text/plain": [
       "[array([[ 1],\n",
       "        [ 6],\n",
       "        [11],\n",
       "        [16]]),\n",
       " array([[ 2],\n",
       "        [ 7],\n",
       "        [12],\n",
       "        [17]]),\n",
       " array([[ 3],\n",
       "        [ 8],\n",
       "        [13],\n",
       "        [18]]),\n",
       " array([[ 4],\n",
       "        [ 9],\n",
       "        [14],\n",
       "        [19]]),\n",
       " array([[ 5],\n",
       "        [10],\n",
       "        [15],\n",
       "        [20]])]"
      ]
     },
     "execution_count": 199,
     "metadata": {},
     "output_type": "execute_result"
    }
   ],
   "source": [
    "np.split(arr_2d,5,axis=1)"
   ]
  },
  {
   "cell_type": "code",
   "execution_count": 200,
   "id": "3f9ac9ec",
   "metadata": {},
   "outputs": [
    {
     "data": {
      "text/plain": [
       "[array([[1, 2, 3, 4, 5]]),\n",
       " array([[ 6,  7,  8,  9, 10],\n",
       "        [11, 12, 13, 14, 15]]),\n",
       " array([[16, 17, 18, 19, 20]])]"
      ]
     },
     "execution_count": 200,
     "metadata": {},
     "output_type": "execute_result"
    }
   ],
   "source": [
    "np.split(arr_2d,[1,3])"
   ]
  },
  {
   "cell_type": "code",
   "execution_count": 201,
   "id": "e208005e",
   "metadata": {},
   "outputs": [
    {
     "name": "stdout",
     "output_type": "stream",
     "text": [
      "[2, 4, 6, 16, 10]\n"
     ]
    }
   ],
   "source": [
    "# vectorize\n",
    "#this program for add elements of two list if it is even multiply otherwise add.\n",
    "list1=[1,2,3,4,5]\n",
    "list2=[1,2,3,4,5]\n",
    "\n",
    "ans=[]\n",
    "for i in range(0,len(list1)):\n",
    "    if(i%2==0):\n",
    "        ans=ans+[list1[i]+list2[i]]\n",
    "    else:\n",
    "        ans=ans+[list1[i]*list2[i]]\n",
    "print(ans)"
   ]
  },
  {
   "cell_type": "code",
   "execution_count": 202,
   "id": "9192b291",
   "metadata": {},
   "outputs": [],
   "source": [
    "#here we are doing by defining a function and by calling it returns the value.\n",
    "def func_add_mul(a,b,index):\n",
    "    if(index%2==0):\n",
    "        return a+b\n",
    "    else:\n",
    "        return a*b"
   ]
  },
  {
   "cell_type": "code",
   "execution_count": 203,
   "id": "cb89b3f1",
   "metadata": {},
   "outputs": [],
   "source": [
    "#here object_1 contains . vectorize function which will simplay vectorize it \n",
    "object_1=np.vectorize(func_add_mul)"
   ]
  },
  {
   "cell_type": "code",
   "execution_count": 205,
   "id": "e1eae583",
   "metadata": {},
   "outputs": [
    {
     "name": "stdout",
     "output_type": "stream",
     "text": [
      "[ 2  4  6 16 10]\n"
     ]
    }
   ],
   "source": [
    "#we are calling the function stored variable object_1\n",
    "print(object_1(np.arange(1,6),np.arange(1,6),np.arange(0,5)))"
   ]
  },
  {
   "cell_type": "code",
   "execution_count": 206,
   "id": "7469d730",
   "metadata": {},
   "outputs": [
    {
     "name": "stdout",
     "output_type": "stream",
     "text": [
      "[[ 1  2  3  4  5]\n",
      " [ 6  7  8  9 10]\n",
      " [11 12 13 14 15]\n",
      " [16 17 18 19 20]]\n"
     ]
    }
   ],
   "source": [
    "# iteratio of the two-d-arrays\n",
    "print(arr_2d)"
   ]
  },
  {
   "cell_type": "code",
   "execution_count": 207,
   "id": "0a8cd1bc",
   "metadata": {},
   "outputs": [
    {
     "name": "stdout",
     "output_type": "stream",
     "text": [
      "[1 2 3 4 5]\n",
      "[ 6  7  8  9 10]\n",
      "[11 12 13 14 15]\n",
      "[16 17 18 19 20]\n"
     ]
    }
   ],
   "source": [
    "for i in arr_2d:\n",
    "    print(i)"
   ]
  },
  {
   "cell_type": "code",
   "execution_count": 209,
   "id": "2058fc0e",
   "metadata": {},
   "outputs": [
    {
     "name": "stdout",
     "output_type": "stream",
     "text": [
      "1\n",
      "2\n",
      "3\n",
      "4\n",
      "5\n",
      "6\n",
      "7\n",
      "8\n",
      "9\n",
      "10\n",
      "11\n",
      "12\n",
      "13\n",
      "14\n",
      "15\n",
      "16\n",
      "17\n",
      "18\n",
      "19\n",
      "20\n"
     ]
    }
   ],
   "source": [
    "for i in arr_2d:\n",
    "    for j in i:\n",
    "        print(j)"
   ]
  },
  {
   "cell_type": "code",
   "execution_count": 210,
   "id": "8dd1e12b",
   "metadata": {},
   "outputs": [
    {
     "name": "stdout",
     "output_type": "stream",
     "text": [
      "[[ 1  2  3  4  5]\n",
      " [ 6  7  8  9 10]\n",
      " [11 12 13 14 15]\n",
      " [16 17 18 19 20]]\n"
     ]
    }
   ],
   "source": [
    "print(arr_2d)"
   ]
  },
  {
   "cell_type": "code",
   "execution_count": 213,
   "id": "b03c716a",
   "metadata": {},
   "outputs": [
    {
     "name": "stdout",
     "output_type": "stream",
     "text": [
      "1\n",
      "6\n",
      "11\n",
      "16\n",
      "2\n",
      "7\n",
      "12\n",
      "17\n",
      "3\n",
      "8\n",
      "13\n",
      "18\n",
      "4\n",
      "9\n",
      "14\n",
      "19\n",
      "5\n",
      "10\n",
      "15\n",
      "20\n"
     ]
    }
   ],
   "source": [
    "for j in range(0,len(arr_2d[0])):\n",
    "    for i in range(0,len(arr_2d)):\n",
    "        print(arr_2d[i][j])\n",
    "#         arr_2d[i][j]=arr_2d[i][j]*arr_2d[i][j]\n",
    "        "
   ]
  },
  {
   "cell_type": "code",
   "execution_count": 215,
   "id": "7cca6da6",
   "metadata": {},
   "outputs": [
    {
     "name": "stdout",
     "output_type": "stream",
     "text": [
      "1\n",
      "2\n",
      "3\n",
      "4\n",
      "5\n",
      "6\n",
      "7\n",
      "8\n",
      "9\n",
      "10\n",
      "11\n",
      "12\n",
      "13\n",
      "14\n",
      "15\n",
      "16\n",
      "17\n",
      "18\n",
      "19\n",
      "20\n"
     ]
    }
   ],
   "source": [
    "for i in np.nditer(arr_2d):\n",
    "    print(i)"
   ]
  },
  {
   "cell_type": "code",
   "execution_count": 217,
   "id": "9c7e3d1a",
   "metadata": {},
   "outputs": [
    {
     "name": "stdout",
     "output_type": "stream",
     "text": [
      "1\n",
      "6\n",
      "11\n",
      "16\n",
      "2\n",
      "7\n",
      "12\n",
      "17\n",
      "3\n",
      "8\n",
      "13\n",
      "18\n",
      "4\n",
      "9\n",
      "14\n",
      "19\n",
      "5\n",
      "10\n",
      "15\n",
      "20\n"
     ]
    }
   ],
   "source": [
    "for i in np.nditer(arr_2d,order=\"F\"):\n",
    "    print(i)"
   ]
  },
  {
   "cell_type": "code",
   "execution_count": 221,
   "id": "154a36ae",
   "metadata": {},
   "outputs": [],
   "source": [
    "for i in np.nditer(arr_2d,op_flags=[\"readwrite\"]):\n",
    "    i[...]=i*i"
   ]
  },
  {
   "cell_type": "code",
   "execution_count": 222,
   "id": "e5d20898",
   "metadata": {},
   "outputs": [
    {
     "name": "stdout",
     "output_type": "stream",
     "text": [
      "1\n",
      "4\n",
      "9\n",
      "16\n",
      "25\n",
      "36\n",
      "49\n",
      "64\n",
      "81\n",
      "100\n",
      "121\n",
      "144\n",
      "169\n",
      "196\n",
      "225\n",
      "256\n",
      "289\n",
      "324\n",
      "361\n",
      "400\n"
     ]
    }
   ],
   "source": [
    "for i in np.nditer(arr_2d):\n",
    "    print(i)"
   ]
  },
  {
   "cell_type": "code",
   "execution_count": 219,
   "id": "5326a9b5",
   "metadata": {},
   "outputs": [
    {
     "name": "stdout",
     "output_type": "stream",
     "text": [
      "Help on class nditer in module numpy:\n",
      "\n",
      "class nditer(builtins.object)\n",
      " |  nditer(op, flags=None, op_flags=None, op_dtypes=None, order='K', casting='safe', op_axes=None, itershape=None, buffersize=0)\n",
      " |  \n",
      " |  Efficient multi-dimensional iterator object to iterate over arrays.\n",
      " |  To get started using this object, see the\n",
      " |  :ref:`introductory guide to array iteration <arrays.nditer>`.\n",
      " |  \n",
      " |  Parameters\n",
      " |  ----------\n",
      " |  op : ndarray or sequence of array_like\n",
      " |      The array(s) to iterate over.\n",
      " |  \n",
      " |  flags : sequence of str, optional\n",
      " |        Flags to control the behavior of the iterator.\n",
      " |  \n",
      " |        * ``buffered`` enables buffering when required.\n",
      " |        * ``c_index`` causes a C-order index to be tracked.\n",
      " |        * ``f_index`` causes a Fortran-order index to be tracked.\n",
      " |        * ``multi_index`` causes a multi-index, or a tuple of indices\n",
      " |          with one per iteration dimension, to be tracked.\n",
      " |        * ``common_dtype`` causes all the operands to be converted to\n",
      " |          a common data type, with copying or buffering as necessary.\n",
      " |        * ``copy_if_overlap`` causes the iterator to determine if read\n",
      " |          operands have overlap with write operands, and make temporary\n",
      " |          copies as necessary to avoid overlap. False positives (needless\n",
      " |          copying) are possible in some cases.\n",
      " |        * ``delay_bufalloc`` delays allocation of the buffers until\n",
      " |          a reset() call is made. Allows ``allocate`` operands to\n",
      " |          be initialized before their values are copied into the buffers.\n",
      " |        * ``external_loop`` causes the ``values`` given to be\n",
      " |          one-dimensional arrays with multiple values instead of\n",
      " |          zero-dimensional arrays.\n",
      " |        * ``grow_inner`` allows the ``value`` array sizes to be made\n",
      " |          larger than the buffer size when both ``buffered`` and\n",
      " |          ``external_loop`` is used.\n",
      " |        * ``ranged`` allows the iterator to be restricted to a sub-range\n",
      " |          of the iterindex values.\n",
      " |        * ``refs_ok`` enables iteration of reference types, such as\n",
      " |          object arrays.\n",
      " |        * ``reduce_ok`` enables iteration of ``readwrite`` operands\n",
      " |          which are broadcasted, also known as reduction operands.\n",
      " |        * ``zerosize_ok`` allows `itersize` to be zero.\n",
      " |  op_flags : list of list of str, optional\n",
      " |        This is a list of flags for each operand. At minimum, one of\n",
      " |        ``readonly``, ``readwrite``, or ``writeonly`` must be specified.\n",
      " |  \n",
      " |        * ``readonly`` indicates the operand will only be read from.\n",
      " |        * ``readwrite`` indicates the operand will be read from and written to.\n",
      " |        * ``writeonly`` indicates the operand will only be written to.\n",
      " |        * ``no_broadcast`` prevents the operand from being broadcasted.\n",
      " |        * ``contig`` forces the operand data to be contiguous.\n",
      " |        * ``aligned`` forces the operand data to be aligned.\n",
      " |        * ``nbo`` forces the operand data to be in native byte order.\n",
      " |        * ``copy`` allows a temporary read-only copy if required.\n",
      " |        * ``updateifcopy`` allows a temporary read-write copy if required.\n",
      " |        * ``allocate`` causes the array to be allocated if it is None\n",
      " |          in the ``op`` parameter.\n",
      " |        * ``no_subtype`` prevents an ``allocate`` operand from using a subtype.\n",
      " |        * ``arraymask`` indicates that this operand is the mask to use\n",
      " |          for selecting elements when writing to operands with the\n",
      " |          'writemasked' flag set. The iterator does not enforce this,\n",
      " |          but when writing from a buffer back to the array, it only\n",
      " |          copies those elements indicated by this mask.\n",
      " |        * ``writemasked`` indicates that only elements where the chosen\n",
      " |          ``arraymask`` operand is True will be written to.\n",
      " |        * ``overlap_assume_elementwise`` can be used to mark operands that are\n",
      " |          accessed only in the iterator order, to allow less conservative\n",
      " |          copying when ``copy_if_overlap`` is present.\n",
      " |  op_dtypes : dtype or tuple of dtype(s), optional\n",
      " |      The required data type(s) of the operands. If copying or buffering\n",
      " |      is enabled, the data will be converted to/from their original types.\n",
      " |  order : {'C', 'F', 'A', 'K'}, optional\n",
      " |      Controls the iteration order. 'C' means C order, 'F' means\n",
      " |      Fortran order, 'A' means 'F' order if all the arrays are Fortran\n",
      " |      contiguous, 'C' order otherwise, and 'K' means as close to the\n",
      " |      order the array elements appear in memory as possible. This also\n",
      " |      affects the element memory order of ``allocate`` operands, as they\n",
      " |      are allocated to be compatible with iteration order.\n",
      " |      Default is 'K'.\n",
      " |  casting : {'no', 'equiv', 'safe', 'same_kind', 'unsafe'}, optional\n",
      " |      Controls what kind of data casting may occur when making a copy\n",
      " |      or buffering.  Setting this to 'unsafe' is not recommended,\n",
      " |      as it can adversely affect accumulations.\n",
      " |  \n",
      " |      * 'no' means the data types should not be cast at all.\n",
      " |      * 'equiv' means only byte-order changes are allowed.\n",
      " |      * 'safe' means only casts which can preserve values are allowed.\n",
      " |      * 'same_kind' means only safe casts or casts within a kind,\n",
      " |        like float64 to float32, are allowed.\n",
      " |      * 'unsafe' means any data conversions may be done.\n",
      " |  op_axes : list of list of ints, optional\n",
      " |      If provided, is a list of ints or None for each operands.\n",
      " |      The list of axes for an operand is a mapping from the dimensions\n",
      " |      of the iterator to the dimensions of the operand. A value of\n",
      " |      -1 can be placed for entries, causing that dimension to be\n",
      " |      treated as `newaxis`.\n",
      " |  itershape : tuple of ints, optional\n",
      " |      The desired shape of the iterator. This allows ``allocate`` operands\n",
      " |      with a dimension mapped by op_axes not corresponding to a dimension\n",
      " |      of a different operand to get a value not equal to 1 for that\n",
      " |      dimension.\n",
      " |  buffersize : int, optional\n",
      " |      When buffering is enabled, controls the size of the temporary\n",
      " |      buffers. Set to 0 for the default value.\n",
      " |  \n",
      " |  Attributes\n",
      " |  ----------\n",
      " |  dtypes : tuple of dtype(s)\n",
      " |      The data types of the values provided in `value`. This may be\n",
      " |      different from the operand data types if buffering is enabled.\n",
      " |      Valid only before the iterator is closed.\n",
      " |  finished : bool\n",
      " |      Whether the iteration over the operands is finished or not.\n",
      " |  has_delayed_bufalloc : bool\n",
      " |      If True, the iterator was created with the ``delay_bufalloc`` flag,\n",
      " |      and no reset() function was called on it yet.\n",
      " |  has_index : bool\n",
      " |      If True, the iterator was created with either the ``c_index`` or\n",
      " |      the ``f_index`` flag, and the property `index` can be used to\n",
      " |      retrieve it.\n",
      " |  has_multi_index : bool\n",
      " |      If True, the iterator was created with the ``multi_index`` flag,\n",
      " |      and the property `multi_index` can be used to retrieve it.\n",
      " |  index\n",
      " |      When the ``c_index`` or ``f_index`` flag was used, this property\n",
      " |      provides access to the index. Raises a ValueError if accessed\n",
      " |      and ``has_index`` is False.\n",
      " |  iterationneedsapi : bool\n",
      " |      Whether iteration requires access to the Python API, for example\n",
      " |      if one of the operands is an object array.\n",
      " |  iterindex : int\n",
      " |      An index which matches the order of iteration.\n",
      " |  itersize : int\n",
      " |      Size of the iterator.\n",
      " |  itviews\n",
      " |      Structured view(s) of `operands` in memory, matching the reordered\n",
      " |      and optimized iterator access pattern. Valid only before the iterator\n",
      " |      is closed.\n",
      " |  multi_index\n",
      " |      When the ``multi_index`` flag was used, this property\n",
      " |      provides access to the index. Raises a ValueError if accessed\n",
      " |      accessed and ``has_multi_index`` is False.\n",
      " |  ndim : int\n",
      " |      The dimensions of the iterator.\n",
      " |  nop : int\n",
      " |      The number of iterator operands.\n",
      " |  operands : tuple of operand(s)\n",
      " |      The array(s) to be iterated over. Valid only before the iterator is\n",
      " |      closed.\n",
      " |  shape : tuple of ints\n",
      " |      Shape tuple, the shape of the iterator.\n",
      " |  value\n",
      " |      Value of ``operands`` at current iteration. Normally, this is a\n",
      " |      tuple of array scalars, but if the flag ``external_loop`` is used,\n",
      " |      it is a tuple of one dimensional arrays.\n",
      " |  \n",
      " |  Notes\n",
      " |  -----\n",
      " |  `nditer` supersedes `flatiter`.  The iterator implementation behind\n",
      " |  `nditer` is also exposed by the NumPy C API.\n",
      " |  \n",
      " |  The Python exposure supplies two iteration interfaces, one which follows\n",
      " |  the Python iterator protocol, and another which mirrors the C-style\n",
      " |  do-while pattern.  The native Python approach is better in most cases, but\n",
      " |  if you need the coordinates or index of an iterator, use the C-style pattern.\n",
      " |  \n",
      " |  Examples\n",
      " |  --------\n",
      " |  Here is how we might write an ``iter_add`` function, using the\n",
      " |  Python iterator protocol:\n",
      " |  \n",
      " |  >>> def iter_add_py(x, y, out=None):\n",
      " |  ...     addop = np.add\n",
      " |  ...     it = np.nditer([x, y, out], [],\n",
      " |  ...                 [['readonly'], ['readonly'], ['writeonly','allocate']])\n",
      " |  ...     with it:\n",
      " |  ...         for (a, b, c) in it:\n",
      " |  ...             addop(a, b, out=c)\n",
      " |  ...     return it.operands[2]\n",
      " |  \n",
      " |  Here is the same function, but following the C-style pattern:\n",
      " |  \n",
      " |  >>> def iter_add(x, y, out=None):\n",
      " |  ...    addop = np.add\n",
      " |  ...    it = np.nditer([x, y, out], [],\n",
      " |  ...                [['readonly'], ['readonly'], ['writeonly','allocate']])\n",
      " |  ...    with it:\n",
      " |  ...        while not it.finished:\n",
      " |  ...            addop(it[0], it[1], out=it[2])\n",
      " |  ...            it.iternext()\n",
      " |  ...        return it.operands[2]\n",
      " |  \n",
      " |  Here is an example outer product function:\n",
      " |  \n",
      " |  >>> def outer_it(x, y, out=None):\n",
      " |  ...     mulop = np.multiply\n",
      " |  ...     it = np.nditer([x, y, out], ['external_loop'],\n",
      " |  ...             [['readonly'], ['readonly'], ['writeonly', 'allocate']],\n",
      " |  ...             op_axes=[list(range(x.ndim)) + [-1] * y.ndim,\n",
      " |  ...                      [-1] * x.ndim + list(range(y.ndim)),\n",
      " |  ...                      None])\n",
      " |  ...     with it:\n",
      " |  ...         for (a, b, c) in it:\n",
      " |  ...             mulop(a, b, out=c)\n",
      " |  ...         return it.operands[2]\n",
      " |  \n",
      " |  >>> a = np.arange(2)+1\n",
      " |  >>> b = np.arange(3)+1\n",
      " |  >>> outer_it(a,b)\n",
      " |  array([[1, 2, 3],\n",
      " |         [2, 4, 6]])\n",
      " |  \n",
      " |  Here is an example function which operates like a \"lambda\" ufunc:\n",
      " |  \n",
      " |  >>> def luf(lamdaexpr, *args, **kwargs):\n",
      " |  ...    '''luf(lambdaexpr, op1, ..., opn, out=None, order='K', casting='safe', buffersize=0)'''\n",
      " |  ...    nargs = len(args)\n",
      " |  ...    op = (kwargs.get('out',None),) + args\n",
      " |  ...    it = np.nditer(op, ['buffered','external_loop'],\n",
      " |  ...            [['writeonly','allocate','no_broadcast']] +\n",
      " |  ...                            [['readonly','nbo','aligned']]*nargs,\n",
      " |  ...            order=kwargs.get('order','K'),\n",
      " |  ...            casting=kwargs.get('casting','safe'),\n",
      " |  ...            buffersize=kwargs.get('buffersize',0))\n",
      " |  ...    while not it.finished:\n",
      " |  ...        it[0] = lamdaexpr(*it[1:])\n",
      " |  ...        it.iternext()\n",
      " |  ...        return it.operands[0]\n",
      " |  \n",
      " |  >>> a = np.arange(5)\n",
      " |  >>> b = np.ones(5)\n",
      " |  >>> luf(lambda i,j:i*i + j/2, a, b)\n",
      " |  array([  0.5,   1.5,   4.5,   9.5,  16.5])\n",
      " |  \n",
      " |  If operand flags `\"writeonly\"` or `\"readwrite\"` are used the\n",
      " |  operands may be views into the original data with the\n",
      " |  `WRITEBACKIFCOPY` flag. In this case `nditer` must be used as a\n",
      " |  context manager or the `nditer.close` method must be called before\n",
      " |  using the result. The temporary data will be written back to the\n",
      " |  original data when the `__exit__` function is called but not before:\n",
      " |  \n",
      " |  >>> a = np.arange(6, dtype='i4')[::-2]\n",
      " |  >>> with np.nditer(a, [],\n",
      " |  ...        [['writeonly', 'updateifcopy']],\n",
      " |  ...        casting='unsafe',\n",
      " |  ...        op_dtypes=[np.dtype('f4')]) as i:\n",
      " |  ...    x = i.operands[0]\n",
      " |  ...    x[:] = [-1, -2, -3]\n",
      " |  ...    # a still unchanged here\n",
      " |  >>> a, x\n",
      " |  (array([-1, -2, -3], dtype=int32), array([-1., -2., -3.], dtype=float32))\n",
      " |  \n",
      " |  It is important to note that once the iterator is exited, dangling\n",
      " |  references (like `x` in the example) may or may not share data with\n",
      " |  the original data `a`. If writeback semantics were active, i.e. if\n",
      " |  `x.base.flags.writebackifcopy` is `True`, then exiting the iterator\n",
      " |  will sever the connection between `x` and `a`, writing to `x` will\n",
      " |  no longer write to `a`. If writeback semantics are not active, then\n",
      " |  `x.data` will still point at some part of `a.data`, and writing to\n",
      " |  one will affect the other.\n",
      " |  \n",
      " |  Context management and the `close` method appeared in version 1.15.0.\n",
      " |  \n",
      " |  Methods defined here:\n",
      " |  \n",
      " |  __copy__(...)\n",
      " |  \n",
      " |  __delitem__(self, key, /)\n",
      " |      Delete self[key].\n",
      " |  \n",
      " |  __enter__(...)\n",
      " |  \n",
      " |  __exit__(...)\n",
      " |  \n",
      " |  __getitem__(self, key, /)\n",
      " |      Return self[key].\n",
      " |  \n",
      " |  __init__(self, /, *args, **kwargs)\n",
      " |      Initialize self.  See help(type(self)) for accurate signature.\n",
      " |  \n",
      " |  __iter__(self, /)\n",
      " |      Implement iter(self).\n",
      " |  \n",
      " |  __len__(self, /)\n",
      " |      Return len(self).\n",
      " |  \n",
      " |  __next__(self, /)\n",
      " |      Implement next(self).\n",
      " |  \n",
      " |  __setitem__(self, key, value, /)\n",
      " |      Set self[key] to value.\n",
      " |  \n",
      " |  close(...)\n",
      " |      close()\n",
      " |      \n",
      " |      Resolve all writeback semantics in writeable operands.\n",
      " |      \n",
      " |      .. versionadded:: 1.15.0\n",
      " |      \n",
      " |      See Also\n",
      " |      --------\n",
      " |      \n",
      " |      :ref:`nditer-context-manager`\n",
      " |  \n",
      " |  copy(...)\n",
      " |      copy()\n",
      " |      \n",
      " |      Get a copy of the iterator in its current state.\n",
      " |      \n",
      " |      Examples\n",
      " |      --------\n",
      " |      >>> x = np.arange(10)\n",
      " |      >>> y = x + 1\n",
      " |      >>> it = np.nditer([x, y])\n",
      " |      >>> next(it)\n",
      " |      (array(0), array(1))\n",
      " |      >>> it2 = it.copy()\n",
      " |      >>> next(it2)\n",
      " |      (array(1), array(2))\n",
      " |  \n",
      " |  debug_print(...)\n",
      " |      debug_print()\n",
      " |      \n",
      " |      Print the current state of the `nditer` instance and debug info to stdout.\n",
      " |  \n",
      " |  enable_external_loop(...)\n",
      " |      enable_external_loop()\n",
      " |      \n",
      " |      When the \"external_loop\" was not used during construction, but\n",
      " |      is desired, this modifies the iterator to behave as if the flag\n",
      " |      was specified.\n",
      " |  \n",
      " |  iternext(...)\n",
      " |      iternext()\n",
      " |      \n",
      " |      Check whether iterations are left, and perform a single internal iteration\n",
      " |      without returning the result.  Used in the C-style pattern do-while\n",
      " |      pattern.  For an example, see `nditer`.\n",
      " |      \n",
      " |      Returns\n",
      " |      -------\n",
      " |      iternext : bool\n",
      " |          Whether or not there are iterations left.\n",
      " |  \n",
      " |  remove_axis(...)\n",
      " |      remove_axis(i)\n",
      " |      \n",
      " |      Removes axis `i` from the iterator. Requires that the flag \"multi_index\"\n",
      " |      be enabled.\n",
      " |  \n",
      " |  remove_multi_index(...)\n",
      " |      remove_multi_index()\n",
      " |      \n",
      " |      When the \"multi_index\" flag was specified, this removes it, allowing\n",
      " |      the internal iteration structure to be optimized further.\n",
      " |  \n",
      " |  reset(...)\n",
      " |      reset()\n",
      " |      \n",
      " |      Reset the iterator to its initial state.\n",
      " |  \n",
      " |  ----------------------------------------------------------------------\n",
      " |  Static methods defined here:\n",
      " |  \n",
      " |  __new__(*args, **kwargs) from builtins.type\n",
      " |      Create and return a new object.  See help(type) for accurate signature.\n",
      " |  \n",
      " |  ----------------------------------------------------------------------\n",
      " |  Data descriptors defined here:\n",
      " |  \n",
      " |  dtypes\n",
      " |  \n",
      " |  finished\n",
      " |  \n",
      " |  has_delayed_bufalloc\n",
      " |  \n",
      " |  has_index\n",
      " |  \n",
      " |  has_multi_index\n",
      " |  \n",
      " |  index\n",
      " |  \n",
      " |  iterationneedsapi\n",
      " |  \n",
      " |  iterindex\n",
      " |  \n",
      " |  iterrange\n",
      " |  \n",
      " |  itersize\n",
      " |  \n",
      " |  itviews\n",
      " |  \n",
      " |  multi_index\n",
      " |  \n",
      " |  ndim\n",
      " |  \n",
      " |  nop\n",
      " |  \n",
      " |  operands\n",
      " |      operands[`Slice`]\n",
      " |      \n",
      " |      The array(s) to be iterated over. Valid only before the iterator is closed.\n",
      " |  \n",
      " |  shape\n",
      " |  \n",
      " |  value\n",
      "\n"
     ]
    }
   ],
   "source": [
    "help(np.nditer)"
   ]
  },
  {
   "cell_type": "code",
   "execution_count": 223,
   "id": "daf68975",
   "metadata": {},
   "outputs": [],
   "source": [
    "arr_1d=np.random.randint(1,100,20)"
   ]
  },
  {
   "cell_type": "code",
   "execution_count": 224,
   "id": "32d0f4f1",
   "metadata": {},
   "outputs": [
    {
     "name": "stdout",
     "output_type": "stream",
     "text": [
      "[91 15 32 74 46 47 99 74 13 53 61 82 95 20 28 55 98 85 88 80]\n"
     ]
    }
   ],
   "source": [
    "print(arr_1d)"
   ]
  },
  {
   "cell_type": "code",
   "execution_count": 225,
   "id": "626a544a",
   "metadata": {},
   "outputs": [
    {
     "name": "stdout",
     "output_type": "stream",
     "text": [
      "[13 15 20 28 32 46 47 53 55 61 74 74 80 82 85 88 91 95 98 99]\n"
     ]
    }
   ],
   "source": [
    "#it will sort the element in increasing wise\n",
    "print(np.sort(arr_1d))"
   ]
  },
  {
   "cell_type": "code",
   "execution_count": 226,
   "id": "e0998d25",
   "metadata": {},
   "outputs": [
    {
     "data": {
      "text/plain": [
       "array([15, 99])"
      ]
     },
     "execution_count": 226,
     "metadata": {},
     "output_type": "execute_result"
    }
   ],
   "source": [
    "arr_1d[arr_1d%3==0]"
   ]
  },
  {
   "cell_type": "code",
   "execution_count": 227,
   "id": "e168ef55",
   "metadata": {},
   "outputs": [
    {
     "data": {
      "text/plain": [
       "(array([1, 6], dtype=int64),)"
      ]
     },
     "execution_count": 227,
     "metadata": {},
     "output_type": "execute_result"
    }
   ],
   "source": [
    "np.where(arr_1d%3==0)"
   ]
  },
  {
   "cell_type": "code",
   "execution_count": 228,
   "id": "1455f55b",
   "metadata": {},
   "outputs": [],
   "source": [
    "import pandas as pd"
   ]
  },
  {
   "cell_type": "markdown",
   "id": "1f284b68",
   "metadata": {},
   "source": []
  },
  {
   "cell_type": "code",
   "execution_count": 246,
   "id": "9340fe00",
   "metadata": {},
   "outputs": [],
   "source": [
    "river_lst = ['Missouri', 'Mississippi', 'Yukon', \n",
    "         'Tennessee', 'Brazos', 'Ganges']"
   ]
  },
  {
   "cell_type": "code",
   "execution_count": 231,
   "id": "ce25a02c",
   "metadata": {},
   "outputs": [],
   "source": [
    "series_list=pd.Series(river_lst)"
   ]
  },
  {
   "cell_type": "code",
   "execution_count": 232,
   "id": "c059dfb2",
   "metadata": {},
   "outputs": [
    {
     "name": "stdout",
     "output_type": "stream",
     "text": [
      "0       Missouri\n",
      "1    Mississippi\n",
      "2          Yukon\n",
      "3      Tennessee\n",
      "4         Brazos\n",
      "5         Ganges\n",
      "dtype: object\n"
     ]
    }
   ],
   "source": [
    "print(series_list)"
   ]
  },
  {
   "cell_type": "code",
   "execution_count": 234,
   "id": "163211af",
   "metadata": {},
   "outputs": [
    {
     "name": "stdout",
     "output_type": "stream",
     "text": [
      "Yukon\n"
     ]
    }
   ],
   "source": [
    "print(series_list[2])"
   ]
  },
  {
   "cell_type": "code",
   "execution_count": 235,
   "id": "3e1fdaef",
   "metadata": {},
   "outputs": [
    {
     "name": "stdout",
     "output_type": "stream",
     "text": [
      "RangeIndex(start=0, stop=6, step=1)\n"
     ]
    }
   ],
   "source": [
    "print(series_list.index)"
   ]
  },
  {
   "cell_type": "code",
   "execution_count": 236,
   "id": "dd6a912d",
   "metadata": {},
   "outputs": [],
   "source": [
    "series_list.index=[\"river_\"+str(i) for i in range(1,7)]"
   ]
  },
  {
   "cell_type": "code",
   "execution_count": 237,
   "id": "87623c0a",
   "metadata": {},
   "outputs": [
    {
     "name": "stdout",
     "output_type": "stream",
     "text": [
      "Index(['river_1', 'river_2', 'river_3', 'river_4', 'river_5', 'river_6'], dtype='object')\n"
     ]
    }
   ],
   "source": [
    "print(series_list.index)"
   ]
  },
  {
   "cell_type": "code",
   "execution_count": 238,
   "id": "ae204881",
   "metadata": {},
   "outputs": [
    {
     "name": "stdout",
     "output_type": "stream",
     "text": [
      "Yukon\n"
     ]
    }
   ],
   "source": [
    "print(series_list[2])"
   ]
  },
  {
   "cell_type": "code",
   "execution_count": 239,
   "id": "91f434b4",
   "metadata": {},
   "outputs": [
    {
     "name": "stdout",
     "output_type": "stream",
     "text": [
      "Mississippi\n"
     ]
    }
   ],
   "source": [
    "print(series_list[\"river_2\"])"
   ]
  },
  {
   "cell_type": "code",
   "execution_count": 240,
   "id": "e3a5b0b3",
   "metadata": {},
   "outputs": [],
   "source": [
    "series_list.index=[\"a\",\"b\",\"c\",\"d\",\"e\",\"f\"]"
   ]
  },
  {
   "cell_type": "code",
   "execution_count": 241,
   "id": "12b9b5dd",
   "metadata": {},
   "outputs": [
    {
     "name": "stdout",
     "output_type": "stream",
     "text": [
      "Index(['a', 'b', 'c', 'd', 'e', 'f'], dtype='object')\n"
     ]
    }
   ],
   "source": [
    "print(series_list.index)"
   ]
  },
  {
   "cell_type": "code",
   "execution_count": 242,
   "id": "d06b808c",
   "metadata": {},
   "outputs": [
    {
     "name": "stdout",
     "output_type": "stream",
     "text": [
      "Missouri\n"
     ]
    }
   ],
   "source": [
    "print(series_list[\"a\"])"
   ]
  },
  {
   "cell_type": "code",
   "execution_count": 243,
   "id": "6999e7e1",
   "metadata": {},
   "outputs": [],
   "source": [
    "series_list.index=[\"a\",\"b\",\"a\",\"d\",\"e\",\"f\"]"
   ]
  },
  {
   "cell_type": "code",
   "execution_count": 244,
   "id": "33d2937d",
   "metadata": {},
   "outputs": [
    {
     "name": "stdout",
     "output_type": "stream",
     "text": [
      "a    Missouri\n",
      "a       Yukon\n",
      "dtype: object\n"
     ]
    }
   ],
   "source": [
    "print(series_list[\"a\"])"
   ]
  },
  {
   "cell_type": "code",
   "execution_count": 245,
   "id": "4a3d41d3",
   "metadata": {},
   "outputs": [
    {
     "ename": "KeyError",
     "evalue": "\"Cannot get right slice bound for non-unique label: 'a'\"",
     "output_type": "error",
     "traceback": [
      "\u001b[1;31m---------------------------------------------------------------------------\u001b[0m",
      "\u001b[1;31mKeyError\u001b[0m                                  Traceback (most recent call last)",
      "\u001b[1;32m~\\AppData\\Local\\Temp/ipykernel_28740/3302781158.py\u001b[0m in \u001b[0;36m<module>\u001b[1;34m\u001b[0m\n\u001b[1;32m----> 1\u001b[1;33m \u001b[0mprint\u001b[0m\u001b[1;33m(\u001b[0m\u001b[0mseries_list\u001b[0m\u001b[1;33m[\u001b[0m\u001b[1;34m\"b\"\u001b[0m\u001b[1;33m:\u001b[0m\u001b[1;34m\"a\"\u001b[0m\u001b[1;33m]\u001b[0m\u001b[1;33m)\u001b[0m\u001b[1;33m\u001b[0m\u001b[1;33m\u001b[0m\u001b[0m\n\u001b[0m",
      "\u001b[1;32m~\\anaconda3\\lib\\site-packages\\pandas\\core\\series.py\u001b[0m in \u001b[0;36m__getitem__\u001b[1;34m(self, key)\u001b[0m\n\u001b[0;32m    964\u001b[0m             \u001b[1;32mreturn\u001b[0m \u001b[0mself\u001b[0m\u001b[1;33m.\u001b[0m\u001b[0m_get_values\u001b[0m\u001b[1;33m(\u001b[0m\u001b[0mkey\u001b[0m\u001b[1;33m)\u001b[0m\u001b[1;33m\u001b[0m\u001b[1;33m\u001b[0m\u001b[0m\n\u001b[0;32m    965\u001b[0m \u001b[1;33m\u001b[0m\u001b[0m\n\u001b[1;32m--> 966\u001b[1;33m         \u001b[1;32mreturn\u001b[0m \u001b[0mself\u001b[0m\u001b[1;33m.\u001b[0m\u001b[0m_get_with\u001b[0m\u001b[1;33m(\u001b[0m\u001b[0mkey\u001b[0m\u001b[1;33m)\u001b[0m\u001b[1;33m\u001b[0m\u001b[1;33m\u001b[0m\u001b[0m\n\u001b[0m\u001b[0;32m    967\u001b[0m \u001b[1;33m\u001b[0m\u001b[0m\n\u001b[0;32m    968\u001b[0m     \u001b[1;32mdef\u001b[0m \u001b[0m_get_with\u001b[0m\u001b[1;33m(\u001b[0m\u001b[0mself\u001b[0m\u001b[1;33m,\u001b[0m \u001b[0mkey\u001b[0m\u001b[1;33m)\u001b[0m\u001b[1;33m:\u001b[0m\u001b[1;33m\u001b[0m\u001b[1;33m\u001b[0m\u001b[0m\n",
      "\u001b[1;32m~\\anaconda3\\lib\\site-packages\\pandas\\core\\series.py\u001b[0m in \u001b[0;36m_get_with\u001b[1;34m(self, key)\u001b[0m\n\u001b[0;32m    971\u001b[0m             \u001b[1;31m# _convert_slice_indexer to determine if this slice is positional\u001b[0m\u001b[1;33m\u001b[0m\u001b[1;33m\u001b[0m\u001b[0m\n\u001b[0;32m    972\u001b[0m             \u001b[1;31m#  or label based, and if the latter, convert to positional\u001b[0m\u001b[1;33m\u001b[0m\u001b[1;33m\u001b[0m\u001b[0m\n\u001b[1;32m--> 973\u001b[1;33m             \u001b[0mslobj\u001b[0m \u001b[1;33m=\u001b[0m \u001b[0mself\u001b[0m\u001b[1;33m.\u001b[0m\u001b[0mindex\u001b[0m\u001b[1;33m.\u001b[0m\u001b[0m_convert_slice_indexer\u001b[0m\u001b[1;33m(\u001b[0m\u001b[0mkey\u001b[0m\u001b[1;33m,\u001b[0m \u001b[0mkind\u001b[0m\u001b[1;33m=\u001b[0m\u001b[1;34m\"getitem\"\u001b[0m\u001b[1;33m)\u001b[0m\u001b[1;33m\u001b[0m\u001b[1;33m\u001b[0m\u001b[0m\n\u001b[0m\u001b[0;32m    974\u001b[0m             \u001b[1;32mreturn\u001b[0m \u001b[0mself\u001b[0m\u001b[1;33m.\u001b[0m\u001b[0m_slice\u001b[0m\u001b[1;33m(\u001b[0m\u001b[0mslobj\u001b[0m\u001b[1;33m)\u001b[0m\u001b[1;33m\u001b[0m\u001b[1;33m\u001b[0m\u001b[0m\n\u001b[0;32m    975\u001b[0m         \u001b[1;32melif\u001b[0m \u001b[0misinstance\u001b[0m\u001b[1;33m(\u001b[0m\u001b[0mkey\u001b[0m\u001b[1;33m,\u001b[0m \u001b[0mABCDataFrame\u001b[0m\u001b[1;33m)\u001b[0m\u001b[1;33m:\u001b[0m\u001b[1;33m\u001b[0m\u001b[1;33m\u001b[0m\u001b[0m\n",
      "\u001b[1;32m~\\anaconda3\\lib\\site-packages\\pandas\\core\\indexes\\base.py\u001b[0m in \u001b[0;36m_convert_slice_indexer\u001b[1;34m(self, key, kind)\u001b[0m\n\u001b[0;32m   3751\u001b[0m             \u001b[0mindexer\u001b[0m \u001b[1;33m=\u001b[0m \u001b[0mkey\u001b[0m\u001b[1;33m\u001b[0m\u001b[1;33m\u001b[0m\u001b[0m\n\u001b[0;32m   3752\u001b[0m         \u001b[1;32melse\u001b[0m\u001b[1;33m:\u001b[0m\u001b[1;33m\u001b[0m\u001b[1;33m\u001b[0m\u001b[0m\n\u001b[1;32m-> 3753\u001b[1;33m             \u001b[0mindexer\u001b[0m \u001b[1;33m=\u001b[0m \u001b[0mself\u001b[0m\u001b[1;33m.\u001b[0m\u001b[0mslice_indexer\u001b[0m\u001b[1;33m(\u001b[0m\u001b[0mstart\u001b[0m\u001b[1;33m,\u001b[0m \u001b[0mstop\u001b[0m\u001b[1;33m,\u001b[0m \u001b[0mstep\u001b[0m\u001b[1;33m)\u001b[0m\u001b[1;33m\u001b[0m\u001b[1;33m\u001b[0m\u001b[0m\n\u001b[0m\u001b[0;32m   3754\u001b[0m \u001b[1;33m\u001b[0m\u001b[0m\n\u001b[0;32m   3755\u001b[0m         \u001b[1;32mreturn\u001b[0m \u001b[0mindexer\u001b[0m\u001b[1;33m\u001b[0m\u001b[1;33m\u001b[0m\u001b[0m\n",
      "\u001b[1;32m~\\anaconda3\\lib\\site-packages\\pandas\\core\\indexes\\base.py\u001b[0m in \u001b[0;36mslice_indexer\u001b[1;34m(self, start, end, step, kind)\u001b[0m\n\u001b[0;32m   5683\u001b[0m         \u001b[0mslice\u001b[0m\u001b[1;33m(\u001b[0m\u001b[1;36m1\u001b[0m\u001b[1;33m,\u001b[0m \u001b[1;36m3\u001b[0m\u001b[1;33m,\u001b[0m \u001b[1;32mNone\u001b[0m\u001b[1;33m)\u001b[0m\u001b[1;33m\u001b[0m\u001b[1;33m\u001b[0m\u001b[0m\n\u001b[0;32m   5684\u001b[0m         \"\"\"\n\u001b[1;32m-> 5685\u001b[1;33m         \u001b[0mstart_slice\u001b[0m\u001b[1;33m,\u001b[0m \u001b[0mend_slice\u001b[0m \u001b[1;33m=\u001b[0m \u001b[0mself\u001b[0m\u001b[1;33m.\u001b[0m\u001b[0mslice_locs\u001b[0m\u001b[1;33m(\u001b[0m\u001b[0mstart\u001b[0m\u001b[1;33m,\u001b[0m \u001b[0mend\u001b[0m\u001b[1;33m,\u001b[0m \u001b[0mstep\u001b[0m\u001b[1;33m=\u001b[0m\u001b[0mstep\u001b[0m\u001b[1;33m)\u001b[0m\u001b[1;33m\u001b[0m\u001b[1;33m\u001b[0m\u001b[0m\n\u001b[0m\u001b[0;32m   5686\u001b[0m \u001b[1;33m\u001b[0m\u001b[0m\n\u001b[0;32m   5687\u001b[0m         \u001b[1;31m# return a slice\u001b[0m\u001b[1;33m\u001b[0m\u001b[1;33m\u001b[0m\u001b[0m\n",
      "\u001b[1;32m~\\anaconda3\\lib\\site-packages\\pandas\\core\\indexes\\base.py\u001b[0m in \u001b[0;36mslice_locs\u001b[1;34m(self, start, end, step, kind)\u001b[0m\n\u001b[0;32m   5891\u001b[0m         \u001b[0mend_slice\u001b[0m \u001b[1;33m=\u001b[0m \u001b[1;32mNone\u001b[0m\u001b[1;33m\u001b[0m\u001b[1;33m\u001b[0m\u001b[0m\n\u001b[0;32m   5892\u001b[0m         \u001b[1;32mif\u001b[0m \u001b[0mend\u001b[0m \u001b[1;32mis\u001b[0m \u001b[1;32mnot\u001b[0m \u001b[1;32mNone\u001b[0m\u001b[1;33m:\u001b[0m\u001b[1;33m\u001b[0m\u001b[1;33m\u001b[0m\u001b[0m\n\u001b[1;32m-> 5893\u001b[1;33m             \u001b[0mend_slice\u001b[0m \u001b[1;33m=\u001b[0m \u001b[0mself\u001b[0m\u001b[1;33m.\u001b[0m\u001b[0mget_slice_bound\u001b[0m\u001b[1;33m(\u001b[0m\u001b[0mend\u001b[0m\u001b[1;33m,\u001b[0m \u001b[1;34m\"right\"\u001b[0m\u001b[1;33m)\u001b[0m\u001b[1;33m\u001b[0m\u001b[1;33m\u001b[0m\u001b[0m\n\u001b[0m\u001b[0;32m   5894\u001b[0m         \u001b[1;32mif\u001b[0m \u001b[0mend_slice\u001b[0m \u001b[1;32mis\u001b[0m \u001b[1;32mNone\u001b[0m\u001b[1;33m:\u001b[0m\u001b[1;33m\u001b[0m\u001b[1;33m\u001b[0m\u001b[0m\n\u001b[0;32m   5895\u001b[0m             \u001b[0mend_slice\u001b[0m \u001b[1;33m=\u001b[0m \u001b[0mlen\u001b[0m\u001b[1;33m(\u001b[0m\u001b[0mself\u001b[0m\u001b[1;33m)\u001b[0m\u001b[1;33m\u001b[0m\u001b[1;33m\u001b[0m\u001b[0m\n",
      "\u001b[1;32m~\\anaconda3\\lib\\site-packages\\pandas\\core\\indexes\\base.py\u001b[0m in \u001b[0;36mget_slice_bound\u001b[1;34m(self, label, side, kind)\u001b[0m\n\u001b[0;32m   5817\u001b[0m                 )\n\u001b[0;32m   5818\u001b[0m             \u001b[1;32mif\u001b[0m \u001b[0misinstance\u001b[0m\u001b[1;33m(\u001b[0m\u001b[0mslc\u001b[0m\u001b[1;33m,\u001b[0m \u001b[0mnp\u001b[0m\u001b[1;33m.\u001b[0m\u001b[0mndarray\u001b[0m\u001b[1;33m)\u001b[0m\u001b[1;33m:\u001b[0m\u001b[1;33m\u001b[0m\u001b[1;33m\u001b[0m\u001b[0m\n\u001b[1;32m-> 5819\u001b[1;33m                 raise KeyError(\n\u001b[0m\u001b[0;32m   5820\u001b[0m                     \u001b[1;34mf\"Cannot get {side} slice bound for non-unique \"\u001b[0m\u001b[1;33m\u001b[0m\u001b[1;33m\u001b[0m\u001b[0m\n\u001b[0;32m   5821\u001b[0m                     \u001b[1;34mf\"label: {repr(original_label)}\"\u001b[0m\u001b[1;33m\u001b[0m\u001b[1;33m\u001b[0m\u001b[0m\n",
      "\u001b[1;31mKeyError\u001b[0m: \"Cannot get right slice bound for non-unique label: 'a'\""
     ]
    }
   ],
   "source": [
    "print(series_list[\"b\":\"a\"])"
   ]
  },
  {
   "cell_type": "code",
   "execution_count": 247,
   "id": "f2f3ebcc",
   "metadata": {},
   "outputs": [],
   "source": [
    "series_list=pd.Series(river_lst)"
   ]
  },
  {
   "cell_type": "code",
   "execution_count": 248,
   "id": "4fe67121",
   "metadata": {},
   "outputs": [
    {
     "name": "stdout",
     "output_type": "stream",
     "text": [
      "0       Missouri\n",
      "1    Mississippi\n",
      "2          Yukon\n",
      "3      Tennessee\n",
      "4         Brazos\n",
      "5         Ganges\n",
      "dtype: object\n"
     ]
    }
   ],
   "source": [
    "print(series_list)"
   ]
  },
  {
   "cell_type": "code",
   "execution_count": 249,
   "id": "7f008517",
   "metadata": {},
   "outputs": [
    {
     "data": {
      "text/plain": [
       "0       Missouri\n",
       "1    Mississippi\n",
       "2          Yukon\n",
       "3      Tennessee\n",
       "dtype: object"
      ]
     },
     "execution_count": 249,
     "metadata": {},
     "output_type": "execute_result"
    }
   ],
   "source": [
    "series_list[0:4:1]"
   ]
  },
  {
   "cell_type": "code",
   "execution_count": 250,
   "id": "bb434eaa",
   "metadata": {},
   "outputs": [],
   "source": [
    "series_list.index=[\"a\",\"b\",\"c\",\"d\",\"e\",\"f\"]"
   ]
  },
  {
   "cell_type": "code",
   "execution_count": 251,
   "id": "141d2c29",
   "metadata": {},
   "outputs": [
    {
     "name": "stdout",
     "output_type": "stream",
     "text": [
      "a       Missouri\n",
      "b    Mississippi\n",
      "c          Yukon\n",
      "d      Tennessee\n",
      "e         Brazos\n",
      "f         Ganges\n",
      "dtype: object\n"
     ]
    }
   ],
   "source": [
    "print(series_list)"
   ]
  },
  {
   "cell_type": "code",
   "execution_count": 252,
   "id": "a7ebad76",
   "metadata": {},
   "outputs": [
    {
     "data": {
      "text/plain": [
       "a       Missouri\n",
       "b    Mississippi\n",
       "c          Yukon\n",
       "d      Tennessee\n",
       "e         Brazos\n",
       "dtype: object"
      ]
     },
     "execution_count": 252,
     "metadata": {},
     "output_type": "execute_result"
    }
   ],
   "source": [
    "series_list[\"a\":\"e\"]"
   ]
  },
  {
   "cell_type": "code",
   "execution_count": 253,
   "id": "c9a9cd82",
   "metadata": {},
   "outputs": [],
   "source": [
    "brics_country = ['Brazil', 'Russia', 'India', 'China', 'South Africa']\n",
    "brics_currency = ['Real', 'Ruble', 'Rupee', 'Renminbi', 'Rand' ]\n"
   ]
  },
  {
   "cell_type": "code",
   "execution_count": 256,
   "id": "03a83201",
   "metadata": {},
   "outputs": [],
   "source": [
    "Country_currency_series=pd.Series(brics_currency,index=brics_country)"
   ]
  },
  {
   "cell_type": "code",
   "execution_count": 257,
   "id": "0f041ba8",
   "metadata": {},
   "outputs": [
    {
     "name": "stdout",
     "output_type": "stream",
     "text": [
      "Brazil              Real\n",
      "Russia             Ruble\n",
      "India              Rupee\n",
      "China           Renminbi\n",
      "South Africa        Rand\n",
      "dtype: object\n"
     ]
    }
   ],
   "source": [
    "print(Country_currency_series)"
   ]
  },
  {
   "cell_type": "code",
   "execution_count": 258,
   "id": "dbc4312d",
   "metadata": {},
   "outputs": [
    {
     "name": "stdout",
     "output_type": "stream",
     "text": [
      "Renminbi\n"
     ]
    }
   ],
   "source": [
    "print(Country_currency_series[\"China\"])"
   ]
  },
  {
   "cell_type": "code",
   "execution_count": 260,
   "id": "c9b515ec",
   "metadata": {},
   "outputs": [],
   "source": [
    "a={\"First Name\":\"Garvit\",\"Last Name\":\"Taneja\"}"
   ]
  },
  {
   "cell_type": "code",
   "execution_count": 261,
   "id": "a7b8bbc6",
   "metadata": {},
   "outputs": [],
   "source": [
    "series=pd.Series(a)"
   ]
  },
  {
   "cell_type": "code",
   "execution_count": 262,
   "id": "716740cd",
   "metadata": {},
   "outputs": [
    {
     "name": "stdout",
     "output_type": "stream",
     "text": [
      "First Name    Garvit\n",
      "Last Name     Taneja\n",
      "dtype: object\n"
     ]
    }
   ],
   "source": [
    "print(series)"
   ]
  },
  {
   "cell_type": "code",
   "execution_count": 263,
   "id": "d1548eeb",
   "metadata": {},
   "outputs": [],
   "source": [
    "series=pd.Series(a,index=[\"First Name\",\"Company\",\"Last Name\"])"
   ]
  },
  {
   "cell_type": "code",
   "execution_count": 264,
   "id": "c79b6738",
   "metadata": {},
   "outputs": [
    {
     "name": "stdout",
     "output_type": "stream",
     "text": [
      "First Name    Garvit\n",
      "Company          NaN\n",
      "Last Name     Taneja\n",
      "dtype: object\n"
     ]
    }
   ],
   "source": [
    "print(series)"
   ]
  },
  {
   "cell_type": "code",
   "execution_count": 266,
   "id": "dfdec59e",
   "metadata": {},
   "outputs": [],
   "source": [
    "series[\"Company\"]=\"Salesforce\""
   ]
  },
  {
   "cell_type": "code",
   "execution_count": 267,
   "id": "64b65c1b",
   "metadata": {},
   "outputs": [
    {
     "name": "stdout",
     "output_type": "stream",
     "text": [
      "First Name        Garvit\n",
      "Company       Salesforce\n",
      "Last Name         Taneja\n",
      "dtype: object\n"
     ]
    }
   ],
   "source": [
    "print(series)"
   ]
  },
  {
   "cell_type": "code",
   "execution_count": null,
   "id": "1c79f024",
   "metadata": {},
   "outputs": [],
   "source": []
  }
 ],
 "metadata": {
  "kernelspec": {
   "display_name": "Python 3 (ipykernel)",
   "language": "python",
   "name": "python3"
  },
  "language_info": {
   "codemirror_mode": {
    "name": "ipython",
    "version": 3
   },
   "file_extension": ".py",
   "mimetype": "text/x-python",
   "name": "python",
   "nbconvert_exporter": "python",
   "pygments_lexer": "ipython3",
   "version": "3.9.7"
  }
 },
 "nbformat": 4,
 "nbformat_minor": 5
}
