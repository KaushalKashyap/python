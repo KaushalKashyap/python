{
 "cells": [
  {
   "cell_type": "markdown",
   "id": "362b141d",
   "metadata": {},
   "source": [
    "# dict functions"
   ]
  },
  {
   "cell_type": "code",
   "execution_count": 1,
   "id": "e5acc43f",
   "metadata": {},
   "outputs": [
    {
     "name": "stdout",
     "output_type": "stream",
     "text": [
      "['__class__', '__class_getitem__', '__contains__', '__delattr__', '__delitem__', '__dir__', '__doc__', '__eq__', '__format__', '__ge__', '__getattribute__', '__getitem__', '__gt__', '__hash__', '__init__', '__init_subclass__', '__ior__', '__iter__', '__le__', '__len__', '__lt__', '__ne__', '__new__', '__or__', '__reduce__', '__reduce_ex__', '__repr__', '__reversed__', '__ror__', '__setattr__', '__setitem__', '__sizeof__', '__str__', '__subclasshook__', 'clear', 'copy', 'fromkeys', 'get', 'items', 'keys', 'pop', 'popitem', 'setdefault', 'update', 'values']\n"
     ]
    }
   ],
   "source": [
    "print(dir(dict))"
   ]
  },
  {
   "cell_type": "code",
   "execution_count": 2,
   "id": "f5965960",
   "metadata": {},
   "outputs": [
    {
     "data": {
      "text/plain": [
       "('copy',\n",
       " 'fromkeys',\n",
       " 'get',\n",
       " 'items',\n",
       " 'keys',\n",
       " 'pop',\n",
       " 'popitem',\n",
       " 'setdefault',\n",
       " 'update',\n",
       " 'values')"
      ]
     },
     "execution_count": 2,
     "metadata": {},
     "output_type": "execute_result"
    }
   ],
   "source": [
    "'', '', '', '', '', '', '', '', '', ''"
   ]
  },
  {
   "cell_type": "code",
   "execution_count": 44,
   "id": "1939c94f",
   "metadata": {},
   "outputs": [],
   "source": [
    "emp={\"Name\":\"Shaurya\",\"Age\":32,\"Exp\":3,\"Contact numbers\":[7982429934,9891879226]}"
   ]
  },
  {
   "cell_type": "code",
   "execution_count": 35,
   "id": "5f2c4b14",
   "metadata": {},
   "outputs": [
    {
     "data": {
      "text/plain": [
       "'Shaurya'"
      ]
     },
     "execution_count": 35,
     "metadata": {},
     "output_type": "execute_result"
    }
   ],
   "source": [
    "emp[\"Name\"]"
   ]
  },
  {
   "cell_type": "code",
   "execution_count": 6,
   "id": "26652010",
   "metadata": {},
   "outputs": [
    {
     "ename": "KeyError",
     "evalue": "'Prev Companies'",
     "output_type": "error",
     "traceback": [
      "\u001b[1;31m---------------------------------------------------------------------------\u001b[0m",
      "\u001b[1;31mKeyError\u001b[0m                                  Traceback (most recent call last)",
      "\u001b[1;32m~\\AppData\\Local\\Temp/ipykernel_23896/3837129039.py\u001b[0m in \u001b[0;36m<module>\u001b[1;34m\u001b[0m\n\u001b[1;32m----> 1\u001b[1;33m \u001b[0memp\u001b[0m\u001b[1;33m[\u001b[0m\u001b[1;34m\"Prev Companies\"\u001b[0m\u001b[1;33m]\u001b[0m\u001b[1;33m\u001b[0m\u001b[1;33m\u001b[0m\u001b[0m\n\u001b[0m",
      "\u001b[1;31mKeyError\u001b[0m: 'Prev Companies'"
     ]
    }
   ],
   "source": [
    "emp[\"Prev Companies\"]"
   ]
  },
  {
   "cell_type": "code",
   "execution_count": 7,
   "id": "07832617",
   "metadata": {},
   "outputs": [
    {
     "name": "stdout",
     "output_type": "stream",
     "text": [
      "Help on method_descriptor:\n",
      "\n",
      "get(self, key, default=None, /)\n",
      "    Return the value for key if key is in the dictionary, else default.\n",
      "\n",
      "None\n"
     ]
    }
   ],
   "source": [
    "# get\n",
    "#if the key is present, return the value.\n",
    "#if the key is absent and second argument is not passed, return None\n",
    "#if the key is absent and second argument is passed, return second argument\n",
    "#It doesn't make change to the existing dictionary\n",
    "print(help(dict.get))"
   ]
  },
  {
   "cell_type": "code",
   "execution_count": 8,
   "id": "2a59252f",
   "metadata": {},
   "outputs": [
    {
     "data": {
      "text/plain": [
       "'Shaurya'"
      ]
     },
     "execution_count": 8,
     "metadata": {},
     "output_type": "execute_result"
    }
   ],
   "source": [
    "emp.get(\"Name\")"
   ]
  },
  {
   "cell_type": "code",
   "execution_count": 15,
   "id": "49e310c9",
   "metadata": {},
   "outputs": [
    {
     "name": "stdout",
     "output_type": "stream",
     "text": [
      "None\n"
     ]
    }
   ],
   "source": [
    "print(emp.get(\"Prev Companies\"))"
   ]
  },
  {
   "cell_type": "code",
   "execution_count": 12,
   "id": "7301eed2",
   "metadata": {},
   "outputs": [
    {
     "data": {
      "text/plain": [
       "\"The employee hasn't entered this field yet\""
      ]
     },
     "execution_count": 12,
     "metadata": {},
     "output_type": "execute_result"
    }
   ],
   "source": [
    "print(emp.get(\"Prev Companies\",\"The employee hasn't entered this field yet\"))"
   ]
  },
  {
   "cell_type": "code",
   "execution_count": 16,
   "id": "97b6e819",
   "metadata": {},
   "outputs": [
    {
     "name": "stdout",
     "output_type": "stream",
     "text": [
      "{'Name': 'Shaurya', 'Age': 32, 'Exp': 3, 'Contact numbers': [7982429934, 9891879226]}\n"
     ]
    }
   ],
   "source": [
    "print(emp)"
   ]
  },
  {
   "cell_type": "code",
   "execution_count": 17,
   "id": "1726956d",
   "metadata": {},
   "outputs": [
    {
     "name": "stdout",
     "output_type": "stream",
     "text": [
      "Help on method_descriptor:\n",
      "\n",
      "setdefault(self, key, default=None, /)\n",
      "    Insert key with a value of default if key is not in the dictionary.\n",
      "    \n",
      "    Return the value for key if key is in the dictionary, else default.\n",
      "\n",
      "None\n"
     ]
    }
   ],
   "source": [
    "#setdefault\n",
    "#if the key is present, return the value.\n",
    "#if the key is absent and second argument is not passed, return None\n",
    "#if the key is absent and second argument is passed, return second argument\n",
    "#It does make change to the existing dictionary when the key queried is not present in dictionary\n",
    "print(help(dict.setdefault))"
   ]
  },
  {
   "cell_type": "code",
   "execution_count": 45,
   "id": "d106fcac",
   "metadata": {},
   "outputs": [
    {
     "name": "stdout",
     "output_type": "stream",
     "text": [
      "Shaurya\n"
     ]
    }
   ],
   "source": [
    "print(emp.setdefault(\"Name\"))"
   ]
  },
  {
   "cell_type": "code",
   "execution_count": 4,
   "id": "29cf3ea7",
   "metadata": {},
   "outputs": [
    {
     "ename": "TypeError",
     "evalue": "descriptor 'split' for 'str' objects doesn't apply to a 'type' object",
     "output_type": "error",
     "traceback": [
      "\u001b[0;31m---------------------------------------------------------------------------\u001b[0m",
      "\u001b[0;31mTypeError\u001b[0m                                 Traceback (most recent call last)",
      "\u001b[0;32m/tmp/ipykernel_12598/3075742902.py\u001b[0m in \u001b[0;36m<module>\u001b[0;34m\u001b[0m\n\u001b[0;32m----> 1\u001b[0;31m \u001b[0mprint\u001b[0m\u001b[0;34m(\u001b[0m\u001b[0mhelp\u001b[0m\u001b[0;34m(\u001b[0m\u001b[0mstr\u001b[0m\u001b[0;34m.\u001b[0m\u001b[0msplit\u001b[0m\u001b[0;34m(\u001b[0m\u001b[0mstr\u001b[0m\u001b[0;34m)\u001b[0m\u001b[0;34m)\u001b[0m\u001b[0;34m)\u001b[0m\u001b[0;34m\u001b[0m\u001b[0;34m\u001b[0m\u001b[0m\n\u001b[0m",
      "\u001b[0;31mTypeError\u001b[0m: descriptor 'split' for 'str' objects doesn't apply to a 'type' object"
     ]
    }
   ],
   "source": [
    "print(help(str.split(str)))"
   ]
  },
  {
   "cell_type": "code",
   "execution_count": 46,
   "id": "78e9bf20",
   "metadata": {},
   "outputs": [
    {
     "name": "stdout",
     "output_type": "stream",
     "text": [
      "None\n"
     ]
    }
   ],
   "source": [
    "print(emp.setdefault(\"Prev Companies\",\"None\"))"
   ]
  },
  {
   "cell_type": "code",
   "execution_count": 47,
   "id": "5416b7a9",
   "metadata": {},
   "outputs": [
    {
     "name": "stdout",
     "output_type": "stream",
     "text": [
      "{'Name': 'Shaurya', 'Age': 32, 'Exp': 3, 'Contact numbers': [7982429934, 9891879226], 'Prev Companies': 'None'}\n"
     ]
    }
   ],
   "source": [
    "print(emp)"
   ]
  },
  {
   "cell_type": "code",
   "execution_count": 48,
   "id": "892b4c9a",
   "metadata": {},
   "outputs": [
    {
     "name": "stdout",
     "output_type": "stream",
     "text": [
      "None\n"
     ]
    }
   ],
   "source": [
    "print(emp.setdefault(\"Prev Companies\",\"Amazon\"))"
   ]
  },
  {
   "cell_type": "code",
   "execution_count": 22,
   "id": "8388682d",
   "metadata": {},
   "outputs": [
    {
     "name": "stdout",
     "output_type": "stream",
     "text": [
      "{'Name': 'Shaurya', 'Age': 32, 'Exp': 3, 'Contact numbers': [7982429934, 9891879226], 'Prev Companies': None}\n"
     ]
    }
   ],
   "source": [
    "print(emp)"
   ]
  },
  {
   "cell_type": "code",
   "execution_count": 25,
   "id": "ec79f465",
   "metadata": {},
   "outputs": [
    {
     "name": "stdout",
     "output_type": "stream",
     "text": [
      "Manager has not been allocated yet\n"
     ]
    }
   ],
   "source": [
    "print(emp.setdefault(\"Manager's Name\",\"Manager has not been allocated yet\"))"
   ]
  },
  {
   "cell_type": "code",
   "execution_count": 26,
   "id": "104ab296",
   "metadata": {},
   "outputs": [
    {
     "name": "stdout",
     "output_type": "stream",
     "text": [
      "{'Name': 'Shaurya', 'Age': 32, 'Exp': 3, 'Contact numbers': [7982429934, 9891879226], 'Prev Companies': None, \"Manager's Name\": 'Manager has not been allocated yet'}\n"
     ]
    }
   ],
   "source": [
    "print(emp)"
   ]
  },
  {
   "cell_type": "code",
   "execution_count": 27,
   "id": "611998f7",
   "metadata": {},
   "outputs": [
    {
     "name": "stdout",
     "output_type": "stream",
     "text": [
      "Help on method_descriptor:\n",
      "\n",
      "update(...)\n",
      "    D.update([E, ]**F) -> None.  Update D from dict/iterable E and F.\n",
      "    If E is present and has a .keys() method, then does:  for k in E: D[k] = E[k]\n",
      "    If E is present and lacks a .keys() method, then does:  for k, v in E: D[k] = v\n",
      "    In either case, this is followed by: for k in F:  D[k] = F[k]\n",
      "\n",
      "None\n"
     ]
    }
   ],
   "source": [
    "# update\n",
    "print(help(dict.update))"
   ]
  },
  {
   "cell_type": "code",
   "execution_count": 28,
   "id": "a3d41fc3",
   "metadata": {},
   "outputs": [
    {
     "name": "stdout",
     "output_type": "stream",
     "text": [
      "{'Name': 'Shaurya', 'Age': 32, 'Exp': 3, 'Contact numbers': [7982429934, 9891879226], 'Prev Companies': None, \"Manager's Name\": 'Manager has not been allocated yet'}\n"
     ]
    }
   ],
   "source": [
    "print(emp)"
   ]
  },
  {
   "cell_type": "code",
   "execution_count": 29,
   "id": "e28b79fb",
   "metadata": {},
   "outputs": [],
   "source": [
    "adding_new_info={\"Manager's Name\":\"Ajay Singh\", \"Prev Companies\":[\"Amazon\", \"meta\"],\"Location\":\"Delhi\"}"
   ]
  },
  {
   "cell_type": "code",
   "execution_count": 30,
   "id": "87ff5e7b",
   "metadata": {},
   "outputs": [
    {
     "name": "stdout",
     "output_type": "stream",
     "text": [
      "{\"Manager's Name\": 'Ajay Singh', 'Prev Companies': ['Amazon', 'meta'], 'Location': 'Delhi'}\n"
     ]
    }
   ],
   "source": [
    "print(adding_new_info)"
   ]
  },
  {
   "cell_type": "code",
   "execution_count": 31,
   "id": "ccf210d6",
   "metadata": {},
   "outputs": [],
   "source": [
    "emp.update(adding_new_info)"
   ]
  },
  {
   "cell_type": "code",
   "execution_count": 32,
   "id": "3e134e3d",
   "metadata": {},
   "outputs": [
    {
     "name": "stdout",
     "output_type": "stream",
     "text": [
      "{'Name': 'Shaurya', 'Age': 32, 'Exp': 3, 'Contact numbers': [7982429934, 9891879226], 'Prev Companies': ['Amazon', 'meta'], \"Manager's Name\": 'Ajay Singh', 'Location': 'Delhi'}\n"
     ]
    }
   ],
   "source": [
    "print(emp)"
   ]
  },
  {
   "cell_type": "code",
   "execution_count": 49,
   "id": "102a815a",
   "metadata": {},
   "outputs": [],
   "source": [
    "key_object=emp.keys()"
   ]
  },
  {
   "cell_type": "code",
   "execution_count": 50,
   "id": "63d481f9",
   "metadata": {},
   "outputs": [
    {
     "name": "stdout",
     "output_type": "stream",
     "text": [
      "dict_keys(['Name', 'Age', 'Exp', 'Contact numbers', 'Prev Companies']) <class 'dict_keys'>\n"
     ]
    }
   ],
   "source": [
    "print(key_object,type(key_object))"
   ]
  },
  {
   "cell_type": "code",
   "execution_count": 51,
   "id": "13d65310",
   "metadata": {},
   "outputs": [
    {
     "name": "stdout",
     "output_type": "stream",
     "text": [
      "Name\n",
      "Age\n",
      "Exp\n",
      "Contact numbers\n",
      "Prev Companies\n"
     ]
    }
   ],
   "source": [
    "for i in key_object:\n",
    "    print(i)"
   ]
  },
  {
   "cell_type": "code",
   "execution_count": 53,
   "id": "b53b966e",
   "metadata": {},
   "outputs": [],
   "source": [
    "value_object=emp.values()"
   ]
  },
  {
   "cell_type": "code",
   "execution_count": 55,
   "id": "3d8243c7",
   "metadata": {},
   "outputs": [
    {
     "name": "stdout",
     "output_type": "stream",
     "text": [
      "dict_values(['Shaurya', 32, 3, [7982429934, 9891879226], 'None']) <class 'dict_values'>\n"
     ]
    }
   ],
   "source": [
    "print(value_object,type(value_object))"
   ]
  },
  {
   "cell_type": "code",
   "execution_count": 56,
   "id": "e3021c28",
   "metadata": {},
   "outputs": [],
   "source": [
    "items_object=emp.items()"
   ]
  },
  {
   "cell_type": "code",
   "execution_count": 57,
   "id": "c927f894",
   "metadata": {},
   "outputs": [
    {
     "name": "stdout",
     "output_type": "stream",
     "text": [
      "dict_items([('Name', 'Shaurya'), ('Age', 32), ('Exp', 3), ('Contact numbers', [7982429934, 9891879226]), ('Prev Companies', 'None')]) <class 'dict_items'>\n"
     ]
    }
   ],
   "source": [
    "print(items_object,type(items_object))"
   ]
  },
  {
   "cell_type": "code",
   "execution_count": 58,
   "id": "d5c8d591",
   "metadata": {},
   "outputs": [],
   "source": [
    "shallow_copy=emp.copy()"
   ]
  },
  {
   "cell_type": "code",
   "execution_count": 59,
   "id": "6f31d846",
   "metadata": {},
   "outputs": [
    {
     "name": "stdout",
     "output_type": "stream",
     "text": [
      "{'Name': 'Shaurya', 'Age': 32, 'Exp': 3, 'Contact numbers': [7982429934, 9891879226], 'Prev Companies': 'None'}\n"
     ]
    }
   ],
   "source": [
    "print(shallow_copy)"
   ]
  },
  {
   "cell_type": "code",
   "execution_count": 60,
   "id": "f86642a6",
   "metadata": {},
   "outputs": [
    {
     "name": "stdout",
     "output_type": "stream",
     "text": [
      "{'Name': 'Garvit', 'Age': 32, 'Exp': 3, 'Contact numbers': [7982429934, 9891879226], 'Prev Companies': 'None'}\n",
      "{'Name': 'Shaurya', 'Age': 32, 'Exp': 3, 'Contact numbers': [7982429934, 9891879226], 'Prev Companies': 'None'}\n"
     ]
    }
   ],
   "source": [
    "shallow_copy['Name']=\"Garvit\"\n",
    "print(shallow_copy)\n",
    "print(emp)"
   ]
  },
  {
   "cell_type": "code",
   "execution_count": 61,
   "id": "44c3c05e",
   "metadata": {},
   "outputs": [
    {
     "name": "stdout",
     "output_type": "stream",
     "text": [
      "{'Name': 'Garvit', 'Age': 32, 'Exp': 3, 'Contact numbers': [7982439922, 9891879226], 'Prev Companies': 'None'}\n",
      "{'Name': 'Shaurya', 'Age': 32, 'Exp': 3, 'Contact numbers': [7982439922, 9891879226], 'Prev Companies': 'None'}\n"
     ]
    }
   ],
   "source": [
    "shallow_copy['Contact numbers'][0]=7982439922\n",
    "print(shallow_copy)\n",
    "print(emp)"
   ]
  },
  {
   "cell_type": "code",
   "execution_count": 62,
   "id": "ac0897ed",
   "metadata": {},
   "outputs": [
    {
     "name": "stdout",
     "output_type": "stream",
     "text": [
      "Help on built-in function fromkeys:\n",
      "\n",
      "fromkeys(iterable, value=None, /) method of builtins.type instance\n",
      "    Create a new dictionary with keys from iterable and values set to value.\n",
      "\n",
      "None\n"
     ]
    }
   ],
   "source": [
    "print(help(dict.fromkeys))"
   ]
  },
  {
   "cell_type": "code",
   "execution_count": 63,
   "id": "ddab68a2",
   "metadata": {},
   "outputs": [],
   "source": [
    "temp_dict=dict.fromkeys([\"Name\",\"Age\",\"Gender\"])"
   ]
  },
  {
   "cell_type": "code",
   "execution_count": 64,
   "id": "7572e26d",
   "metadata": {},
   "outputs": [
    {
     "name": "stdout",
     "output_type": "stream",
     "text": [
      "{'Name': None, 'Age': None, 'Gender': None}\n"
     ]
    }
   ],
   "source": [
    "print(temp_dict)"
   ]
  },
  {
   "cell_type": "code",
   "execution_count": 65,
   "id": "109e4eaf",
   "metadata": {},
   "outputs": [],
   "source": [
    "temp_dict1=dict.fromkeys([\"Name\",\"Age\",\"Gender\"],\"Yet to be provided\")"
   ]
  },
  {
   "cell_type": "code",
   "execution_count": 66,
   "id": "ec2966da",
   "metadata": {},
   "outputs": [
    {
     "name": "stdout",
     "output_type": "stream",
     "text": [
      "{'Name': 'Yet to be provided', 'Age': 'Yet to be provided', 'Gender': 'Yet to be provided'}\n"
     ]
    }
   ],
   "source": [
    "print(temp_dict1)"
   ]
  },
  {
   "cell_type": "code",
   "execution_count": 67,
   "id": "7ebd08a8",
   "metadata": {},
   "outputs": [
    {
     "name": "stdout",
     "output_type": "stream",
     "text": [
      "Help on method_descriptor:\n",
      "\n",
      "pop(...)\n",
      "    D.pop(k[,d]) -> v, remove specified key and return the corresponding value.\n",
      "    \n",
      "    If key is not found, default is returned if given, otherwise KeyError is raised\n",
      "\n",
      "None\n"
     ]
    }
   ],
   "source": [
    "print(help(dict.pop))"
   ]
  },
  {
   "cell_type": "code",
   "execution_count": 68,
   "id": "b6f9f922",
   "metadata": {},
   "outputs": [
    {
     "name": "stdout",
     "output_type": "stream",
     "text": [
      "{'Name': 'Shaurya', 'Age': 32, 'Exp': 3, 'Contact numbers': [7982439922, 9891879226], 'Prev Companies': 'None'}\n"
     ]
    }
   ],
   "source": [
    "print(emp)"
   ]
  },
  {
   "cell_type": "code",
   "execution_count": 69,
   "id": "a12686fb",
   "metadata": {},
   "outputs": [
    {
     "name": "stdout",
     "output_type": "stream",
     "text": [
      "Shaurya\n"
     ]
    }
   ],
   "source": [
    "print(emp.pop(\"Name\"))"
   ]
  },
  {
   "cell_type": "code",
   "execution_count": 70,
   "id": "9aeacfd8",
   "metadata": {},
   "outputs": [
    {
     "name": "stdout",
     "output_type": "stream",
     "text": [
      "{'Age': 32, 'Exp': 3, 'Contact numbers': [7982439922, 9891879226], 'Prev Companies': 'None'}\n"
     ]
    }
   ],
   "source": [
    "print(emp)"
   ]
  },
  {
   "cell_type": "code",
   "execution_count": 71,
   "id": "aa514cec",
   "metadata": {},
   "outputs": [
    {
     "ename": "KeyError",
     "evalue": "'Office location'",
     "output_type": "error",
     "traceback": [
      "\u001b[1;31m---------------------------------------------------------------------------\u001b[0m",
      "\u001b[1;31mKeyError\u001b[0m                                  Traceback (most recent call last)",
      "\u001b[1;32m~\\AppData\\Local\\Temp/ipykernel_23896/3446022724.py\u001b[0m in \u001b[0;36m<module>\u001b[1;34m\u001b[0m\n\u001b[1;32m----> 1\u001b[1;33m \u001b[0mprint\u001b[0m\u001b[1;33m(\u001b[0m\u001b[0memp\u001b[0m\u001b[1;33m.\u001b[0m\u001b[0mpop\u001b[0m\u001b[1;33m(\u001b[0m\u001b[1;34m\"Office location\"\u001b[0m\u001b[1;33m)\u001b[0m\u001b[1;33m)\u001b[0m\u001b[1;33m\u001b[0m\u001b[1;33m\u001b[0m\u001b[0m\n\u001b[0m",
      "\u001b[1;31mKeyError\u001b[0m: 'Office location'"
     ]
    }
   ],
   "source": [
    "print(emp.pop(\"Office location\"))"
   ]
  },
  {
   "cell_type": "code",
   "execution_count": 73,
   "id": "c1112915",
   "metadata": {},
   "outputs": [
    {
     "name": "stdout",
     "output_type": "stream",
     "text": [
      "None\n"
     ]
    }
   ],
   "source": [
    "print(emp.pop(\"Office location\",None))"
   ]
  },
  {
   "cell_type": "code",
   "execution_count": 76,
   "id": "dec13d2d",
   "metadata": {},
   "outputs": [
    {
     "name": "stdout",
     "output_type": "stream",
     "text": [
      "Help on method_descriptor:\n",
      "\n",
      "popitem(self, /)\n",
      "    Remove and return a (key, value) pair as a 2-tuple.\n",
      "    \n",
      "    Pairs are returned in LIFO (last-in, first-out) order.\n",
      "    Raises KeyError if the dict is empty.\n",
      "\n",
      "None\n"
     ]
    }
   ],
   "source": [
    "print(help(dict.popitem))"
   ]
  },
  {
   "cell_type": "code",
   "execution_count": 77,
   "id": "6f03abea",
   "metadata": {},
   "outputs": [
    {
     "name": "stdout",
     "output_type": "stream",
     "text": [
      "{'Age': 32, 'Exp': 3, 'Contact numbers': [7982439922, 9891879226], 'Prev Companies': 'None'}\n"
     ]
    }
   ],
   "source": [
    "print(emp)"
   ]
  },
  {
   "cell_type": "code",
   "execution_count": 78,
   "id": "178b24f7",
   "metadata": {},
   "outputs": [
    {
     "name": "stdout",
     "output_type": "stream",
     "text": [
      "('Prev Companies', 'None')\n"
     ]
    }
   ],
   "source": [
    "print(emp.popitem())"
   ]
  },
  {
   "cell_type": "code",
   "execution_count": 79,
   "id": "834a1ce5",
   "metadata": {},
   "outputs": [
    {
     "name": "stdout",
     "output_type": "stream",
     "text": [
      "{'Age': 32, 'Exp': 3, 'Contact numbers': [7982439922, 9891879226]}\n"
     ]
    }
   ],
   "source": [
    "print(emp)"
   ]
  },
  {
   "cell_type": "code",
   "execution_count": 88,
   "id": "ef47e92d",
   "metadata": {},
   "outputs": [
    {
     "name": "stdout",
     "output_type": "stream",
     "text": [
      "{'emp1': {'Name': 'Sanket', 'Age': 28, 'Gender': 'M'}, 'emp2': {'Name': 'Akshita', 'Age': 24, 'Gende': 'W'}}\n",
      "Sanket\n",
      "Akshita\n",
      "['Sanke', 'Akshita']\n"
     ]
    }
   ],
   "source": [
    "# emp_lists={emp1:(info about emp1), emp2: (info about emp2),emp3: (info about emp3)}\n",
    "# \"Name\",\"Age\",\"Gender\"\n",
    "# emp_lists={\"emp1\":[\"Sanket\",28,\"M\"],\"emp2\":[\"Akshita\",24,\"W\"]}\n",
    "# print(emp_lists)\n",
    "# emp_lists[\"emp1\"][0]\n",
    "emp_lists={\"emp1\":{\"Name\":\"Sanket\",\"Age\":28,\"Gender\":\"M\"},\"emp2\":{\"Name\":\"Akshita\",\"Age\":24,\"Gende\":\"W\"}}\n",
    "print(emp_lists)\n",
    "for i in emp_lists:\n",
    "    print(emp_lists[i][\"Name\"])\n",
    "emp_lists={\"Name\":[\"Sanke\",\"Akshita\"],\"Age\":[28,24]}\n",
    "print(emp_lists[\"Name\"])"
   ]
  },
  {
   "cell_type": "markdown",
   "id": "c383f8d1",
   "metadata": {},
   "source": [
    "# Functions"
   ]
  },
  {
   "cell_type": "code",
   "execution_count": null,
   "id": "7cb031df",
   "metadata": {},
   "outputs": [],
   "source": [
    "# Funtions\n",
    "    # Function in Python - Introduction \n",
    "    # Why we need functions?\n",
    "    # How to define functions?\n",
    "    # Calling function\n",
    "    # return statements in Python \n",
    "    # Types of arguments in Python \n",
    "    # Scope vs Namespace"
   ]
  },
  {
   "cell_type": "code",
   "execution_count": 89,
   "id": "f438db72",
   "metadata": {},
   "outputs": [
    {
     "name": "stdout",
     "output_type": "stream",
     "text": [
      "Enter an integer20\n",
      "Enter an integer8\n",
      "Sum is28\n",
      "Product is28\n",
      "Difference is12\n"
     ]
    }
   ],
   "source": [
    "a=int(input(\"Enter an integer\"))\n",
    "b=int(input(\"Enter an integer\"))\n",
    "print(f\"Sum is{a+b}\")\n",
    "print(f\"Product is{a+b}\")\n",
    "print(f\"Difference is{a-b}\")\n",
    "\n",
    "a=int(input(\"Enter an integer\"))\n",
    "b=int(input(\"Enter an integer\"))\n",
    "print(f\"Sum is{a+b}\")\n",
    "print(f\"Product is{a+b}\")\n",
    "print(f\"Difference is{a-b}\")\n",
    "\n",
    "a=int(input(\"Enter an integer\"))\n",
    "b=int(input(\"Enter an integer\"))\n",
    "print(f\"Sum is{a+b}\")\n",
    "print(f\"Product is{a+b}\")\n",
    "print(f\"Difference is{a-b}\")"
   ]
  },
  {
   "cell_type": "code",
   "execution_count": null,
   "id": "70b5c5fd",
   "metadata": {},
   "outputs": [],
   "source": [
    "for i in range(0,3):\n",
    "    a=int(input(\"Enter an integer\"))\n",
    "    b=int(input(\"Enter an integer\"))\n",
    "    print(f\"Sum is{a+b}\")\n",
    "    print(f\"Product is{a+b}\")\n",
    "    print(f\"Difference is{a-b}\")\n",
    "    "
   ]
  },
  {
   "cell_type": "code",
   "execution_count": null,
   "id": "eef564c1",
   "metadata": {},
   "outputs": [],
   "source": [
    "# Functions help us in achieving the dry( do not repeat yourself)"
   ]
  },
  {
   "cell_type": "code",
   "execution_count": null,
   "id": "2cc5a194",
   "metadata": {},
   "outputs": [],
   "source": [
    "# Syntax of functions\n",
    "def Name_of_Function(Paramaeter1,Paramaeter2,Paramaeter3...):\n",
    "    code1\n",
    "    code2\n",
    "    code3\n",
    "    return result\n",
    "\n",
    "\n",
    "# note: Parameters and return statement are optional\n",
    "# Name_of_Function, def, (),: these are compulsory\n",
    "# lambda/ anonymous "
   ]
  },
  {
   "cell_type": "code",
   "execution_count": 90,
   "id": "2bb83f8e",
   "metadata": {},
   "outputs": [],
   "source": [
    "def add_two_integer(a,b):\n",
    "    print(a+b)\n",
    "    "
   ]
  },
  {
   "cell_type": "code",
   "execution_count": 92,
   "id": "24a1828c",
   "metadata": {},
   "outputs": [
    {
     "name": "stdout",
     "output_type": "stream",
     "text": [
      "30\n"
     ]
    }
   ],
   "source": [
    "add_two_integer(10,20)"
   ]
  },
  {
   "cell_type": "code",
   "execution_count": 93,
   "id": "f3237712",
   "metadata": {},
   "outputs": [
    {
     "ename": "NameError",
     "evalue": "name 'subtract_two_integer' is not defined",
     "output_type": "error",
     "traceback": [
      "\u001b[1;31m---------------------------------------------------------------------------\u001b[0m",
      "\u001b[1;31mNameError\u001b[0m                                 Traceback (most recent call last)",
      "\u001b[1;32m~\\AppData\\Local\\Temp/ipykernel_23896/1045732670.py\u001b[0m in \u001b[0;36m<module>\u001b[1;34m\u001b[0m\n\u001b[1;32m----> 1\u001b[1;33m \u001b[0msubtract_two_integer\u001b[0m\u001b[1;33m(\u001b[0m\u001b[1;36m20\u001b[0m\u001b[1;33m,\u001b[0m\u001b[1;36m10\u001b[0m\u001b[1;33m)\u001b[0m\u001b[1;33m\u001b[0m\u001b[1;33m\u001b[0m\u001b[0m\n\u001b[0m",
      "\u001b[1;31mNameError\u001b[0m: name 'subtract_two_integer' is not defined"
     ]
    }
   ],
   "source": [
    "subtract_two_integer(20,10)"
   ]
  },
  {
   "cell_type": "code",
   "execution_count": 94,
   "id": "01532166",
   "metadata": {},
   "outputs": [],
   "source": [
    "def subtract_two_integer(a,b):\n",
    "    print(a-b)"
   ]
  },
  {
   "cell_type": "code",
   "execution_count": 95,
   "id": "ebd5dd0e",
   "metadata": {},
   "outputs": [
    {
     "name": "stdout",
     "output_type": "stream",
     "text": [
      "10\n"
     ]
    }
   ],
   "source": [
    "subtract_two_integer(20,10)"
   ]
  },
  {
   "cell_type": "code",
   "execution_count": 96,
   "id": "52cac0c2",
   "metadata": {},
   "outputs": [
    {
     "name": "stdout",
     "output_type": "stream",
     "text": [
      "100\n"
     ]
    }
   ],
   "source": [
    "a=200\n",
    "b=100\n",
    "subtract_two_integer(a,b)"
   ]
  },
  {
   "cell_type": "code",
   "execution_count": 97,
   "id": "bde34f07",
   "metadata": {},
   "outputs": [
    {
     "name": "stdout",
     "output_type": "stream",
     "text": [
      "100\n"
     ]
    }
   ],
   "source": [
    "c=200\n",
    "d=100\n",
    "subtract_two_integer(c,d)"
   ]
  },
  {
   "cell_type": "code",
   "execution_count": 98,
   "id": "2ce4cbf1",
   "metadata": {},
   "outputs": [],
   "source": [
    "# compatability of parameters\n",
    "def add_two_integer(a,b):\n",
    "    print(a+b)"
   ]
  },
  {
   "cell_type": "code",
   "execution_count": 99,
   "id": "b06281a4",
   "metadata": {},
   "outputs": [
    {
     "name": "stdout",
     "output_type": "stream",
     "text": [
      "50\n"
     ]
    }
   ],
   "source": [
    "add_two_integer(20,30)"
   ]
  },
  {
   "cell_type": "code",
   "execution_count": 100,
   "id": "bf0cebbb",
   "metadata": {},
   "outputs": [
    {
     "name": "stdout",
     "output_type": "stream",
     "text": [
      "2030\n"
     ]
    }
   ],
   "source": [
    "add_two_integer(\"20\",\"30\")"
   ]
  },
  {
   "cell_type": "code",
   "execution_count": 101,
   "id": "37079aa9",
   "metadata": {},
   "outputs": [
    {
     "ename": "NameError",
     "evalue": "name 'add_two_integers' is not defined",
     "output_type": "error",
     "traceback": [
      "\u001b[1;31m---------------------------------------------------------------------------\u001b[0m",
      "\u001b[1;31mNameError\u001b[0m                                 Traceback (most recent call last)",
      "\u001b[1;32m~\\AppData\\Local\\Temp/ipykernel_23896/2244773182.py\u001b[0m in \u001b[0;36m<module>\u001b[1;34m\u001b[0m\n\u001b[1;32m----> 1\u001b[1;33m \u001b[0madd_two_integers\u001b[0m\u001b[1;33m(\u001b[0m\u001b[1;36m20\u001b[0m\u001b[1;33m,\u001b[0m\u001b[1;34m\"30\"\u001b[0m\u001b[1;33m)\u001b[0m\u001b[1;33m\u001b[0m\u001b[1;33m\u001b[0m\u001b[0m\n\u001b[0m",
      "\u001b[1;31mNameError\u001b[0m: name 'add_two_integers' is not defined"
     ]
    }
   ],
   "source": [
    "add_two_integers(20,\"30\")"
   ]
  },
  {
   "cell_type": "code",
   "execution_count": 106,
   "id": "d0c8db1a",
   "metadata": {},
   "outputs": [
    {
     "ename": "SyntaxError",
     "evalue": "invalid syntax (Temp/ipykernel_23896/1173476458.py, line 1)",
     "output_type": "error",
     "traceback": [
      "\u001b[1;36m  File \u001b[1;32m\"C:\\Users\\gtane\\AppData\\Local\\Temp/ipykernel_23896/1173476458.py\"\u001b[1;36m, line \u001b[1;32m1\u001b[0m\n\u001b[1;33m    def subtract_two_integer(int a,int b):\u001b[0m\n\u001b[1;37m                                 ^\u001b[0m\n\u001b[1;31mSyntaxError\u001b[0m\u001b[1;31m:\u001b[0m invalid syntax\n"
     ]
    }
   ],
   "source": [
    "def subtract_two_integer(a,b):\n",
    "    print(a-b/1.0)"
   ]
  },
  {
   "cell_type": "code",
   "execution_count": 105,
   "id": "9637e000",
   "metadata": {},
   "outputs": [
    {
     "name": "stdout",
     "output_type": "stream",
     "text": [
      "10\n"
     ]
    }
   ],
   "source": [
    "subtract_two_integer(20,10)"
   ]
  },
  {
   "cell_type": "code",
   "execution_count": 104,
   "id": "c24f41da",
   "metadata": {},
   "outputs": [
    {
     "ename": "TypeError",
     "evalue": "unsupported operand type(s) for -: 'str' and 'str'",
     "output_type": "error",
     "traceback": [
      "\u001b[1;31m---------------------------------------------------------------------------\u001b[0m",
      "\u001b[1;31mTypeError\u001b[0m                                 Traceback (most recent call last)",
      "\u001b[1;32m~\\AppData\\Local\\Temp/ipykernel_23896/1049223661.py\u001b[0m in \u001b[0;36m<module>\u001b[1;34m\u001b[0m\n\u001b[1;32m----> 1\u001b[1;33m \u001b[0msubtract_two_integer\u001b[0m\u001b[1;33m(\u001b[0m\u001b[1;34m\"20\"\u001b[0m\u001b[1;33m,\u001b[0m\u001b[1;34m\"10\"\u001b[0m\u001b[1;33m)\u001b[0m\u001b[1;33m\u001b[0m\u001b[1;33m\u001b[0m\u001b[0m\n\u001b[0m",
      "\u001b[1;32m~\\AppData\\Local\\Temp/ipykernel_23896/4197016610.py\u001b[0m in \u001b[0;36msubtract_two_integer\u001b[1;34m(a, b)\u001b[0m\n\u001b[0;32m      1\u001b[0m \u001b[1;32mdef\u001b[0m \u001b[0msubtract_two_integer\u001b[0m\u001b[1;33m(\u001b[0m\u001b[0ma\u001b[0m\u001b[1;33m,\u001b[0m\u001b[0mb\u001b[0m\u001b[1;33m)\u001b[0m\u001b[1;33m:\u001b[0m\u001b[1;33m\u001b[0m\u001b[1;33m\u001b[0m\u001b[0m\n\u001b[1;32m----> 2\u001b[1;33m     \u001b[0mprint\u001b[0m\u001b[1;33m(\u001b[0m\u001b[0ma\u001b[0m\u001b[1;33m-\u001b[0m\u001b[0mb\u001b[0m\u001b[1;33m)\u001b[0m\u001b[1;33m\u001b[0m\u001b[1;33m\u001b[0m\u001b[0m\n\u001b[0m",
      "\u001b[1;31mTypeError\u001b[0m: unsupported operand type(s) for -: 'str' and 'str'"
     ]
    }
   ],
   "source": [
    "subtract_two_integer(\"20\",\"10\")"
   ]
  },
  {
   "cell_type": "code",
   "execution_count": 107,
   "id": "2a7d7993",
   "metadata": {},
   "outputs": [],
   "source": [
    "string=\"Garvit\""
   ]
  },
  {
   "cell_type": "code",
   "execution_count": 108,
   "id": "99fb9201",
   "metadata": {},
   "outputs": [
    {
     "name": "stdout",
     "output_type": "stream",
     "text": [
      "Garvat\n"
     ]
    }
   ],
   "source": [
    "print(string.replace(\"i\",\"a\"))\n",
    "print(string)"
   ]
  },
  {
   "cell_type": "code",
   "execution_count": 110,
   "id": "39b5f9d0",
   "metadata": {},
   "outputs": [
    {
     "name": "stdout",
     "output_type": "stream",
     "text": [
      "None\n",
      "[1, 2, 3, 5]\n"
     ]
    }
   ],
   "source": [
    "lst=[1,2,3]\n",
    "print(lst.append(5))\n",
    "print(lst)"
   ]
  },
  {
   "cell_type": "code",
   "execution_count": 1,
   "id": "5f6f3875",
   "metadata": {},
   "outputs": [
    {
     "ename": "NameError",
     "evalue": "name 'string' is not defined",
     "output_type": "error",
     "traceback": [
      "\u001b[0;31m---------------------------------------------------------------------------\u001b[0m",
      "\u001b[0;31mNameError\u001b[0m                                 Traceback (most recent call last)",
      "\u001b[0;32m/tmp/ipykernel_33614/2496072380.py\u001b[0m in \u001b[0;36m<module>\u001b[0;34m\u001b[0m\n\u001b[0;32m----> 1\u001b[0;31m \u001b[0mstring\u001b[0m\u001b[0;34m=\u001b[0m\u001b[0mstring\u001b[0m\u001b[0;34m.\u001b[0m\u001b[0mreplace\u001b[0m\u001b[0;34m(\u001b[0m\u001b[0;34m\"i\"\u001b[0m\u001b[0;34m,\u001b[0m\u001b[0;34m\"a\"\u001b[0m\u001b[0;34m)\u001b[0m\u001b[0;34m\u001b[0m\u001b[0;34m\u001b[0m\u001b[0m\n\u001b[0m\u001b[1;32m      2\u001b[0m \u001b[0mprint\u001b[0m\u001b[0;34m(\u001b[0m\u001b[0mstring\u001b[0m\u001b[0;34m)\u001b[0m\u001b[0;34m\u001b[0m\u001b[0;34m\u001b[0m\u001b[0m\n",
      "\u001b[0;31mNameError\u001b[0m: name 'string' is not defined"
     ]
    }
   ],
   "source": [
    "string=string.replace(\"i\",\"a\")\n",
    "print(string)"
   ]
  },
  {
   "cell_type": "code",
   "execution_count": 111,
   "id": "b25ff7c1",
   "metadata": {},
   "outputs": [
    {
     "name": "stdout",
     "output_type": "stream",
     "text": [
      "Help on method_descriptor:\n",
      "\n",
      "append(self, object, /)\n",
      "    Append object to the end of the list.\n",
      "\n",
      "None\n"
     ]
    }
   ],
   "source": [
    "print(help(list.append))"
   ]
  },
  {
   "cell_type": "code",
   "execution_count": 112,
   "id": "17aade8a",
   "metadata": {},
   "outputs": [
    {
     "name": "stdout",
     "output_type": "stream",
     "text": [
      "Help on built-in function replace:\n",
      "\n",
      "replace(old, new, count=-1, /) method of builtins.str instance\n",
      "    Return a copy with all occurrences of substring old replaced by new.\n",
      "    \n",
      "      count\n",
      "        Maximum number of occurrences to replace.\n",
      "        -1 (the default value) means replace all occurrences.\n",
      "    \n",
      "    If the optional argument count is given, only the first count occurrences are\n",
      "    replaced.\n",
      "\n",
      "None\n"
     ]
    }
   ],
   "source": [
    "print(help(string.replace))"
   ]
  },
  {
   "cell_type": "code",
   "execution_count": 113,
   "id": "70d6d838",
   "metadata": {},
   "outputs": [
    {
     "name": "stdout",
     "output_type": "stream",
     "text": [
      "Help on built-in function print in module builtins:\n",
      "\n",
      "print(...)\n",
      "    print(value, ..., sep=' ', end='\\n', file=sys.stdout, flush=False)\n",
      "    \n",
      "    Prints the values to a stream, or to sys.stdout by default.\n",
      "    Optional keyword arguments:\n",
      "    file:  a file-like object (stream); defaults to the current sys.stdout.\n",
      "    sep:   string inserted between values, default a space.\n",
      "    end:   string appended after the last value, default a newline.\n",
      "    flush: whether to forcibly flush the stream.\n",
      "\n",
      "None\n"
     ]
    }
   ],
   "source": [
    "print(help(print))"
   ]
  },
  {
   "cell_type": "code",
   "execution_count": 114,
   "id": "c8a9e040",
   "metadata": {},
   "outputs": [
    {
     "name": "stdout",
     "output_type": "stream",
     "text": [
      "30\n"
     ]
    }
   ],
   "source": [
    "def add_two_integer(a,b):\n",
    "     print(a+b)\n",
    "    \n",
    "    \n",
    "add_two_integer(10,20)\n"
   ]
  },
  {
   "cell_type": "code",
   "execution_count": 115,
   "id": "824e8215",
   "metadata": {},
   "outputs": [
    {
     "name": "stdout",
     "output_type": "stream",
     "text": [
      "30\n",
      "None\n"
     ]
    }
   ],
   "source": [
    "def add_two_integer(a,b):\n",
    "     print(a+b)\n",
    "        \n",
    "print(add_two_integer(10,20))\n",
    "\n",
    "\n",
    "\n",
    "\n",
    "\n"
   ]
  },
  {
   "cell_type": "code",
   "execution_count": 116,
   "id": "108e66d8",
   "metadata": {},
   "outputs": [
    {
     "name": "stdout",
     "output_type": "stream",
     "text": [
      "30\n"
     ]
    }
   ],
   "source": [
    "print(10+20)"
   ]
  },
  {
   "cell_type": "code",
   "execution_count": 117,
   "id": "d9bd1200",
   "metadata": {},
   "outputs": [
    {
     "name": "stdout",
     "output_type": "stream",
     "text": [
      "30\n",
      "None\n"
     ]
    }
   ],
   "source": [
    "print(print(10+20))"
   ]
  },
  {
   "cell_type": "code",
   "execution_count": 2,
   "id": "f7878946",
   "metadata": {},
   "outputs": [
    {
     "name": "stdout",
     "output_type": "stream",
     "text": [
      "30\n"
     ]
    }
   ],
   "source": [
    "def add_two_num(a,b):\n",
    "    return a+b\n",
    "\n",
    "def add_two_int(a,b):\n",
    "    print(a+b)\n",
    "    \n",
    "print(add_two_num(10,20))\n"
   ]
  },
  {
   "cell_type": "code",
   "execution_count": 3,
   "id": "79a99c61",
   "metadata": {},
   "outputs": [
    {
     "name": "stdout",
     "output_type": "stream",
     "text": [
      "30\n",
      "None\n"
     ]
    }
   ],
   "source": [
    "print(add_two_int(10,20))"
   ]
  },
  {
   "cell_type": "code",
   "execution_count": null,
   "id": "7af16ba3",
   "metadata": {},
   "outputs": [],
   "source": []
  }
 ],
 "metadata": {
  "kernelspec": {
   "display_name": "Python 3 (ipykernel)",
   "language": "python",
   "name": "python3"
  },
  "language_info": {
   "codemirror_mode": {
    "name": "ipython",
    "version": 3
   },
   "file_extension": ".py",
   "mimetype": "text/x-python",
   "name": "python",
   "nbconvert_exporter": "python",
   "pygments_lexer": "ipython3",
   "version": "3.9.7"
  }
 },
 "nbformat": 4,
 "nbformat_minor": 5
}
