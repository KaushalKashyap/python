{
 "cells": [
  {
   "cell_type": "code",
   "execution_count": 2,
   "id": "d465900b",
   "metadata": {},
   "outputs": [
    {
     "name": "stdout",
     "output_type": "stream",
     "text": [
      "100 2301008172496\n",
      "100 2301008172496\n"
     ]
    }
   ],
   "source": [
    "# aliasing \n",
    "a=100\n",
    "b=100\n",
    "print(a,id(a))\n",
    "print(b,id(b))"
   ]
  },
  {
   "cell_type": "code",
   "execution_count": 3,
   "id": "44f9b412",
   "metadata": {},
   "outputs": [
    {
     "name": "stdout",
     "output_type": "stream",
     "text": [
      "20000 2301070622192\n",
      "100 2301008172496\n"
     ]
    }
   ],
   "source": [
    "a=20000\n",
    "print(a,id(a))\n",
    "print(b,id(b))"
   ]
  },
  {
   "cell_type": "code",
   "execution_count": 21,
   "id": "47435ed8",
   "metadata": {},
   "outputs": [
    {
     "name": "stdout",
     "output_type": "stream",
     "text": [
      "[1, 2, 3] 2301071067328\n",
      "[1, 2, 3] 2301071055936\n"
     ]
    }
   ],
   "source": [
    "a=[1,2,3]\n",
    "b=[1,2,3]\n",
    "print(a,id(a))\n",
    "print(b,id(b))"
   ]
  },
  {
   "cell_type": "code",
   "execution_count": 5,
   "id": "ea569bfb",
   "metadata": {},
   "outputs": [
    {
     "name": "stdout",
     "output_type": "stream",
     "text": [
      "[100, 2, 3] 2301071067328\n",
      "[1, 2, 3] 2301071066944\n"
     ]
    }
   ],
   "source": [
    "a[0]=100\n",
    "print(a,id(a))\n",
    "print(b,id(b))"
   ]
  },
  {
   "cell_type": "code",
   "execution_count": 6,
   "id": "92c5a526",
   "metadata": {},
   "outputs": [
    {
     "name": "stdout",
     "output_type": "stream",
     "text": [
      "[1, 2, 3] 2301071067200\n",
      "[1, 2, 3] 2301071067200\n"
     ]
    }
   ],
   "source": [
    "a=[1,2,3]\n",
    "b=a\n",
    "print(a,id(a))\n",
    "print(b,id(b))"
   ]
  },
  {
   "cell_type": "code",
   "execution_count": 7,
   "id": "0f98e55b",
   "metadata": {},
   "outputs": [
    {
     "name": "stdout",
     "output_type": "stream",
     "text": [
      "[10, 2, 3] 2301071067200\n",
      "[10, 2, 3] 2301071067200\n"
     ]
    }
   ],
   "source": [
    "a[0]=10\n",
    "print(a,id(a))\n",
    "print(b,id(b))"
   ]
  },
  {
   "cell_type": "code",
   "execution_count": 1,
   "id": "79c97d73",
   "metadata": {},
   "outputs": [
    {
     "name": "stdout",
     "output_type": "stream",
     "text": [
      "10 10 140146402781776 140146402781776\n",
      "100 10 140146402973136 140146402781776\n"
     ]
    }
   ],
   "source": [
    "a=10\n",
    "b=a\n",
    "print(a,b,id(a),id(b))\n",
    "a=100\n",
    "print(a,b,id(a),id(b))"
   ]
  },
  {
   "cell_type": "code",
   "execution_count": 2,
   "id": "ab521384",
   "metadata": {},
   "outputs": [
    {
     "name": "stdout",
     "output_type": "stream",
     "text": [
      "[100, 85, 100, 78]\n"
     ]
    }
   ],
   "source": [
    "a=[100,85,100,78]\n",
    "b=a.copy()\n",
    "print(b)"
   ]
  },
  {
   "cell_type": "code",
   "execution_count": 9,
   "id": "23d2f475",
   "metadata": {},
   "outputs": [
    {
     "name": "stdout",
     "output_type": "stream",
     "text": [
      "[100, 85, 100, 78] 2301071058112\n",
      "[100, 85, 100, 78] 2301071065600\n"
     ]
    }
   ],
   "source": [
    "print(a,id(a))\n",
    "print(b,id(b))"
   ]
  },
  {
   "cell_type": "code",
   "execution_count": 10,
   "id": "723266b7",
   "metadata": {},
   "outputs": [],
   "source": [
    "b[0]=98"
   ]
  },
  {
   "cell_type": "code",
   "execution_count": 11,
   "id": "8f1ad7af",
   "metadata": {},
   "outputs": [
    {
     "name": "stdout",
     "output_type": "stream",
     "text": [
      "[100, 85, 100, 78] 2301071058112\n",
      "[98, 85, 100, 78] 2301071065600\n"
     ]
    }
   ],
   "source": [
    "print(a,id(a))\n",
    "print(b,id(b))"
   ]
  },
  {
   "cell_type": "code",
   "execution_count": 23,
   "id": "f6050cf0",
   "metadata": {},
   "outputs": [],
   "source": [
    "a=[100,85,100,78,[10,20,30]]\n",
    "b=a.copy()"
   ]
  },
  {
   "cell_type": "code",
   "execution_count": 24,
   "id": "b820e717",
   "metadata": {},
   "outputs": [
    {
     "name": "stdout",
     "output_type": "stream",
     "text": [
      "[100, 85, 100, 78, [10, 20, 30]] 2301071066048\n",
      "[100, 85, 100, 78, [10, 20, 30]] 2301071069568\n"
     ]
    }
   ],
   "source": [
    "print(a,id(a))\n",
    "print(b,id(b))"
   ]
  },
  {
   "cell_type": "code",
   "execution_count": 25,
   "id": "5b8a8751",
   "metadata": {},
   "outputs": [],
   "source": [
    "b[0]=98"
   ]
  },
  {
   "cell_type": "code",
   "execution_count": 26,
   "id": "cad374af",
   "metadata": {},
   "outputs": [
    {
     "name": "stdout",
     "output_type": "stream",
     "text": [
      "[100, 85, 100, 78, [10, 20, 30]] 2301071066048\n",
      "[98, 85, 100, 78, [10, 20, 30]] 2301071069568\n"
     ]
    }
   ],
   "source": [
    "print(a,id(a))\n",
    "print(b,id(b))"
   ]
  },
  {
   "cell_type": "code",
   "execution_count": 27,
   "id": "d5ba2ab5",
   "metadata": {},
   "outputs": [],
   "source": [
    "b[-1][0]=100"
   ]
  },
  {
   "cell_type": "code",
   "execution_count": 28,
   "id": "12fa7020",
   "metadata": {},
   "outputs": [
    {
     "name": "stdout",
     "output_type": "stream",
     "text": [
      "[100, 85, 100, 78, [100, 20, 30]] 2301071066048\n",
      "[98, 85, 100, 78, [100, 20, 30]] 2301071069568\n"
     ]
    }
   ],
   "source": [
    "print(a,id(a))\n",
    "print(b,id(b))"
   ]
  },
  {
   "cell_type": "code",
   "execution_count": 29,
   "id": "f9ec70e5",
   "metadata": {},
   "outputs": [],
   "source": [
    "# Issues with shallow copy\n",
    "# it will not make a copy of the nested object"
   ]
  },
  {
   "cell_type": "code",
   "execution_count": 30,
   "id": "abbeb942",
   "metadata": {},
   "outputs": [],
   "source": [
    "# deepcopy\n",
    "from copy import deepcopy"
   ]
  },
  {
   "cell_type": "code",
   "execution_count": 31,
   "id": "c1225b05",
   "metadata": {},
   "outputs": [],
   "source": [
    "a=[100,85,100,78,[10,20,30]]\n",
    "b=deepcopy(a)"
   ]
  },
  {
   "cell_type": "code",
   "execution_count": 32,
   "id": "c5091cca",
   "metadata": {},
   "outputs": [
    {
     "name": "stdout",
     "output_type": "stream",
     "text": [
      "[100, 85, 100, 78, [10, 20, 30]] 2301071055936\n",
      "[100, 85, 100, 78, [10, 20, 30]] 2301071059008\n"
     ]
    }
   ],
   "source": [
    "print(a,id(a))\n",
    "print(b,id(b))"
   ]
  },
  {
   "cell_type": "code",
   "execution_count": 33,
   "id": "1787c2e4",
   "metadata": {},
   "outputs": [],
   "source": [
    "b[0]=98"
   ]
  },
  {
   "cell_type": "code",
   "execution_count": 34,
   "id": "effca8a0",
   "metadata": {},
   "outputs": [
    {
     "name": "stdout",
     "output_type": "stream",
     "text": [
      "[100, 85, 100, 78, [10, 20, 30]] 2301071055936\n",
      "[98, 85, 100, 78, [10, 20, 30]] 2301071059008\n"
     ]
    }
   ],
   "source": [
    "print(a,id(a))\n",
    "print(b,id(b))"
   ]
  },
  {
   "cell_type": "code",
   "execution_count": 35,
   "id": "6b7a48b2",
   "metadata": {},
   "outputs": [],
   "source": [
    "b[-1][0]=98"
   ]
  },
  {
   "cell_type": "code",
   "execution_count": 36,
   "id": "872d3187",
   "metadata": {},
   "outputs": [
    {
     "name": "stdout",
     "output_type": "stream",
     "text": [
      "[100, 85, 100, 78, [10, 20, 30]] 2301071055936\n",
      "[98, 85, 100, 78, [98, 20, 30]] 2301071059008\n"
     ]
    }
   ],
   "source": [
    "print(a,id(a))\n",
    "print(b,id(b))"
   ]
  },
  {
   "cell_type": "markdown",
   "id": "d27f90c1",
   "metadata": {},
   "source": [
    "# tuple"
   ]
  },
  {
   "cell_type": "code",
   "execution_count": null,
   "id": "297fb0c1",
   "metadata": {},
   "outputs": [],
   "source": [
    "# tuple: is collection of objects kept inside '(' and ')'. Correction it is the values of objects stroed by commas\n",
    "#1) Tuple also supports positive indexing. It starts 0 and goes uptil and length of list -1\n",
    "#2) Tuple also supports negative indexing. It starts from -1 and goes till -length of list\n",
    "#3) Tuple is immutable\n",
    "#4) It is collection of heterogenous elements. (Elements can be of different data types)"
   ]
  },
  {
   "cell_type": "code",
   "execution_count": 39,
   "id": "a4d27d06",
   "metadata": {},
   "outputs": [],
   "source": [
    "# creation of tuple\n",
    "# 1) when the objects are known in advance\n",
    "tpl1=(10,20,30,\"Garvit\",True)\n",
    "\n",
    "# 2) use the function tuple\n",
    "tpl2=tuple(\"Garvit\")\n",
    "\n",
    "# 3) take the input from user\n",
    "# tpl3=eval(input(\"Enter the input\"))\n",
    "\n",
    "# 4) creating a tuple of one element"
   ]
  },
  {
   "cell_type": "code",
   "execution_count": 38,
   "id": "8433ae66",
   "metadata": {},
   "outputs": [
    {
     "name": "stdout",
     "output_type": "stream",
     "text": [
      "(10, 20, 30, 'Garvit', True) <class 'tuple'>\n"
     ]
    }
   ],
   "source": [
    "print(tpl1,type(tpl1))"
   ]
  },
  {
   "cell_type": "code",
   "execution_count": 41,
   "id": "f1620b55",
   "metadata": {},
   "outputs": [
    {
     "name": "stdout",
     "output_type": "stream",
     "text": [
      "('G', 'a', 'r', 'v', 'i', 't') <class 'tuple'>\n"
     ]
    }
   ],
   "source": [
    "print(tpl2,type(tpl2))"
   ]
  },
  {
   "cell_type": "code",
   "execution_count": 42,
   "id": "babf56cc",
   "metadata": {},
   "outputs": [
    {
     "name": "stdout",
     "output_type": "stream",
     "text": [
      "Enter the input(\"Garvit\",\"Shivam\")\n"
     ]
    }
   ],
   "source": [
    "tpl3=tuple(input(\"Enter the input\"))"
   ]
  },
  {
   "cell_type": "code",
   "execution_count": 43,
   "id": "beac7d71",
   "metadata": {},
   "outputs": [
    {
     "name": "stdout",
     "output_type": "stream",
     "text": [
      "('(', '\"', 'G', 'a', 'r', 'v', 'i', 't', '\"', ',', '\"', 'S', 'h', 'i', 'v', 'a', 'm', '\"', ')')\n"
     ]
    }
   ],
   "source": [
    "print(tpl3)"
   ]
  },
  {
   "cell_type": "code",
   "execution_count": 44,
   "id": "fdc431e4",
   "metadata": {},
   "outputs": [
    {
     "name": "stdout",
     "output_type": "stream",
     "text": [
      "10 <class 'int'>\n"
     ]
    }
   ],
   "source": [
    "a=(10)\n",
    "print(a,type(a))"
   ]
  },
  {
   "cell_type": "code",
   "execution_count": 45,
   "id": "03f8cd09",
   "metadata": {},
   "outputs": [
    {
     "name": "stdout",
     "output_type": "stream",
     "text": [
      "(10,) <class 'tuple'>\n"
     ]
    }
   ],
   "source": [
    "a=(10,)\n",
    "print(a,type(a))"
   ]
  },
  {
   "cell_type": "code",
   "execution_count": 46,
   "id": "c73fda80",
   "metadata": {},
   "outputs": [
    {
     "name": "stdout",
     "output_type": "stream",
     "text": [
      "(10,) <class 'tuple'>\n"
     ]
    }
   ],
   "source": [
    "a=10,\n",
    "print(a,type(a))"
   ]
  },
  {
   "cell_type": "code",
   "execution_count": 49,
   "id": "a3415601",
   "metadata": {},
   "outputs": [
    {
     "name": "stdout",
     "output_type": "stream",
     "text": [
      "(10, 20, 30, 40)\n",
      "() <class 'tuple'>\n"
     ]
    }
   ],
   "source": [
    "a=10,20,30,40\n",
    "print(a)\n",
    "a=tuple([])\n",
    "print(a,type(a))"
   ]
  },
  {
   "cell_type": "code",
   "execution_count": 50,
   "id": "46aaf6e5",
   "metadata": {},
   "outputs": [
    {
     "name": "stdout",
     "output_type": "stream",
     "text": [
      "(10, 20, 30) <class 'tuple'>\n"
     ]
    }
   ],
   "source": [
    "# tuple packing\n",
    "a=10\n",
    "b=20\n",
    "c=30\n",
    "\n",
    "d=a,b,c\n",
    "print(d,type(d))"
   ]
  },
  {
   "cell_type": "code",
   "execution_count": 51,
   "id": "a263cb93",
   "metadata": {},
   "outputs": [
    {
     "name": "stdout",
     "output_type": "stream",
     "text": [
      "100\n",
      "20\n",
      "30\n",
      "400\n"
     ]
    }
   ],
   "source": [
    "# tuple unpacking\n",
    "d=(100,20,30,400)\n",
    "a1,a2,a3,a4=d\n",
    "print(a1)\n",
    "print(a2)\n",
    "print(a3)\n",
    "print(a4)"
   ]
  },
  {
   "cell_type": "code",
   "execution_count": 52,
   "id": "2d602430",
   "metadata": {},
   "outputs": [],
   "source": [
    "a=(10,20,30,40)"
   ]
  },
  {
   "cell_type": "code",
   "execution_count": 53,
   "id": "c4db5874",
   "metadata": {},
   "outputs": [
    {
     "name": "stdout",
     "output_type": "stream",
     "text": [
      "10 40\n"
     ]
    }
   ],
   "source": [
    "print(a[0],a[-1])"
   ]
  },
  {
   "cell_type": "code",
   "execution_count": 54,
   "id": "eb303e10",
   "metadata": {},
   "outputs": [
    {
     "name": "stdout",
     "output_type": "stream",
     "text": [
      "(10, 20)\n"
     ]
    }
   ],
   "source": [
    "print(a[0:2])"
   ]
  },
  {
   "cell_type": "code",
   "execution_count": 55,
   "id": "bf9d0feb",
   "metadata": {},
   "outputs": [
    {
     "name": "stdout",
     "output_type": "stream",
     "text": [
      "(10, 20, 30, 40, 10, 20, 30, 40, 10, 20, 30, 40)\n"
     ]
    }
   ],
   "source": [
    "print(a*3)"
   ]
  },
  {
   "cell_type": "code",
   "execution_count": 56,
   "id": "1eb64b0c",
   "metadata": {},
   "outputs": [
    {
     "name": "stdout",
     "output_type": "stream",
     "text": [
      "['__add__', '__class__', '__class_getitem__', '__contains__', '__delattr__', '__dir__', '__doc__', '__eq__', '__format__', '__ge__', '__getattribute__', '__getitem__', '__getnewargs__', '__gt__', '__hash__', '__init__', '__init_subclass__', '__iter__', '__le__', '__len__', '__lt__', '__mul__', '__ne__', '__new__', '__reduce__', '__reduce_ex__', '__repr__', '__rmul__', '__setattr__', '__sizeof__', '__str__', '__subclasshook__', 'count', 'index']\n"
     ]
    }
   ],
   "source": [
    "print(dir(tuple))"
   ]
  },
  {
   "cell_type": "code",
   "execution_count": null,
   "id": "b04f4fa7",
   "metadata": {},
   "outputs": [],
   "source": [
    "'count', 'index'"
   ]
  },
  {
   "cell_type": "code",
   "execution_count": 57,
   "id": "32462672",
   "metadata": {},
   "outputs": [
    {
     "name": "stdout",
     "output_type": "stream",
     "text": [
      "Help on method_descriptor:\n",
      "\n",
      "count(self, value, /)\n",
      "    Return number of occurrences of value.\n",
      "\n",
      "None\n"
     ]
    }
   ],
   "source": [
    "print(help(tuple.count))"
   ]
  },
  {
   "cell_type": "code",
   "execution_count": 58,
   "id": "f03a44f1",
   "metadata": {},
   "outputs": [],
   "source": [
    "a=(10,20,30,10,20)"
   ]
  },
  {
   "cell_type": "code",
   "execution_count": 59,
   "id": "6cea0b58",
   "metadata": {},
   "outputs": [
    {
     "data": {
      "text/plain": [
       "2"
      ]
     },
     "execution_count": 59,
     "metadata": {},
     "output_type": "execute_result"
    }
   ],
   "source": [
    "a.count(10)"
   ]
  },
  {
   "cell_type": "code",
   "execution_count": 60,
   "id": "8893b190",
   "metadata": {},
   "outputs": [
    {
     "name": "stdout",
     "output_type": "stream",
     "text": [
      "Help on method_descriptor:\n",
      "\n",
      "index(self, value, start=0, stop=9223372036854775807, /)\n",
      "    Return first index of value.\n",
      "    \n",
      "    Raises ValueError if the value is not present.\n",
      "\n",
      "None\n"
     ]
    }
   ],
   "source": [
    "print(help(tuple.index))"
   ]
  },
  {
   "cell_type": "code",
   "execution_count": 61,
   "id": "15ad70a8",
   "metadata": {},
   "outputs": [
    {
     "data": {
      "text/plain": [
       "0"
      ]
     },
     "execution_count": 61,
     "metadata": {},
     "output_type": "execute_result"
    }
   ],
   "source": [
    "a.index(10)"
   ]
  },
  {
   "cell_type": "markdown",
   "id": "477d0bd3",
   "metadata": {},
   "source": [
    "a.index(20)"
   ]
  },
  {
   "cell_type": "code",
   "execution_count": 62,
   "id": "dc3a7099",
   "metadata": {},
   "outputs": [
    {
     "data": {
      "text/plain": [
       "1"
      ]
     },
     "execution_count": 62,
     "metadata": {},
     "output_type": "execute_result"
    }
   ],
   "source": [
    "a.index(20)"
   ]
  },
  {
   "cell_type": "code",
   "execution_count": 63,
   "id": "0e803bc7",
   "metadata": {},
   "outputs": [
    {
     "ename": "ValueError",
     "evalue": "tuple.index(x): x not in tuple",
     "output_type": "error",
     "traceback": [
      "\u001b[1;31m---------------------------------------------------------------------------\u001b[0m",
      "\u001b[1;31mValueError\u001b[0m                                Traceback (most recent call last)",
      "\u001b[1;32m~\\AppData\\Local\\Temp/ipykernel_28632/787977488.py\u001b[0m in \u001b[0;36m<module>\u001b[1;34m\u001b[0m\n\u001b[1;32m----> 1\u001b[1;33m \u001b[0ma\u001b[0m\u001b[1;33m.\u001b[0m\u001b[0mindex\u001b[0m\u001b[1;33m(\u001b[0m\u001b[1;36m100\u001b[0m\u001b[1;33m)\u001b[0m\u001b[1;33m\u001b[0m\u001b[1;33m\u001b[0m\u001b[0m\n\u001b[0m",
      "\u001b[1;31mValueError\u001b[0m: tuple.index(x): x not in tuple"
     ]
    }
   ],
   "source": [
    "a.index(100)"
   ]
  },
  {
   "cell_type": "markdown",
   "id": "4a4ae2b9",
   "metadata": {},
   "source": [
    "# dictionary"
   ]
  },
  {
   "cell_type": "code",
   "execution_count": 65,
   "id": "219dbf22",
   "metadata": {},
   "outputs": [
    {
     "name": "stdout",
     "output_type": "stream",
     "text": [
      "enter the emp id104\n",
      "Arsh\n"
     ]
    }
   ],
   "source": [
    "a=[101,102,103,104]\n",
    "b=[\"Kishan\",\"Sunita\",\"Megha\",\"Arsh\"]\n",
    "\n",
    "userinput=int(input(\"enter the emp id\"))\n",
    "index=a.index(userinput)\n",
    "print(b[index])\n"
   ]
  },
  {
   "cell_type": "code",
   "execution_count": 66,
   "id": "8f61693d",
   "metadata": {},
   "outputs": [],
   "source": [
    "#dictionary is nothing but key value pair\n",
    "# 1) key must be unique but values can be duplicate\n",
    "# 2) keys are supposed to immutable type.\n",
    "# 3) values can be mutable or mutable\n",
    "# 4) Dictionaries are mutable\n",
    "# 5) It doesn't support indexing, slicing, addition, repetition\n",
    "# 6) It is iterable\n",
    "\n",
    "\n",
    "# Note: defined {key1:Valu1, key2:value}\n",
    "set: elements are kept inside \"{\" and \"}\""
   ]
  },
  {
   "cell_type": "code",
   "execution_count": 67,
   "id": "c88e8c8d",
   "metadata": {},
   "outputs": [],
   "source": [
    "my_dict={101:\"Kishan\",102:\"Sunita\",103:\"Megha\",104:\"Arsh\"}"
   ]
  },
  {
   "cell_type": "code",
   "execution_count": 70,
   "id": "63ea9aa8",
   "metadata": {},
   "outputs": [
    {
     "ename": "TypeError",
     "evalue": "unsupported operand type(s) for *: 'dict' and 'int'",
     "output_type": "error",
     "traceback": [
      "\u001b[1;31m---------------------------------------------------------------------------\u001b[0m",
      "\u001b[1;31mTypeError\u001b[0m                                 Traceback (most recent call last)",
      "\u001b[1;32m~\\AppData\\Local\\Temp/ipykernel_28632/140369918.py\u001b[0m in \u001b[0;36m<module>\u001b[1;34m\u001b[0m\n\u001b[1;32m----> 1\u001b[1;33m \u001b[0mmy_dict\u001b[0m\u001b[1;33m*\u001b[0m\u001b[1;36m3\u001b[0m\u001b[1;33m\u001b[0m\u001b[1;33m\u001b[0m\u001b[0m\n\u001b[0m",
      "\u001b[1;31mTypeError\u001b[0m: unsupported operand type(s) for *: 'dict' and 'int'"
     ]
    }
   ],
   "source": [
    "my_dict*3"
   ]
  },
  {
   "cell_type": "code",
   "execution_count": 71,
   "id": "b34efa27",
   "metadata": {},
   "outputs": [
    {
     "data": {
      "text/plain": [
       "'Kishan'"
      ]
     },
     "execution_count": 71,
     "metadata": {},
     "output_type": "execute_result"
    }
   ],
   "source": [
    "my_dict[101]"
   ]
  },
  {
   "cell_type": "code",
   "execution_count": 72,
   "id": "79007cc6",
   "metadata": {},
   "outputs": [
    {
     "data": {
      "text/plain": [
       "'Megha'"
      ]
     },
     "execution_count": 72,
     "metadata": {},
     "output_type": "execute_result"
    }
   ],
   "source": [
    "my_dict[103]"
   ]
  },
  {
   "cell_type": "code",
   "execution_count": 73,
   "id": "1bbd4573",
   "metadata": {},
   "outputs": [
    {
     "ename": "KeyError",
     "evalue": "108",
     "output_type": "error",
     "traceback": [
      "\u001b[1;31m---------------------------------------------------------------------------\u001b[0m",
      "\u001b[1;31mKeyError\u001b[0m                                  Traceback (most recent call last)",
      "\u001b[1;32m~\\AppData\\Local\\Temp/ipykernel_28632/3431849002.py\u001b[0m in \u001b[0;36m<module>\u001b[1;34m\u001b[0m\n\u001b[1;32m----> 1\u001b[1;33m \u001b[0mmy_dict\u001b[0m\u001b[1;33m[\u001b[0m\u001b[1;36m108\u001b[0m\u001b[1;33m]\u001b[0m\u001b[1;33m\u001b[0m\u001b[1;33m\u001b[0m\u001b[0m\n\u001b[0m",
      "\u001b[1;31mKeyError\u001b[0m: 108"
     ]
    }
   ],
   "source": [
    "my_dict[108]"
   ]
  },
  {
   "cell_type": "code",
   "execution_count": 74,
   "id": "74312008",
   "metadata": {},
   "outputs": [],
   "source": [
    "my_dict={101:\"Kishan\",102:\"Sunita\",103:\"Megha\",104:\"Arsh\",101:\"Shivam\"}"
   ]
  },
  {
   "cell_type": "code",
   "execution_count": 75,
   "id": "a0091eeb",
   "metadata": {},
   "outputs": [
    {
     "name": "stdout",
     "output_type": "stream",
     "text": [
      "{101: 'Shivam', 102: 'Sunita', 103: 'Megha', 104: 'Arsh'}\n"
     ]
    }
   ],
   "source": [
    "print(my_dict)"
   ]
  },
  {
   "cell_type": "code",
   "execution_count": 76,
   "id": "12f44bda",
   "metadata": {},
   "outputs": [],
   "source": [
    "my_dict={101:\"Kishan\",102:\"Sunita\",103:\"Megha\",104:\"Arsh\",105:\"Kishan\"}"
   ]
  },
  {
   "cell_type": "code",
   "execution_count": 77,
   "id": "964265b0",
   "metadata": {},
   "outputs": [
    {
     "name": "stdout",
     "output_type": "stream",
     "text": [
      "{101: 'Kishan', 102: 'Sunita', 103: 'Megha', 104: 'Arsh', 105: 'Kishan'}\n"
     ]
    }
   ],
   "source": [
    "print(my_dict)"
   ]
  },
  {
   "cell_type": "code",
   "execution_count": 78,
   "id": "59bad2d4",
   "metadata": {},
   "outputs": [
    {
     "ename": "TypeError",
     "evalue": "unhashable type: 'list'",
     "output_type": "error",
     "traceback": [
      "\u001b[1;31m---------------------------------------------------------------------------\u001b[0m",
      "\u001b[1;31mTypeError\u001b[0m                                 Traceback (most recent call last)",
      "\u001b[1;32m~\\AppData\\Local\\Temp/ipykernel_28632/2386986905.py\u001b[0m in \u001b[0;36m<module>\u001b[1;34m\u001b[0m\n\u001b[1;32m----> 1\u001b[1;33m \u001b[0mmy_dict\u001b[0m\u001b[1;33m=\u001b[0m\u001b[1;33m{\u001b[0m\u001b[1;33m[\u001b[0m\u001b[1;36m101\u001b[0m\u001b[1;33m]\u001b[0m\u001b[1;33m:\u001b[0m\u001b[1;34m\"Kishan\"\u001b[0m\u001b[1;33m,\u001b[0m\u001b[1;36m102\u001b[0m\u001b[1;33m:\u001b[0m\u001b[1;34m\"Sunita\"\u001b[0m\u001b[1;33m,\u001b[0m\u001b[1;36m103\u001b[0m\u001b[1;33m:\u001b[0m\u001b[1;34m\"Megha\"\u001b[0m\u001b[1;33m,\u001b[0m\u001b[1;36m104\u001b[0m\u001b[1;33m:\u001b[0m\u001b[1;34m\"Arsh\"\u001b[0m\u001b[1;33m,\u001b[0m\u001b[1;36m105\u001b[0m\u001b[1;33m:\u001b[0m\u001b[1;34m\"Kishan\"\u001b[0m\u001b[1;33m}\u001b[0m\u001b[1;33m\u001b[0m\u001b[1;33m\u001b[0m\u001b[0m\n\u001b[0m",
      "\u001b[1;31mTypeError\u001b[0m: unhashable type: 'list'"
     ]
    }
   ],
   "source": [
    "my_dict={[101]:\"Kishan\",102:\"Sunita\",103:\"Megha\",104:\"Arsh\",105:\"Kishan\"}"
   ]
  },
  {
   "cell_type": "code",
   "execution_count": 79,
   "id": "63f99058",
   "metadata": {},
   "outputs": [],
   "source": [
    "my_dict={101:\"Kishan\",102:\"Sunita\",103:\"Megha\",104:\"Arsh\",105:\"Kishan\",\"106\":[1,2,3]}"
   ]
  },
  {
   "cell_type": "code",
   "execution_count": 80,
   "id": "d3e14823",
   "metadata": {},
   "outputs": [
    {
     "name": "stdout",
     "output_type": "stream",
     "text": [
      "{101: 'Kishan', 102: 'Sunita', 103: 'Megha', 104: 'Arsh', 105: 'Kishan', '106': [1, 2, 3]}\n"
     ]
    }
   ],
   "source": [
    "print(my_dict)"
   ]
  },
  {
   "cell_type": "code",
   "execution_count": 81,
   "id": "84019cee",
   "metadata": {},
   "outputs": [
    {
     "name": "stdout",
     "output_type": "stream",
     "text": [
      "{101: 'Kishan', 102: 'Sunita', 103: 'Megha', 104: 'Arsh', 105: 'Kishan', '106': [1, 2, 3]} 2301071914240\n",
      "{101: 'Krishan', 102: 'Sunita', 103: 'Megha', 104: 'Arsh', 105: 'Kishan', '106': [1, 2, 3]} 2301071914240\n"
     ]
    }
   ],
   "source": [
    "print(my_dict,id(my_dict))\n",
    "my_dict[101]=\"Krishan\"\n",
    "print(my_dict,id(my_dict))"
   ]
  },
  {
   "cell_type": "code",
   "execution_count": 82,
   "id": "ad3756cd",
   "metadata": {},
   "outputs": [
    {
     "name": "stdout",
     "output_type": "stream",
     "text": [
      "101 <class 'int'>\n",
      "102 <class 'int'>\n",
      "103 <class 'int'>\n",
      "104 <class 'int'>\n",
      "105 <class 'int'>\n",
      "106 <class 'str'>\n"
     ]
    }
   ],
   "source": [
    "for i in my_dict:\n",
    "    print(i,type(i))"
   ]
  },
  {
   "cell_type": "code",
   "execution_count": 83,
   "id": "3922517e",
   "metadata": {},
   "outputs": [],
   "source": [
    "# creation of dictionary\n",
    "# 1) when the vales are knows\n",
    "my_dict={\"101\":\"Garvit\",\"102\":\"shreya\"}\n",
    "\n",
    "# 2) input from user\n",
    "my_dict=eval(input(\"Enter the dictionary\"))\n",
    "\n",
    "# 3) using function dict , dict(iterable)\n",
    "my_dict=dict(zip([101,102],[\"Garvit\",\"Shreya\"]))\n",
    "\n",
    "# 4) creating an empty dictionary\n",
    "empty_dict={}\n",
    "\n",
    "# 5) dict comprehension"
   ]
  },
  {
   "cell_type": "code",
   "execution_count": 84,
   "id": "6d291d78",
   "metadata": {},
   "outputs": [
    {
     "name": "stdout",
     "output_type": "stream",
     "text": [
      "{'101': 'Garvit', '102': 'shreya'}\n"
     ]
    }
   ],
   "source": [
    "print(my_dict)"
   ]
  },
  {
   "cell_type": "code",
   "execution_count": 86,
   "id": "bb6e3d1e",
   "metadata": {},
   "outputs": [],
   "source": [
    "my_dict={101:\"Garvit\",102:\"shreya\"}\n",
    "my_dict[101]=my_dict[101]+\" 28\"\n",
    "\"Garvit 28\""
   ]
  },
  {
   "cell_type": "code",
   "execution_count": 87,
   "id": "f3b42f77",
   "metadata": {},
   "outputs": [],
   "source": [
    "emp1=\"Garvit\"\n",
    "emp2=\"Shreya\"\n",
    "my_dict={101:emp1,102:emp2}"
   ]
  },
  {
   "cell_type": "code",
   "execution_count": 88,
   "id": "5aeff9d4",
   "metadata": {},
   "outputs": [
    {
     "name": "stdout",
     "output_type": "stream",
     "text": [
      "Garvit\n"
     ]
    }
   ],
   "source": [
    "print(my_dict[101])"
   ]
  },
  {
   "cell_type": "code",
   "execution_count": 92,
   "id": "e96d320f",
   "metadata": {},
   "outputs": [
    {
     "name": "stdout",
     "output_type": "stream",
     "text": [
      "Enter the dictionary{101:\"Garvit\",102:\"Shreya\"}\n"
     ]
    }
   ],
   "source": [
    "my_dict=eval(input(\"Enter the dictionary\"))"
   ]
  },
  {
   "cell_type": "code",
   "execution_count": 93,
   "id": "50e90245",
   "metadata": {},
   "outputs": [
    {
     "name": "stdout",
     "output_type": "stream",
     "text": [
      "{101: 'Garvit', 102: 'Shreya'}\n"
     ]
    }
   ],
   "source": [
    "print(my_dict)"
   ]
  },
  {
   "cell_type": "code",
   "execution_count": 94,
   "id": "32c5c0d2",
   "metadata": {},
   "outputs": [
    {
     "name": "stdout",
     "output_type": "stream",
     "text": [
      "Enter the dictionary{101:emp1,102:emp2}\n"
     ]
    }
   ],
   "source": [
    "my_dict=eval(input(\"Enter the dictionary\"))"
   ]
  },
  {
   "cell_type": "code",
   "execution_count": 95,
   "id": "224b6f37",
   "metadata": {},
   "outputs": [
    {
     "name": "stdout",
     "output_type": "stream",
     "text": [
      "{101: 'Garvit', 102: 'Shreya'}\n"
     ]
    }
   ],
   "source": [
    "print(my_dict)"
   ]
  },
  {
   "cell_type": "code",
   "execution_count": 96,
   "id": "8929c660",
   "metadata": {},
   "outputs": [],
   "source": [
    "my_dict={101:[\"Garvit\",28],102:[\"Shreya\",29]}"
   ]
  },
  {
   "cell_type": "code",
   "execution_count": 97,
   "id": "8040aaa1",
   "metadata": {},
   "outputs": [
    {
     "name": "stdout",
     "output_type": "stream",
     "text": [
      "['Garvit', 28]\n"
     ]
    }
   ],
   "source": [
    "print(my_dict[101])"
   ]
  },
  {
   "cell_type": "code",
   "execution_count": 98,
   "id": "79ac0b45",
   "metadata": {},
   "outputs": [
    {
     "ename": "TypeError",
     "evalue": "cannot convert dictionary update sequence element #0 to a sequence",
     "output_type": "error",
     "traceback": [
      "\u001b[1;31m---------------------------------------------------------------------------\u001b[0m",
      "\u001b[1;31mTypeError\u001b[0m                                 Traceback (most recent call last)",
      "\u001b[1;32m~\\AppData\\Local\\Temp/ipykernel_28632/1765229071.py\u001b[0m in \u001b[0;36m<module>\u001b[1;34m\u001b[0m\n\u001b[1;32m----> 1\u001b[1;33m \u001b[0ma\u001b[0m\u001b[1;33m=\u001b[0m\u001b[0mdict\u001b[0m\u001b[1;33m(\u001b[0m\u001b[1;33m[\u001b[0m\u001b[1;36m101\u001b[0m\u001b[1;33m,\u001b[0m\u001b[1;36m102\u001b[0m\u001b[1;33m,\u001b[0m\u001b[1;36m30\u001b[0m\u001b[1;33m]\u001b[0m\u001b[1;33m)\u001b[0m\u001b[1;33m\u001b[0m\u001b[1;33m\u001b[0m\u001b[0m\n\u001b[0m",
      "\u001b[1;31mTypeError\u001b[0m: cannot convert dictionary update sequence element #0 to a sequence"
     ]
    }
   ],
   "source": [
    "a=dict([101,102,30])"
   ]
  },
  {
   "cell_type": "code",
   "execution_count": 102,
   "id": "b2d5a7b8",
   "metadata": {},
   "outputs": [],
   "source": [
    "a=dict([(10,20),(30,40)])\n",
    "\n"
   ]
  },
  {
   "cell_type": "code",
   "execution_count": 100,
   "id": "d7bcbefc",
   "metadata": {},
   "outputs": [
    {
     "name": "stdout",
     "output_type": "stream",
     "text": [
      "{10: 20, 30: 40}\n"
     ]
    }
   ],
   "source": [
    "print(a)"
   ]
  },
  {
   "cell_type": "code",
   "execution_count": 105,
   "id": "09c7b1c6",
   "metadata": {},
   "outputs": [],
   "source": [
    "a=dict(((10,20),(30,40)))"
   ]
  },
  {
   "cell_type": "code",
   "execution_count": 106,
   "id": "ef7c29a4",
   "metadata": {},
   "outputs": [
    {
     "name": "stdout",
     "output_type": "stream",
     "text": [
      "{10: 20, 30: 40}\n"
     ]
    }
   ],
   "source": [
    "print(a)"
   ]
  },
  {
   "cell_type": "code",
   "execution_count": 107,
   "id": "7ecc27a6",
   "metadata": {},
   "outputs": [],
   "source": [
    "a=dict(([10,20],[30,40]))"
   ]
  },
  {
   "cell_type": "code",
   "execution_count": 108,
   "id": "2fc296aa",
   "metadata": {},
   "outputs": [
    {
     "name": "stdout",
     "output_type": "stream",
     "text": [
      "{10: 20, 30: 40}\n"
     ]
    }
   ],
   "source": [
    "print(a)"
   ]
  },
  {
   "cell_type": "code",
   "execution_count": 114,
   "id": "d005f53f",
   "metadata": {},
   "outputs": [],
   "source": [
    "a=enumerate([1,2,3])"
   ]
  },
  {
   "cell_type": "code",
   "execution_count": 110,
   "id": "6432461c",
   "metadata": {},
   "outputs": [
    {
     "name": "stdout",
     "output_type": "stream",
     "text": [
      "<enumerate object at 0x00000217C2934240>\n"
     ]
    }
   ],
   "source": [
    "print(a)"
   ]
  },
  {
   "cell_type": "code",
   "execution_count": 111,
   "id": "38e8af0e",
   "metadata": {},
   "outputs": [
    {
     "name": "stdout",
     "output_type": "stream",
     "text": [
      "(0, 1) <class 'tuple'>\n",
      "(1, 2) <class 'tuple'>\n",
      "(2, 3) <class 'tuple'>\n"
     ]
    }
   ],
   "source": [
    "for i in a:\n",
    "    print(i, type(i))"
   ]
  },
  {
   "cell_type": "code",
   "execution_count": 115,
   "id": "d2436c78",
   "metadata": {},
   "outputs": [
    {
     "name": "stdout",
     "output_type": "stream",
     "text": [
      "{0: 1, 1: 2, 2: 3}\n"
     ]
    }
   ],
   "source": [
    "my_dict=dict(a)\n",
    "print(my_dict)"
   ]
  },
  {
   "cell_type": "code",
   "execution_count": 116,
   "id": "7f280a4b",
   "metadata": {},
   "outputs": [],
   "source": [
    "my_dict=dict(enumerate([\"Garvit\",\"SHaurya\",\"Khushi\"]))"
   ]
  },
  {
   "cell_type": "code",
   "execution_count": 117,
   "id": "8752927e",
   "metadata": {},
   "outputs": [
    {
     "name": "stdout",
     "output_type": "stream",
     "text": [
      "{0: 'Garvit', 1: 'SHaurya', 2: 'Khushi'}\n"
     ]
    }
   ],
   "source": [
    "print(my_dict)"
   ]
  },
  {
   "cell_type": "code",
   "execution_count": 119,
   "id": "a74447e8",
   "metadata": {},
   "outputs": [],
   "source": [
    "# zip ->zip(iterator1, iterator2, iterator3 ......)\n",
    "a=zip([101,102,103],[\"Garvit\",\"SHaurya\",\"Khushi\"])\n",
    "# print(a)\n",
    "# for i in a:\n",
    "#     print(i,type(i))"
   ]
  },
  {
   "cell_type": "code",
   "execution_count": 120,
   "id": "afa5c63a",
   "metadata": {},
   "outputs": [],
   "source": [
    "my_dict=dict(a)"
   ]
  },
  {
   "cell_type": "code",
   "execution_count": 121,
   "id": "668ca100",
   "metadata": {},
   "outputs": [
    {
     "name": "stdout",
     "output_type": "stream",
     "text": [
      "{101: 'Garvit', 102: 'SHaurya', 103: 'Khushi'}\n"
     ]
    }
   ],
   "source": [
    "print(my_dict)"
   ]
  },
  {
   "cell_type": "code",
   "execution_count": 124,
   "id": "c054223e",
   "metadata": {},
   "outputs": [
    {
     "name": "stdout",
     "output_type": "stream",
     "text": [
      "(101, 'Garvit', 24) <class 'tuple'>\n",
      "(102, 'SHaurya', 23) <class 'tuple'>\n",
      "(103, 'Khushi', 21) <class 'tuple'>\n"
     ]
    }
   ],
   "source": [
    "a=zip([101,102,103],[\"Garvit\",\"SHaurya\",\"Khushi\"],[24,23,21])\n",
    "for i in a:\n",
    "    print(i,type(i))"
   ]
  },
  {
   "cell_type": "code",
   "execution_count": 123,
   "id": "52d7e4fd",
   "metadata": {},
   "outputs": [
    {
     "ename": "ValueError",
     "evalue": "dictionary update sequence element #0 has length 3; 2 is required",
     "output_type": "error",
     "traceback": [
      "\u001b[1;31m---------------------------------------------------------------------------\u001b[0m",
      "\u001b[1;31mValueError\u001b[0m                                Traceback (most recent call last)",
      "\u001b[1;32m~\\AppData\\Local\\Temp/ipykernel_28632/3505879465.py\u001b[0m in \u001b[0;36m<module>\u001b[1;34m\u001b[0m\n\u001b[1;32m----> 1\u001b[1;33m \u001b[0mmy_dict\u001b[0m\u001b[1;33m=\u001b[0m\u001b[0mdict\u001b[0m\u001b[1;33m(\u001b[0m\u001b[0ma\u001b[0m\u001b[1;33m)\u001b[0m\u001b[1;33m\u001b[0m\u001b[1;33m\u001b[0m\u001b[0m\n\u001b[0m",
      "\u001b[1;31mValueError\u001b[0m: dictionary update sequence element #0 has length 3; 2 is required"
     ]
    }
   ],
   "source": [
    "my_dict=dict(a)"
   ]
  },
  {
   "cell_type": "code",
   "execution_count": null,
   "id": "cf43e655",
   "metadata": {},
   "outputs": [],
   "source": [
    "{101:\"Garvit\",102:\"Shivam\"}=>dictionary\n",
    "{101,102}->set\n",
    "\n",
    "a={}"
   ]
  },
  {
   "cell_type": "code",
   "execution_count": 125,
   "id": "e4b221b9",
   "metadata": {},
   "outputs": [
    {
     "name": "stdout",
     "output_type": "stream",
     "text": [
      "<class 'dict'>\n"
     ]
    }
   ],
   "source": [
    "empty_dict={}\n",
    "print(type(empty_dict))"
   ]
  },
  {
   "cell_type": "code",
   "execution_count": 126,
   "id": "a2b6c83c",
   "metadata": {},
   "outputs": [],
   "source": [
    "# sets=>it will not have any duplicate value"
   ]
  },
  {
   "cell_type": "code",
   "execution_count": 127,
   "id": "2f7d3f55",
   "metadata": {},
   "outputs": [
    {
     "name": "stdout",
     "output_type": "stream",
     "text": [
      "{1, 2, 3} <class 'set'>\n"
     ]
    }
   ],
   "source": [
    "a={1,2,3}\n",
    "print(a,type(a))"
   ]
  },
  {
   "cell_type": "code",
   "execution_count": 128,
   "id": "673d7391",
   "metadata": {},
   "outputs": [
    {
     "name": "stdout",
     "output_type": "stream",
     "text": [
      "{1, 2, 3, 4, 5} <class 'set'>\n"
     ]
    }
   ],
   "source": [
    "a={1,2,3,3,4,5,1}\n",
    "print(a,type(a))"
   ]
  },
  {
   "cell_type": "code",
   "execution_count": 129,
   "id": "88541e32",
   "metadata": {},
   "outputs": [
    {
     "name": "stdout",
     "output_type": "stream",
     "text": [
      "{101, 102, 103, 104, 105, 106, 107}\n"
     ]
    }
   ],
   "source": [
    "List=[101,101,102,103,104,105,106,107,107,102]\n",
    "st=set(List)\n",
    "print(st)"
   ]
  },
  {
   "cell_type": "code",
   "execution_count": 130,
   "id": "2d8a6923",
   "metadata": {},
   "outputs": [
    {
     "name": "stdout",
     "output_type": "stream",
     "text": [
      "[101, 102, 103, 104, 105, 106, 107]\n"
     ]
    }
   ],
   "source": [
    "print(list(st))"
   ]
  },
  {
   "cell_type": "code",
   "execution_count": 132,
   "id": "d39afa9e",
   "metadata": {},
   "outputs": [],
   "source": [
    "my_dict={i:i*i for i in range (1,11)}"
   ]
  },
  {
   "cell_type": "code",
   "execution_count": 133,
   "id": "168a7a6e",
   "metadata": {},
   "outputs": [
    {
     "name": "stdout",
     "output_type": "stream",
     "text": [
      "{1: 1, 2: 4, 3: 9, 4: 16, 5: 25, 6: 36, 7: 49, 8: 64, 9: 81, 10: 100}\n"
     ]
    }
   ],
   "source": [
    "print(my_dict)"
   ]
  },
  {
   "cell_type": "code",
   "execution_count": null,
   "id": "406d98bb",
   "metadata": {},
   "outputs": [],
   "source": []
  }
 ],
 "metadata": {
  "kernelspec": {
   "display_name": "Python 3 (ipykernel)",
   "language": "python",
   "name": "python3"
  },
  "language_info": {
   "codemirror_mode": {
    "name": "ipython",
    "version": 3
   },
   "file_extension": ".py",
   "mimetype": "text/x-python",
   "name": "python",
   "nbconvert_exporter": "python",
   "pygments_lexer": "ipython3",
   "version": "3.9.7"
  }
 },
 "nbformat": 4,
 "nbformat_minor": 5
}
