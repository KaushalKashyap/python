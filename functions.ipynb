{
 "cells": [
  {
   "cell_type": "markdown",
   "id": "dfbb87b9",
   "metadata": {},
   "source": [
    "# Functions\n"
   ]
  },
  {
   "cell_type": "code",
   "execution_count": 3,
   "id": "894ffe43",
   "metadata": {},
   "outputs": [
    {
     "name": "stdout",
     "output_type": "stream",
     "text": [
      "10\n",
      "11\n",
      "10\n"
     ]
    }
   ],
   "source": [
    "#how are arguments passed in python\n",
    "def increment_by_one(a):\n",
    "    a=a+1\n",
    "    print(a)\n",
    "    return \n",
    "\n",
    "a=10\n",
    "print(a)\n",
    "increment_by_one(a)\n",
    "print(a)\n"
   ]
  },
  {
   "cell_type": "code",
   "execution_count": 2,
   "id": "2fb846c2",
   "metadata": {},
   "outputs": [
    {
     "name": "stdout",
     "output_type": "stream",
     "text": [
      "[1, 2, 3, 4]\n",
      "[1, 2, 3, 4, 5]\n"
     ]
    }
   ],
   "source": [
    "def append_on_list(a):\n",
    "    a.append(5)\n",
    "    return\n",
    "\n",
    "a=[1,2,3,4]\n",
    "print(a)\n",
    "append_on_list(a)\n",
    "print(a)"
   ]
  },
  {
   "cell_type": "code",
   "execution_count": 1,
   "id": "517bca19",
   "metadata": {},
   "outputs": [
    {
     "name": "stdout",
     "output_type": "stream",
     "text": [
      "[1, 2, 3, 4]\n",
      "[1, 2, 3, 4]\n"
     ]
    }
   ],
   "source": [
    "# Python, it is not passed by value, it is not passed by reference either. It is something called as pass by object.\n",
    "\n",
    "def append_on_list_new(a):\n",
    "    a=a+[5]\n",
    "    return\n",
    "\n",
    "a=[1,2,3,4]\n",
    "print(a)\n",
    "append_on_list_new(a)\n",
    "print(a)"
   ]
  },
  {
   "cell_type": "code",
   "execution_count": 2,
   "id": "2ffc8209",
   "metadata": {},
   "outputs": [
    {
     "ename": "NameError",
     "evalue": "name 'f' is not defined",
     "output_type": "error",
     "traceback": [
      "\u001b[1;31m---------------------------------------------------------------------------\u001b[0m",
      "\u001b[1;31mNameError\u001b[0m                                 Traceback (most recent call last)",
      "\u001b[1;32m~\\AppData\\Local\\Temp/ipykernel_16276/3808227854.py\u001b[0m in \u001b[0;36m<module>\u001b[1;34m\u001b[0m\n\u001b[0;32m      1\u001b[0m \u001b[1;31m# Namespace and scope\u001b[0m\u001b[1;33m\u001b[0m\u001b[1;33m\u001b[0m\u001b[0m\n\u001b[0;32m      2\u001b[0m \u001b[1;33m\u001b[0m\u001b[0m\n\u001b[1;32m----> 3\u001b[1;33m \u001b[0mprint\u001b[0m\u001b[1;33m(\u001b[0m\u001b[0mf\u001b[0m\u001b[1;33m)\u001b[0m\u001b[1;33m\u001b[0m\u001b[1;33m\u001b[0m\u001b[0m\n\u001b[0m",
      "\u001b[1;31mNameError\u001b[0m: name 'f' is not defined"
     ]
    }
   ],
   "source": [
    "# Namespace and scope\n",
    "\n",
    "print(f)"
   ]
  },
  {
   "cell_type": "code",
   "execution_count": null,
   "id": "ceec31ff",
   "metadata": {},
   "outputs": [],
   "source": [
    "a=10\n",
    "print(a)"
   ]
  },
  {
   "cell_type": "code",
   "execution_count": 3,
   "id": "c66b0ccc",
   "metadata": {},
   "outputs": [
    {
     "name": "stdout",
     "output_type": "stream",
     "text": [
      "['ArithmeticError', 'AssertionError', 'AttributeError', 'BaseException', 'BlockingIOError', 'BrokenPipeError', 'BufferError', 'BytesWarning', 'ChildProcessError', 'ConnectionAbortedError', 'ConnectionError', 'ConnectionRefusedError', 'ConnectionResetError', 'DeprecationWarning', 'EOFError', 'Ellipsis', 'EnvironmentError', 'Exception', 'False', 'FileExistsError', 'FileNotFoundError', 'FloatingPointError', 'FutureWarning', 'GeneratorExit', 'IOError', 'ImportError', 'ImportWarning', 'IndentationError', 'IndexError', 'InterruptedError', 'IsADirectoryError', 'KeyError', 'KeyboardInterrupt', 'LookupError', 'MemoryError', 'ModuleNotFoundError', 'NameError', 'None', 'NotADirectoryError', 'NotImplemented', 'NotImplementedError', 'OSError', 'OverflowError', 'PendingDeprecationWarning', 'PermissionError', 'ProcessLookupError', 'RecursionError', 'ReferenceError', 'ResourceWarning', 'RuntimeError', 'RuntimeWarning', 'StopAsyncIteration', 'StopIteration', 'SyntaxError', 'SyntaxWarning', 'SystemError', 'SystemExit', 'TabError', 'TimeoutError', 'True', 'TypeError', 'UnboundLocalError', 'UnicodeDecodeError', 'UnicodeEncodeError', 'UnicodeError', 'UnicodeTranslateError', 'UnicodeWarning', 'UserWarning', 'ValueError', 'Warning', 'WindowsError', 'ZeroDivisionError', '__IPYTHON__', '__build_class__', '__debug__', '__doc__', '__import__', '__loader__', '__name__', '__package__', '__spec__', 'abs', 'all', 'any', 'ascii', 'bin', 'bool', 'breakpoint', 'bytearray', 'bytes', 'callable', 'chr', 'classmethod', 'compile', 'complex', 'copyright', 'credits', 'delattr', 'dict', 'dir', 'display', 'divmod', 'enumerate', 'eval', 'exec', 'execfile', 'filter', 'float', 'format', 'frozenset', 'get_ipython', 'getattr', 'globals', 'hasattr', 'hash', 'help', 'hex', 'id', 'input', 'int', 'isinstance', 'issubclass', 'iter', 'len', 'license', 'list', 'locals', 'map', 'max', 'memoryview', 'min', 'next', 'object', 'oct', 'open', 'ord', 'pow', 'print', 'property', 'range', 'repr', 'reversed', 'round', 'runfile', 'set', 'setattr', 'slice', 'sorted', 'staticmethod', 'str', 'sum', 'super', 'tuple', 'type', 'vars', 'zip']\n"
     ]
    }
   ],
   "source": [
    "# builtin name space\n",
    "print(dir(__builtins__))"
   ]
  },
  {
   "cell_type": "code",
   "execution_count": 1,
   "id": "02c5e6c1",
   "metadata": {},
   "outputs": [
    {
     "ename": "UnboundLocalError",
     "evalue": "local variable 'a' referenced before assignment",
     "output_type": "error",
     "traceback": [
      "\u001b[1;31m---------------------------------------------------------------------------\u001b[0m",
      "\u001b[1;31mUnboundLocalError\u001b[0m                         Traceback (most recent call last)",
      "\u001b[1;32m~\\AppData\\Local\\Temp/ipykernel_32928/499979216.py\u001b[0m in \u001b[0;36m<module>\u001b[1;34m\u001b[0m\n\u001b[0;32m      4\u001b[0m     \u001b[0ma\u001b[0m\u001b[1;33m=\u001b[0m\u001b[0ma\u001b[0m\u001b[1;33m+\u001b[0m\u001b[1;36m1\u001b[0m\u001b[1;33m\u001b[0m\u001b[1;33m\u001b[0m\u001b[0m\n\u001b[0;32m      5\u001b[0m     \u001b[1;32mreturn\u001b[0m\u001b[1;33m\u001b[0m\u001b[1;33m\u001b[0m\u001b[0m\n\u001b[1;32m----> 6\u001b[1;33m \u001b[0mincrement_by_1\u001b[0m\u001b[1;33m(\u001b[0m\u001b[1;33m)\u001b[0m\u001b[1;33m\u001b[0m\u001b[1;33m\u001b[0m\u001b[0m\n\u001b[0m\u001b[0;32m      7\u001b[0m \u001b[0mprint\u001b[0m\u001b[1;33m(\u001b[0m\u001b[0ma\u001b[0m\u001b[1;33m)\u001b[0m\u001b[1;33m\u001b[0m\u001b[1;33m\u001b[0m\u001b[0m\n",
      "\u001b[1;32m~\\AppData\\Local\\Temp/ipykernel_32928/499979216.py\u001b[0m in \u001b[0;36mincrement_by_1\u001b[1;34m()\u001b[0m\n\u001b[0;32m      2\u001b[0m \u001b[1;33m\u001b[0m\u001b[0m\n\u001b[0;32m      3\u001b[0m \u001b[1;32mdef\u001b[0m \u001b[0mincrement_by_1\u001b[0m\u001b[1;33m(\u001b[0m\u001b[1;33m)\u001b[0m\u001b[1;33m:\u001b[0m\u001b[1;33m\u001b[0m\u001b[1;33m\u001b[0m\u001b[0m\n\u001b[1;32m----> 4\u001b[1;33m     \u001b[0ma\u001b[0m\u001b[1;33m=\u001b[0m\u001b[0ma\u001b[0m\u001b[1;33m+\u001b[0m\u001b[1;36m1\u001b[0m\u001b[1;33m\u001b[0m\u001b[1;33m\u001b[0m\u001b[0m\n\u001b[0m\u001b[0;32m      5\u001b[0m     \u001b[1;32mreturn\u001b[0m\u001b[1;33m\u001b[0m\u001b[1;33m\u001b[0m\u001b[0m\n\u001b[0;32m      6\u001b[0m \u001b[0mincrement_by_1\u001b[0m\u001b[1;33m(\u001b[0m\u001b[1;33m)\u001b[0m\u001b[1;33m\u001b[0m\u001b[1;33m\u001b[0m\u001b[0m\n",
      "\u001b[1;31mUnboundLocalError\u001b[0m: local variable 'a' referenced before assignment"
     ]
    }
   ],
   "source": [
    "a=10\n",
    "\n",
    "def increment_by_1():\n",
    "    a=a+1\n",
    "    return \n",
    "increment_by_1()\n",
    "print(a)"
   ]
  },
  {
   "cell_type": "code",
   "execution_count": 2,
   "id": "ed4ff6ee",
   "metadata": {},
   "outputs": [
    {
     "name": "stdout",
     "output_type": "stream",
     "text": [
      "11\n",
      "10\n"
     ]
    }
   ],
   "source": [
    "a=10\n",
    "\n",
    "def increment_by_1():\n",
    "    print(a+1)\n",
    "    return \n",
    "increment_by_1()\n",
    "print(a)"
   ]
  },
  {
   "cell_type": "code",
   "execution_count": null,
   "id": "5adeddb3",
   "metadata": {},
   "outputs": [],
   "source": [
    "# scope=>order in which we check a place(Name space)"
   ]
  },
  {
   "cell_type": "code",
   "execution_count": null,
   "id": "078f8196",
   "metadata": {},
   "outputs": [],
   "source": [
    "# Three name spaces are builtins,global and local\n",
    "builtins are the variables that are accesible by all the python codes.\n",
    "globals are the variable that are accessible inside the python file in which they are defined,\n",
    "but can't be changed in local namespace\n",
    "locals are the variables defined inside the function"
   ]
  },
  {
   "cell_type": "code",
   "execution_count": 1,
   "id": "6380c1c1",
   "metadata": {},
   "outputs": [
    {
     "name": "stdout",
     "output_type": "stream",
     "text": [
      "['In', 'Out', '_', '__', '___', '__builtin__', '__builtins__', '__doc__', '__loader__', '__name__', '__package__', '__spec__', '_dh', '_i', '_i1', '_ih', '_ii', '_iii', '_oh', 'a', 'exit', 'get_ipython', 'quit']\n"
     ]
    }
   ],
   "source": [
    "a=10\n",
    "print(dir())\n"
   ]
  },
  {
   "cell_type": "code",
   "execution_count": 1,
   "id": "9006e025",
   "metadata": {},
   "outputs": [
    {
     "name": "stdout",
     "output_type": "stream",
     "text": [
      "['In', 'Out', '_', '__', '___', '__builtin__', '__builtins__', '__doc__', '__loader__', '__name__', '__package__', '__spec__', '_dh', '_i', '_i1', '_ih', '_ii', '_iii', '_oh', 'exit', 'get_ipython', 'quit']\n"
     ]
    }
   ],
   "source": [
    "print(dir())"
   ]
  },
  {
   "cell_type": "code",
   "execution_count": 2,
   "id": "f3a833ea",
   "metadata": {},
   "outputs": [
    {
     "name": "stdout",
     "output_type": "stream",
     "text": [
      "['In', 'Out', '_', '__', '___', '__builtin__', '__builtins__', '__doc__', '__loader__', '__name__', '__package__', '__spec__', '_dh', '_i', '_i1', '_i2', '_ih', '_ii', '_iii', '_oh', 'exit', 'get_ipython', 'quit']\n",
      "['In', 'Out', '_', '__', '___', '__builtin__', '__builtins__', '__doc__', '__loader__', '__name__', '__package__', '__spec__', '_dh', '_i', '_i1', '_i2', '_ih', '_ii', '_iii', '_oh', 'a', 'exit', 'get_ipython', 'quit']\n",
      "['In', 'Out', '_', '__', '___', '__builtin__', '__builtins__', '__doc__', '__loader__', '__name__', '__package__', '__spec__', '_dh', '_i', '_i1', '_i2', '_ih', '_ii', '_iii', '_oh', 'a', 'exit', 'get_ipython', 'quit', 'temp_to_prove_locals']\n"
     ]
    }
   ],
   "source": [
    "print(dir())\n",
    "a=10\n",
    "print(dir())\n",
    "def temp_to_prove_locals():\n",
    "    print(dir())\n",
    "print(dir())"
   ]
  },
  {
   "cell_type": "code",
   "execution_count": 1,
   "id": "aed5ab21",
   "metadata": {},
   "outputs": [
    {
     "name": "stdout",
     "output_type": "stream",
     "text": [
      "['In', 'Out', '_', '__', '___', '__builtin__', '__builtins__', '__doc__', '__loader__', '__name__', '__package__', '__spec__', '_dh', '_i', '_i1', '_ih', '_ii', '_iii', '_oh', 'exit', 'get_ipython', 'quit']\n",
      "['In', 'Out', '_', '__', '___', '__builtin__', '__builtins__', '__doc__', '__loader__', '__name__', '__package__', '__spec__', '_dh', '_i', '_i1', '_ih', '_ii', '_iii', '_oh', 'a', 'exit', 'get_ipython', 'quit']\n",
      "Local namespace here\n",
      "[]\n",
      "local namespace ends here\n",
      "['In', 'Out', '_', '__', '___', '__builtin__', '__builtins__', '__doc__', '__loader__', '__name__', '__package__', '__spec__', '_dh', '_i', '_i1', '_ih', '_ii', '_iii', '_oh', 'a', 'exit', 'get_ipython', 'quit', 'temp_to_prove_locals']\n"
     ]
    }
   ],
   "source": [
    "print(dir())\n",
    "a=10\n",
    "print(dir())\n",
    "def temp_to_prove_locals():\n",
    "    print(\"Local namespace here\")\n",
    "    print(dir())\n",
    "    print(\"local namespace ends here\")\n",
    "temp_to_prove_locals()\n",
    "print(dir())"
   ]
  },
  {
   "cell_type": "code",
   "execution_count": 4,
   "id": "e22deb44",
   "metadata": {},
   "outputs": [
    {
     "name": "stdout",
     "output_type": "stream",
     "text": [
      "20\n",
      "10\n"
     ]
    }
   ],
   "source": [
    "# scope=>order in which we check a place(Name space) for a variable.\n",
    "a=10\n",
    "def increment_by_1():\n",
    "    a=20\n",
    "    print(a)\n",
    "    return \n",
    "increment_by_1()\n",
    "print(a)\n",
    "\n"
   ]
  },
  {
   "cell_type": "code",
   "execution_count": 1,
   "id": "aef95cdd",
   "metadata": {},
   "outputs": [
    {
     "name": "stdout",
     "output_type": "stream",
     "text": [
      "10\n",
      "10\n"
     ]
    }
   ],
   "source": [
    "a=10\n",
    "def increment_by_1():\n",
    "    print(a)\n",
    "    return \n",
    "increment_by_1()\n",
    "print(a)"
   ]
  },
  {
   "cell_type": "code",
   "execution_count": 2,
   "id": "c545a875",
   "metadata": {},
   "outputs": [
    {
     "name": "stdout",
     "output_type": "stream",
     "text": [
      "10\n"
     ]
    },
    {
     "ename": "NameError",
     "evalue": "name 'f' is not defined",
     "output_type": "error",
     "traceback": [
      "\u001b[1;31m---------------------------------------------------------------------------\u001b[0m",
      "\u001b[1;31mNameError\u001b[0m                                 Traceback (most recent call last)",
      "\u001b[1;32m~\\AppData\\Local\\Temp/ipykernel_13144/3714765054.py\u001b[0m in \u001b[0;36m<module>\u001b[1;34m\u001b[0m\n\u001b[0;32m      4\u001b[0m     \u001b[0mprint\u001b[0m\u001b[1;33m(\u001b[0m\u001b[0mf\u001b[0m\u001b[1;33m)\u001b[0m\u001b[1;33m\u001b[0m\u001b[1;33m\u001b[0m\u001b[0m\n\u001b[0;32m      5\u001b[0m     \u001b[1;32mreturn\u001b[0m\u001b[1;33m\u001b[0m\u001b[1;33m\u001b[0m\u001b[0m\n\u001b[1;32m----> 6\u001b[1;33m \u001b[0mincrement_by_1\u001b[0m\u001b[1;33m(\u001b[0m\u001b[1;33m)\u001b[0m\u001b[1;33m\u001b[0m\u001b[1;33m\u001b[0m\u001b[0m\n\u001b[0m\u001b[0;32m      7\u001b[0m \u001b[0mprint\u001b[0m\u001b[1;33m(\u001b[0m\u001b[0ma\u001b[0m\u001b[1;33m)\u001b[0m\u001b[1;33m\u001b[0m\u001b[1;33m\u001b[0m\u001b[0m\n",
      "\u001b[1;32m~\\AppData\\Local\\Temp/ipykernel_13144/3714765054.py\u001b[0m in \u001b[0;36mincrement_by_1\u001b[1;34m()\u001b[0m\n\u001b[0;32m      2\u001b[0m \u001b[1;32mdef\u001b[0m \u001b[0mincrement_by_1\u001b[0m\u001b[1;33m(\u001b[0m\u001b[1;33m)\u001b[0m\u001b[1;33m:\u001b[0m\u001b[1;33m\u001b[0m\u001b[1;33m\u001b[0m\u001b[0m\n\u001b[0;32m      3\u001b[0m     \u001b[0mprint\u001b[0m\u001b[1;33m(\u001b[0m\u001b[0ma\u001b[0m\u001b[1;33m)\u001b[0m\u001b[1;33m\u001b[0m\u001b[1;33m\u001b[0m\u001b[0m\n\u001b[1;32m----> 4\u001b[1;33m     \u001b[0mprint\u001b[0m\u001b[1;33m(\u001b[0m\u001b[0mf\u001b[0m\u001b[1;33m)\u001b[0m\u001b[1;33m\u001b[0m\u001b[1;33m\u001b[0m\u001b[0m\n\u001b[0m\u001b[0;32m      5\u001b[0m     \u001b[1;32mreturn\u001b[0m\u001b[1;33m\u001b[0m\u001b[1;33m\u001b[0m\u001b[0m\n\u001b[0;32m      6\u001b[0m \u001b[0mincrement_by_1\u001b[0m\u001b[1;33m(\u001b[0m\u001b[1;33m)\u001b[0m\u001b[1;33m\u001b[0m\u001b[1;33m\u001b[0m\u001b[0m\n",
      "\u001b[1;31mNameError\u001b[0m: name 'f' is not defined"
     ]
    }
   ],
   "source": [
    "a=10\n",
    "def increment_by_1():\n",
    "    print(a)\n",
    "    print(f)\n",
    "    return \n",
    "increment_by_1()\n",
    "print(a)"
   ]
  },
  {
   "cell_type": "code",
   "execution_count": 4,
   "id": "e0678ce7",
   "metadata": {},
   "outputs": [
    {
     "name": "stdout",
     "output_type": "stream",
     "text": [
      "0\n"
     ]
    }
   ],
   "source": [
    "num_of_accounts=0\n",
    "\n",
    "def open_an_account(num_of_accounts):\n",
    "    num_of_accounts=num_of_accounts+1\n",
    "    return\n",
    "open_an_account(num_of_accounts)\n",
    "open_an_account(num_of_accounts)\n",
    "open_an_account(num_of_accounts)\n",
    "print(num_of_accounts)"
   ]
  },
  {
   "cell_type": "code",
   "execution_count": 10,
   "id": "212c5f6b",
   "metadata": {},
   "outputs": [
    {
     "name": "stdout",
     "output_type": "stream",
     "text": [
      "2\n"
     ]
    }
   ],
   "source": [
    "num_of_accounts=0\n",
    "\n",
    "def open_an_account():\n",
    "    global num_of_accounts\n",
    "    num_of_accounts=num_of_accounts+1\n",
    "    return\n",
    "open_an_account()\n",
    "\n",
    "open_an_account()\n",
    "print(num_of_accounts)"
   ]
  },
  {
   "cell_type": "code",
   "execution_count": 1,
   "id": "2de02af9",
   "metadata": {},
   "outputs": [
    {
     "name": "stdout",
     "output_type": "stream",
     "text": [
      "['In', 'Out', '_', '__', '___', '__builtin__', '__builtins__', '__doc__', '__loader__', '__name__', '__package__', '__spec__', '_dh', '_i', '_i1', '_ih', '_ii', '_iii', '_oh', 'exit', 'get_ipython', 'how_many_buildings_did_I_build', 'quit']\n",
      "[]\n",
      "[]\n",
      "['In', 'Out', '_', '__', '___', '__builtin__', '__builtins__', '__doc__', '__loader__', '__name__', '__package__', '__spec__', '_dh', '_i', '_i1', '_ih', '_ii', '_iii', '_oh', 'exit', 'get_ipython', 'how_many_buildings_did_I_build', 'num_of_building', 'quit']\n",
      "0\n"
     ]
    }
   ],
   "source": [
    "\n",
    "def how_many_buildings_did_I_build():\n",
    "    print(dir())\n",
    "    global num_of_building\n",
    "    num_of_building=0\n",
    "    print(dir())\n",
    "    return\n",
    "print(dir())\n",
    "how_many_buildings_did_I_build()\n",
    "print(dir())\n",
    "print(num_of_building)\n",
    "    "
   ]
  },
  {
   "cell_type": "markdown",
   "id": "59f10d45",
   "metadata": {},
   "source": [
    "# Types of arguments\n"
   ]
  },
  {
   "cell_type": "code",
   "execution_count": null,
   "id": "9a4532a5",
   "metadata": {},
   "outputs": [],
   "source": [
    "# 1) positional arguments: It is decided if a function is positional or not while calling the function not defining the function\n",
    "#                          It is mandatory to pass\n",
    "#                          order in which they are passed matters matters"
   ]
  },
  {
   "cell_type": "code",
   "execution_count": 5,
   "id": "8a522171",
   "metadata": {},
   "outputs": [],
   "source": [
    "def print_employee_salary(base, company_bonus, joining_bonus):\n",
    "    print(\"The base salary is: \", base)\n",
    "    print(\"The company bonus is: \",company_bonus)\n",
    "    print(\"The joining bonus is: \",joining_bonus)"
   ]
  },
  {
   "cell_type": "code",
   "execution_count": 6,
   "id": "3f72496f",
   "metadata": {},
   "outputs": [
    {
     "name": "stdout",
     "output_type": "stream",
     "text": [
      "The base salary is:  200000\n",
      "The company bonus is:  20000\n",
      "The joining bonus is:  10000\n"
     ]
    }
   ],
   "source": [
    "print_employee_salary(200000,20000,10000)"
   ]
  },
  {
   "cell_type": "code",
   "execution_count": 7,
   "id": "41805afd",
   "metadata": {},
   "outputs": [
    {
     "ename": "TypeError",
     "evalue": "print_employee_salary() missing 1 required positional argument: 'joining_bonus'",
     "output_type": "error",
     "traceback": [
      "\u001b[1;31m---------------------------------------------------------------------------\u001b[0m",
      "\u001b[1;31mTypeError\u001b[0m                                 Traceback (most recent call last)",
      "\u001b[1;32m~\\AppData\\Local\\Temp/ipykernel_2448/3859848879.py\u001b[0m in \u001b[0;36m<module>\u001b[1;34m\u001b[0m\n\u001b[1;32m----> 1\u001b[1;33m \u001b[0mprint_employee_salary\u001b[0m\u001b[1;33m(\u001b[0m\u001b[1;36m200000\u001b[0m\u001b[1;33m,\u001b[0m\u001b[1;36m20000\u001b[0m\u001b[1;33m)\u001b[0m\u001b[1;33m\u001b[0m\u001b[1;33m\u001b[0m\u001b[0m\n\u001b[0m",
      "\u001b[1;31mTypeError\u001b[0m: print_employee_salary() missing 1 required positional argument: 'joining_bonus'"
     ]
    }
   ],
   "source": [
    "print_employee_salary(200000,20000)"
   ]
  },
  {
   "cell_type": "code",
   "execution_count": 8,
   "id": "f07e6991",
   "metadata": {},
   "outputs": [
    {
     "name": "stdout",
     "output_type": "stream",
     "text": [
      "The base salary is:  20000\n",
      "The company bonus is:  200000\n",
      "The joining bonus is:  10000\n"
     ]
    }
   ],
   "source": [
    "print_employee_salary(20000,200000,10000)"
   ]
  },
  {
   "cell_type": "code",
   "execution_count": null,
   "id": "f29f591b",
   "metadata": {},
   "outputs": [],
   "source": [
    "# 2) Keyworded argument: It is decided if a function is keyworder or not while calling the function not defining the function\n",
    "#                          It is mandatory to pass\n",
    "#                          order in which they are passed doesn't matter\n",
    "\n",
    "\n",
    "\n",
    "# NOTE: positional arguments can't be passed after keyworded arguments"
   ]
  },
  {
   "cell_type": "code",
   "execution_count": null,
   "id": "fb989ef9",
   "metadata": {},
   "outputs": [],
   "source": [
    "def print_employee_salary(base, company_bonus, joining_bonus):\n",
    "    print(\"The base salary is: \", base)\n",
    "    print(\"The company bonus is: \",company_bonus)\n",
    "    print(\"The joining bonus is: \",joining_bonus)"
   ]
  },
  {
   "cell_type": "code",
   "execution_count": 9,
   "id": "e0fbd6a9",
   "metadata": {},
   "outputs": [
    {
     "name": "stdout",
     "output_type": "stream",
     "text": [
      "The base salary is:  200000\n",
      "The company bonus is:  20000\n",
      "The joining bonus is:  10000\n"
     ]
    }
   ],
   "source": [
    "print_employee_salary(base=200000,company_bonus=20000,joining_bonus=10000)"
   ]
  },
  {
   "cell_type": "code",
   "execution_count": 10,
   "id": "93ac46e0",
   "metadata": {},
   "outputs": [
    {
     "name": "stdout",
     "output_type": "stream",
     "text": [
      "The base salary is:  200000\n",
      "The company bonus is:  20000\n",
      "The joining bonus is:  10000\n"
     ]
    }
   ],
   "source": [
    "print_employee_salary(company_bonus=20000,joining_bonus=10000,base=200000)"
   ]
  },
  {
   "cell_type": "code",
   "execution_count": 35,
   "id": "eac3fbee",
   "metadata": {},
   "outputs": [
    {
     "name": "stdout",
     "output_type": "stream",
     "text": [
      "The base salary is:  200000\n",
      "The company bonus is:  20000\n",
      "The joining bonus is:  10000\n"
     ]
    }
   ],
   "source": [
    "print_employee_salary(200000,company_bonus=20000,joining_bonus=10000)"
   ]
  },
  {
   "cell_type": "code",
   "execution_count": 36,
   "id": "b8dc178f",
   "metadata": {},
   "outputs": [
    {
     "name": "stdout",
     "output_type": "stream",
     "text": [
      "The base salary is:  200000\n",
      "The company bonus is:  20000\n",
      "The joining bonus is:  10000\n"
     ]
    }
   ],
   "source": [
    "print_employee_salary(200000,joining_bonus=10000,company_bonus=20000)"
   ]
  },
  {
   "cell_type": "code",
   "execution_count": 37,
   "id": "5ab7e091",
   "metadata": {},
   "outputs": [
    {
     "ename": "SyntaxError",
     "evalue": "positional argument follows keyword argument (Temp/ipykernel_2448/1884750541.py, line 1)",
     "output_type": "error",
     "traceback": [
      "\u001b[1;36m  File \u001b[1;32m\"C:\\Users\\gtane\\AppData\\Local\\Temp/ipykernel_2448/1884750541.py\"\u001b[1;36m, line \u001b[1;32m1\u001b[0m\n\u001b[1;33m    print_employee_salary(joining_bonus=10000,company_bonus=20000,200000)\u001b[0m\n\u001b[1;37m                                                                        ^\u001b[0m\n\u001b[1;31mSyntaxError\u001b[0m\u001b[1;31m:\u001b[0m positional argument follows keyword argument\n"
     ]
    }
   ],
   "source": [
    "print_employee_salary(joining_bonus=10000,company_bonus=20000,200000)"
   ]
  },
  {
   "cell_type": "code",
   "execution_count": 38,
   "id": "91443027",
   "metadata": {},
   "outputs": [
    {
     "name": "stdout",
     "output_type": "stream",
     "text": [
      "The base salary is:  200000\n",
      "The company bonus is:  20000\n",
      "The joining bonus is:  10000\n"
     ]
    }
   ],
   "source": [
    "print_employee_salary(joining_bonus=10000,company_bonus=20000,base=200000)"
   ]
  },
  {
   "cell_type": "code",
   "execution_count": 40,
   "id": "42fdc87b",
   "metadata": {},
   "outputs": [],
   "source": [
    "def print_employee_salary(base, company_bonus, joining_bonus,retention_bonus):\n",
    "    print(\"The base salary is: \", base)\n",
    "    print(\"The company bonus is: \",company_bonus)\n",
    "    print(\"The joining bonus is: \",joining_bonus)\n",
    "    print(\"The retention bonus is: \",retention_bonus)"
   ]
  },
  {
   "cell_type": "code",
   "execution_count": 41,
   "id": "1bc5bf45",
   "metadata": {},
   "outputs": [
    {
     "name": "stdout",
     "output_type": "stream",
     "text": [
      "The base salary is:  200000\n",
      "The company bonus is:  10000\n",
      "The joining bonus is:  40000\n",
      "The retention bonus is:  20000\n"
     ]
    }
   ],
   "source": [
    "print_employee_salary(200000,10000,retention_bonus=20000,joining_bonus=40000)"
   ]
  },
  {
   "cell_type": "code",
   "execution_count": 42,
   "id": "26b1dd2e",
   "metadata": {},
   "outputs": [
    {
     "ename": "TypeError",
     "evalue": "print_employee_salary() got multiple values for argument 'company_bonus'",
     "output_type": "error",
     "traceback": [
      "\u001b[1;31m---------------------------------------------------------------------------\u001b[0m",
      "\u001b[1;31mTypeError\u001b[0m                                 Traceback (most recent call last)",
      "\u001b[1;32m~\\AppData\\Local\\Temp/ipykernel_2448/2344775972.py\u001b[0m in \u001b[0;36m<module>\u001b[1;34m\u001b[0m\n\u001b[1;32m----> 1\u001b[1;33m \u001b[0mprint_employee_salary\u001b[0m\u001b[1;33m(\u001b[0m\u001b[1;36m200000\u001b[0m\u001b[1;33m,\u001b[0m\u001b[1;36m10000\u001b[0m\u001b[1;33m,\u001b[0m\u001b[0mcompany_bonus\u001b[0m\u001b[1;33m=\u001b[0m\u001b[1;36m20000\u001b[0m\u001b[1;33m,\u001b[0m\u001b[0mjoining_bonus\u001b[0m\u001b[1;33m=\u001b[0m\u001b[1;36m40000\u001b[0m\u001b[1;33m)\u001b[0m\u001b[1;33m\u001b[0m\u001b[1;33m\u001b[0m\u001b[0m\n\u001b[0m",
      "\u001b[1;31mTypeError\u001b[0m: print_employee_salary() got multiple values for argument 'company_bonus'"
     ]
    }
   ],
   "source": [
    "print_employee_salary(200000,10000,company_bonus=20000,joining_bonus=40000)"
   ]
  },
  {
   "cell_type": "code",
   "execution_count": 43,
   "id": "04fda0d5",
   "metadata": {},
   "outputs": [
    {
     "ename": "SyntaxError",
     "evalue": "positional argument follows keyword argument (Temp/ipykernel_2448/4231688035.py, line 1)",
     "output_type": "error",
     "traceback": [
      "\u001b[1;36m  File \u001b[1;32m\"C:\\Users\\gtane\\AppData\\Local\\Temp/ipykernel_2448/4231688035.py\"\u001b[1;36m, line \u001b[1;32m1\u001b[0m\n\u001b[1;33m    print_employee_salary(company_bonus=20000,joining_bonus=40000,200000,10000)\u001b[0m\n\u001b[1;37m                                                                              ^\u001b[0m\n\u001b[1;31mSyntaxError\u001b[0m\u001b[1;31m:\u001b[0m positional argument follows keyword argument\n"
     ]
    }
   ],
   "source": [
    "print_employee_salary(company_bonus=20000,joining_bonus=40000,200000,10000)"
   ]
  },
  {
   "cell_type": "code",
   "execution_count": null,
   "id": "2c6b347d",
   "metadata": {},
   "outputs": [],
   "source": []
  },
  {
   "cell_type": "code",
   "execution_count": null,
   "id": "9f073792",
   "metadata": {},
   "outputs": [],
   "source": []
  },
  {
   "cell_type": "code",
   "execution_count": null,
   "id": "ee86e511",
   "metadata": {},
   "outputs": [],
   "source": []
  },
  {
   "cell_type": "code",
   "execution_count": null,
   "id": "f3d5c9ca",
   "metadata": {},
   "outputs": [],
   "source": []
  },
  {
   "cell_type": "code",
   "execution_count": null,
   "id": "8ef2e700",
   "metadata": {},
   "outputs": [],
   "source": [
    "# default arguments: It is decided if a function is default argument or not while defining the function\n",
    "#                    It is not mandatory to pass"
   ]
  },
  {
   "cell_type": "code",
   "execution_count": 14,
   "id": "3a564cfa",
   "metadata": {},
   "outputs": [
    {
     "ename": "TypeError",
     "evalue": "print_employee_salary() missing 3 required positional arguments: 'base', 'company_bonus', and 'joining_bonus'",
     "output_type": "error",
     "traceback": [
      "\u001b[1;31m---------------------------------------------------------------------------\u001b[0m",
      "\u001b[1;31mTypeError\u001b[0m                                 Traceback (most recent call last)",
      "\u001b[1;32m~\\AppData\\Local\\Temp/ipykernel_2448/958413706.py\u001b[0m in \u001b[0;36m<module>\u001b[1;34m\u001b[0m\n\u001b[1;32m----> 1\u001b[1;33m \u001b[0mprint_employee_salary\u001b[0m\u001b[1;33m(\u001b[0m\u001b[1;33m)\u001b[0m\u001b[1;33m\u001b[0m\u001b[1;33m\u001b[0m\u001b[0m\n\u001b[0m",
      "\u001b[1;31mTypeError\u001b[0m: print_employee_salary() missing 3 required positional arguments: 'base', 'company_bonus', and 'joining_bonus'"
     ]
    }
   ],
   "source": [
    "print_employee_salary()"
   ]
  },
  {
   "cell_type": "code",
   "execution_count": 13,
   "id": "f2506b48",
   "metadata": {},
   "outputs": [
    {
     "name": "stdout",
     "output_type": "stream",
     "text": [
      "Help on method_descriptor:\n",
      "\n",
      "split(self, /, sep=None, maxsplit=-1)\n",
      "    Return a list of the words in the string, using sep as the delimiter string.\n",
      "    \n",
      "    sep\n",
      "      The delimiter according which to split the string.\n",
      "      None (the default value) means split according to any whitespace,\n",
      "      and discard empty strings from the result.\n",
      "    maxsplit\n",
      "      Maximum number of splits to do.\n",
      "      -1 (the default value) means no limit.\n",
      "\n",
      "None\n"
     ]
    }
   ],
   "source": [
    "print(help(str.split))"
   ]
  },
  {
   "cell_type": "code",
   "execution_count": 28,
   "id": "90729af6",
   "metadata": {},
   "outputs": [],
   "source": [
    "def price_after_discount(price,discount=10):\n",
    "    print(price-(price*discount)/100)"
   ]
  },
  {
   "cell_type": "code",
   "execution_count": 29,
   "id": "b99ba952",
   "metadata": {},
   "outputs": [
    {
     "name": "stdout",
     "output_type": "stream",
     "text": [
      "90.0\n"
     ]
    }
   ],
   "source": [
    "price_after_discount(100)"
   ]
  },
  {
   "cell_type": "code",
   "execution_count": 30,
   "id": "aa7f330b",
   "metadata": {},
   "outputs": [
    {
     "name": "stdout",
     "output_type": "stream",
     "text": [
      "9000.0\n"
     ]
    }
   ],
   "source": [
    "price_after_discount(10000)"
   ]
  },
  {
   "cell_type": "code",
   "execution_count": 31,
   "id": "0f52331e",
   "metadata": {},
   "outputs": [
    {
     "name": "stdout",
     "output_type": "stream",
     "text": [
      "4500.0\n"
     ]
    }
   ],
   "source": [
    "price_after_discount(5000)"
   ]
  },
  {
   "cell_type": "code",
   "execution_count": 32,
   "id": "772ac6c9",
   "metadata": {},
   "outputs": [
    {
     "name": "stdout",
     "output_type": "stream",
     "text": [
      "4100.0\n"
     ]
    }
   ],
   "source": [
    "price_after_discount(5000,18)"
   ]
  },
  {
   "cell_type": "code",
   "execution_count": 33,
   "id": "e067105d",
   "metadata": {},
   "outputs": [
    {
     "name": "stdout",
     "output_type": "stream",
     "text": [
      "-882.0\n"
     ]
    }
   ],
   "source": [
    "price_after_discount(18,5000)"
   ]
  },
  {
   "cell_type": "code",
   "execution_count": 34,
   "id": "68fd26f7",
   "metadata": {},
   "outputs": [
    {
     "name": "stdout",
     "output_type": "stream",
     "text": [
      "4100.0\n"
     ]
    }
   ],
   "source": [
    "price_after_discount(discount=18,price=5000)"
   ]
  },
  {
   "cell_type": "code",
   "execution_count": null,
   "id": "75891ff9",
   "metadata": {},
   "outputs": [],
   "source": []
  }
 ],
 "metadata": {
  "kernelspec": {
   "display_name": "Python 3 (ipykernel)",
   "language": "python",
   "name": "python3"
  },
  "language_info": {
   "codemirror_mode": {
    "name": "ipython",
    "version": 3
   },
   "file_extension": ".py",
   "mimetype": "text/x-python",
   "name": "python",
   "nbconvert_exporter": "python",
   "pygments_lexer": "ipython3",
   "version": "3.9.7"
  }
 },
 "nbformat": 4,
 "nbformat_minor": 5
}
