{
 "cells": [
  {
   "cell_type": "code",
   "execution_count": null,
   "id": "5686feb6",
   "metadata": {},
   "outputs": [],
   "source": [
    "#Operators\n",
    "Operators:\n",
    "    Logical: and, or not\n",
    "    Bitwise: &, |, ^, ~, <<, >>\n",
    "    Ternary: expr1 if cond else expr2\n",
    "    Operator Precedence"
   ]
  },
  {
   "cell_type": "code",
   "execution_count": null,
   "id": "3570818c",
   "metadata": {},
   "outputs": [],
   "source": [
    "Logical operators:\n",
    "    \n",
    "or:\n",
    "    1) if cond1 is true, output is cond1\n",
    "    2) if cond1 is false, output is condition2\n",
    "    condition1      condition2      Result\n",
    "    True               True          True\n",
    "    True               False         True\n",
    "    False              True          True\n",
    "    False              False         False\n",
    "\n",
    "and:\n",
    "    1) if cond1 is true, output is cond2\n",
    "    2) if cond1 is false, output is condition1\n",
    "    condition1      condition2      Result\n",
    "    True               True          True\n",
    "    True               False         False\n",
    "    False              True          False\n",
    "    False              False         False\n",
    "\n",
    "not:\n",
    "    Condition             Result\n",
    "    True                  False\n",
    "    False                 True\n",
    "    \n",
    "\n"
   ]
  },
  {
   "cell_type": "code",
   "execution_count": 1,
   "id": "64ee119b",
   "metadata": {},
   "outputs": [
    {
     "name": "stdout",
     "output_type": "stream",
     "text": [
      "False\n"
     ]
    }
   ],
   "source": [
    "print(True and False)"
   ]
  },
  {
   "cell_type": "code",
   "execution_count": 2,
   "id": "c67188e0",
   "metadata": {},
   "outputs": [
    {
     "name": "stdout",
     "output_type": "stream",
     "text": [
      "True\n"
     ]
    }
   ],
   "source": [
    "print(True or False)"
   ]
  },
  {
   "cell_type": "code",
   "execution_count": 3,
   "id": "f478f595",
   "metadata": {},
   "outputs": [
    {
     "name": "stdout",
     "output_type": "stream",
     "text": [
      "True\n"
     ]
    }
   ],
   "source": [
    "print(1 and True)"
   ]
  },
  {
   "cell_type": "code",
   "execution_count": 4,
   "id": "7707296b",
   "metadata": {},
   "outputs": [
    {
     "name": "stdout",
     "output_type": "stream",
     "text": [
      "True\n"
     ]
    }
   ],
   "source": [
    "print(2 and True)"
   ]
  },
  {
   "cell_type": "code",
   "execution_count": 5,
   "id": "4f74b09d",
   "metadata": {},
   "outputs": [
    {
     "name": "stdout",
     "output_type": "stream",
     "text": [
      "True\n"
     ]
    }
   ],
   "source": [
    "print(\"Python\" and True)"
   ]
  },
  {
   "cell_type": "code",
   "execution_count": 11,
   "id": "197df52c",
   "metadata": {},
   "outputs": [
    {
     "name": "stdout",
     "output_type": "stream",
     "text": [
      "True\n"
     ]
    }
   ],
   "source": [
    "print(\" \" and True)"
   ]
  },
  {
   "cell_type": "code",
   "execution_count": 7,
   "id": "c0a3f490",
   "metadata": {},
   "outputs": [
    {
     "name": "stdout",
     "output_type": "stream",
     "text": [
      "0.0\n"
     ]
    }
   ],
   "source": [
    "print(0.000 and True)"
   ]
  },
  {
   "cell_type": "code",
   "execution_count": 8,
   "id": "df4d7ce0",
   "metadata": {},
   "outputs": [
    {
     "name": "stdout",
     "output_type": "stream",
     "text": [
      "\n"
     ]
    }
   ],
   "source": [
    "print(True and \"\")"
   ]
  },
  {
   "cell_type": "code",
   "execution_count": 9,
   "id": "6373fff1",
   "metadata": {},
   "outputs": [
    {
     "name": "stdout",
     "output_type": "stream",
     "text": [
      "True\n"
     ]
    }
   ],
   "source": [
    "print(True or \"Learnbay\")"
   ]
  },
  {
   "cell_type": "code",
   "execution_count": 10,
   "id": "fff3ff2a",
   "metadata": {},
   "outputs": [
    {
     "name": "stdout",
     "output_type": "stream",
     "text": [
      "Learnbay\n"
     ]
    }
   ],
   "source": [
    "print(\"Learnbay\" or True )"
   ]
  },
  {
   "cell_type": "code",
   "execution_count": 12,
   "id": "f0322026",
   "metadata": {},
   "outputs": [
    {
     "name": "stdout",
     "output_type": "stream",
     "text": [
      "False\n"
     ]
    }
   ],
   "source": [
    "print(not True)"
   ]
  },
  {
   "cell_type": "code",
   "execution_count": 13,
   "id": "2c395407",
   "metadata": {},
   "outputs": [
    {
     "name": "stdout",
     "output_type": "stream",
     "text": [
      "False\n"
     ]
    }
   ],
   "source": [
    "print(not 1)"
   ]
  },
  {
   "cell_type": "code",
   "execution_count": 14,
   "id": "58cda4f8",
   "metadata": {},
   "outputs": [
    {
     "name": "stdout",
     "output_type": "stream",
     "text": [
      "True\n"
     ]
    }
   ],
   "source": [
    "print(not 0)"
   ]
  },
  {
   "cell_type": "code",
   "execution_count": 15,
   "id": "ead38079",
   "metadata": {},
   "outputs": [
    {
     "name": "stdout",
     "output_type": "stream",
     "text": [
      "True\n"
     ]
    }
   ],
   "source": [
    "print(not \"\")"
   ]
  },
  {
   "cell_type": "code",
   "execution_count": 16,
   "id": "d0554643",
   "metadata": {},
   "outputs": [
    {
     "name": "stdout",
     "output_type": "stream",
     "text": [
      "0b1010\n"
     ]
    }
   ],
   "source": [
    "print(bin(10))"
   ]
  },
  {
   "cell_type": "code",
   "execution_count": 17,
   "id": "a3558971",
   "metadata": {},
   "outputs": [],
   "source": [
    "aGlows=True\n",
    "bGlows=True\n",
    "cGlows=False\n",
    "dGlows=True"
   ]
  },
  {
   "cell_type": "code",
   "execution_count": null,
   "id": "2bf413d1",
   "metadata": {},
   "outputs": [],
   "source": [
    "Bitwise: &->and,\n",
    "    |->or,\n",
    "    ^->xor, \n",
    "    ~->not, \n",
    "    <<->left shift,\n",
    "    >>->right shift"
   ]
  },
  {
   "cell_type": "code",
   "execution_count": null,
   "id": "64cf55d4",
   "metadata": {},
   "outputs": [],
   "source": [
    "|\n",
    "1 1 ->1\n",
    "1 0 ->1\n",
    "0 1 ->1\n",
    "0 0 ->0\n",
    "\n",
    "&\n",
    "1 1 ->1\n",
    "1 0 ->0\n",
    "0 1 ->0\n",
    "0 0 ->0\n",
    "\n",
    "^\n",
    "1 1 ->0\n",
    "1 0 ->1\n",
    "0 1 ->1\n",
    "0 0 ->0\n",
    "\n",
    "~\n",
    "1->0\n",
    "0->1\n",
    "\n"
   ]
  },
  {
   "cell_type": "code",
   "execution_count": 18,
   "id": "2ff97119",
   "metadata": {},
   "outputs": [
    {
     "name": "stdout",
     "output_type": "stream",
     "text": [
      "0b111\n",
      "0b101\n"
     ]
    }
   ],
   "source": [
    "print(bin(7))\n",
    "print(bin(5))"
   ]
  },
  {
   "cell_type": "code",
   "execution_count": 19,
   "id": "d3144eb2",
   "metadata": {},
   "outputs": [
    {
     "name": "stdout",
     "output_type": "stream",
     "text": [
      "7\n"
     ]
    }
   ],
   "source": [
    "print(7 | 5)"
   ]
  },
  {
   "cell_type": "code",
   "execution_count": 20,
   "id": "4e89db3c",
   "metadata": {},
   "outputs": [
    {
     "name": "stdout",
     "output_type": "stream",
     "text": [
      "0b1000\n",
      "0b101\n"
     ]
    }
   ],
   "source": [
    "print(bin(8))\n",
    "print(bin(5))"
   ]
  },
  {
   "cell_type": "code",
   "execution_count": null,
   "id": "6ba40361",
   "metadata": {},
   "outputs": [],
   "source": [
    "0b1000\n",
    "0b0101\n",
    "\n",
    "1101"
   ]
  },
  {
   "cell_type": "code",
   "execution_count": 22,
   "id": "c30b59ff",
   "metadata": {},
   "outputs": [
    {
     "name": "stdout",
     "output_type": "stream",
     "text": [
      "13\n"
     ]
    }
   ],
   "source": [
    "print(8 | 5)"
   ]
  },
  {
   "cell_type": "code",
   "execution_count": 23,
   "id": "83cfd201",
   "metadata": {},
   "outputs": [
    {
     "name": "stdout",
     "output_type": "stream",
     "text": [
      "5\n"
     ]
    }
   ],
   "source": [
    "print(7 & 5)"
   ]
  },
  {
   "cell_type": "code",
   "execution_count": 24,
   "id": "4646b1eb",
   "metadata": {},
   "outputs": [
    {
     "name": "stdout",
     "output_type": "stream",
     "text": [
      "0\n"
     ]
    }
   ],
   "source": [
    "print(8 & 5)"
   ]
  },
  {
   "cell_type": "code",
   "execution_count": 25,
   "id": "ac12d72e",
   "metadata": {},
   "outputs": [
    {
     "name": "stdout",
     "output_type": "stream",
     "text": [
      "2\n"
     ]
    }
   ],
   "source": [
    "print(7 ^ 5)"
   ]
  },
  {
   "cell_type": "code",
   "execution_count": 26,
   "id": "27965afd",
   "metadata": {},
   "outputs": [
    {
     "name": "stdout",
     "output_type": "stream",
     "text": [
      "-8\n"
     ]
    }
   ],
   "source": [
    "print(~7)"
   ]
  },
  {
   "cell_type": "code",
   "execution_count": 27,
   "id": "d87a3fe5",
   "metadata": {},
   "outputs": [
    {
     "name": "stdout",
     "output_type": "stream",
     "text": [
      "-9\n"
     ]
    }
   ],
   "source": [
    "print(~8)"
   ]
  },
  {
   "cell_type": "code",
   "execution_count": null,
   "id": "83827cf5",
   "metadata": {},
   "outputs": [],
   "source": [
    "0111=1*2^0+1*2^1+1*2^2+(-0)*2^3\n",
    "1000=(-1)*2^3+0*2^2+0*2^1+0*2^0\n",
    "\n",
    "\n",
    "1000\n",
    "\n",
    "\n",
    "01000\n",
    "10111\n",
    "\n"
   ]
  },
  {
   "cell_type": "code",
   "execution_count": null,
   "id": "2758a85f",
   "metadata": {},
   "outputs": [],
   "source": [
    "2->0010\n",
    "4->0100\n",
    "8->1000\n",
    "\n",
    "\n",
    "7->00111\n",
    "14->01110"
   ]
  },
  {
   "cell_type": "code",
   "execution_count": null,
   "id": "2d241668",
   "metadata": {},
   "outputs": [],
   "source": [
    "100010101"
   ]
  },
  {
   "cell_type": "code",
   "execution_count": null,
   "id": "129a534b",
   "metadata": {},
   "outputs": [],
   "source": [
    "00010101"
   ]
  },
  {
   "cell_type": "code",
   "execution_count": 28,
   "id": "23bfa113",
   "metadata": {},
   "outputs": [
    {
     "name": "stdout",
     "output_type": "stream",
     "text": [
      "16\n",
      "4\n"
     ]
    }
   ],
   "source": [
    "print(8<<1)\n",
    "print(8>>1)"
   ]
  },
  {
   "cell_type": "code",
   "execution_count": 29,
   "id": "49d0832d",
   "metadata": {},
   "outputs": [
    {
     "name": "stdout",
     "output_type": "stream",
     "text": [
      "3\n"
     ]
    }
   ],
   "source": [
    "print(7>>1)\n"
   ]
  },
  {
   "cell_type": "code",
   "execution_count": null,
   "id": "91430582",
   "metadata": {},
   "outputs": [],
   "source": [
    "# Syntax\n",
    "if condition:\n",
    "    statement1 \n",
    "    statement2\n",
    "    statement3\n",
    "\n",
    "    "
   ]
  },
  {
   "cell_type": "code",
   "execution_count": 35,
   "id": "cb99897a",
   "metadata": {},
   "outputs": [
    {
     "name": "stdout",
     "output_type": "stream",
     "text": [
      "Enter a number13\n",
      "End of our program\n"
     ]
    }
   ],
   "source": [
    "a=int(input(\"Enter a number\"))\n",
    "if a%2==0:\n",
    "    print(\"Number given is even\")\n",
    "    \n",
    "print(\"End of our program\")\n",
    "    "
   ]
  },
  {
   "cell_type": "code",
   "execution_count": 37,
   "id": "a57a0780",
   "metadata": {},
   "outputs": [
    {
     "name": "stdout",
     "output_type": "stream",
     "text": [
      "Enter a number13\n",
      "Number given is odd\n",
      "End of our program\n"
     ]
    }
   ],
   "source": [
    "a=int(input(\"Enter a number\"))\n",
    "if a%2==0:\n",
    "    print(\"Number given is even\")\n",
    "    \n",
    "if a%2==1:\n",
    "    print(\"Number given is odd\")\n",
    "    \n",
    "print(\"End of our program\")\n"
   ]
  },
  {
   "cell_type": "code",
   "execution_count": 39,
   "id": "861d6120",
   "metadata": {},
   "outputs": [
    {
     "name": "stdout",
     "output_type": "stream",
     "text": [
      "Enter a number13\n",
      "Number given is odd\n",
      "End of our program\n"
     ]
    }
   ],
   "source": [
    "a=int(input(\"Enter a number\"))\n",
    "if a%2==0:\n",
    "    print(\"Number given is even\")\n",
    "else:\n",
    "    print(\"Number given is odd\")\n",
    "\n",
    "    \n",
    "print(\"End of our program\")"
   ]
  },
  {
   "cell_type": "code",
   "execution_count": null,
   "id": "cdef45a4",
   "metadata": {},
   "outputs": [],
   "source": [
    "a=int(input(\"Enter a number\"))\n",
    "if a%3==0 and a%5==0:\n",
    "    print(\"True\")\n",
    "else:\n",
    "    print(\"False\")\n",
    "\n",
    "    \n",
    "print(\"End of our program\")"
   ]
  },
  {
   "cell_type": "markdown",
   "id": "c925c7b0",
   "metadata": {},
   "source": [
    "15\n",
    "11\n",
    "\n",
    "3\n",
    "25"
   ]
  },
  {
   "cell_type": "code",
   "execution_count": null,
   "id": "0a6ea744",
   "metadata": {},
   "outputs": [],
   "source": [
    "c1=\n",
    "c2=a%3!=0 and a%5==0\n",
    "c1 or c2"
   ]
  },
  {
   "cell_type": "code",
   "execution_count": 42,
   "id": "edfc6bc2",
   "metadata": {},
   "outputs": [
    {
     "name": "stdout",
     "output_type": "stream",
     "text": [
      "Enter a number15\n",
      "False\n",
      "End of our program\n"
     ]
    }
   ],
   "source": [
    "a=int(input(\"Enter a number\"))\n",
    "if (a%3==0 and a%5!=0) or (a%3!=0 and a%5==0):\n",
    "    print(\"True\")\n",
    "else:\n",
    "    print(\"False\")\n",
    "\n",
    "    \n",
    "print(\"End of our program\")"
   ]
  },
  {
   "cell_type": "code",
   "execution_count": null,
   "id": "ff07a7bd",
   "metadata": {},
   "outputs": [],
   "source": [
    "student has scored >=90 -----A\n",
    "student has scored <90 and >=80------B\n",
    "student has scored <80 ----->C"
   ]
  },
  {
   "cell_type": "code",
   "execution_count": 44,
   "id": "861a5f4b",
   "metadata": {},
   "outputs": [
    {
     "name": "stdout",
     "output_type": "stream",
     "text": [
      "Enter a number100\n",
      "A\n"
     ]
    }
   ],
   "source": [
    "a=int(input(\"Enter a number\"))\n",
    "if(a>=90):\n",
    "    print(\"A\")\n",
    "if(a<90 and a>=80):\n",
    "    print(\"B\")\n",
    "if(a<80):\n",
    "    print(\"C\")"
   ]
  },
  {
   "cell_type": "code",
   "execution_count": 1,
   "id": "87e4b234",
   "metadata": {},
   "outputs": [
    {
     "name": "stdout",
     "output_type": "stream",
     "text": [
      "Enter a number70\n",
      "C\n"
     ]
    }
   ],
   "source": [
    "a=int(input(\"Enter a number\"))\n",
    "# 70\n",
    "if (a>=90):\n",
    "    print(\"A\")\n",
    "elif (a>=80):\n",
    "    print(\"B\")\n",
    "elif (a>=70):\n",
    "    print(\"C\")\n",
    "else:\n",
    "    print(\"You failed\")\n",
    "\n",
    "    "
   ]
  },
  {
   "cell_type": "code",
   "execution_count": null,
   "id": "2de048c0",
   "metadata": {},
   "outputs": [],
   "source": [
    "a=int(input(\"Enter a number\"))\n",
    "if(a>=90):\n",
    "    print(\"A\")\n",
    "if(a>=80):\n",
    "    print(\"B\")\n",
    "if(a<80):\n",
    "    print(\"C\")"
   ]
  },
  {
   "cell_type": "code",
   "execution_count": null,
   "id": "3ecbd14d",
   "metadata": {},
   "outputs": [],
   "source": [
    "(3+2)*4"
   ]
  },
  {
   "cell_type": "code",
   "execution_count": null,
   "id": "2c503866",
   "metadata": {},
   "outputs": [],
   "source": [
    "5*(5//4)"
   ]
  }
 ],
 "metadata": {
  "kernelspec": {
   "display_name": "Python 3 (ipykernel)",
   "language": "python",
   "name": "python3"
  },
  "language_info": {
   "codemirror_mode": {
    "name": "ipython",
    "version": 3
   },
   "file_extension": ".py",
   "mimetype": "text/x-python",
   "name": "python",
   "nbconvert_exporter": "python",
   "pygments_lexer": "ipython3",
   "version": "3.9.7"
  }
 },
 "nbformat": 4,
 "nbformat_minor": 5
}
