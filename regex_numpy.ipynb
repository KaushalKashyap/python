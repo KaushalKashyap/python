{
 "cells": [
  {
   "cell_type": "code",
   "execution_count": 1,
   "id": "a4ffda4a",
   "metadata": {},
   "outputs": [],
   "source": [
    "import pickle"
   ]
  },
  {
   "cell_type": "code",
   "execution_count": 2,
   "id": "f0e4d56f",
   "metadata": {},
   "outputs": [],
   "source": [
    "a={\"Garvit\":\"Taneja\",\"Priya\":\"Wadhwa\"}"
   ]
  },
  {
   "cell_type": "code",
   "execution_count": 4,
   "id": "9f7d9163",
   "metadata": {},
   "outputs": [
    {
     "ename": "TypeError",
     "evalue": "write() argument must be str, not dict",
     "output_type": "error",
     "traceback": [
      "\u001b[1;31m---------------------------------------------------------------------------\u001b[0m",
      "\u001b[1;31mTypeError\u001b[0m                                 Traceback (most recent call last)",
      "\u001b[1;32m~\\AppData\\Local\\Temp/ipykernel_16988/4009728977.py\u001b[0m in \u001b[0;36m<module>\u001b[1;34m\u001b[0m\n\u001b[0;32m      1\u001b[0m \u001b[1;32mwith\u001b[0m \u001b[0mopen\u001b[0m\u001b[1;33m(\u001b[0m\u001b[1;34m\"today.txt\"\u001b[0m\u001b[1;33m,\u001b[0m\u001b[1;34m\"w+\"\u001b[0m\u001b[1;33m)\u001b[0m \u001b[1;32mas\u001b[0m \u001b[0mf\u001b[0m\u001b[1;33m:\u001b[0m\u001b[1;33m\u001b[0m\u001b[1;33m\u001b[0m\u001b[0m\n\u001b[1;32m----> 2\u001b[1;33m     \u001b[0mf\u001b[0m\u001b[1;33m.\u001b[0m\u001b[0mwrite\u001b[0m\u001b[1;33m(\u001b[0m\u001b[0ma\u001b[0m\u001b[1;33m)\u001b[0m\u001b[1;33m\u001b[0m\u001b[1;33m\u001b[0m\u001b[0m\n\u001b[0m",
      "\u001b[1;31mTypeError\u001b[0m: write() argument must be str, not dict"
     ]
    }
   ],
   "source": [
    "with open(\"today.txt\",\"w+\") as f:\n",
    "    f.write(a)"
   ]
  },
  {
   "cell_type": "code",
   "execution_count": 5,
   "id": "359ae25a",
   "metadata": {},
   "outputs": [],
   "source": [
    "with open(\"today.txt\",\"w+\") as f:\n",
    "    f.write(str(a))"
   ]
  },
  {
   "cell_type": "code",
   "execution_count": 6,
   "id": "98f895bb",
   "metadata": {},
   "outputs": [
    {
     "name": "stdout",
     "output_type": "stream",
     "text": [
      "{'Garvit': 'Taneja', 'Priya': 'Wadhwa'} <class 'str'>\n"
     ]
    }
   ],
   "source": [
    "with open(\"today.txt\",\"r\") as f:\n",
    "    content=f.read()\n",
    "print(content,type(content))"
   ]
  },
  {
   "cell_type": "code",
   "execution_count": 7,
   "id": "c48700e2",
   "metadata": {},
   "outputs": [
    {
     "ename": "TypeError",
     "evalue": "string indices must be integers",
     "output_type": "error",
     "traceback": [
      "\u001b[1;31m---------------------------------------------------------------------------\u001b[0m",
      "\u001b[1;31mTypeError\u001b[0m                                 Traceback (most recent call last)",
      "\u001b[1;32m~\\AppData\\Local\\Temp/ipykernel_16988/3374321754.py\u001b[0m in \u001b[0;36m<module>\u001b[1;34m\u001b[0m\n\u001b[1;32m----> 1\u001b[1;33m \u001b[0mcontent\u001b[0m\u001b[1;33m[\u001b[0m\u001b[1;34m\"Garvit\"\u001b[0m\u001b[1;33m]\u001b[0m\u001b[1;33m\u001b[0m\u001b[1;33m\u001b[0m\u001b[0m\n\u001b[0m",
      "\u001b[1;31mTypeError\u001b[0m: string indices must be integers"
     ]
    }
   ],
   "source": [
    "content[\"Garvit\"]"
   ]
  },
  {
   "cell_type": "code",
   "execution_count": 10,
   "id": "4842e5e4",
   "metadata": {},
   "outputs": [],
   "source": [
    "import pickle\n",
    "with open(\"today.txt\",\"w+b\") as f:\n",
    "    pickle.dump(a,f)"
   ]
  },
  {
   "cell_type": "code",
   "execution_count": 11,
   "id": "f140beb8",
   "metadata": {},
   "outputs": [
    {
     "name": "stdout",
     "output_type": "stream",
     "text": [
      "{'Garvit': 'Taneja', 'Priya': 'Wadhwa'} <class 'dict'>\n"
     ]
    }
   ],
   "source": [
    "with open(\"today.txt\",\"r+b\") as f:\n",
    "    content=pickle.load(f)\n",
    "print(content,type(content))"
   ]
  },
  {
   "cell_type": "code",
   "execution_count": 12,
   "id": "b4e81fdf",
   "metadata": {},
   "outputs": [
    {
     "data": {
      "text/plain": [
       "'Taneja'"
      ]
     },
     "execution_count": 12,
     "metadata": {},
     "output_type": "execute_result"
    }
   ],
   "source": [
    "content[\"Garvit\"]"
   ]
  },
  {
   "cell_type": "markdown",
   "id": "898cf752",
   "metadata": {},
   "source": [
    "# regex"
   ]
  },
  {
   "cell_type": "code",
   "execution_count": 13,
   "id": "0a2ce8e1",
   "metadata": {},
   "outputs": [],
   "source": [
    "# regex=>regular expression"
   ]
  },
  {
   "cell_type": "raw",
   "id": "cbf69787",
   "metadata": {},
   "source": [
    "string=\"p1eter piep2er p3ecked a pack3 of pickled p9eppers paen 7982423325 peter pen\""
   ]
  },
  {
   "cell_type": "code",
   "execution_count": null,
   "id": "76aece92",
   "metadata": {},
   "outputs": [],
   "source": [
    "\"Garvit Pragya Rehan Garvit \""
   ]
  },
  {
   "cell_type": "code",
   "execution_count": 14,
   "id": "77dc3d47",
   "metadata": {},
   "outputs": [],
   "source": [
    "import re"
   ]
  },
  {
   "cell_type": "code",
   "execution_count": null,
   "id": "dda1e189",
   "metadata": {},
   "outputs": [],
   "source": [
    "\n",
    ".       - Any Character Except New Line\n",
    "\\d      - Digit (0-9)\n",
    "\\D      - Not a Digit (0-9)\n",
    "\\w      - Alphanumeric Character (a-z, A-Z, 0-9, _)\n",
    "\\W      - Non Alphanumeric Character\n",
    "\\s      - Whitespace (space, tab, newline)\n",
    "\\S      - Not Whitespace (anything but space, tab, newline)\n",
    "\n",
    "\\b      - Word Boundary ( all the characters except \\w (a-z, A-Z, 0-9, _))\n",
    "\\B      - Not a Word Boundary\n",
    "^       - Beginning of a String\n",
    "$       - End of a String\n",
    "\n",
    "[A-Za-z]   - Matches one Characters in brackets\n",
    "[^A-Z]  - Matches Characters NOT in brackets\n",
    "|       - Either Or\n",
    "(com|net)     - Group\n",
    "\n",
    "Quantifiers:\n",
    "*       - 0 or More\n",
    "+       - 1 or More\n",
    "?       - 0 or One\n",
    "{3}     - Exact Number\n",
    "{3,6}   - Range of Numbers (Minimum, Maximum)"
   ]
  },
  {
   "cell_type": "code",
   "execution_count": null,
   "id": "207fe9aa",
   "metadata": {},
   "outputs": [],
   "source": [
    ".\n",
    "\\d\n",
    "\\D\n",
    "\"pant in a pantry  apantary\"\n",
    "\\bpant"
   ]
  },
  {
   "cell_type": "code",
   "execution_count": null,
   "id": "a99f79be",
   "metadata": {},
   "outputs": [],
   "source": [
    "\"text\"+[12]\n",
    "\"text\"+[a-zA-Z]\n",
    "\"text\"+[^ a]\n",
    "\"text\"+(gmail.com|yahoo.com)"
   ]
  },
  {
   "cell_type": "code",
   "execution_count": null,
   "id": "3ef31517",
   "metadata": {},
   "outputs": [],
   "source": [
    "a aa aaa aaaa aaaa aaaa "
   ]
  },
  {
   "cell_type": "code",
   "execution_count": null,
   "id": "cc53fcd3",
   "metadata": {},
   "outputs": [],
   "source": [
    "b+\n",
    "a+\n",
    "\n",
    "\n"
   ]
  },
  {
   "cell_type": "code",
   "execution_count": null,
   "id": "a984c26a",
   "metadata": {},
   "outputs": [],
   "source": [
    "a?\n",
    "a{3}"
   ]
  },
  {
   "cell_type": "code",
   "execution_count": null,
   "id": "0b5e4614",
   "metadata": {},
   "outputs": [],
   "source": [
    "\"abcd\\nefgh\""
   ]
  },
  {
   "cell_type": "code",
   "execution_count": null,
   "id": "0ff09dea",
   "metadata": {},
   "outputs": [],
   "source": [
    "."
   ]
  },
  {
   "cell_type": "code",
   "execution_count": 41,
   "id": "4edfb229",
   "metadata": {},
   "outputs": [],
   "source": [
    "content='''9at 9bt Cat c9T mat bat rat hat\n",
    "abcdefghijklmnopqurtuvwxyz\n",
    "ABCDEFGHIJKLMNOPQRSTUVWXYZ\\s\n",
    "321-555-4321\n",
    "1234567890\n",
    "Ha HaHa\n",
    "MetaCharacters (Need to be escaped):\n",
    ". ^ $ * + ? { } [ ] \\ | ( )\n",
    "guptaabhishek.com\n",
    "abhishek-8765-gupta@yahoo.com\n",
    "abhi_gyupta@gamil.abc\n",
    "321-555-4321\n",
    "123.555.1234\n",
    "123*555*1234\n",
    "123.555.1234\n",
    "800-555-1234\n",
    "900-555-1234\n",
    "Mr. Schafer\n",
    "Mr Smith\n",
    "Ms Davis\n",
    "Mrs. Robinson\n",
    "Mr. T\n",
    "Mr_hello\n",
    "abhsihek.gupta@gmail.com\n",
    "abhishek-1234gupta@gmail.org\n",
    "abhishek@hotmail.net'''"
   ]
  },
  {
   "cell_type": "code",
   "execution_count": 33,
   "id": "3fd2a84b",
   "metadata": {},
   "outputs": [],
   "source": [
    "# match=>it gives us only first occurence of the pattern\n",
    "# it gives us the occurence only at the begining of the string\n",
    "ans=re.match(r\"\\d\\w{2}\",content)"
   ]
  },
  {
   "cell_type": "code",
   "execution_count": 34,
   "id": "ba13b821",
   "metadata": {},
   "outputs": [
    {
     "name": "stdout",
     "output_type": "stream",
     "text": [
      "<re.Match object; span=(0, 3), match='9at'>\n"
     ]
    }
   ],
   "source": [
    "print(ans)\n",
    "# print(ans.group())\n",
    "# print(ans.span())\n",
    "# print(ans.start())\n",
    "# print(ans.end())"
   ]
  },
  {
   "cell_type": "code",
   "execution_count": 39,
   "id": "e0d688c5",
   "metadata": {},
   "outputs": [],
   "source": [
    "# search=>it gives us only first occurence of the pattern\n",
    "# it gives us the occurence anywhere in the string\n",
    "ans=re.search(r\"\\d\\w{2}\",content)"
   ]
  },
  {
   "cell_type": "code",
   "execution_count": 40,
   "id": "fec3d103",
   "metadata": {},
   "outputs": [
    {
     "name": "stdout",
     "output_type": "stream",
     "text": [
      "<re.Match object; span=(4, 7), match='9bt'>\n",
      "9bt\n",
      "(4, 7)\n",
      "4\n",
      "7\n"
     ]
    }
   ],
   "source": [
    "print(ans)\n",
    "print(ans.group())\n",
    "print(ans.span())\n",
    "print(ans.start())\n",
    "print(ans.end())"
   ]
  },
  {
   "cell_type": "code",
   "execution_count": 44,
   "id": "9bd9be8c",
   "metadata": {},
   "outputs": [],
   "source": [
    "#findall\n",
    "ans=re.findall(r\"\\d\\w{2}\",content)"
   ]
  },
  {
   "cell_type": "code",
   "execution_count": 45,
   "id": "c5bddb3f",
   "metadata": {},
   "outputs": [
    {
     "name": "stdout",
     "output_type": "stream",
     "text": [
      "['9at', '9bt', '321', '555', '432', '123', '456', '789', '876', '321', '555', '432', '123', '555', '123', '123', '555', '123', '123', '555', '123', '800', '555', '123', '900', '555', '123', '123', '4gu']\n"
     ]
    }
   ],
   "source": [
    "print(ans)\n",
    "# print(ans.group())\n",
    "# print(ans.span())\n",
    "# print(ans.start())\n",
    "# print(ans.end())"
   ]
  },
  {
   "cell_type": "code",
   "execution_count": 52,
   "id": "bec20783",
   "metadata": {},
   "outputs": [],
   "source": [
    "ans=re.finditer(r\"\\d\\w{2}\",content)"
   ]
  },
  {
   "cell_type": "code",
   "execution_count": 53,
   "id": "1cc62a51",
   "metadata": {},
   "outputs": [
    {
     "name": "stdout",
     "output_type": "stream",
     "text": [
      "9at\n",
      "9bt\n",
      "321\n",
      "555\n",
      "432\n",
      "123\n",
      "456\n",
      "789\n",
      "876\n",
      "321\n",
      "555\n",
      "432\n",
      "123\n",
      "555\n",
      "123\n",
      "123\n",
      "555\n",
      "123\n",
      "123\n",
      "555\n",
      "123\n",
      "800\n",
      "555\n",
      "123\n",
      "900\n",
      "555\n",
      "123\n",
      "123\n",
      "4gu\n"
     ]
    }
   ],
   "source": [
    "for i in ans:\n",
    "    print(i.group())"
   ]
  },
  {
   "cell_type": "code",
   "execution_count": null,
   "id": "41f4517a",
   "metadata": {},
   "outputs": [],
   "source": [
    "content='''9at 9bt Cat c9T mat bat rat hat\n",
    "abcdefghijklmnopqurtuvwxyz\n",
    "ABCDEFGHIJKLMNOPQRSTUVWXYZ\\s\n",
    "321-555-4321\n",
    "1234567890\n",
    "Ha HaHa\n",
    "MetaCharacters (Need to be escaped):\n",
    ". ^ $ * + ? { } [ ] \\ | ( )\n",
    "guptaabhishek.com\n",
    "abhishek-8765-gupta@yahoo.com\n",
    "abhi_gyupta@gamil.abc\n",
    "321-555-4321\n",
    "123.555.1234\n",
    "123*555*1234\n",
    "123.555.1234\n",
    "800-555-1234\n",
    "900-555-1234\n",
    "Mr. Schafer\n",
    "Mr Smith\n",
    "Ms Davis\n",
    "Mrs. Robinson\n",
    "Mr. T\n",
    "Mr_hello\n",
    "abhsihek.gupta@gmail.com\n",
    "abhishek-1234gupta@gmail.org\n",
    "abhishek@hotmail.net'''"
   ]
  },
  {
   "cell_type": "code",
   "execution_count": 68,
   "id": "373d8c51",
   "metadata": {},
   "outputs": [],
   "source": [
    "'''9at 9bt Cat c9T mat bat rat hat\\n\n",
    "abcdefghijklmnopqurtuvwxyz'''\n",
    "ans=re.finditer(r\"\\D.*\",content)\n"
   ]
  },
  {
   "cell_type": "code",
   "execution_count": 69,
   "id": "76b1b2c0",
   "metadata": {},
   "outputs": [
    {
     "name": "stdout",
     "output_type": "stream",
     "text": [
      "at 9bt Cat c9T mat bat rat hat\n",
      "----\n",
      "\n",
      "abcdefghijklmnopqurtuvwxyz\n",
      "----\n",
      "\n",
      "ABCDEFGHIJKLMNOPQRSTUVWXYZ\\s\n",
      "----\n",
      "\n",
      "321-555-4321\n",
      "----\n",
      "\n",
      "1234567890\n",
      "----\n",
      "\n",
      "Ha HaHa\n",
      "----\n",
      "\n",
      "MetaCharacters (Need to be escaped):\n",
      "----\n",
      "\n",
      ". ^ $ * + ? { } [ ] \\ | ( )\n",
      "----\n",
      "\n",
      "guptaabhishek.com\n",
      "----\n",
      "\n",
      "abhishek-8765-gupta@yahoo.com\n",
      "----\n",
      "\n",
      "abhi_gyupta@gamil.abc\n",
      "----\n",
      "\n",
      "321-555-4321\n",
      "----\n",
      "\n",
      "123.555.1234\n",
      "----\n",
      "\n",
      "123*555*1234\n",
      "----\n",
      "\n",
      "123.555.1234\n",
      "----\n",
      "\n",
      "800-555-1234\n",
      "----\n",
      "\n",
      "900-555-1234\n",
      "----\n",
      "\n",
      "Mr. Schafer\n",
      "----\n",
      "\n",
      "Mr Smith\n",
      "----\n",
      "\n",
      "Ms Davis\n",
      "----\n",
      "\n",
      "Mrs. Robinson\n",
      "----\n",
      "\n",
      "Mr. T\n",
      "----\n",
      "\n",
      "Mr_hello\n",
      "----\n",
      "\n",
      "abhsihek.gupta@gmail.com\n",
      "----\n",
      "\n",
      "abhishek-1234gupta@gmail.org\n",
      "----\n",
      "\n",
      "abhishek@hotmail.net\n",
      "----\n"
     ]
    }
   ],
   "source": [
    "for i in ans:\n",
    "    print(i.group())\n",
    "    print(\"----\")"
   ]
  },
  {
   "cell_type": "code",
   "execution_count": 63,
   "id": "66713cf4",
   "metadata": {},
   "outputs": [],
   "source": [
    "ans=re.finditer(r\"\\D.+\",content)"
   ]
  },
  {
   "cell_type": "code",
   "execution_count": 64,
   "id": "c6b89b3c",
   "metadata": {},
   "outputs": [
    {
     "name": "stdout",
     "output_type": "stream",
     "text": [
      "at 9bt Cat c9T mat bat rat hat\n",
      "------\n",
      "\n",
      "abcdefghijklmnopqurtuvwxyz\n",
      "------\n",
      "\n",
      "ABCDEFGHIJKLMNOPQRSTUVWXYZ\\s\n",
      "------\n",
      "\n",
      "321-555-4321\n",
      "------\n",
      "\n",
      "1234567890\n",
      "------\n",
      "\n",
      "Ha HaHa\n",
      "------\n",
      "\n",
      "MetaCharacters (Need to be escaped):\n",
      "------\n",
      "\n",
      ". ^ $ * + ? { } [ ] \\ | ( )\n",
      "------\n",
      "\n",
      "guptaabhishek.com\n",
      "------\n",
      "\n",
      "abhishek-8765-gupta@yahoo.com\n",
      "------\n",
      "\n",
      "abhi_gyupta@gamil.abc\n",
      "------\n",
      "\n",
      "321-555-4321\n",
      "------\n",
      "\n",
      "123.555.1234\n",
      "------\n",
      "\n",
      "123*555*1234\n",
      "------\n",
      "\n",
      "123.555.1234\n",
      "------\n",
      "\n",
      "800-555-1234\n",
      "------\n",
      "\n",
      "900-555-1234\n",
      "------\n",
      "\n",
      "Mr. Schafer\n",
      "------\n",
      "\n",
      "Mr Smith\n",
      "------\n",
      "\n",
      "Ms Davis\n",
      "------\n",
      "\n",
      "Mrs. Robinson\n",
      "------\n",
      "\n",
      "Mr. T\n",
      "------\n",
      "\n",
      "Mr_hello\n",
      "------\n",
      "\n",
      "abhsihek.gupta@gmail.com\n",
      "------\n",
      "\n",
      "abhishek-1234gupta@gmail.org\n",
      "------\n",
      "\n",
      "abhishek@hotmail.net\n",
      "------\n"
     ]
    }
   ],
   "source": [
    "for i in ans:\n",
    "    print(i.group())\n",
    "    print(\"------\")"
   ]
  },
  {
   "cell_type": "code",
   "execution_count": 90,
   "id": "9e6366d7",
   "metadata": {},
   "outputs": [],
   "source": [
    "content='''9at 9bt Cat c9T mat bat rat hat aab abab\n",
    "abcdefghijklmnopqurtuvwxyz'''\n",
    "ans=re.finditer(r\"(ab){2}.\",content)\n",
    "# abb\n",
    "# abab"
   ]
  },
  {
   "cell_type": "code",
   "execution_count": 91,
   "id": "f308c1a0",
   "metadata": {},
   "outputs": [
    {
     "name": "stdout",
     "output_type": "stream",
     "text": [
      "abab\n"
     ]
    }
   ],
   "source": [
    "for i in ans:\n",
    "    print(i.group())"
   ]
  },
  {
   "cell_type": "code",
   "execution_count": 92,
   "id": "c0dbc1d7",
   "metadata": {},
   "outputs": [],
   "source": [
    "text_to_search = '''\n",
    "abcdefghijklmnopqurtuvwxyz\n",
    "ABCDEFGHIJKLMNOPQRSTUVWXYZ\\s\n",
    "321-555-4321\n",
    "1234567890\n",
    "Ha HaHa\n",
    "MetaCharacters (Need to be escaped):\n",
    ". ^ $ * + ? { } [ ] \\ | ( )\n",
    "guptaabhishek.com\n",
    "abhishek-8765-gupta@yahoo.com\n",
    "abhi_gyupta@gamil.abc\n",
    "321-555-4321\n",
    "123.555.1234\n",
    "123*555*1234\n",
    "123.555.1234\n",
    "800-555-1234\n",
    "900-555-1234\n",
    "Mr. Schafer\n",
    "Mr Smith\n",
    "Ms Davis\n",
    "Mrs. Robinson\n",
    "Mr. T\n",
    "Mr_hello\n",
    "abhsihek.gupta@gmail.com\n",
    "abhishek-1234gupta@gmail.org\n",
    "abhishek@hotmail.net\n",
    "'''"
   ]
  },
  {
   "cell_type": "code",
   "execution_count": 94,
   "id": "7e9abba7",
   "metadata": {},
   "outputs": [],
   "source": [
    "# there should be \".\" and after .there must be either com or net or org\n",
    "# there should be @ and there should be atleast one character before the @ and one character between @ and ."
   ]
  },
  {
   "cell_type": "code",
   "execution_count": 96,
   "id": "f48e783e",
   "metadata": {},
   "outputs": [],
   "source": [
    "ans=re.finditer(r\".+@.+\\.com\",text_to_search)"
   ]
  },
  {
   "cell_type": "code",
   "execution_count": 97,
   "id": "1ce277ff",
   "metadata": {},
   "outputs": [
    {
     "name": "stdout",
     "output_type": "stream",
     "text": [
      "abhishek-8765-gupta@yahoo.com\n",
      "abhsihek.gupta@gmail.com\n"
     ]
    }
   ],
   "source": [
    "for i in ans:\n",
    "    print(i.group())"
   ]
  },
  {
   "cell_type": "code",
   "execution_count": 98,
   "id": "a4735a55",
   "metadata": {},
   "outputs": [],
   "source": [
    "ans=re.finditer(r\".+@.+\\.org\",text_to_search)"
   ]
  },
  {
   "cell_type": "code",
   "execution_count": 99,
   "id": "667bd389",
   "metadata": {},
   "outputs": [
    {
     "name": "stdout",
     "output_type": "stream",
     "text": [
      "abhishek-1234gupta@gmail.org\n"
     ]
    }
   ],
   "source": [
    "for i in ans:\n",
    "    print(i.group())\n"
   ]
  },
  {
   "cell_type": "code",
   "execution_count": 100,
   "id": "d712c99c",
   "metadata": {},
   "outputs": [],
   "source": [
    "ans=re.finditer(r\".+@.+\\.(com|net|org)\",text_to_search)"
   ]
  },
  {
   "cell_type": "code",
   "execution_count": 101,
   "id": "5a59648e",
   "metadata": {},
   "outputs": [
    {
     "name": "stdout",
     "output_type": "stream",
     "text": [
      "abhishek-8765-gupta@yahoo.com\n",
      "abhsihek.gupta@gmail.com\n",
      "abhishek-1234gupta@gmail.org\n",
      "abhishek@hotmail.net\n"
     ]
    }
   ],
   "source": [
    "for i in ans:\n",
    "    print(i.group())\n"
   ]
  },
  {
   "cell_type": "code",
   "execution_count": null,
   "id": "175be662",
   "metadata": {},
   "outputs": [],
   "source": [
    "NUMPY- "
   ]
  },
  {
   "cell_type": "code",
   "execution_count": 4,
   "id": "4a267d8f",
   "metadata": {},
   "outputs": [
    {
     "name": "stdout",
     "output_type": "stream",
     "text": [
      "['ALLOW_THREADS', 'AxisError', 'BUFSIZE', 'Bytes0', 'CLIP', 'ComplexWarning', 'DataSource', 'Datetime64', 'ERR_CALL', 'ERR_DEFAULT', 'ERR_IGNORE', 'ERR_LOG', 'ERR_PRINT', 'ERR_RAISE', 'ERR_WARN', 'FLOATING_POINT_SUPPORT', 'FPE_DIVIDEBYZERO', 'FPE_INVALID', 'FPE_OVERFLOW', 'FPE_UNDERFLOW', 'False_', 'Inf', 'Infinity', 'MAXDIMS', 'MAY_SHARE_BOUNDS', 'MAY_SHARE_EXACT', 'MachAr', 'ModuleDeprecationWarning', 'NAN', 'NINF', 'NZERO', 'NaN', 'PINF', 'PZERO', 'RAISE', 'RankWarning', 'SHIFT_DIVIDEBYZERO', 'SHIFT_INVALID', 'SHIFT_OVERFLOW', 'SHIFT_UNDERFLOW', 'ScalarType', 'Str0', 'Tester', 'TooHardError', 'True_', 'UFUNC_BUFSIZE_DEFAULT', 'UFUNC_PYVALS_NAME', 'Uint64', 'VisibleDeprecationWarning', 'WRAP', '_NoValue', '_UFUNC_API', '__NUMPY_SETUP__', '__all__', '__builtins__', '__cached__', '__config__', '__deprecated_attrs__', '__dir__', '__doc__', '__expired_functions__', '__file__', '__getattr__', '__git_revision__', '__loader__', '__mkl_version__', '__name__', '__package__', '__path__', '__spec__', '__version__', '_add_newdoc_ufunc', '_distributor_init', '_financial_names', '_globals', '_mat', '_pytesttester', 'abs', 'absolute', 'add', 'add_docstring', 'add_newdoc', 'add_newdoc_ufunc', 'alen', 'all', 'allclose', 'alltrue', 'amax', 'amin', 'angle', 'any', 'append', 'apply_along_axis', 'apply_over_axes', 'arange', 'arccos', 'arccosh', 'arcsin', 'arcsinh', 'arctan', 'arctan2', 'arctanh', 'argmax', 'argmin', 'argpartition', 'argsort', 'argwhere', 'around', 'array', 'array2string', 'array_equal', 'array_equiv', 'array_repr', 'array_split', 'array_str', 'asanyarray', 'asarray', 'asarray_chkfinite', 'ascontiguousarray', 'asfarray', 'asfortranarray', 'asmatrix', 'asscalar', 'atleast_1d', 'atleast_2d', 'atleast_3d', 'average', 'bartlett', 'base_repr', 'binary_repr', 'bincount', 'bitwise_and', 'bitwise_not', 'bitwise_or', 'bitwise_xor', 'blackman', 'block', 'bmat', 'bool8', 'bool_', 'broadcast', 'broadcast_arrays', 'broadcast_shapes', 'broadcast_to', 'busday_count', 'busday_offset', 'busdaycalendar', 'byte', 'byte_bounds', 'bytes0', 'bytes_', 'c_', 'can_cast', 'cast', 'cbrt', 'cdouble', 'ceil', 'cfloat', 'char', 'character', 'chararray', 'choose', 'clip', 'clongdouble', 'clongfloat', 'column_stack', 'common_type', 'compare_chararrays', 'compat', 'complex128', 'complex256', 'complex64', 'complex_', 'complexfloating', 'compress', 'concatenate', 'conj', 'conjugate', 'convolve', 'copy', 'copysign', 'copyto', 'core', 'corrcoef', 'correlate', 'cos', 'cosh', 'count_nonzero', 'cov', 'cross', 'csingle', 'ctypeslib', 'cumprod', 'cumproduct', 'cumsum', 'datetime64', 'datetime_as_string', 'datetime_data', 'deg2rad', 'degrees', 'delete', 'deprecate', 'deprecate_with_doc', 'diag', 'diag_indices', 'diag_indices_from', 'diagflat', 'diagonal', 'diff', 'digitize', 'disp', 'divide', 'divmod', 'dot', 'double', 'dsplit', 'dstack', 'dtype', 'e', 'ediff1d', 'einsum', 'einsum_path', 'emath', 'empty', 'empty_like', 'equal', 'errstate', 'euler_gamma', 'exp', 'exp2', 'expand_dims', 'expm1', 'extract', 'eye', 'fabs', 'fastCopyAndTranspose', 'fft', 'fill_diagonal', 'find_common_type', 'finfo', 'fix', 'flatiter', 'flatnonzero', 'flexible', 'flip', 'fliplr', 'flipud', 'float128', 'float16', 'float32', 'float64', 'float_', 'float_power', 'floating', 'floor', 'floor_divide', 'fmax', 'fmin', 'fmod', 'format_float_positional', 'format_float_scientific', 'format_parser', 'frexp', 'frombuffer', 'fromfile', 'fromfunction', 'fromiter', 'frompyfunc', 'fromregex', 'fromstring', 'full', 'full_like', 'gcd', 'generic', 'genfromtxt', 'geomspace', 'get_array_wrap', 'get_include', 'get_printoptions', 'getbufsize', 'geterr', 'geterrcall', 'geterrobj', 'gradient', 'greater', 'greater_equal', 'half', 'hamming', 'hanning', 'heaviside', 'histogram', 'histogram2d', 'histogram_bin_edges', 'histogramdd', 'hsplit', 'hstack', 'hypot', 'i0', 'identity', 'iinfo', 'imag', 'in1d', 'index_exp', 'indices', 'inexact', 'inf', 'info', 'infty', 'inner', 'insert', 'int0', 'int16', 'int32', 'int64', 'int8', 'int_', 'intc', 'integer', 'interp', 'intersect1d', 'intp', 'invert', 'is_busday', 'isclose', 'iscomplex', 'iscomplexobj', 'isfinite', 'isfortran', 'isin', 'isinf', 'isnan', 'isnat', 'isneginf', 'isposinf', 'isreal', 'isrealobj', 'isscalar', 'issctype', 'issubclass_', 'issubdtype', 'issubsctype', 'iterable', 'ix_', 'kaiser', 'kernel_version', 'kron', 'lcm', 'ldexp', 'left_shift', 'less', 'less_equal', 'lexsort', 'lib', 'linalg', 'linspace', 'little_endian', 'load', 'loads', 'loadtxt', 'log', 'log10', 'log1p', 'log2', 'logaddexp', 'logaddexp2', 'logical_and', 'logical_not', 'logical_or', 'logical_xor', 'logspace', 'longcomplex', 'longdouble', 'longfloat', 'longlong', 'lookfor', 'ma', 'mafromtxt', 'mask_indices', 'mat', 'math', 'matmul', 'matrix', 'matrixlib', 'max', 'maximum', 'maximum_sctype', 'may_share_memory', 'mean', 'median', 'memmap', 'meshgrid', 'mgrid', 'min', 'min_scalar_type', 'minimum', 'mintypecode', 'mkl', 'mod', 'modf', 'moveaxis', 'msort', 'multiply', 'nan', 'nan_to_num', 'nanargmax', 'nanargmin', 'nancumprod', 'nancumsum', 'nanmax', 'nanmean', 'nanmedian', 'nanmin', 'nanpercentile', 'nanprod', 'nanquantile', 'nanstd', 'nansum', 'nanvar', 'nbytes', 'ndarray', 'ndenumerate', 'ndfromtxt', 'ndim', 'ndindex', 'nditer', 'negative', 'nested_iters', 'newaxis', 'nextafter', 'nonzero', 'not_equal', 'numarray', 'number', 'obj2sctype', 'object0', 'object_', 'ogrid', 'oldnumeric', 'ones', 'ones_like', 'os', 'outer', 'packbits', 'pad', 'partition', 'percentile', 'pi', 'piecewise', 'place', 'poly', 'poly1d', 'polyadd', 'polyder', 'polydiv', 'polyfit', 'polyint', 'polymul', 'polynomial', 'polysub', 'polyval', 'positive', 'power', 'printoptions', 'prod', 'product', 'promote_types', 'ptp', 'put', 'put_along_axis', 'putmask', 'quantile', 'r_', 'rad2deg', 'radians', 'random', 'ravel', 'ravel_multi_index', 'real', 'real_if_close', 'rec', 'recarray', 'recfromcsv', 'recfromtxt', 'reciprocal', 'record', 'remainder', 'repeat', 'require', 'reshape', 'resize', 'result_type', 'right_shift', 'rint', 'roll', 'rollaxis', 'roots', 'rot90', 'round', 'round_', 'row_stack', 's_', 'safe_eval', 'save', 'savetxt', 'savez', 'savez_compressed', 'sctype2char', 'sctypeDict', 'sctypes', 'searchsorted', 'select', 'set_numeric_ops', 'set_printoptions', 'set_string_function', 'setbufsize', 'setdiff1d', 'seterr', 'seterrcall', 'seterrobj', 'setxor1d', 'shape', 'shares_memory', 'short', 'show_config', 'sign', 'signbit', 'signedinteger', 'sin', 'sinc', 'single', 'singlecomplex', 'sinh', 'size', 'sometrue', 'sort', 'sort_complex', 'source', 'spacing', 'split', 'sqrt', 'square', 'squeeze', 'stack', 'std', 'str0', 'str_', 'string_', 'subtract', 'sum', 'swapaxes', 'sys', 'take', 'take_along_axis', 'tan', 'tanh', 'tensordot', 'test', 'testing', 'tile', 'timedelta64', 'trace', 'tracemalloc_domain', 'transpose', 'trapz', 'tri', 'tril', 'tril_indices', 'tril_indices_from', 'trim_zeros', 'triu', 'triu_indices', 'triu_indices_from', 'true_divide', 'trunc', 'typeDict', 'typecodes', 'typename', 'ubyte', 'ufunc', 'uint', 'uint0', 'uint16', 'uint32', 'uint64', 'uint8', 'uintc', 'uintp', 'ulonglong', 'unicode_', 'union1d', 'unique', 'unpackbits', 'unravel_index', 'unsignedinteger', 'unwrap', 'use_hugepage', 'ushort', 'vander', 'var', 'vdot', 'vectorize', 'version', 'void', 'void0', 'vsplit', 'vstack', 'warnings', 'where', 'who', 'zeros', 'zeros_like']\n"
     ]
    }
   ],
   "source": [
    "import numpy as np\n",
    "print(dir(np))"
   ]
  },
  {
   "cell_type": "code",
   "execution_count": 103,
   "id": "182fc850",
   "metadata": {},
   "outputs": [
    {
     "name": "stdout",
     "output_type": "stream",
     "text": [
      "[2, 4, 6, 8, 10]\n"
     ]
    }
   ],
   "source": [
    "a=[1,2,3,4,5]\n",
    "for i in range(0,len(a)):\n",
    "    a[i]=a[i]*2\n",
    "print(a)"
   ]
  },
  {
   "cell_type": "code",
   "execution_count": 104,
   "id": "f73f2cd7",
   "metadata": {},
   "outputs": [
    {
     "name": "stdout",
     "output_type": "stream",
     "text": [
      "[2, 4, 6, 'PythonPython', 8, 10]\n"
     ]
    }
   ],
   "source": [
    "a=[1,2,3,\"Python\",4,5]\n",
    "for i in range(0,len(a)):\n",
    "    a[i]=a[i]*2\n",
    "print(a)"
   ]
  },
  {
   "cell_type": "code",
   "execution_count": 105,
   "id": "0086b439",
   "metadata": {},
   "outputs": [],
   "source": [
    "# Create arrays\n",
    "array1=np.array([1,2,3,4])"
   ]
  },
  {
   "cell_type": "code",
   "execution_count": 106,
   "id": "a30dee21",
   "metadata": {},
   "outputs": [
    {
     "name": "stdout",
     "output_type": "stream",
     "text": [
      "[1 2 3 4]\n"
     ]
    }
   ],
   "source": [
    "print(array1)"
   ]
  },
  {
   "cell_type": "code",
   "execution_count": 107,
   "id": "536be7aa",
   "metadata": {},
   "outputs": [
    {
     "name": "stdout",
     "output_type": "stream",
     "text": [
      "<class 'numpy.ndarray'>\n"
     ]
    }
   ],
   "source": [
    "print(type(array1))"
   ]
  },
  {
   "cell_type": "code",
   "execution_count": 108,
   "id": "476a2112",
   "metadata": {},
   "outputs": [
    {
     "name": "stdout",
     "output_type": "stream",
     "text": [
      "1\n"
     ]
    }
   ],
   "source": [
    "print(array1.ndim)"
   ]
  },
  {
   "cell_type": "code",
   "execution_count": 109,
   "id": "a5c46a7d",
   "metadata": {},
   "outputs": [
    {
     "name": "stdout",
     "output_type": "stream",
     "text": [
      "int32\n"
     ]
    }
   ],
   "source": [
    "print(array1.dtype)"
   ]
  },
  {
   "cell_type": "code",
   "execution_count": 110,
   "id": "3118481d",
   "metadata": {},
   "outputs": [
    {
     "name": "stdout",
     "output_type": "stream",
     "text": [
      "(4,)\n"
     ]
    }
   ],
   "source": [
    "print(array1.shape)"
   ]
  },
  {
   "cell_type": "code",
   "execution_count": 117,
   "id": "466babad",
   "metadata": {},
   "outputs": [],
   "source": [
    "array2=np.zeros((4,),dtype=\"float\")"
   ]
  },
  {
   "cell_type": "code",
   "execution_count": 118,
   "id": "b5fd7df8",
   "metadata": {},
   "outputs": [
    {
     "name": "stdout",
     "output_type": "stream",
     "text": [
      "[0. 0. 0. 0.]\n",
      "float64\n",
      "1\n",
      "(4,)\n",
      "4\n"
     ]
    }
   ],
   "source": [
    "print(array2)\n",
    "print(array2.dtype)\n",
    "print(array2.ndim)\n",
    "print(array2.shape)\n",
    "print(array2.size)"
   ]
  },
  {
   "cell_type": "code",
   "execution_count": 119,
   "id": "9c2d9148",
   "metadata": {},
   "outputs": [
    {
     "name": "stdout",
     "output_type": "stream",
     "text": [
      "[0. 2. 4. 6. 8.]\n",
      "float64\n",
      "1\n",
      "(5,)\n",
      "5\n"
     ]
    }
   ],
   "source": [
    "array2=np.arange(0,10,2,dtype=float)\n",
    "print(array2)\n",
    "print(array2.dtype)\n",
    "print(array2.ndim)\n",
    "print(array2.shape)\n",
    "print(array2.size)"
   ]
  },
  {
   "cell_type": "code",
   "execution_count": 123,
   "id": "8bbbbd16",
   "metadata": {},
   "outputs": [
    {
     "name": "stdout",
     "output_type": "stream",
     "text": [
      "<class 'numpy.str_'>\n",
      "<U11\n",
      "1\n",
      "(4,)\n",
      "4\n"
     ]
    }
   ],
   "source": [
    "array2=np.array([1,\"2\",3,4])\n",
    "print(type(array2[0]))\n",
    "print(array2.dtype)\n",
    "print(array2.ndim)\n",
    "print(array2.shape)\n",
    "print(array2.size)\n",
    "\n",
    "# all the integers will have corresponding string but not all the string will have corresponding integer"
   ]
  },
  {
   "cell_type": "code",
   "execution_count": 124,
   "id": "1cb920b8",
   "metadata": {},
   "outputs": [],
   "source": [
    "array2=np.linspace(0,100)\n",
    "\n",
    "# 100-0/10\n",
    "\n",
    "# 0 4 3\n",
    "# 4-0/3\n",
    "# 4-0/2"
   ]
  },
  {
   "cell_type": "code",
   "execution_count": 1,
   "id": "45fee5d0",
   "metadata": {},
   "outputs": [],
   "source": [
    "import numpy as np"
   ]
  },
  {
   "cell_type": "code",
   "execution_count": 8,
   "id": "060c5fd7",
   "metadata": {},
   "outputs": [
    {
     "name": "stdout",
     "output_type": "stream",
     "text": [
      "[ 0.   2.5  5.   7.5 10. ] <class 'numpy.ndarray'>\n"
     ]
    }
   ],
   "source": [
    "array2=np.linspace(0,10,5)\n",
    "print(array2,type(array2))"
   ]
  },
  {
   "cell_type": "code",
   "execution_count": 9,
   "id": "e5105762",
   "metadata": {},
   "outputs": [
    {
     "name": "stdout",
     "output_type": "stream",
     "text": [
      "Help on class dtype in module numpy:\n",
      "\n",
      "class dtype(builtins.object)\n",
      " |  Methods defined here:\n",
      " |  \n",
      " |  __bool__(self, /)\n",
      " |      self != 0\n",
      " |  \n",
      " |  __eq__(self, value, /)\n",
      " |      Return self==value.\n",
      " |  \n",
      " |  __ge__(self, value, /)\n",
      " |      Return self>=value.\n",
      " |  \n",
      " |  __getitem__(self, key, /)\n",
      " |      Return self[key].\n",
      " |  \n",
      " |  __gt__(self, value, /)\n",
      " |      Return self>value.\n",
      " |  \n",
      " |  __hash__(self, /)\n",
      " |      Return hash(self).\n",
      " |  \n",
      " |  __le__(self, value, /)\n",
      " |      Return self<=value.\n",
      " |  \n",
      " |  __len__(self, /)\n",
      " |      Return len(self).\n",
      " |  \n",
      " |  __lt__(self, value, /)\n",
      " |      Return self<value.\n",
      " |  \n",
      " |  __mul__(self, value, /)\n",
      " |      Return self*value.\n",
      " |  \n",
      " |  __ne__(self, value, /)\n",
      " |      Return self!=value.\n",
      " |  \n",
      " |  __reduce__(...)\n",
      " |      Helper for pickle.\n",
      " |  \n",
      " |  __repr__(self, /)\n",
      " |      Return repr(self).\n",
      " |  \n",
      " |  __rmul__(self, value, /)\n",
      " |      Return value*self.\n",
      " |  \n",
      " |  __setstate__(...)\n",
      " |  \n",
      " |  __str__(self, /)\n",
      " |      Return str(self).\n",
      " |  \n",
      " |  newbyteorder(...)\n",
      " |      newbyteorder(new_order='S', /)\n",
      " |      \n",
      " |      Return a new dtype with a different byte order.\n",
      " |      \n",
      " |      Changes are also made in all fields and sub-arrays of the data type.\n",
      " |      \n",
      " |      Parameters\n",
      " |      ----------\n",
      " |      new_order : string, optional\n",
      " |          Byte order to force; a value from the byte order specifications\n",
      " |          below.  The default value ('S') results in swapping the current\n",
      " |          byte order.  `new_order` codes can be any of:\n",
      " |      \n",
      " |          * 'S' - swap dtype from current to opposite endian\n",
      " |          * {'<', 'little'} - little endian\n",
      " |          * {'>', 'big'} - big endian\n",
      " |          * '=' - native order\n",
      " |          * {'|', 'I'} - ignore (no change to byte order)\n",
      " |      \n",
      " |      Returns\n",
      " |      -------\n",
      " |      new_dtype : dtype\n",
      " |          New dtype object with the given change to the byte order.\n",
      " |      \n",
      " |      Notes\n",
      " |      -----\n",
      " |      Changes are also made in all fields and sub-arrays of the data type.\n",
      " |      \n",
      " |      Examples\n",
      " |      --------\n",
      " |      >>> import sys\n",
      " |      >>> sys_is_le = sys.byteorder == 'little'\n",
      " |      >>> native_code = sys_is_le and '<' or '>'\n",
      " |      >>> swapped_code = sys_is_le and '>' or '<'\n",
      " |      >>> native_dt = np.dtype(native_code+'i2')\n",
      " |      >>> swapped_dt = np.dtype(swapped_code+'i2')\n",
      " |      >>> native_dt.newbyteorder('S') == swapped_dt\n",
      " |      True\n",
      " |      >>> native_dt.newbyteorder() == swapped_dt\n",
      " |      True\n",
      " |      >>> native_dt == swapped_dt.newbyteorder('S')\n",
      " |      True\n",
      " |      >>> native_dt == swapped_dt.newbyteorder('=')\n",
      " |      True\n",
      " |      >>> native_dt == swapped_dt.newbyteorder('N')\n",
      " |      True\n",
      " |      >>> native_dt == native_dt.newbyteorder('|')\n",
      " |      True\n",
      " |      >>> np.dtype('<i2') == native_dt.newbyteorder('<')\n",
      " |      True\n",
      " |      >>> np.dtype('<i2') == native_dt.newbyteorder('L')\n",
      " |      True\n",
      " |      >>> np.dtype('>i2') == native_dt.newbyteorder('>')\n",
      " |      True\n",
      " |      >>> np.dtype('>i2') == native_dt.newbyteorder('B')\n",
      " |      True\n",
      " |  \n",
      " |  ----------------------------------------------------------------------\n",
      " |  Static methods defined here:\n",
      " |  \n",
      " |  __new__(*args, **kwargs) from numpy._DTypeMeta\n",
      " |      Create and return a new object.  See help(type) for accurate signature.\n",
      " |  \n",
      " |  ----------------------------------------------------------------------\n",
      " |  Data descriptors defined here:\n",
      " |  \n",
      " |  alignment\n",
      " |      The required alignment (bytes) of this data-type according to the compiler.\n",
      " |      \n",
      " |      More information is available in the C-API section of the manual.\n",
      " |      \n",
      " |      Examples\n",
      " |      --------\n",
      " |      \n",
      " |      >>> x = np.dtype('i4')\n",
      " |      >>> x.alignment\n",
      " |      4\n",
      " |      \n",
      " |      >>> x = np.dtype(float)\n",
      " |      >>> x.alignment\n",
      " |      8\n",
      " |  \n",
      " |  base\n",
      " |      Returns dtype for the base element of the subarrays,\n",
      " |      regardless of their dimension or shape.\n",
      " |      \n",
      " |      See Also\n",
      " |      --------\n",
      " |      dtype.subdtype\n",
      " |      \n",
      " |      Examples\n",
      " |      --------\n",
      " |      >>> x = numpy.dtype('8f')\n",
      " |      >>> x.base\n",
      " |      dtype('float32')\n",
      " |      \n",
      " |      >>> x =  numpy.dtype('i2')\n",
      " |      >>> x.base\n",
      " |      dtype('int16')\n",
      " |  \n",
      " |  byteorder\n",
      " |      A character indicating the byte-order of this data-type object.\n",
      " |      \n",
      " |      One of:\n",
      " |      \n",
      " |      ===  ==============\n",
      " |      '='  native\n",
      " |      '<'  little-endian\n",
      " |      '>'  big-endian\n",
      " |      '|'  not applicable\n",
      " |      ===  ==============\n",
      " |      \n",
      " |      All built-in data-type objects have byteorder either '=' or '|'.\n",
      " |      \n",
      " |      Examples\n",
      " |      --------\n",
      " |      \n",
      " |      >>> dt = np.dtype('i2')\n",
      " |      >>> dt.byteorder\n",
      " |      '='\n",
      " |      >>> # endian is not relevant for 8 bit numbers\n",
      " |      >>> np.dtype('i1').byteorder\n",
      " |      '|'\n",
      " |      >>> # or ASCII strings\n",
      " |      >>> np.dtype('S2').byteorder\n",
      " |      '|'\n",
      " |      >>> # Even if specific code is given, and it is native\n",
      " |      >>> # '=' is the byteorder\n",
      " |      >>> import sys\n",
      " |      >>> sys_is_le = sys.byteorder == 'little'\n",
      " |      >>> native_code = sys_is_le and '<' or '>'\n",
      " |      >>> swapped_code = sys_is_le and '>' or '<'\n",
      " |      >>> dt = np.dtype(native_code + 'i2')\n",
      " |      >>> dt.byteorder\n",
      " |      '='\n",
      " |      >>> # Swapped code shows up as itself\n",
      " |      >>> dt = np.dtype(swapped_code + 'i2')\n",
      " |      >>> dt.byteorder == swapped_code\n",
      " |      True\n",
      " |  \n",
      " |  char\n",
      " |      A unique character code for each of the 21 different built-in types.\n",
      " |      \n",
      " |      Examples\n",
      " |      --------\n",
      " |      \n",
      " |      >>> x = np.dtype(float)\n",
      " |      >>> x.char\n",
      " |      'd'\n",
      " |  \n",
      " |  descr\n",
      " |      `__array_interface__` description of the data-type.\n",
      " |      \n",
      " |      The format is that required by the 'descr' key in the\n",
      " |      `__array_interface__` attribute.\n",
      " |      \n",
      " |      Warning: This attribute exists specifically for `__array_interface__`,\n",
      " |      and passing it directly to `np.dtype` will not accurately reconstruct\n",
      " |      some dtypes (e.g., scalar and subarray dtypes).\n",
      " |      \n",
      " |      Examples\n",
      " |      --------\n",
      " |      \n",
      " |      >>> x = np.dtype(float)\n",
      " |      >>> x.descr\n",
      " |      [('', '<f8')]\n",
      " |      \n",
      " |      >>> dt = np.dtype([('name', np.str_, 16), ('grades', np.float64, (2,))])\n",
      " |      >>> dt.descr\n",
      " |      [('name', '<U16'), ('grades', '<f8', (2,))]\n",
      " |  \n",
      " |  fields\n",
      " |      Dictionary of named fields defined for this data type, or ``None``.\n",
      " |      \n",
      " |      The dictionary is indexed by keys that are the names of the fields.\n",
      " |      Each entry in the dictionary is a tuple fully describing the field::\n",
      " |      \n",
      " |        (dtype, offset[, title])\n",
      " |      \n",
      " |      Offset is limited to C int, which is signed and usually 32 bits.\n",
      " |      If present, the optional title can be any object (if it is a string\n",
      " |      or unicode then it will also be a key in the fields dictionary,\n",
      " |      otherwise it's meta-data). Notice also that the first two elements\n",
      " |      of the tuple can be passed directly as arguments to the ``ndarray.getfield``\n",
      " |      and ``ndarray.setfield`` methods.\n",
      " |      \n",
      " |      See Also\n",
      " |      --------\n",
      " |      ndarray.getfield, ndarray.setfield\n",
      " |      \n",
      " |      Examples\n",
      " |      --------\n",
      " |      >>> dt = np.dtype([('name', np.str_, 16), ('grades', np.float64, (2,))])\n",
      " |      >>> print(dt.fields)\n",
      " |      {'grades': (dtype(('float64',(2,))), 16), 'name': (dtype('|S16'), 0)}\n",
      " |  \n",
      " |  flags\n",
      " |      Bit-flags describing how this data type is to be interpreted.\n",
      " |      \n",
      " |      Bit-masks are in `numpy.core.multiarray` as the constants\n",
      " |      `ITEM_HASOBJECT`, `LIST_PICKLE`, `ITEM_IS_POINTER`, `NEEDS_INIT`,\n",
      " |      `NEEDS_PYAPI`, `USE_GETITEM`, `USE_SETITEM`. A full explanation\n",
      " |      of these flags is in C-API documentation; they are largely useful\n",
      " |      for user-defined data-types.\n",
      " |      \n",
      " |      The following example demonstrates that operations on this particular\n",
      " |      dtype requires Python C-API.\n",
      " |      \n",
      " |      Examples\n",
      " |      --------\n",
      " |      \n",
      " |      >>> x = np.dtype([('a', np.int32, 8), ('b', np.float64, 6)])\n",
      " |      >>> x.flags\n",
      " |      16\n",
      " |      >>> np.core.multiarray.NEEDS_PYAPI\n",
      " |      16\n",
      " |  \n",
      " |  hasobject\n",
      " |      Boolean indicating whether this dtype contains any reference-counted\n",
      " |      objects in any fields or sub-dtypes.\n",
      " |      \n",
      " |      Recall that what is actually in the ndarray memory representing\n",
      " |      the Python object is the memory address of that object (a pointer).\n",
      " |      Special handling may be required, and this attribute is useful for\n",
      " |      distinguishing data types that may contain arbitrary Python objects\n",
      " |      and data-types that won't.\n",
      " |  \n",
      " |  isalignedstruct\n",
      " |      Boolean indicating whether the dtype is a struct which maintains\n",
      " |      field alignment. This flag is sticky, so when combining multiple\n",
      " |      structs together, it is preserved and produces new dtypes which\n",
      " |      are also aligned.\n",
      " |  \n",
      " |  isbuiltin\n",
      " |      Integer indicating how this dtype relates to the built-in dtypes.\n",
      " |      \n",
      " |      Read-only.\n",
      " |      \n",
      " |      =  ========================================================================\n",
      " |      0  if this is a structured array type, with fields\n",
      " |      1  if this is a dtype compiled into numpy (such as ints, floats etc)\n",
      " |      2  if the dtype is for a user-defined numpy type\n",
      " |         A user-defined type uses the numpy C-API machinery to extend\n",
      " |         numpy to handle a new array type. See\n",
      " |         :ref:`user.user-defined-data-types` in the NumPy manual.\n",
      " |      =  ========================================================================\n",
      " |      \n",
      " |      Examples\n",
      " |      --------\n",
      " |      >>> dt = np.dtype('i2')\n",
      " |      >>> dt.isbuiltin\n",
      " |      1\n",
      " |      >>> dt = np.dtype('f8')\n",
      " |      >>> dt.isbuiltin\n",
      " |      1\n",
      " |      >>> dt = np.dtype([('field1', 'f8')])\n",
      " |      >>> dt.isbuiltin\n",
      " |      0\n",
      " |  \n",
      " |  isnative\n",
      " |      Boolean indicating whether the byte order of this dtype is native\n",
      " |      to the platform.\n",
      " |  \n",
      " |  itemsize\n",
      " |      The element size of this data-type object.\n",
      " |      \n",
      " |      For 18 of the 21 types this number is fixed by the data-type.\n",
      " |      For the flexible data-types, this number can be anything.\n",
      " |      \n",
      " |      Examples\n",
      " |      --------\n",
      " |      \n",
      " |      >>> arr = np.array([[1, 2], [3, 4]])\n",
      " |      >>> arr.dtype\n",
      " |      dtype('int64')\n",
      " |      >>> arr.itemsize\n",
      " |      8\n",
      " |      \n",
      " |      >>> dt = np.dtype([('name', np.str_, 16), ('grades', np.float64, (2,))])\n",
      " |      >>> dt.itemsize\n",
      " |      80\n",
      " |  \n",
      " |  kind\n",
      " |      A character code (one of 'biufcmMOSUV') identifying the general kind of data.\n",
      " |      \n",
      " |      =  ======================\n",
      " |      b  boolean\n",
      " |      i  signed integer\n",
      " |      u  unsigned integer\n",
      " |      f  floating-point\n",
      " |      c  complex floating-point\n",
      " |      m  timedelta\n",
      " |      M  datetime\n",
      " |      O  object\n",
      " |      S  (byte-)string\n",
      " |      U  Unicode\n",
      " |      V  void\n",
      " |      =  ======================\n",
      " |      \n",
      " |      Examples\n",
      " |      --------\n",
      " |      \n",
      " |      >>> dt = np.dtype('i4')\n",
      " |      >>> dt.kind\n",
      " |      'i'\n",
      " |      >>> dt = np.dtype('f8')\n",
      " |      >>> dt.kind\n",
      " |      'f'\n",
      " |      >>> dt = np.dtype([('field1', 'f8')])\n",
      " |      >>> dt.kind\n",
      " |      'V'\n",
      " |  \n",
      " |  metadata\n",
      " |      Either ``None`` or a readonly dictionary of metadata (mappingproxy).\n",
      " |      \n",
      " |      The metadata field can be set using any dictionary at data-type\n",
      " |      creation. NumPy currently has no uniform approach to propagating\n",
      " |      metadata; although some array operations preserve it, there is no\n",
      " |      guarantee that others will.\n",
      " |      \n",
      " |      .. warning::\n",
      " |      \n",
      " |          Although used in certain projects, this feature was long undocumented\n",
      " |          and is not well supported. Some aspects of metadata propagation\n",
      " |          are expected to change in the future.\n",
      " |      \n",
      " |      Examples\n",
      " |      --------\n",
      " |      \n",
      " |      >>> dt = np.dtype(float, metadata={\"key\": \"value\"})\n",
      " |      >>> dt.metadata[\"key\"]\n",
      " |      'value'\n",
      " |      >>> arr = np.array([1, 2, 3], dtype=dt)\n",
      " |      >>> arr.dtype.metadata\n",
      " |      mappingproxy({'key': 'value'})\n",
      " |      \n",
      " |      Adding arrays with identical datatypes currently preserves the metadata:\n",
      " |      \n",
      " |      >>> (arr + arr).dtype.metadata\n",
      " |      mappingproxy({'key': 'value'})\n",
      " |      \n",
      " |      But if the arrays have different dtype metadata, the metadata may be \n",
      " |      dropped:\n",
      " |      \n",
      " |      >>> dt2 = np.dtype(float, metadata={\"key2\": \"value2\"})\n",
      " |      >>> arr2 = np.array([3, 2, 1], dtype=dt2)\n",
      " |      >>> (arr + arr2).dtype.metadata is None\n",
      " |      True  # The metadata field is cleared so None is returned\n",
      " |  \n",
      " |  name\n",
      " |      A bit-width name for this data-type.\n",
      " |      \n",
      " |      Un-sized flexible data-type objects do not have this attribute.\n",
      " |      \n",
      " |      Examples\n",
      " |      --------\n",
      " |      \n",
      " |      >>> x = np.dtype(float)\n",
      " |      >>> x.name\n",
      " |      'float64'\n",
      " |      >>> x = np.dtype([('a', np.int32, 8), ('b', np.float64, 6)])\n",
      " |      >>> x.name\n",
      " |      'void640'\n",
      " |  \n",
      " |  names\n",
      " |      Ordered list of field names, or ``None`` if there are no fields.\n",
      " |      \n",
      " |      The names are ordered according to increasing byte offset. This can be\n",
      " |      used, for example, to walk through all of the named fields in offset order.\n",
      " |      \n",
      " |      Examples\n",
      " |      --------\n",
      " |      >>> dt = np.dtype([('name', np.str_, 16), ('grades', np.float64, (2,))])\n",
      " |      >>> dt.names\n",
      " |      ('name', 'grades')\n",
      " |  \n",
      " |  ndim\n",
      " |      Number of dimensions of the sub-array if this data type describes a\n",
      " |      sub-array, and ``0`` otherwise.\n",
      " |      \n",
      " |      .. versionadded:: 1.13.0\n",
      " |      \n",
      " |      Examples\n",
      " |      --------\n",
      " |      >>> x = np.dtype(float)\n",
      " |      >>> x.ndim\n",
      " |      0\n",
      " |      \n",
      " |      >>> x = np.dtype((float, 8))\n",
      " |      >>> x.ndim\n",
      " |      1\n",
      " |      \n",
      " |      >>> x = np.dtype(('i4', (3, 4)))\n",
      " |      >>> x.ndim\n",
      " |      2\n",
      " |  \n",
      " |  num\n",
      " |      A unique number for each of the 21 different built-in types.\n",
      " |      \n",
      " |      These are roughly ordered from least-to-most precision.\n",
      " |      \n",
      " |      Examples\n",
      " |      --------\n",
      " |      \n",
      " |      >>> dt = np.dtype(str)\n",
      " |      >>> dt.num\n",
      " |      19\n",
      " |      \n",
      " |      >>> dt = np.dtype(float)\n",
      " |      >>> dt.num\n",
      " |      12\n",
      " |  \n",
      " |  shape\n",
      " |      Shape tuple of the sub-array if this data type describes a sub-array,\n",
      " |      and ``()`` otherwise.\n",
      " |      \n",
      " |      Examples\n",
      " |      --------\n",
      " |      \n",
      " |      >>> dt = np.dtype(('i4', 4))\n",
      " |      >>> dt.shape\n",
      " |      (4,)\n",
      " |      \n",
      " |      >>> dt = np.dtype(('i4', (2, 3)))\n",
      " |      >>> dt.shape\n",
      " |      (2, 3)\n",
      " |  \n",
      " |  str\n",
      " |      The array-protocol typestring of this data-type object.\n",
      " |  \n",
      " |  subdtype\n",
      " |      Tuple ``(item_dtype, shape)`` if this `dtype` describes a sub-array, and\n",
      " |      None otherwise.\n",
      " |      \n",
      " |      The *shape* is the fixed shape of the sub-array described by this\n",
      " |      data type, and *item_dtype* the data type of the array.\n",
      " |      \n",
      " |      If a field whose dtype object has this attribute is retrieved,\n",
      " |      then the extra dimensions implied by *shape* are tacked on to\n",
      " |      the end of the retrieved array.\n",
      " |      \n",
      " |      See Also\n",
      " |      --------\n",
      " |      dtype.base\n",
      " |      \n",
      " |      Examples\n",
      " |      --------\n",
      " |      >>> x = numpy.dtype('8f')\n",
      " |      >>> x.subdtype\n",
      " |      (dtype('float32'), (8,))\n",
      " |      \n",
      " |      >>> x =  numpy.dtype('i2')\n",
      " |      >>> x.subdtype\n",
      " |      >>>\n",
      " |  \n",
      " |  type\n",
      "\n",
      "None\n"
     ]
    }
   ],
   "source": [
    "print(help(np.dtype))"
   ]
  },
  {
   "cell_type": "code",
   "execution_count": 125,
   "id": "d4f36edd",
   "metadata": {},
   "outputs": [
    {
     "name": "stdout",
     "output_type": "stream",
     "text": [
      "[  0.          11.11111111  22.22222222  33.33333333  44.44444444\n",
      "  55.55555556  66.66666667  77.77777778  88.88888889 100.        ]\n"
     ]
    }
   ],
   "source": [
    "print(array2)"
   ]
  },
  {
   "cell_type": "code",
   "execution_count": 127,
   "id": "48fbd624",
   "metadata": {},
   "outputs": [
    {
     "name": "stdout",
     "output_type": "stream",
     "text": [
      "[  0  10  20  30  40  50  60  70  80  90 100]\n"
     ]
    }
   ],
   "source": [
    "array2=np.linspace(0,100,11,dtype=int)\n",
    "print(array2)"
   ]
  },
  {
   "cell_type": "code",
   "execution_count": 129,
   "id": "0f180964",
   "metadata": {},
   "outputs": [
    {
     "name": "stdout",
     "output_type": "stream",
     "text": [
      "[0.52416779 0.00659996 0.28897167 0.62199628 0.7720835  0.24694924\n",
      " 0.57946239 0.67995255 0.43907259 0.24506327]\n"
     ]
    }
   ],
   "source": [
    "array2=np.random.rand(10)\n",
    "print(array2)"
   ]
  },
  {
   "cell_type": "code",
   "execution_count": 130,
   "id": "53ff1be0",
   "metadata": {},
   "outputs": [
    {
     "name": "stdout",
     "output_type": "stream",
     "text": [
      "Help on built-in function rand:\n",
      "\n",
      "rand(...) method of numpy.random.mtrand.RandomState instance\n",
      "    rand(d0, d1, ..., dn)\n",
      "    \n",
      "    Random values in a given shape.\n",
      "    \n",
      "    .. note::\n",
      "        This is a convenience function for users porting code from Matlab,\n",
      "        and wraps `random_sample`. That function takes a\n",
      "        tuple to specify the size of the output, which is consistent with\n",
      "        other NumPy functions like `numpy.zeros` and `numpy.ones`.\n",
      "    \n",
      "    Create an array of the given shape and populate it with\n",
      "    random samples from a uniform distribution\n",
      "    over ``[0, 1)``.\n",
      "    \n",
      "    Parameters\n",
      "    ----------\n",
      "    d0, d1, ..., dn : int, optional\n",
      "        The dimensions of the returned array, must be non-negative.\n",
      "        If no argument is given a single Python float is returned.\n",
      "    \n",
      "    Returns\n",
      "    -------\n",
      "    out : ndarray, shape ``(d0, d1, ..., dn)``\n",
      "        Random values.\n",
      "    \n",
      "    See Also\n",
      "    --------\n",
      "    random\n",
      "    \n",
      "    Examples\n",
      "    --------\n",
      "    >>> np.random.rand(3,2)\n",
      "    array([[ 0.14022471,  0.96360618],  #random\n",
      "           [ 0.37601032,  0.25528411],  #random\n",
      "           [ 0.49313049,  0.94909878]]) #random\n",
      "\n",
      "None\n"
     ]
    }
   ],
   "source": [
    "print(help(np.random.rand))"
   ]
  },
  {
   "cell_type": "code",
   "execution_count": 131,
   "id": "7bffde40",
   "metadata": {},
   "outputs": [
    {
     "name": "stdout",
     "output_type": "stream",
     "text": [
      "[ 0.03986026  0.39626182  0.45728552 -1.34433906 -0.92498539 -0.7465631\n",
      "  0.57699692 -0.37706302  1.08197502 -0.71009489]\n"
     ]
    }
   ],
   "source": [
    "array2=np.random.randn(10)\n",
    "print(array2)"
   ]
  },
  {
   "cell_type": "code",
   "execution_count": 132,
   "id": "22b96b4a",
   "metadata": {},
   "outputs": [
    {
     "name": "stdout",
     "output_type": "stream",
     "text": [
      "Help on built-in function randn:\n",
      "\n",
      "randn(...) method of numpy.random.mtrand.RandomState instance\n",
      "    randn(d0, d1, ..., dn)\n",
      "    \n",
      "    Return a sample (or samples) from the \"standard normal\" distribution.\n",
      "    \n",
      "    .. note::\n",
      "        This is a convenience function for users porting code from Matlab,\n",
      "        and wraps `standard_normal`. That function takes a\n",
      "        tuple to specify the size of the output, which is consistent with\n",
      "        other NumPy functions like `numpy.zeros` and `numpy.ones`.\n",
      "    \n",
      "    .. note::\n",
      "        New code should use the ``standard_normal`` method of a ``default_rng()``\n",
      "        instance instead; please see the :ref:`random-quick-start`.\n",
      "    \n",
      "    If positive int_like arguments are provided, `randn` generates an array\n",
      "    of shape ``(d0, d1, ..., dn)``, filled\n",
      "    with random floats sampled from a univariate \"normal\" (Gaussian)\n",
      "    distribution of mean 0 and variance 1. A single float randomly sampled\n",
      "    from the distribution is returned if no argument is provided.\n",
      "    \n",
      "    Parameters\n",
      "    ----------\n",
      "    d0, d1, ..., dn : int, optional\n",
      "        The dimensions of the returned array, must be non-negative.\n",
      "        If no argument is given a single Python float is returned.\n",
      "    \n",
      "    Returns\n",
      "    -------\n",
      "    Z : ndarray or float\n",
      "        A ``(d0, d1, ..., dn)``-shaped array of floating-point samples from\n",
      "        the standard normal distribution, or a single such float if\n",
      "        no parameters were supplied.\n",
      "    \n",
      "    See Also\n",
      "    --------\n",
      "    standard_normal : Similar, but takes a tuple as its argument.\n",
      "    normal : Also accepts mu and sigma arguments.\n",
      "    Generator.standard_normal: which should be used for new code.\n",
      "    \n",
      "    Notes\n",
      "    -----\n",
      "    For random samples from :math:`N(\\mu, \\sigma^2)`, use:\n",
      "    \n",
      "    ``sigma * np.random.randn(...) + mu``\n",
      "    \n",
      "    Examples\n",
      "    --------\n",
      "    >>> np.random.randn()\n",
      "    2.1923875335537315  # random\n",
      "    \n",
      "    Two-by-four array of samples from N(3, 6.25):\n",
      "    \n",
      "    >>> 3 + 2.5 * np.random.randn(2, 4)\n",
      "    array([[-4.49401501,  4.00950034, -1.81814867,  7.29718677],   # random\n",
      "           [ 0.39924804,  4.68456316,  4.99394529,  4.84057254]])  # random\n",
      "\n",
      "None\n"
     ]
    }
   ],
   "source": [
    "print(help(np.random.randn))"
   ]
  },
  {
   "cell_type": "code",
   "execution_count": 135,
   "id": "a2b632c1",
   "metadata": {},
   "outputs": [],
   "source": [
    "array2=np.random.randint(0,10,10)"
   ]
  },
  {
   "cell_type": "code",
   "execution_count": 136,
   "id": "eae9ff75",
   "metadata": {},
   "outputs": [
    {
     "name": "stdout",
     "output_type": "stream",
     "text": [
      "[1 9 3 7 8 1 2 1 2 9]\n"
     ]
    }
   ],
   "source": [
    "print(array2)"
   ]
  },
  {
   "cell_type": "code",
   "execution_count": null,
   "id": "0a4079d9",
   "metadata": {},
   "outputs": [],
   "source": []
  }
 ],
 "metadata": {
  "kernelspec": {
   "display_name": "Python 3 (ipykernel)",
   "language": "python",
   "name": "python3"
  },
  "language_info": {
   "codemirror_mode": {
    "name": "ipython",
    "version": 3
   },
   "file_extension": ".py",
   "mimetype": "text/x-python",
   "name": "python",
   "nbconvert_exporter": "python",
   "pygments_lexer": "ipython3",
   "version": "3.9.7"
  }
 },
 "nbformat": 4,
 "nbformat_minor": 5
}
