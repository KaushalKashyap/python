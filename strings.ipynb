{
 "cells": [
  {
   "cell_type": "markdown",
   "id": "d30c6bd5",
   "metadata": {},
   "source": [
    "# string\n"
   ]
  },
  {
   "cell_type": "code",
   "execution_count": null,
   "id": "d52a0f01",
   "metadata": {},
   "outputs": [],
   "source": [
    "string: It is a text kep inside '',\"\",'''''',\"\"\"\"\"\"\n",
    "    1) It is ordered collection.\n",
    "    2) It supports both positive and negative indexing\n",
    "    3) It is a immutable data type"
   ]
  },
  {
   "cell_type": "code",
   "execution_count": 40,
   "id": "66024b61",
   "metadata": {},
   "outputs": [
    {
     "name": "stdout",
     "output_type": "stream",
     "text": [
      "P\n",
      "o\n",
      "Negative indexing\n",
      "n\n",
      "t\n"
     ]
    },
    {
     "ename": "IndexError",
     "evalue": "string index out of range",
     "output_type": "error",
     "traceback": [
      "\u001b[1;31m---------------------------------------------------------------------------\u001b[0m",
      "\u001b[1;31mIndexError\u001b[0m                                Traceback (most recent call last)",
      "\u001b[1;32m~\\AppData\\Local\\Temp/ipykernel_32372/721088344.py\u001b[0m in \u001b[0;36m<module>\u001b[1;34m\u001b[0m\n\u001b[0;32m     20\u001b[0m \u001b[1;31m#out of bound error\u001b[0m\u001b[1;33m\u001b[0m\u001b[1;33m\u001b[0m\u001b[0m\n\u001b[0;32m     21\u001b[0m \u001b[1;31m# print(string[len(string)])\u001b[0m\u001b[1;33m\u001b[0m\u001b[1;33m\u001b[0m\u001b[0m\n\u001b[1;32m---> 22\u001b[1;33m \u001b[0mprint\u001b[0m\u001b[1;33m(\u001b[0m\u001b[0mstring\u001b[0m\u001b[1;33m[\u001b[0m\u001b[1;33m-\u001b[0m\u001b[0mlen\u001b[0m\u001b[1;33m(\u001b[0m\u001b[0mstring\u001b[0m\u001b[1;33m)\u001b[0m\u001b[1;33m-\u001b[0m\u001b[1;36m1\u001b[0m\u001b[1;33m]\u001b[0m\u001b[1;33m)\u001b[0m\u001b[1;33m\u001b[0m\u001b[1;33m\u001b[0m\u001b[0m\n\u001b[0m\u001b[0;32m     23\u001b[0m \u001b[1;33m\u001b[0m\u001b[0m\n\u001b[0;32m     24\u001b[0m \u001b[1;33m\u001b[0m\u001b[0m\n",
      "\u001b[1;31mIndexError\u001b[0m: string index out of range"
     ]
    }
   ],
   "source": [
    "string=\"Python\"\n",
    "#       012345\n",
    "\n",
    "# -1=>n\n",
    "# -2=>o\n",
    "# -3=>h\n",
    "# -4=>t\n",
    "# -5=>y\n",
    "# -6=>P\n",
    "#Positive Indexing (0,len(string)-1)\n",
    "print(string[0])\n",
    "print(string[4])\n",
    "\n",
    "print(\"\"\"Negative indexing\"\"\")\n",
    "#negative indexing (-1,-len(string))\n",
    "print(string[-1])\n",
    "print(string[-4])\n",
    "\n",
    "\n",
    "#out of bound error\n",
    "# print(string[len(string)])\n",
    "print(string[-len(string)-1])\n",
    "\n",
    "\n"
   ]
  },
  {
   "cell_type": "code",
   "execution_count": null,
   "id": "9f2b932a",
   "metadata": {},
   "outputs": [],
   "source": [
    "# Mutable: Data types that can be changed without changing the address of the object.\n",
    "#             without creation of the new object"
   ]
  },
  {
   "cell_type": "code",
   "execution_count": null,
   "id": "f7f8c4be",
   "metadata": {},
   "outputs": [],
   "source": [
    "a=10\n",
    "print(id(a))\n",
    "a=a+1\n",
    "print(id(a))"
   ]
  },
  {
   "cell_type": "code",
   "execution_count": 7,
   "id": "ab7b1421",
   "metadata": {},
   "outputs": [
    {
     "name": "stdout",
     "output_type": "stream",
     "text": [
      "1693901744720 1693901744720 1693901744720\n",
      "1693953896144 1693953896400\n"
     ]
    }
   ],
   "source": [
    "# Integer caching (integers between -5 to 256 will be stored once in the memory)\n",
    "a=10\n",
    "b=10\n",
    "c=10\n",
    "print(id(a),id(b),id(c))\n",
    "\n",
    "c=10000\n",
    "d=10000\n",
    "print(id(c),id(d))"
   ]
  },
  {
   "cell_type": "code",
   "execution_count": 17,
   "id": "018d30e5",
   "metadata": {},
   "outputs": [],
   "source": [
    "string1=\"This is Python class\"\n",
    "string2=\"This is 4th batch\""
   ]
  },
  {
   "cell_type": "code",
   "execution_count": 18,
   "id": "b76ad3de",
   "metadata": {},
   "outputs": [
    {
     "name": "stdout",
     "output_type": "stream",
     "text": [
      "1693900486064 1693900486064\n",
      "1693902202224 1693902202224\n",
      "1693900486064 1693902509872\n",
      " \n",
      "1693954283760 1693954284560\n"
     ]
    }
   ],
   "source": [
    "print(id(string1[0]),id(string2[0]))\n",
    "print(id(string1[-1]),id(string1[-2]))\n",
    "print(id(string2[0]),id(string2[-3]))\n",
    "print(string1[4])\n",
    "\n",
    "print(id(string1),id(string2))"
   ]
  },
  {
   "cell_type": "code",
   "execution_count": 21,
   "id": "1bf4bb17",
   "metadata": {},
   "outputs": [
    {
     "name": "stdout",
     "output_type": "stream",
     "text": [
      "1693953488240\n",
      "1693906981616\n"
     ]
    }
   ],
   "source": [
    "string1=\"Hello world!!!\"\n",
    "print(id(string1))\n",
    "print(id(string1[0]))\n"
   ]
  },
  {
   "cell_type": "code",
   "execution_count": 23,
   "id": "b2b80909",
   "metadata": {},
   "outputs": [
    {
     "name": "stdout",
     "output_type": "stream",
     "text": [
      "1693954337456\n",
      "1693906981616 1693906981616\n"
     ]
    }
   ],
   "source": [
    "string2=\"Hello world!!!\"\n",
    "print(id(string2))\n",
    "\n",
    "print(id(string1[0]),id(string2[0]))"
   ]
  },
  {
   "cell_type": "markdown",
   "id": "ea88f686",
   "metadata": {},
   "source": [
    "# memory management"
   ]
  },
  {
   "cell_type": "code",
   "execution_count": 24,
   "id": "1d1b1242",
   "metadata": {},
   "outputs": [],
   "source": [
    "# every character of a string is stored only once\n",
    "# if two strings are same and are made up of a-z,A-Z,0-9,_, then addresses of two strings will be same"
   ]
  },
  {
   "cell_type": "markdown",
   "id": "9ade3a74",
   "metadata": {},
   "source": [
    "# Operations on string"
   ]
  },
  {
   "cell_type": "code",
   "execution_count": 25,
   "id": "81b70b6e",
   "metadata": {},
   "outputs": [
    {
     "name": "stdout",
     "output_type": "stream",
     "text": [
      "Python's Class\n"
     ]
    }
   ],
   "source": [
    "string1=\"Python's \"\n",
    "string2=\"Class\"\n",
    "string3=string1+string2\n",
    "print(string3)"
   ]
  },
  {
   "cell_type": "code",
   "execution_count": 26,
   "id": "cbace74b",
   "metadata": {},
   "outputs": [
    {
     "name": "stdout",
     "output_type": "stream",
     "text": [
      "ClassClassClass\n"
     ]
    }
   ],
   "source": [
    "string3=string2*3\n",
    "print(string3)"
   ]
  },
  {
   "cell_type": "code",
   "execution_count": null,
   "id": "4266027e",
   "metadata": {},
   "outputs": [],
   "source": [
    "indexing->positive and negative"
   ]
  },
  {
   "cell_type": "code",
   "execution_count": 28,
   "id": "0028025d",
   "metadata": {},
   "outputs": [
    {
     "name": "stdout",
     "output_type": "stream",
     "text": [
      "t\n",
      "i\n",
      "v\n",
      "r\n",
      "a\n",
      "G\n"
     ]
    }
   ],
   "source": [
    "string1=\"Python class is being taken by Garvit\"\n",
    "print(string1[-1])\n",
    "print(string1[-2])\n",
    "print(string1[-3])\n",
    "print(string1[-4])\n",
    "print(string1[-5])\n",
    "print(string1[-6])"
   ]
  },
  {
   "cell_type": "code",
   "execution_count": 41,
   "id": "f35ee1cb",
   "metadata": {},
   "outputs": [
    {
     "name": "stdout",
     "output_type": "stream",
     "text": [
      "Pto\n",
      "Python\n",
      "Pto ls s\n"
     ]
    }
   ],
   "source": [
    "# slicing getting a group or range of characters\n",
    "\n",
    "\n",
    "# Positive slicing\n",
    "# string[start index:end index] =>start,end-1\n",
    "#default values start index=0,end index=len(string) \n",
    "# print(string1[0:6])\n",
    "# print(string1[0:len(string1)])\n",
    "# print(string1[:len(string1)])\n",
    "# print(string1[0:])\n",
    "# print(string1[:])\n",
    "\n",
    "# string[start index:end index: step value] =>start,end-1\n",
    "#default values start index=0,end index=len(string) , step value=1\n",
    "\n",
    "print(string1[0:6:2])\n",
    "print(string1[0:6])\n",
    "\n",
    "print(string1[0:len(string)+10:2])"
   ]
  },
  {
   "cell_type": "code",
   "execution_count": 28,
   "id": "1105614b",
   "metadata": {},
   "outputs": [
    {
     "name": "stdout",
     "output_type": "stream",
     "text": [
      "tivraG\n",
      "Garvit\n"
     ]
    }
   ],
   "source": [
    "# negative slicing\n",
    "# string[start index:end index] =>start,end-1\n",
    "#default values start index=0,end index=len(string) \n",
    "string1=\"Python class is being taken by Garvit\"\n",
    "print(string1[-1:-7:-1])\n",
    "# print(string1[-6:-1])\n",
    "# print(string1[0:len(string1)])\n",
    "# print(string1[:len(string1)])\n",
    "# print(string1[0:])\n",
    "# print(string1[:])\n",
    "\n",
    "# string[start index:end index: step value] =>start,end-1\n",
    "#default values start index=0,end index=len(string) , step value=1\n",
    "\n",
    "# print(string1[0:6:2])\n",
    "# print(string1[0:6])\n",
    "\n",
    "# print(string1[0:len(string)+10:2])\n",
    "print(string1[-6:])"
   ]
  },
  {
   "cell_type": "code",
   "execution_count": 21,
   "id": "59ba4043",
   "metadata": {},
   "outputs": [
    {
     "name": "stdout",
     "output_type": "stream",
     "text": [
      "\n",
      "37\n",
      "Python\n"
     ]
    }
   ],
   "source": [
    "string1=\"Python class is being taken by Garvit\"\n",
    "print(string1[4:-4:-1])\n",
    "length=print(len(string1))\n",
    "print(string1[-len(string1):-len(string1)+6])\n",
    "# -37:-31"
   ]
  },
  {
   "cell_type": "code",
   "execution_count": 22,
   "id": "3f4cf454",
   "metadata": {},
   "outputs": [
    {
     "name": "stdout",
     "output_type": "stream",
     "text": [
      "Python\n",
      "oh\n"
     ]
    }
   ],
   "source": [
    "string1=\"Python\"\n",
    "print(string1[0:100:1])\n",
    "print(string1[4:-4:-1])"
   ]
  },
  {
   "cell_type": "code",
   "execution_count": 16,
   "id": "83457b14",
   "metadata": {},
   "outputs": [
    {
     "name": "stdout",
     "output_type": "stream",
     "text": [
      "\n"
     ]
    }
   ],
   "source": [
    "print(string1[4:-5:-1])"
   ]
  },
  {
   "cell_type": "code",
   "execution_count": 25,
   "id": "ddff61f7",
   "metadata": {},
   "outputs": [
    {
     "name": "stdout",
     "output_type": "stream",
     "text": [
      "True\n",
      "False\n"
     ]
    }
   ],
   "source": [
    "string1=\"Python's class\"\n",
    "print(\"s\" in string1)\n",
    "print(\"gs\" in string1)"
   ]
  },
  {
   "cell_type": "code",
   "execution_count": null,
   "id": "b8de8445",
   "metadata": {},
   "outputs": [],
   "source": [
    "\"\""
   ]
  },
  {
   "cell_type": "markdown",
   "id": "2b913fc0",
   "metadata": {},
   "source": [
    "# string fuctions"
   ]
  },
  {
   "cell_type": "code",
   "execution_count": 29,
   "id": "da501e5d",
   "metadata": {},
   "outputs": [
    {
     "name": "stdout",
     "output_type": "stream",
     "text": [
      "['__add__', '__class__', '__contains__', '__delattr__', '__dir__', '__doc__', '__eq__', '__format__', '__ge__', '__getattribute__', '__getitem__', '__getnewargs__', '__gt__', '__hash__', '__init__', '__init_subclass__', '__iter__', '__le__', '__len__', '__lt__', '__mod__', '__mul__', '__ne__', '__new__', '__reduce__', '__reduce_ex__', '__repr__', '__rmod__', '__rmul__', '__setattr__', '__sizeof__', '__str__', '__subclasshook__', 'capitalize', 'casefold', 'center', 'count', 'encode', 'endswith', 'expandtabs', 'find', 'format', 'format_map', 'index', 'isalnum', 'isalpha', 'isascii', 'isdecimal', 'isdigit', 'isidentifier', 'islower', 'isnumeric', 'isprintable', 'isspace', 'istitle', 'isupper', 'join', 'ljust', 'lower', 'lstrip', 'maketrans', 'partition', 'removeprefix', 'removesuffix', 'replace', 'rfind', 'rindex', 'rjust', 'rpartition', 'rsplit', 'rstrip', 'split', 'splitlines', 'startswith', 'strip', 'swapcase', 'title', 'translate', 'upper', 'zfill']\n"
     ]
    }
   ],
   "source": [
    "print(dir(str))"
   ]
  },
  {
   "cell_type": "code",
   "execution_count": null,
   "id": "7c9e4cf4",
   "metadata": {},
   "outputs": [],
   "source": [
    "'', '', 'center', 'count', 'encode', 'endswith', \n",
    "'expandtabs', 'find', 'format', 'format_map', 'index', '', '',\n",
    "'isascii', 'isdecimal', 'isdigit', 'isidentifier', '', '', 'isprintable',\n",
    "'isspace', 'istitle', '', 'join', 'ljust', '', 'lstrip', 'maketrans', 'partition',\n",
    "'removeprefix', 'removesuffix', 'replace', 'rfind', 'rindex', 'rjust', 'rpartition', 'rsplit', 'rstrip',\n",
    "'split', 'splitlines', 'startswith', 'strip', '', '', 'translate', '', 'zfill'"
   ]
  },
  {
   "cell_type": "code",
   "execution_count": 38,
   "id": "40e836cd",
   "metadata": {},
   "outputs": [
    {
     "name": "stdout",
     "output_type": "stream",
     "text": [
      "this is python's class!\n",
      "this is python's class!\n",
      "THIS IS PYTHON'S CLASS!\n",
      "THIs Is pYTHON'S CLAss!\n",
      "This Is Python'S Class!\n"
     ]
    }
   ],
   "source": [
    "# capitalize->It will convert the first letter to upper_case\n",
    "# and every other letter will become lower case even if it was upper case in the original string\n",
    "string1=\"thiS iS Python's claSS!\"\n",
    "# print(string1+\"jhguhgjh\")\n",
    "# string1=string1+\"jhguhgjh\"\n",
    "# print(string1.capitalize())\n",
    "# print(string1)\n",
    "\n",
    "# casefold=>It will convert all the character to lower case\n",
    "print(string1.casefold())\n",
    "\n",
    "# lower\n",
    "print(string1.lower())\n",
    "\n",
    "# upper \n",
    "print(string1.upper())\n",
    "\n",
    "# swapcase\n",
    "print(string1.swapcase())\n",
    "\n",
    "# title\n",
    "print(string1.title())"
   ]
  },
  {
   "cell_type": "code",
   "execution_count": 49,
   "id": "917ad0e6",
   "metadata": {},
   "outputs": [
    {
     "name": "stdout",
     "output_type": "stream",
     "text": [
      "True\n",
      "True\n",
      "True\n",
      "False\n",
      "True\n",
      "True\n",
      "False\n"
     ]
    }
   ],
   "source": [
    "string1=\"Helloworldletusgoparty\"\n",
    "# isalnum+>checks whether all the character sin the string are alphabets or numbers\n",
    "print(string1.isalnum())\n",
    "\n",
    "# isalpha\n",
    "print(string1.isalpha())\n",
    "# isnumeric+> it is checking whether all the characters are numbers or not\n",
    "string1=\"1234\"\n",
    "print(string1.isnumeric())\n",
    "# islower\n",
    "string1=\"Helloworldletusgoparty\"\n",
    "print(string1.islower())\n",
    "string1=\"helloworldletusgoparty\"\n",
    "print(string1.islower())\n",
    "# isupper\n",
    "string1=\"HELLO\"\n",
    "print(string1.isupper())\n",
    "string1=\"Hello\"\n",
    "print(string1.isupper())"
   ]
  },
  {
   "cell_type": "code",
   "execution_count": null,
   "id": "2a7cc4f4",
   "metadata": {},
   "outputs": [],
   "source": [
    "\"         hello world          \""
   ]
  },
  {
   "cell_type": "code",
   "execution_count": null,
   "id": "a24102f3",
   "metadata": {},
   "outputs": [],
   "source": []
  },
  {
   "cell_type": "code",
   "execution_count": null,
   "id": "cdf0534e",
   "metadata": {},
   "outputs": [],
   "source": []
  },
  {
   "cell_type": "code",
   "execution_count": null,
   "id": "e06f58e1",
   "metadata": {},
   "outputs": [],
   "source": []
  },
  {
   "cell_type": "code",
   "execution_count": null,
   "id": "924bb939",
   "metadata": {},
   "outputs": [],
   "source": []
  },
  {
   "cell_type": "code",
   "execution_count": null,
   "id": "42e91689",
   "metadata": {},
   "outputs": [],
   "source": []
  }
 ],
 "metadata": {
  "kernelspec": {
   "display_name": "Python 3 (ipykernel)",
   "language": "python",
   "name": "python3"
  },
  "language_info": {
   "codemirror_mode": {
    "name": "ipython",
    "version": 3
   },
   "file_extension": ".py",
   "mimetype": "text/x-python",
   "name": "python",
   "nbconvert_exporter": "python",
   "pygments_lexer": "ipython3",
   "version": "3.9.7"
  }
 },
 "nbformat": 4,
 "nbformat_minor": 5
}
